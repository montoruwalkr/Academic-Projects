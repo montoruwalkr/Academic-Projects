{
  "nbformat": 4,
  "nbformat_minor": 0,
  "metadata": {
    "colab": {
      "provenance": [],
      "collapsed_sections": [
        "ywkQ2ddkipL6",
        "GQScS0D6E3gp",
        "XAtcHkJBFNrH",
        "ID173zZuIJPv",
        "b43crCqfQ-B7",
        "H4PRUjdOREFi",
        "HOJUKOjvRAW8",
        "0eMF3--G2Mtc",
        "hNgJZz5zjeJB",
        "sW3PPHAij3yZ",
        "_gC9Nmv_kSl1",
        "5Gv5RncUkdBb",
        "BEFEzw36lKOE",
        "bEme7QA7lceB",
        "8BWj3ud_1ZUU",
        "5eoam7eZ1h-p"
      ]
    },
    "kernelspec": {
      "name": "python3",
      "display_name": "Python 3"
    },
    "language_info": {
      "name": "python"
    }
  },
  "cells": [
    {
      "cell_type": "markdown",
      "source": [
        "# Data Science - Mini Project 2 - Alex Montoya Franco\n",
        "## Students Performance\n",
        "\n",
        "With this mini project we intend to answer the following questions:\n",
        "\n",
        "1. Can we predict the final grade of a student based only on its interactions with a learning platform such as moodle?\n",
        "\n",
        "2. Are \"active\" students more likely to succeed in a given course?\n",
        "\n",
        "3. Which interactions are the most relevant? Lessons? Submissions? Forum?"
      ],
      "metadata": {
        "id": "5lYUs_4Wg8dM"
      }
    },
    {
      "cell_type": "markdown",
      "source": [
        "## Step 1 - Data Processing\n",
        "* Loading Dataset\n",
        "* Feature Engineering"
      ],
      "metadata": {
        "id": "ywkQ2ddkipL6"
      }
    },
    {
      "cell_type": "markdown",
      "source": [
        "### Loading Dataset\n",
        "Upload 'MP2_Data.csv' to Colab to be able to run the code"
      ],
      "metadata": {
        "id": "GQScS0D6E3gp"
      }
    },
    {
      "cell_type": "code",
      "source": [
        "import pandas as pd"
      ],
      "metadata": {
        "id": "xrFP3AMYhVMF"
      },
      "execution_count": 1,
      "outputs": []
    },
    {
      "cell_type": "code",
      "source": [
        "students_df = pd.read_csv('MP2_Data.csv')"
      ],
      "metadata": {
        "id": "1pa-2w6smpp1"
      },
      "execution_count": 2,
      "outputs": []
    },
    {
      "cell_type": "code",
      "source": [
        "students_df.head()"
      ],
      "metadata": {
        "colab": {
          "base_uri": "https://localhost:8080/",
          "height": 473
        },
        "id": "LATfIoZhndlc",
        "outputId": "b1fbbb4e-3745-4c92-b5eb-32291514928c"
      },
      "execution_count": 3,
      "outputs": [
        {
          "output_type": "execute_result",
          "data": {
            "text/plain": [
              "          ID  Week2_Quiz1  Week3_MP1  Week3_PR1  Week5_MP2  Week5_PR2  \\\n",
              "0  ML-2020-1         5.00       15.0        5.0      16.09       5.00   \n",
              "1  ML-2020-2         3.33       15.0        5.0      17.83       5.00   \n",
              "2  ML-2020-3         1.67       13.0        5.0      15.22       5.00   \n",
              "3  ML-2020-4         2.50       14.0        5.0      10.00       5.00   \n",
              "4  ML-2020-6         0.00       15.0        5.0      12.17       4.93   \n",
              "\n",
              "   Week7_MP3  Week7_PR3  Week4_Quiz2  Week6_Quiz3  ...  Week7_Stat3  \\\n",
              "0      21.88        5.0         5.00          5.0  ...            0   \n",
              "1      22.27        5.0         4.00          5.0  ...            8   \n",
              "2      27.05        2.5         5.00          5.0  ...            0   \n",
              "3      31.02        5.0         3.13          5.0  ...            4   \n",
              "4      15.91        5.0         4.67          5.0  ...            6   \n",
              "\n",
              "   Week8_Stat0  Week8_Stat1  Week8_Stat2  Week8_Stat3  Week9_Stat0  \\\n",
              "0            5            4            0            4            8   \n",
              "1            5            2            0            0           25   \n",
              "2            8            2            0            0            9   \n",
              "3           10            0            0            0            7   \n",
              "4            8            5            1            1            5   \n",
              "\n",
              "   Week9_Stat1  Week9_Stat2  Week9_Stat3  Grade  \n",
              "0            6            1            0      4  \n",
              "1            3            2            5      4  \n",
              "2            0            1            0      3  \n",
              "3            6            0            0      3  \n",
              "4            3            1            0      2  \n",
              "\n",
              "[5 rows x 48 columns]"
            ],
            "text/html": [
              "\n",
              "  <div id=\"df-b18840b2-c4ca-4f28-a375-253b50e1d319\">\n",
              "    <div class=\"colab-df-container\">\n",
              "      <div>\n",
              "<style scoped>\n",
              "    .dataframe tbody tr th:only-of-type {\n",
              "        vertical-align: middle;\n",
              "    }\n",
              "\n",
              "    .dataframe tbody tr th {\n",
              "        vertical-align: top;\n",
              "    }\n",
              "\n",
              "    .dataframe thead th {\n",
              "        text-align: right;\n",
              "    }\n",
              "</style>\n",
              "<table border=\"1\" class=\"dataframe\">\n",
              "  <thead>\n",
              "    <tr style=\"text-align: right;\">\n",
              "      <th></th>\n",
              "      <th>ID</th>\n",
              "      <th>Week2_Quiz1</th>\n",
              "      <th>Week3_MP1</th>\n",
              "      <th>Week3_PR1</th>\n",
              "      <th>Week5_MP2</th>\n",
              "      <th>Week5_PR2</th>\n",
              "      <th>Week7_MP3</th>\n",
              "      <th>Week7_PR3</th>\n",
              "      <th>Week4_Quiz2</th>\n",
              "      <th>Week6_Quiz3</th>\n",
              "      <th>...</th>\n",
              "      <th>Week7_Stat3</th>\n",
              "      <th>Week8_Stat0</th>\n",
              "      <th>Week8_Stat1</th>\n",
              "      <th>Week8_Stat2</th>\n",
              "      <th>Week8_Stat3</th>\n",
              "      <th>Week9_Stat0</th>\n",
              "      <th>Week9_Stat1</th>\n",
              "      <th>Week9_Stat2</th>\n",
              "      <th>Week9_Stat3</th>\n",
              "      <th>Grade</th>\n",
              "    </tr>\n",
              "  </thead>\n",
              "  <tbody>\n",
              "    <tr>\n",
              "      <th>0</th>\n",
              "      <td>ML-2020-1</td>\n",
              "      <td>5.00</td>\n",
              "      <td>15.0</td>\n",
              "      <td>5.0</td>\n",
              "      <td>16.09</td>\n",
              "      <td>5.00</td>\n",
              "      <td>21.88</td>\n",
              "      <td>5.0</td>\n",
              "      <td>5.00</td>\n",
              "      <td>5.0</td>\n",
              "      <td>...</td>\n",
              "      <td>0</td>\n",
              "      <td>5</td>\n",
              "      <td>4</td>\n",
              "      <td>0</td>\n",
              "      <td>4</td>\n",
              "      <td>8</td>\n",
              "      <td>6</td>\n",
              "      <td>1</td>\n",
              "      <td>0</td>\n",
              "      <td>4</td>\n",
              "    </tr>\n",
              "    <tr>\n",
              "      <th>1</th>\n",
              "      <td>ML-2020-2</td>\n",
              "      <td>3.33</td>\n",
              "      <td>15.0</td>\n",
              "      <td>5.0</td>\n",
              "      <td>17.83</td>\n",
              "      <td>5.00</td>\n",
              "      <td>22.27</td>\n",
              "      <td>5.0</td>\n",
              "      <td>4.00</td>\n",
              "      <td>5.0</td>\n",
              "      <td>...</td>\n",
              "      <td>8</td>\n",
              "      <td>5</td>\n",
              "      <td>2</td>\n",
              "      <td>0</td>\n",
              "      <td>0</td>\n",
              "      <td>25</td>\n",
              "      <td>3</td>\n",
              "      <td>2</td>\n",
              "      <td>5</td>\n",
              "      <td>4</td>\n",
              "    </tr>\n",
              "    <tr>\n",
              "      <th>2</th>\n",
              "      <td>ML-2020-3</td>\n",
              "      <td>1.67</td>\n",
              "      <td>13.0</td>\n",
              "      <td>5.0</td>\n",
              "      <td>15.22</td>\n",
              "      <td>5.00</td>\n",
              "      <td>27.05</td>\n",
              "      <td>2.5</td>\n",
              "      <td>5.00</td>\n",
              "      <td>5.0</td>\n",
              "      <td>...</td>\n",
              "      <td>0</td>\n",
              "      <td>8</td>\n",
              "      <td>2</td>\n",
              "      <td>0</td>\n",
              "      <td>0</td>\n",
              "      <td>9</td>\n",
              "      <td>0</td>\n",
              "      <td>1</td>\n",
              "      <td>0</td>\n",
              "      <td>3</td>\n",
              "    </tr>\n",
              "    <tr>\n",
              "      <th>3</th>\n",
              "      <td>ML-2020-4</td>\n",
              "      <td>2.50</td>\n",
              "      <td>14.0</td>\n",
              "      <td>5.0</td>\n",
              "      <td>10.00</td>\n",
              "      <td>5.00</td>\n",
              "      <td>31.02</td>\n",
              "      <td>5.0</td>\n",
              "      <td>3.13</td>\n",
              "      <td>5.0</td>\n",
              "      <td>...</td>\n",
              "      <td>4</td>\n",
              "      <td>10</td>\n",
              "      <td>0</td>\n",
              "      <td>0</td>\n",
              "      <td>0</td>\n",
              "      <td>7</td>\n",
              "      <td>6</td>\n",
              "      <td>0</td>\n",
              "      <td>0</td>\n",
              "      <td>3</td>\n",
              "    </tr>\n",
              "    <tr>\n",
              "      <th>4</th>\n",
              "      <td>ML-2020-6</td>\n",
              "      <td>0.00</td>\n",
              "      <td>15.0</td>\n",
              "      <td>5.0</td>\n",
              "      <td>12.17</td>\n",
              "      <td>4.93</td>\n",
              "      <td>15.91</td>\n",
              "      <td>5.0</td>\n",
              "      <td>4.67</td>\n",
              "      <td>5.0</td>\n",
              "      <td>...</td>\n",
              "      <td>6</td>\n",
              "      <td>8</td>\n",
              "      <td>5</td>\n",
              "      <td>1</td>\n",
              "      <td>1</td>\n",
              "      <td>5</td>\n",
              "      <td>3</td>\n",
              "      <td>1</td>\n",
              "      <td>0</td>\n",
              "      <td>2</td>\n",
              "    </tr>\n",
              "  </tbody>\n",
              "</table>\n",
              "<p>5 rows × 48 columns</p>\n",
              "</div>\n",
              "      <button class=\"colab-df-convert\" onclick=\"convertToInteractive('df-b18840b2-c4ca-4f28-a375-253b50e1d319')\"\n",
              "              title=\"Convert this dataframe to an interactive table.\"\n",
              "              style=\"display:none;\">\n",
              "        \n",
              "  <svg xmlns=\"http://www.w3.org/2000/svg\" height=\"24px\"viewBox=\"0 0 24 24\"\n",
              "       width=\"24px\">\n",
              "    <path d=\"M0 0h24v24H0V0z\" fill=\"none\"/>\n",
              "    <path d=\"M18.56 5.44l.94 2.06.94-2.06 2.06-.94-2.06-.94-.94-2.06-.94 2.06-2.06.94zm-11 1L8.5 8.5l.94-2.06 2.06-.94-2.06-.94L8.5 2.5l-.94 2.06-2.06.94zm10 10l.94 2.06.94-2.06 2.06-.94-2.06-.94-.94-2.06-.94 2.06-2.06.94z\"/><path d=\"M17.41 7.96l-1.37-1.37c-.4-.4-.92-.59-1.43-.59-.52 0-1.04.2-1.43.59L10.3 9.45l-7.72 7.72c-.78.78-.78 2.05 0 2.83L4 21.41c.39.39.9.59 1.41.59.51 0 1.02-.2 1.41-.59l7.78-7.78 2.81-2.81c.8-.78.8-2.07 0-2.86zM5.41 20L4 18.59l7.72-7.72 1.47 1.35L5.41 20z\"/>\n",
              "  </svg>\n",
              "      </button>\n",
              "      \n",
              "  <style>\n",
              "    .colab-df-container {\n",
              "      display:flex;\n",
              "      flex-wrap:wrap;\n",
              "      gap: 12px;\n",
              "    }\n",
              "\n",
              "    .colab-df-convert {\n",
              "      background-color: #E8F0FE;\n",
              "      border: none;\n",
              "      border-radius: 50%;\n",
              "      cursor: pointer;\n",
              "      display: none;\n",
              "      fill: #1967D2;\n",
              "      height: 32px;\n",
              "      padding: 0 0 0 0;\n",
              "      width: 32px;\n",
              "    }\n",
              "\n",
              "    .colab-df-convert:hover {\n",
              "      background-color: #E2EBFA;\n",
              "      box-shadow: 0px 1px 2px rgba(60, 64, 67, 0.3), 0px 1px 3px 1px rgba(60, 64, 67, 0.15);\n",
              "      fill: #174EA6;\n",
              "    }\n",
              "\n",
              "    [theme=dark] .colab-df-convert {\n",
              "      background-color: #3B4455;\n",
              "      fill: #D2E3FC;\n",
              "    }\n",
              "\n",
              "    [theme=dark] .colab-df-convert:hover {\n",
              "      background-color: #434B5C;\n",
              "      box-shadow: 0px 1px 3px 1px rgba(0, 0, 0, 0.15);\n",
              "      filter: drop-shadow(0px 1px 2px rgba(0, 0, 0, 0.3));\n",
              "      fill: #FFFFFF;\n",
              "    }\n",
              "  </style>\n",
              "\n",
              "      <script>\n",
              "        const buttonEl =\n",
              "          document.querySelector('#df-b18840b2-c4ca-4f28-a375-253b50e1d319 button.colab-df-convert');\n",
              "        buttonEl.style.display =\n",
              "          google.colab.kernel.accessAllowed ? 'block' : 'none';\n",
              "\n",
              "        async function convertToInteractive(key) {\n",
              "          const element = document.querySelector('#df-b18840b2-c4ca-4f28-a375-253b50e1d319');\n",
              "          const dataTable =\n",
              "            await google.colab.kernel.invokeFunction('convertToInteractive',\n",
              "                                                     [key], {});\n",
              "          if (!dataTable) return;\n",
              "\n",
              "          const docLinkHtml = 'Like what you see? Visit the ' +\n",
              "            '<a target=\"_blank\" href=https://colab.research.google.com/notebooks/data_table.ipynb>data table notebook</a>'\n",
              "            + ' to learn more about interactive tables.';\n",
              "          element.innerHTML = '';\n",
              "          dataTable['output_type'] = 'display_data';\n",
              "          await google.colab.output.renderOutput(dataTable, element);\n",
              "          const docLink = document.createElement('div');\n",
              "          docLink.innerHTML = docLinkHtml;\n",
              "          element.appendChild(docLink);\n",
              "        }\n",
              "      </script>\n",
              "    </div>\n",
              "  </div>\n",
              "  "
            ]
          },
          "metadata": {},
          "execution_count": 3
        }
      ]
    },
    {
      "cell_type": "markdown",
      "source": [
        "### Feature Engineering\n",
        "\n",
        "Choosing the ideal set of features based on:\n",
        "* Domain Knowledge\n",
        "* Variance\n",
        "* Missing Values\n",
        "* Correlations (redundant features)\n",
        "* Appropriate ratio features/observations"
      ],
      "metadata": {
        "id": "XAtcHkJBFNrH"
      }
    },
    {
      "cell_type": "code",
      "source": [
        "import seaborn as sns\n",
        "import matplotlib.pyplot as plt\n",
        "%matplotlib inline"
      ],
      "metadata": {
        "id": "81bJBHRw_oq6"
      },
      "execution_count": 4,
      "outputs": []
    },
    {
      "cell_type": "code",
      "source": [
        "# Let's see the number of rows and columns\n",
        "students_df.shape"
      ],
      "metadata": {
        "colab": {
          "base_uri": "https://localhost:8080/"
        },
        "id": "GZCmDPOtnlkc",
        "outputId": "3c97e629-19dc-4e7a-97d4-d364b6075ea8"
      },
      "execution_count": 5,
      "outputs": [
        {
          "output_type": "execute_result",
          "data": {
            "text/plain": [
              "(107, 48)"
            ]
          },
          "metadata": {},
          "execution_count": 5
        }
      ]
    },
    {
      "cell_type": "markdown",
      "source": [
        "For a dataset with 107 rows, having almost half that number of features (48) seems like a dimensionality issue for future models. Having this into account, we will first filter these features to have the most relevant ones for future analysis."
      ],
      "metadata": {
        "id": "pxd3n5SmGWfE"
      }
    },
    {
      "cell_type": "code",
      "source": [
        "# What are those columns?\n",
        "students_df.columns"
      ],
      "metadata": {
        "colab": {
          "base_uri": "https://localhost:8080/"
        },
        "id": "DQ6syd0XoiMA",
        "outputId": "3d754620-4071-4cc2-f47f-7d91ba9240c7"
      },
      "execution_count": 6,
      "outputs": [
        {
          "output_type": "execute_result",
          "data": {
            "text/plain": [
              "Index(['ID', 'Week2_Quiz1', 'Week3_MP1', 'Week3_PR1', 'Week5_MP2', 'Week5_PR2',\n",
              "       'Week7_MP3', 'Week7_PR3', 'Week4_Quiz2', 'Week6_Quiz3', 'Week8_Total',\n",
              "       'Week1_Stat0', 'Week1_Stat1', 'Week1_Stat2', 'Week1_Stat3',\n",
              "       'Week2_Stat0', 'Week2_Stat1', 'Week2_Stat2', 'Week2_Stat3',\n",
              "       'Week3_Stat0', 'Week3_Stat1', 'Week3_Stat2', 'Week3_Stat3',\n",
              "       'Week4_Stat0', 'Week4_Stat1', 'Week4_Stat2', 'Week4_Stat3',\n",
              "       'Week5_Stat0', 'Week5_Stat1', 'Week5_Stat2', 'Week5_Stat3',\n",
              "       'Week6_Stat0', 'Week6_Stat1', 'Week6_Stat2', 'Week6_Stat3',\n",
              "       'Week7_Stat0', 'Week7_Stat1', 'Week7_Stat2', 'Week7_Stat3',\n",
              "       'Week8_Stat0', 'Week8_Stat1', 'Week8_Stat2', 'Week8_Stat3',\n",
              "       'Week9_Stat0', 'Week9_Stat1', 'Week9_Stat2', 'Week9_Stat3', 'Grade'],\n",
              "      dtype='object')"
            ]
          },
          "metadata": {},
          "execution_count": 6
        }
      ]
    },
    {
      "cell_type": "markdown",
      "source": [
        "As we can see we have features directly related to the students' grades (Mini Projects, Quizzes, Peer Reviews) and their interactions with the learning platform (course logs - stats)"
      ],
      "metadata": {
        "id": "lpDvDRS_G4dy"
      }
    },
    {
      "cell_type": "markdown",
      "source": [
        "Category | Columns\n",
        "--- | ---\n",
        "Mini Projects | `Week3_MP1` `Week5_MP2` `Week7_MP3`\n",
        "Quizzes       | `Week2_Quiz1` `Week4_Quiz2` `Week6_Quiz3`\n",
        "Peer Reviews  | `Week3_PR1` `Week5_PR2` `Week7_PR3`\n",
        "Week 1 Logs   | `Week1_Stat0` `Week1_Stat1` `Week1_Stat2` `Week1_Stat3`\n",
        "Week 2 Logs   | `Week2_Stat0` `Week2_Stat1` `Week2_Stat2` `Week2_Stat3`\n",
        "Week 3 Logs   | `Week3_Stat0` `Week3_Stat1` `Week3_Stat2` `Week3_Stat3`\n",
        "Week 4 Logs   | `Week4_Stat0` `Week4_Stat1` `Week4_Stat2` `Week4_Stat3`\n",
        "Week 5 Logs   | `Week5_Stat0` `Week5_Stat1` `Week5_Stat2` `Week5_Stat3`\n",
        "Week 6 Logs   | `Week6_Stat0` `Week6_Stat1` `Week6_Stat2` `Week6_Stat3`\n",
        "Week 7 Logs   | `Week7_Stat0` `Week7_Stat1` `Week7_Stat2` `Week7_Stat3`\n",
        "Week 8 Logs   | `Week8_Stat0` `Week8_Stat1` `Week8_Stat2` `Week8_Stat3`\n",
        "Week 9 Logs   | `Week9_Stat0` `Week9_Stat1` `Week9_Stat2` `Week9_Stat3`\n",
        "Final Grade   | `Week8_Total` `Grade`\n",
        "\n"
      ],
      "metadata": {
        "id": "QTiz8PPLv5u7"
      }
    },
    {
      "cell_type": "markdown",
      "source": [
        "#### Grades dataframe\n",
        "Let's first explore the relevance of the grades for our future predictions."
      ],
      "metadata": {
        "id": "ID173zZuIJPv"
      }
    },
    {
      "cell_type": "markdown",
      "source": [
        "At first glance, we argue that it is not correct to predict a final grade based on all the grades in a course, since this does not need a model prediction but a rather simple mathematical expression. However, we want to explore these features first to understand the data and find possible new details about the grades in the dataset.\n",
        "\n",
        "This exploration ultimately helped in refining the questions that guide this mini project."
      ],
      "metadata": {
        "id": "OYcEuphl5rzf"
      }
    },
    {
      "cell_type": "markdown",
      "source": [
        "Since there is no description of the scale for the grades and its impact in the final grade (direct or percentage based). We want to understand the min and max values for each grade in the dataset in order to accurately tell if the final grade is at first glance 'only' based on other grades or do students receive any additional points for additional activities (not contained within the dataset) or even for information contained in the course logs.\n",
        "An initial question in here could be: are more active students rewarded with some type of grade?"
      ],
      "metadata": {
        "id": "250HaiHKKPSM"
      }
    },
    {
      "cell_type": "code",
      "source": [
        "miniprojects_df = students_df[['Week3_MP1', 'Week5_MP2', 'Week7_MP3']]\n",
        "miniprojects_df.head()"
      ],
      "metadata": {
        "colab": {
          "base_uri": "https://localhost:8080/",
          "height": 206
        },
        "id": "EY8AOL6926bl",
        "outputId": "f2765fe3-d11b-4287-95f6-dfa66ac4dd1e"
      },
      "execution_count": 7,
      "outputs": [
        {
          "output_type": "execute_result",
          "data": {
            "text/plain": [
              "   Week3_MP1  Week5_MP2  Week7_MP3\n",
              "0       15.0      16.09      21.88\n",
              "1       15.0      17.83      22.27\n",
              "2       13.0      15.22      27.05\n",
              "3       14.0      10.00      31.02\n",
              "4       15.0      12.17      15.91"
            ],
            "text/html": [
              "\n",
              "  <div id=\"df-23804fd3-126d-47e8-8d14-fc2812a33fc3\">\n",
              "    <div class=\"colab-df-container\">\n",
              "      <div>\n",
              "<style scoped>\n",
              "    .dataframe tbody tr th:only-of-type {\n",
              "        vertical-align: middle;\n",
              "    }\n",
              "\n",
              "    .dataframe tbody tr th {\n",
              "        vertical-align: top;\n",
              "    }\n",
              "\n",
              "    .dataframe thead th {\n",
              "        text-align: right;\n",
              "    }\n",
              "</style>\n",
              "<table border=\"1\" class=\"dataframe\">\n",
              "  <thead>\n",
              "    <tr style=\"text-align: right;\">\n",
              "      <th></th>\n",
              "      <th>Week3_MP1</th>\n",
              "      <th>Week5_MP2</th>\n",
              "      <th>Week7_MP3</th>\n",
              "    </tr>\n",
              "  </thead>\n",
              "  <tbody>\n",
              "    <tr>\n",
              "      <th>0</th>\n",
              "      <td>15.0</td>\n",
              "      <td>16.09</td>\n",
              "      <td>21.88</td>\n",
              "    </tr>\n",
              "    <tr>\n",
              "      <th>1</th>\n",
              "      <td>15.0</td>\n",
              "      <td>17.83</td>\n",
              "      <td>22.27</td>\n",
              "    </tr>\n",
              "    <tr>\n",
              "      <th>2</th>\n",
              "      <td>13.0</td>\n",
              "      <td>15.22</td>\n",
              "      <td>27.05</td>\n",
              "    </tr>\n",
              "    <tr>\n",
              "      <th>3</th>\n",
              "      <td>14.0</td>\n",
              "      <td>10.00</td>\n",
              "      <td>31.02</td>\n",
              "    </tr>\n",
              "    <tr>\n",
              "      <th>4</th>\n",
              "      <td>15.0</td>\n",
              "      <td>12.17</td>\n",
              "      <td>15.91</td>\n",
              "    </tr>\n",
              "  </tbody>\n",
              "</table>\n",
              "</div>\n",
              "      <button class=\"colab-df-convert\" onclick=\"convertToInteractive('df-23804fd3-126d-47e8-8d14-fc2812a33fc3')\"\n",
              "              title=\"Convert this dataframe to an interactive table.\"\n",
              "              style=\"display:none;\">\n",
              "        \n",
              "  <svg xmlns=\"http://www.w3.org/2000/svg\" height=\"24px\"viewBox=\"0 0 24 24\"\n",
              "       width=\"24px\">\n",
              "    <path d=\"M0 0h24v24H0V0z\" fill=\"none\"/>\n",
              "    <path d=\"M18.56 5.44l.94 2.06.94-2.06 2.06-.94-2.06-.94-.94-2.06-.94 2.06-2.06.94zm-11 1L8.5 8.5l.94-2.06 2.06-.94-2.06-.94L8.5 2.5l-.94 2.06-2.06.94zm10 10l.94 2.06.94-2.06 2.06-.94-2.06-.94-.94-2.06-.94 2.06-2.06.94z\"/><path d=\"M17.41 7.96l-1.37-1.37c-.4-.4-.92-.59-1.43-.59-.52 0-1.04.2-1.43.59L10.3 9.45l-7.72 7.72c-.78.78-.78 2.05 0 2.83L4 21.41c.39.39.9.59 1.41.59.51 0 1.02-.2 1.41-.59l7.78-7.78 2.81-2.81c.8-.78.8-2.07 0-2.86zM5.41 20L4 18.59l7.72-7.72 1.47 1.35L5.41 20z\"/>\n",
              "  </svg>\n",
              "      </button>\n",
              "      \n",
              "  <style>\n",
              "    .colab-df-container {\n",
              "      display:flex;\n",
              "      flex-wrap:wrap;\n",
              "      gap: 12px;\n",
              "    }\n",
              "\n",
              "    .colab-df-convert {\n",
              "      background-color: #E8F0FE;\n",
              "      border: none;\n",
              "      border-radius: 50%;\n",
              "      cursor: pointer;\n",
              "      display: none;\n",
              "      fill: #1967D2;\n",
              "      height: 32px;\n",
              "      padding: 0 0 0 0;\n",
              "      width: 32px;\n",
              "    }\n",
              "\n",
              "    .colab-df-convert:hover {\n",
              "      background-color: #E2EBFA;\n",
              "      box-shadow: 0px 1px 2px rgba(60, 64, 67, 0.3), 0px 1px 3px 1px rgba(60, 64, 67, 0.15);\n",
              "      fill: #174EA6;\n",
              "    }\n",
              "\n",
              "    [theme=dark] .colab-df-convert {\n",
              "      background-color: #3B4455;\n",
              "      fill: #D2E3FC;\n",
              "    }\n",
              "\n",
              "    [theme=dark] .colab-df-convert:hover {\n",
              "      background-color: #434B5C;\n",
              "      box-shadow: 0px 1px 3px 1px rgba(0, 0, 0, 0.15);\n",
              "      filter: drop-shadow(0px 1px 2px rgba(0, 0, 0, 0.3));\n",
              "      fill: #FFFFFF;\n",
              "    }\n",
              "  </style>\n",
              "\n",
              "      <script>\n",
              "        const buttonEl =\n",
              "          document.querySelector('#df-23804fd3-126d-47e8-8d14-fc2812a33fc3 button.colab-df-convert');\n",
              "        buttonEl.style.display =\n",
              "          google.colab.kernel.accessAllowed ? 'block' : 'none';\n",
              "\n",
              "        async function convertToInteractive(key) {\n",
              "          const element = document.querySelector('#df-23804fd3-126d-47e8-8d14-fc2812a33fc3');\n",
              "          const dataTable =\n",
              "            await google.colab.kernel.invokeFunction('convertToInteractive',\n",
              "                                                     [key], {});\n",
              "          if (!dataTable) return;\n",
              "\n",
              "          const docLinkHtml = 'Like what you see? Visit the ' +\n",
              "            '<a target=\"_blank\" href=https://colab.research.google.com/notebooks/data_table.ipynb>data table notebook</a>'\n",
              "            + ' to learn more about interactive tables.';\n",
              "          element.innerHTML = '';\n",
              "          dataTable['output_type'] = 'display_data';\n",
              "          await google.colab.output.renderOutput(dataTable, element);\n",
              "          const docLink = document.createElement('div');\n",
              "          docLink.innerHTML = docLinkHtml;\n",
              "          element.appendChild(docLink);\n",
              "        }\n",
              "      </script>\n",
              "    </div>\n",
              "  </div>\n",
              "  "
            ]
          },
          "metadata": {},
          "execution_count": 7
        }
      ]
    },
    {
      "cell_type": "code",
      "source": [
        "miniprojects_df.describe()"
      ],
      "metadata": {
        "colab": {
          "base_uri": "https://localhost:8080/",
          "height": 300
        },
        "id": "Co9MTmOGJpUR",
        "outputId": "1efe9978-03bf-4c8a-edf5-4d69cc51231a"
      },
      "execution_count": 8,
      "outputs": [
        {
          "output_type": "execute_result",
          "data": {
            "text/plain": [
              "        Week3_MP1   Week5_MP2   Week7_MP3\n",
              "count  107.000000  107.000000  107.000000\n",
              "mean     7.949626    9.237757   14.481869\n",
              "std      6.892312    8.640610   14.080211\n",
              "min      0.000000    0.000000    0.000000\n",
              "25%      0.000000    0.000000    0.000000\n",
              "50%     12.000000   10.870000   15.910000\n",
              "75%     14.305000   18.045000   27.440000\n",
              "max     15.000000   20.000000   35.000000"
            ],
            "text/html": [
              "\n",
              "  <div id=\"df-884ba996-fb7d-4d79-a0e7-410be73243ad\">\n",
              "    <div class=\"colab-df-container\">\n",
              "      <div>\n",
              "<style scoped>\n",
              "    .dataframe tbody tr th:only-of-type {\n",
              "        vertical-align: middle;\n",
              "    }\n",
              "\n",
              "    .dataframe tbody tr th {\n",
              "        vertical-align: top;\n",
              "    }\n",
              "\n",
              "    .dataframe thead th {\n",
              "        text-align: right;\n",
              "    }\n",
              "</style>\n",
              "<table border=\"1\" class=\"dataframe\">\n",
              "  <thead>\n",
              "    <tr style=\"text-align: right;\">\n",
              "      <th></th>\n",
              "      <th>Week3_MP1</th>\n",
              "      <th>Week5_MP2</th>\n",
              "      <th>Week7_MP3</th>\n",
              "    </tr>\n",
              "  </thead>\n",
              "  <tbody>\n",
              "    <tr>\n",
              "      <th>count</th>\n",
              "      <td>107.000000</td>\n",
              "      <td>107.000000</td>\n",
              "      <td>107.000000</td>\n",
              "    </tr>\n",
              "    <tr>\n",
              "      <th>mean</th>\n",
              "      <td>7.949626</td>\n",
              "      <td>9.237757</td>\n",
              "      <td>14.481869</td>\n",
              "    </tr>\n",
              "    <tr>\n",
              "      <th>std</th>\n",
              "      <td>6.892312</td>\n",
              "      <td>8.640610</td>\n",
              "      <td>14.080211</td>\n",
              "    </tr>\n",
              "    <tr>\n",
              "      <th>min</th>\n",
              "      <td>0.000000</td>\n",
              "      <td>0.000000</td>\n",
              "      <td>0.000000</td>\n",
              "    </tr>\n",
              "    <tr>\n",
              "      <th>25%</th>\n",
              "      <td>0.000000</td>\n",
              "      <td>0.000000</td>\n",
              "      <td>0.000000</td>\n",
              "    </tr>\n",
              "    <tr>\n",
              "      <th>50%</th>\n",
              "      <td>12.000000</td>\n",
              "      <td>10.870000</td>\n",
              "      <td>15.910000</td>\n",
              "    </tr>\n",
              "    <tr>\n",
              "      <th>75%</th>\n",
              "      <td>14.305000</td>\n",
              "      <td>18.045000</td>\n",
              "      <td>27.440000</td>\n",
              "    </tr>\n",
              "    <tr>\n",
              "      <th>max</th>\n",
              "      <td>15.000000</td>\n",
              "      <td>20.000000</td>\n",
              "      <td>35.000000</td>\n",
              "    </tr>\n",
              "  </tbody>\n",
              "</table>\n",
              "</div>\n",
              "      <button class=\"colab-df-convert\" onclick=\"convertToInteractive('df-884ba996-fb7d-4d79-a0e7-410be73243ad')\"\n",
              "              title=\"Convert this dataframe to an interactive table.\"\n",
              "              style=\"display:none;\">\n",
              "        \n",
              "  <svg xmlns=\"http://www.w3.org/2000/svg\" height=\"24px\"viewBox=\"0 0 24 24\"\n",
              "       width=\"24px\">\n",
              "    <path d=\"M0 0h24v24H0V0z\" fill=\"none\"/>\n",
              "    <path d=\"M18.56 5.44l.94 2.06.94-2.06 2.06-.94-2.06-.94-.94-2.06-.94 2.06-2.06.94zm-11 1L8.5 8.5l.94-2.06 2.06-.94-2.06-.94L8.5 2.5l-.94 2.06-2.06.94zm10 10l.94 2.06.94-2.06 2.06-.94-2.06-.94-.94-2.06-.94 2.06-2.06.94z\"/><path d=\"M17.41 7.96l-1.37-1.37c-.4-.4-.92-.59-1.43-.59-.52 0-1.04.2-1.43.59L10.3 9.45l-7.72 7.72c-.78.78-.78 2.05 0 2.83L4 21.41c.39.39.9.59 1.41.59.51 0 1.02-.2 1.41-.59l7.78-7.78 2.81-2.81c.8-.78.8-2.07 0-2.86zM5.41 20L4 18.59l7.72-7.72 1.47 1.35L5.41 20z\"/>\n",
              "  </svg>\n",
              "      </button>\n",
              "      \n",
              "  <style>\n",
              "    .colab-df-container {\n",
              "      display:flex;\n",
              "      flex-wrap:wrap;\n",
              "      gap: 12px;\n",
              "    }\n",
              "\n",
              "    .colab-df-convert {\n",
              "      background-color: #E8F0FE;\n",
              "      border: none;\n",
              "      border-radius: 50%;\n",
              "      cursor: pointer;\n",
              "      display: none;\n",
              "      fill: #1967D2;\n",
              "      height: 32px;\n",
              "      padding: 0 0 0 0;\n",
              "      width: 32px;\n",
              "    }\n",
              "\n",
              "    .colab-df-convert:hover {\n",
              "      background-color: #E2EBFA;\n",
              "      box-shadow: 0px 1px 2px rgba(60, 64, 67, 0.3), 0px 1px 3px 1px rgba(60, 64, 67, 0.15);\n",
              "      fill: #174EA6;\n",
              "    }\n",
              "\n",
              "    [theme=dark] .colab-df-convert {\n",
              "      background-color: #3B4455;\n",
              "      fill: #D2E3FC;\n",
              "    }\n",
              "\n",
              "    [theme=dark] .colab-df-convert:hover {\n",
              "      background-color: #434B5C;\n",
              "      box-shadow: 0px 1px 3px 1px rgba(0, 0, 0, 0.15);\n",
              "      filter: drop-shadow(0px 1px 2px rgba(0, 0, 0, 0.3));\n",
              "      fill: #FFFFFF;\n",
              "    }\n",
              "  </style>\n",
              "\n",
              "      <script>\n",
              "        const buttonEl =\n",
              "          document.querySelector('#df-884ba996-fb7d-4d79-a0e7-410be73243ad button.colab-df-convert');\n",
              "        buttonEl.style.display =\n",
              "          google.colab.kernel.accessAllowed ? 'block' : 'none';\n",
              "\n",
              "        async function convertToInteractive(key) {\n",
              "          const element = document.querySelector('#df-884ba996-fb7d-4d79-a0e7-410be73243ad');\n",
              "          const dataTable =\n",
              "            await google.colab.kernel.invokeFunction('convertToInteractive',\n",
              "                                                     [key], {});\n",
              "          if (!dataTable) return;\n",
              "\n",
              "          const docLinkHtml = 'Like what you see? Visit the ' +\n",
              "            '<a target=\"_blank\" href=https://colab.research.google.com/notebooks/data_table.ipynb>data table notebook</a>'\n",
              "            + ' to learn more about interactive tables.';\n",
              "          element.innerHTML = '';\n",
              "          dataTable['output_type'] = 'display_data';\n",
              "          await google.colab.output.renderOutput(dataTable, element);\n",
              "          const docLink = document.createElement('div');\n",
              "          docLink.innerHTML = docLinkHtml;\n",
              "          element.appendChild(docLink);\n",
              "        }\n",
              "      </script>\n",
              "    </div>\n",
              "  </div>\n",
              "  "
            ]
          },
          "metadata": {},
          "execution_count": 8
        }
      ]
    },
    {
      "cell_type": "markdown",
      "source": [
        "Assumptions\n",
        "* Mini Project 1 grade range is [0, 15]\n",
        "* Mini Project 2 grade range is [0, 20]\n",
        "* Mini Project 3 grade range is [0, 35]"
      ],
      "metadata": {
        "id": "_us6aqtIK2GT"
      }
    },
    {
      "cell_type": "code",
      "source": [
        "quizzes_df = students_df[['Week2_Quiz1', 'Week4_Quiz2', 'Week6_Quiz3']]\n",
        "quizzes_df.head()"
      ],
      "metadata": {
        "colab": {
          "base_uri": "https://localhost:8080/",
          "height": 206
        },
        "id": "laRS7z8n3ONd",
        "outputId": "f8102841-c2cc-4b43-f405-ef6bc84ab5d9"
      },
      "execution_count": 9,
      "outputs": [
        {
          "output_type": "execute_result",
          "data": {
            "text/plain": [
              "   Week2_Quiz1  Week4_Quiz2  Week6_Quiz3\n",
              "0         5.00         5.00          5.0\n",
              "1         3.33         4.00          5.0\n",
              "2         1.67         5.00          5.0\n",
              "3         2.50         3.13          5.0\n",
              "4         0.00         4.67          5.0"
            ],
            "text/html": [
              "\n",
              "  <div id=\"df-036f9989-c28a-442f-90dc-c1b47f997ca3\">\n",
              "    <div class=\"colab-df-container\">\n",
              "      <div>\n",
              "<style scoped>\n",
              "    .dataframe tbody tr th:only-of-type {\n",
              "        vertical-align: middle;\n",
              "    }\n",
              "\n",
              "    .dataframe tbody tr th {\n",
              "        vertical-align: top;\n",
              "    }\n",
              "\n",
              "    .dataframe thead th {\n",
              "        text-align: right;\n",
              "    }\n",
              "</style>\n",
              "<table border=\"1\" class=\"dataframe\">\n",
              "  <thead>\n",
              "    <tr style=\"text-align: right;\">\n",
              "      <th></th>\n",
              "      <th>Week2_Quiz1</th>\n",
              "      <th>Week4_Quiz2</th>\n",
              "      <th>Week6_Quiz3</th>\n",
              "    </tr>\n",
              "  </thead>\n",
              "  <tbody>\n",
              "    <tr>\n",
              "      <th>0</th>\n",
              "      <td>5.00</td>\n",
              "      <td>5.00</td>\n",
              "      <td>5.0</td>\n",
              "    </tr>\n",
              "    <tr>\n",
              "      <th>1</th>\n",
              "      <td>3.33</td>\n",
              "      <td>4.00</td>\n",
              "      <td>5.0</td>\n",
              "    </tr>\n",
              "    <tr>\n",
              "      <th>2</th>\n",
              "      <td>1.67</td>\n",
              "      <td>5.00</td>\n",
              "      <td>5.0</td>\n",
              "    </tr>\n",
              "    <tr>\n",
              "      <th>3</th>\n",
              "      <td>2.50</td>\n",
              "      <td>3.13</td>\n",
              "      <td>5.0</td>\n",
              "    </tr>\n",
              "    <tr>\n",
              "      <th>4</th>\n",
              "      <td>0.00</td>\n",
              "      <td>4.67</td>\n",
              "      <td>5.0</td>\n",
              "    </tr>\n",
              "  </tbody>\n",
              "</table>\n",
              "</div>\n",
              "      <button class=\"colab-df-convert\" onclick=\"convertToInteractive('df-036f9989-c28a-442f-90dc-c1b47f997ca3')\"\n",
              "              title=\"Convert this dataframe to an interactive table.\"\n",
              "              style=\"display:none;\">\n",
              "        \n",
              "  <svg xmlns=\"http://www.w3.org/2000/svg\" height=\"24px\"viewBox=\"0 0 24 24\"\n",
              "       width=\"24px\">\n",
              "    <path d=\"M0 0h24v24H0V0z\" fill=\"none\"/>\n",
              "    <path d=\"M18.56 5.44l.94 2.06.94-2.06 2.06-.94-2.06-.94-.94-2.06-.94 2.06-2.06.94zm-11 1L8.5 8.5l.94-2.06 2.06-.94-2.06-.94L8.5 2.5l-.94 2.06-2.06.94zm10 10l.94 2.06.94-2.06 2.06-.94-2.06-.94-.94-2.06-.94 2.06-2.06.94z\"/><path d=\"M17.41 7.96l-1.37-1.37c-.4-.4-.92-.59-1.43-.59-.52 0-1.04.2-1.43.59L10.3 9.45l-7.72 7.72c-.78.78-.78 2.05 0 2.83L4 21.41c.39.39.9.59 1.41.59.51 0 1.02-.2 1.41-.59l7.78-7.78 2.81-2.81c.8-.78.8-2.07 0-2.86zM5.41 20L4 18.59l7.72-7.72 1.47 1.35L5.41 20z\"/>\n",
              "  </svg>\n",
              "      </button>\n",
              "      \n",
              "  <style>\n",
              "    .colab-df-container {\n",
              "      display:flex;\n",
              "      flex-wrap:wrap;\n",
              "      gap: 12px;\n",
              "    }\n",
              "\n",
              "    .colab-df-convert {\n",
              "      background-color: #E8F0FE;\n",
              "      border: none;\n",
              "      border-radius: 50%;\n",
              "      cursor: pointer;\n",
              "      display: none;\n",
              "      fill: #1967D2;\n",
              "      height: 32px;\n",
              "      padding: 0 0 0 0;\n",
              "      width: 32px;\n",
              "    }\n",
              "\n",
              "    .colab-df-convert:hover {\n",
              "      background-color: #E2EBFA;\n",
              "      box-shadow: 0px 1px 2px rgba(60, 64, 67, 0.3), 0px 1px 3px 1px rgba(60, 64, 67, 0.15);\n",
              "      fill: #174EA6;\n",
              "    }\n",
              "\n",
              "    [theme=dark] .colab-df-convert {\n",
              "      background-color: #3B4455;\n",
              "      fill: #D2E3FC;\n",
              "    }\n",
              "\n",
              "    [theme=dark] .colab-df-convert:hover {\n",
              "      background-color: #434B5C;\n",
              "      box-shadow: 0px 1px 3px 1px rgba(0, 0, 0, 0.15);\n",
              "      filter: drop-shadow(0px 1px 2px rgba(0, 0, 0, 0.3));\n",
              "      fill: #FFFFFF;\n",
              "    }\n",
              "  </style>\n",
              "\n",
              "      <script>\n",
              "        const buttonEl =\n",
              "          document.querySelector('#df-036f9989-c28a-442f-90dc-c1b47f997ca3 button.colab-df-convert');\n",
              "        buttonEl.style.display =\n",
              "          google.colab.kernel.accessAllowed ? 'block' : 'none';\n",
              "\n",
              "        async function convertToInteractive(key) {\n",
              "          const element = document.querySelector('#df-036f9989-c28a-442f-90dc-c1b47f997ca3');\n",
              "          const dataTable =\n",
              "            await google.colab.kernel.invokeFunction('convertToInteractive',\n",
              "                                                     [key], {});\n",
              "          if (!dataTable) return;\n",
              "\n",
              "          const docLinkHtml = 'Like what you see? Visit the ' +\n",
              "            '<a target=\"_blank\" href=https://colab.research.google.com/notebooks/data_table.ipynb>data table notebook</a>'\n",
              "            + ' to learn more about interactive tables.';\n",
              "          element.innerHTML = '';\n",
              "          dataTable['output_type'] = 'display_data';\n",
              "          await google.colab.output.renderOutput(dataTable, element);\n",
              "          const docLink = document.createElement('div');\n",
              "          docLink.innerHTML = docLinkHtml;\n",
              "          element.appendChild(docLink);\n",
              "        }\n",
              "      </script>\n",
              "    </div>\n",
              "  </div>\n",
              "  "
            ]
          },
          "metadata": {},
          "execution_count": 9
        }
      ]
    },
    {
      "cell_type": "code",
      "source": [
        "quizzes_df.describe()"
      ],
      "metadata": {
        "colab": {
          "base_uri": "https://localhost:8080/",
          "height": 300
        },
        "id": "5KdkTemeLwU7",
        "outputId": "0feb4ff7-c648-4c9d-9bfd-33682bdc6d44"
      },
      "execution_count": 10,
      "outputs": [
        {
          "output_type": "execute_result",
          "data": {
            "text/plain": [
              "       Week2_Quiz1  Week4_Quiz2  Week6_Quiz3\n",
              "count   107.000000   107.000000   107.000000\n",
              "mean      2.406636     2.609439     2.663551\n",
              "std       2.000317     2.229419     2.414359\n",
              "min       0.000000     0.000000     0.000000\n",
              "25%       0.000000     0.000000     0.000000\n",
              "50%       3.330000     3.170000     4.000000\n",
              "75%       4.170000     4.710000     5.000000\n",
              "max       5.000000     5.000000     5.000000"
            ],
            "text/html": [
              "\n",
              "  <div id=\"df-40c3c829-ffb3-4a87-8e2f-5ededfc70640\">\n",
              "    <div class=\"colab-df-container\">\n",
              "      <div>\n",
              "<style scoped>\n",
              "    .dataframe tbody tr th:only-of-type {\n",
              "        vertical-align: middle;\n",
              "    }\n",
              "\n",
              "    .dataframe tbody tr th {\n",
              "        vertical-align: top;\n",
              "    }\n",
              "\n",
              "    .dataframe thead th {\n",
              "        text-align: right;\n",
              "    }\n",
              "</style>\n",
              "<table border=\"1\" class=\"dataframe\">\n",
              "  <thead>\n",
              "    <tr style=\"text-align: right;\">\n",
              "      <th></th>\n",
              "      <th>Week2_Quiz1</th>\n",
              "      <th>Week4_Quiz2</th>\n",
              "      <th>Week6_Quiz3</th>\n",
              "    </tr>\n",
              "  </thead>\n",
              "  <tbody>\n",
              "    <tr>\n",
              "      <th>count</th>\n",
              "      <td>107.000000</td>\n",
              "      <td>107.000000</td>\n",
              "      <td>107.000000</td>\n",
              "    </tr>\n",
              "    <tr>\n",
              "      <th>mean</th>\n",
              "      <td>2.406636</td>\n",
              "      <td>2.609439</td>\n",
              "      <td>2.663551</td>\n",
              "    </tr>\n",
              "    <tr>\n",
              "      <th>std</th>\n",
              "      <td>2.000317</td>\n",
              "      <td>2.229419</td>\n",
              "      <td>2.414359</td>\n",
              "    </tr>\n",
              "    <tr>\n",
              "      <th>min</th>\n",
              "      <td>0.000000</td>\n",
              "      <td>0.000000</td>\n",
              "      <td>0.000000</td>\n",
              "    </tr>\n",
              "    <tr>\n",
              "      <th>25%</th>\n",
              "      <td>0.000000</td>\n",
              "      <td>0.000000</td>\n",
              "      <td>0.000000</td>\n",
              "    </tr>\n",
              "    <tr>\n",
              "      <th>50%</th>\n",
              "      <td>3.330000</td>\n",
              "      <td>3.170000</td>\n",
              "      <td>4.000000</td>\n",
              "    </tr>\n",
              "    <tr>\n",
              "      <th>75%</th>\n",
              "      <td>4.170000</td>\n",
              "      <td>4.710000</td>\n",
              "      <td>5.000000</td>\n",
              "    </tr>\n",
              "    <tr>\n",
              "      <th>max</th>\n",
              "      <td>5.000000</td>\n",
              "      <td>5.000000</td>\n",
              "      <td>5.000000</td>\n",
              "    </tr>\n",
              "  </tbody>\n",
              "</table>\n",
              "</div>\n",
              "      <button class=\"colab-df-convert\" onclick=\"convertToInteractive('df-40c3c829-ffb3-4a87-8e2f-5ededfc70640')\"\n",
              "              title=\"Convert this dataframe to an interactive table.\"\n",
              "              style=\"display:none;\">\n",
              "        \n",
              "  <svg xmlns=\"http://www.w3.org/2000/svg\" height=\"24px\"viewBox=\"0 0 24 24\"\n",
              "       width=\"24px\">\n",
              "    <path d=\"M0 0h24v24H0V0z\" fill=\"none\"/>\n",
              "    <path d=\"M18.56 5.44l.94 2.06.94-2.06 2.06-.94-2.06-.94-.94-2.06-.94 2.06-2.06.94zm-11 1L8.5 8.5l.94-2.06 2.06-.94-2.06-.94L8.5 2.5l-.94 2.06-2.06.94zm10 10l.94 2.06.94-2.06 2.06-.94-2.06-.94-.94-2.06-.94 2.06-2.06.94z\"/><path d=\"M17.41 7.96l-1.37-1.37c-.4-.4-.92-.59-1.43-.59-.52 0-1.04.2-1.43.59L10.3 9.45l-7.72 7.72c-.78.78-.78 2.05 0 2.83L4 21.41c.39.39.9.59 1.41.59.51 0 1.02-.2 1.41-.59l7.78-7.78 2.81-2.81c.8-.78.8-2.07 0-2.86zM5.41 20L4 18.59l7.72-7.72 1.47 1.35L5.41 20z\"/>\n",
              "  </svg>\n",
              "      </button>\n",
              "      \n",
              "  <style>\n",
              "    .colab-df-container {\n",
              "      display:flex;\n",
              "      flex-wrap:wrap;\n",
              "      gap: 12px;\n",
              "    }\n",
              "\n",
              "    .colab-df-convert {\n",
              "      background-color: #E8F0FE;\n",
              "      border: none;\n",
              "      border-radius: 50%;\n",
              "      cursor: pointer;\n",
              "      display: none;\n",
              "      fill: #1967D2;\n",
              "      height: 32px;\n",
              "      padding: 0 0 0 0;\n",
              "      width: 32px;\n",
              "    }\n",
              "\n",
              "    .colab-df-convert:hover {\n",
              "      background-color: #E2EBFA;\n",
              "      box-shadow: 0px 1px 2px rgba(60, 64, 67, 0.3), 0px 1px 3px 1px rgba(60, 64, 67, 0.15);\n",
              "      fill: #174EA6;\n",
              "    }\n",
              "\n",
              "    [theme=dark] .colab-df-convert {\n",
              "      background-color: #3B4455;\n",
              "      fill: #D2E3FC;\n",
              "    }\n",
              "\n",
              "    [theme=dark] .colab-df-convert:hover {\n",
              "      background-color: #434B5C;\n",
              "      box-shadow: 0px 1px 3px 1px rgba(0, 0, 0, 0.15);\n",
              "      filter: drop-shadow(0px 1px 2px rgba(0, 0, 0, 0.3));\n",
              "      fill: #FFFFFF;\n",
              "    }\n",
              "  </style>\n",
              "\n",
              "      <script>\n",
              "        const buttonEl =\n",
              "          document.querySelector('#df-40c3c829-ffb3-4a87-8e2f-5ededfc70640 button.colab-df-convert');\n",
              "        buttonEl.style.display =\n",
              "          google.colab.kernel.accessAllowed ? 'block' : 'none';\n",
              "\n",
              "        async function convertToInteractive(key) {\n",
              "          const element = document.querySelector('#df-40c3c829-ffb3-4a87-8e2f-5ededfc70640');\n",
              "          const dataTable =\n",
              "            await google.colab.kernel.invokeFunction('convertToInteractive',\n",
              "                                                     [key], {});\n",
              "          if (!dataTable) return;\n",
              "\n",
              "          const docLinkHtml = 'Like what you see? Visit the ' +\n",
              "            '<a target=\"_blank\" href=https://colab.research.google.com/notebooks/data_table.ipynb>data table notebook</a>'\n",
              "            + ' to learn more about interactive tables.';\n",
              "          element.innerHTML = '';\n",
              "          dataTable['output_type'] = 'display_data';\n",
              "          await google.colab.output.renderOutput(dataTable, element);\n",
              "          const docLink = document.createElement('div');\n",
              "          docLink.innerHTML = docLinkHtml;\n",
              "          element.appendChild(docLink);\n",
              "        }\n",
              "      </script>\n",
              "    </div>\n",
              "  </div>\n",
              "  "
            ]
          },
          "metadata": {},
          "execution_count": 10
        }
      ]
    },
    {
      "cell_type": "markdown",
      "source": [
        "Assumption: All quizzes share the same grade range [0, 5]"
      ],
      "metadata": {
        "id": "pPin3D3RMdU3"
      }
    },
    {
      "cell_type": "code",
      "source": [
        "peer_reviews_df = students_df[['Week3_PR1', 'Week5_PR2', 'Week7_PR3']]\n",
        "peer_reviews_df.head()"
      ],
      "metadata": {
        "colab": {
          "base_uri": "https://localhost:8080/",
          "height": 206
        },
        "id": "dsvoYuwK3dCS",
        "outputId": "f83bfb2c-c162-4c8b-e209-4cf2005c89c2"
      },
      "execution_count": 11,
      "outputs": [
        {
          "output_type": "execute_result",
          "data": {
            "text/plain": [
              "   Week3_PR1  Week5_PR2  Week7_PR3\n",
              "0        5.0       5.00        5.0\n",
              "1        5.0       5.00        5.0\n",
              "2        5.0       5.00        2.5\n",
              "3        5.0       5.00        5.0\n",
              "4        5.0       4.93        5.0"
            ],
            "text/html": [
              "\n",
              "  <div id=\"df-04800cf5-6e5d-4053-b4a3-c0bae889449c\">\n",
              "    <div class=\"colab-df-container\">\n",
              "      <div>\n",
              "<style scoped>\n",
              "    .dataframe tbody tr th:only-of-type {\n",
              "        vertical-align: middle;\n",
              "    }\n",
              "\n",
              "    .dataframe tbody tr th {\n",
              "        vertical-align: top;\n",
              "    }\n",
              "\n",
              "    .dataframe thead th {\n",
              "        text-align: right;\n",
              "    }\n",
              "</style>\n",
              "<table border=\"1\" class=\"dataframe\">\n",
              "  <thead>\n",
              "    <tr style=\"text-align: right;\">\n",
              "      <th></th>\n",
              "      <th>Week3_PR1</th>\n",
              "      <th>Week5_PR2</th>\n",
              "      <th>Week7_PR3</th>\n",
              "    </tr>\n",
              "  </thead>\n",
              "  <tbody>\n",
              "    <tr>\n",
              "      <th>0</th>\n",
              "      <td>5.0</td>\n",
              "      <td>5.00</td>\n",
              "      <td>5.0</td>\n",
              "    </tr>\n",
              "    <tr>\n",
              "      <th>1</th>\n",
              "      <td>5.0</td>\n",
              "      <td>5.00</td>\n",
              "      <td>5.0</td>\n",
              "    </tr>\n",
              "    <tr>\n",
              "      <th>2</th>\n",
              "      <td>5.0</td>\n",
              "      <td>5.00</td>\n",
              "      <td>2.5</td>\n",
              "    </tr>\n",
              "    <tr>\n",
              "      <th>3</th>\n",
              "      <td>5.0</td>\n",
              "      <td>5.00</td>\n",
              "      <td>5.0</td>\n",
              "    </tr>\n",
              "    <tr>\n",
              "      <th>4</th>\n",
              "      <td>5.0</td>\n",
              "      <td>4.93</td>\n",
              "      <td>5.0</td>\n",
              "    </tr>\n",
              "  </tbody>\n",
              "</table>\n",
              "</div>\n",
              "      <button class=\"colab-df-convert\" onclick=\"convertToInteractive('df-04800cf5-6e5d-4053-b4a3-c0bae889449c')\"\n",
              "              title=\"Convert this dataframe to an interactive table.\"\n",
              "              style=\"display:none;\">\n",
              "        \n",
              "  <svg xmlns=\"http://www.w3.org/2000/svg\" height=\"24px\"viewBox=\"0 0 24 24\"\n",
              "       width=\"24px\">\n",
              "    <path d=\"M0 0h24v24H0V0z\" fill=\"none\"/>\n",
              "    <path d=\"M18.56 5.44l.94 2.06.94-2.06 2.06-.94-2.06-.94-.94-2.06-.94 2.06-2.06.94zm-11 1L8.5 8.5l.94-2.06 2.06-.94-2.06-.94L8.5 2.5l-.94 2.06-2.06.94zm10 10l.94 2.06.94-2.06 2.06-.94-2.06-.94-.94-2.06-.94 2.06-2.06.94z\"/><path d=\"M17.41 7.96l-1.37-1.37c-.4-.4-.92-.59-1.43-.59-.52 0-1.04.2-1.43.59L10.3 9.45l-7.72 7.72c-.78.78-.78 2.05 0 2.83L4 21.41c.39.39.9.59 1.41.59.51 0 1.02-.2 1.41-.59l7.78-7.78 2.81-2.81c.8-.78.8-2.07 0-2.86zM5.41 20L4 18.59l7.72-7.72 1.47 1.35L5.41 20z\"/>\n",
              "  </svg>\n",
              "      </button>\n",
              "      \n",
              "  <style>\n",
              "    .colab-df-container {\n",
              "      display:flex;\n",
              "      flex-wrap:wrap;\n",
              "      gap: 12px;\n",
              "    }\n",
              "\n",
              "    .colab-df-convert {\n",
              "      background-color: #E8F0FE;\n",
              "      border: none;\n",
              "      border-radius: 50%;\n",
              "      cursor: pointer;\n",
              "      display: none;\n",
              "      fill: #1967D2;\n",
              "      height: 32px;\n",
              "      padding: 0 0 0 0;\n",
              "      width: 32px;\n",
              "    }\n",
              "\n",
              "    .colab-df-convert:hover {\n",
              "      background-color: #E2EBFA;\n",
              "      box-shadow: 0px 1px 2px rgba(60, 64, 67, 0.3), 0px 1px 3px 1px rgba(60, 64, 67, 0.15);\n",
              "      fill: #174EA6;\n",
              "    }\n",
              "\n",
              "    [theme=dark] .colab-df-convert {\n",
              "      background-color: #3B4455;\n",
              "      fill: #D2E3FC;\n",
              "    }\n",
              "\n",
              "    [theme=dark] .colab-df-convert:hover {\n",
              "      background-color: #434B5C;\n",
              "      box-shadow: 0px 1px 3px 1px rgba(0, 0, 0, 0.15);\n",
              "      filter: drop-shadow(0px 1px 2px rgba(0, 0, 0, 0.3));\n",
              "      fill: #FFFFFF;\n",
              "    }\n",
              "  </style>\n",
              "\n",
              "      <script>\n",
              "        const buttonEl =\n",
              "          document.querySelector('#df-04800cf5-6e5d-4053-b4a3-c0bae889449c button.colab-df-convert');\n",
              "        buttonEl.style.display =\n",
              "          google.colab.kernel.accessAllowed ? 'block' : 'none';\n",
              "\n",
              "        async function convertToInteractive(key) {\n",
              "          const element = document.querySelector('#df-04800cf5-6e5d-4053-b4a3-c0bae889449c');\n",
              "          const dataTable =\n",
              "            await google.colab.kernel.invokeFunction('convertToInteractive',\n",
              "                                                     [key], {});\n",
              "          if (!dataTable) return;\n",
              "\n",
              "          const docLinkHtml = 'Like what you see? Visit the ' +\n",
              "            '<a target=\"_blank\" href=https://colab.research.google.com/notebooks/data_table.ipynb>data table notebook</a>'\n",
              "            + ' to learn more about interactive tables.';\n",
              "          element.innerHTML = '';\n",
              "          dataTable['output_type'] = 'display_data';\n",
              "          await google.colab.output.renderOutput(dataTable, element);\n",
              "          const docLink = document.createElement('div');\n",
              "          docLink.innerHTML = docLinkHtml;\n",
              "          element.appendChild(docLink);\n",
              "        }\n",
              "      </script>\n",
              "    </div>\n",
              "  </div>\n",
              "  "
            ]
          },
          "metadata": {},
          "execution_count": 11
        }
      ]
    },
    {
      "cell_type": "code",
      "source": [
        "peer_reviews_df.describe()"
      ],
      "metadata": {
        "colab": {
          "base_uri": "https://localhost:8080/",
          "height": 300
        },
        "id": "tDH-5gnjMqne",
        "outputId": "11ea2e81-eefb-41b0-a7e9-aa2acdfd11c4"
      },
      "execution_count": 12,
      "outputs": [
        {
          "output_type": "execute_result",
          "data": {
            "text/plain": [
              "        Week3_PR1   Week5_PR2   Week7_PR3\n",
              "count  107.000000  107.000000  107.000000\n",
              "mean     2.803738    2.844673    2.383178\n",
              "std      2.493158    2.482099    2.437501\n",
              "min      0.000000    0.000000    0.000000\n",
              "25%      0.000000    0.000000    0.000000\n",
              "50%      5.000000    5.000000    2.500000\n",
              "75%      5.000000    5.000000    5.000000\n",
              "max      5.000000    5.000000    5.000000"
            ],
            "text/html": [
              "\n",
              "  <div id=\"df-742732fa-2428-478a-9675-692051db1237\">\n",
              "    <div class=\"colab-df-container\">\n",
              "      <div>\n",
              "<style scoped>\n",
              "    .dataframe tbody tr th:only-of-type {\n",
              "        vertical-align: middle;\n",
              "    }\n",
              "\n",
              "    .dataframe tbody tr th {\n",
              "        vertical-align: top;\n",
              "    }\n",
              "\n",
              "    .dataframe thead th {\n",
              "        text-align: right;\n",
              "    }\n",
              "</style>\n",
              "<table border=\"1\" class=\"dataframe\">\n",
              "  <thead>\n",
              "    <tr style=\"text-align: right;\">\n",
              "      <th></th>\n",
              "      <th>Week3_PR1</th>\n",
              "      <th>Week5_PR2</th>\n",
              "      <th>Week7_PR3</th>\n",
              "    </tr>\n",
              "  </thead>\n",
              "  <tbody>\n",
              "    <tr>\n",
              "      <th>count</th>\n",
              "      <td>107.000000</td>\n",
              "      <td>107.000000</td>\n",
              "      <td>107.000000</td>\n",
              "    </tr>\n",
              "    <tr>\n",
              "      <th>mean</th>\n",
              "      <td>2.803738</td>\n",
              "      <td>2.844673</td>\n",
              "      <td>2.383178</td>\n",
              "    </tr>\n",
              "    <tr>\n",
              "      <th>std</th>\n",
              "      <td>2.493158</td>\n",
              "      <td>2.482099</td>\n",
              "      <td>2.437501</td>\n",
              "    </tr>\n",
              "    <tr>\n",
              "      <th>min</th>\n",
              "      <td>0.000000</td>\n",
              "      <td>0.000000</td>\n",
              "      <td>0.000000</td>\n",
              "    </tr>\n",
              "    <tr>\n",
              "      <th>25%</th>\n",
              "      <td>0.000000</td>\n",
              "      <td>0.000000</td>\n",
              "      <td>0.000000</td>\n",
              "    </tr>\n",
              "    <tr>\n",
              "      <th>50%</th>\n",
              "      <td>5.000000</td>\n",
              "      <td>5.000000</td>\n",
              "      <td>2.500000</td>\n",
              "    </tr>\n",
              "    <tr>\n",
              "      <th>75%</th>\n",
              "      <td>5.000000</td>\n",
              "      <td>5.000000</td>\n",
              "      <td>5.000000</td>\n",
              "    </tr>\n",
              "    <tr>\n",
              "      <th>max</th>\n",
              "      <td>5.000000</td>\n",
              "      <td>5.000000</td>\n",
              "      <td>5.000000</td>\n",
              "    </tr>\n",
              "  </tbody>\n",
              "</table>\n",
              "</div>\n",
              "      <button class=\"colab-df-convert\" onclick=\"convertToInteractive('df-742732fa-2428-478a-9675-692051db1237')\"\n",
              "              title=\"Convert this dataframe to an interactive table.\"\n",
              "              style=\"display:none;\">\n",
              "        \n",
              "  <svg xmlns=\"http://www.w3.org/2000/svg\" height=\"24px\"viewBox=\"0 0 24 24\"\n",
              "       width=\"24px\">\n",
              "    <path d=\"M0 0h24v24H0V0z\" fill=\"none\"/>\n",
              "    <path d=\"M18.56 5.44l.94 2.06.94-2.06 2.06-.94-2.06-.94-.94-2.06-.94 2.06-2.06.94zm-11 1L8.5 8.5l.94-2.06 2.06-.94-2.06-.94L8.5 2.5l-.94 2.06-2.06.94zm10 10l.94 2.06.94-2.06 2.06-.94-2.06-.94-.94-2.06-.94 2.06-2.06.94z\"/><path d=\"M17.41 7.96l-1.37-1.37c-.4-.4-.92-.59-1.43-.59-.52 0-1.04.2-1.43.59L10.3 9.45l-7.72 7.72c-.78.78-.78 2.05 0 2.83L4 21.41c.39.39.9.59 1.41.59.51 0 1.02-.2 1.41-.59l7.78-7.78 2.81-2.81c.8-.78.8-2.07 0-2.86zM5.41 20L4 18.59l7.72-7.72 1.47 1.35L5.41 20z\"/>\n",
              "  </svg>\n",
              "      </button>\n",
              "      \n",
              "  <style>\n",
              "    .colab-df-container {\n",
              "      display:flex;\n",
              "      flex-wrap:wrap;\n",
              "      gap: 12px;\n",
              "    }\n",
              "\n",
              "    .colab-df-convert {\n",
              "      background-color: #E8F0FE;\n",
              "      border: none;\n",
              "      border-radius: 50%;\n",
              "      cursor: pointer;\n",
              "      display: none;\n",
              "      fill: #1967D2;\n",
              "      height: 32px;\n",
              "      padding: 0 0 0 0;\n",
              "      width: 32px;\n",
              "    }\n",
              "\n",
              "    .colab-df-convert:hover {\n",
              "      background-color: #E2EBFA;\n",
              "      box-shadow: 0px 1px 2px rgba(60, 64, 67, 0.3), 0px 1px 3px 1px rgba(60, 64, 67, 0.15);\n",
              "      fill: #174EA6;\n",
              "    }\n",
              "\n",
              "    [theme=dark] .colab-df-convert {\n",
              "      background-color: #3B4455;\n",
              "      fill: #D2E3FC;\n",
              "    }\n",
              "\n",
              "    [theme=dark] .colab-df-convert:hover {\n",
              "      background-color: #434B5C;\n",
              "      box-shadow: 0px 1px 3px 1px rgba(0, 0, 0, 0.15);\n",
              "      filter: drop-shadow(0px 1px 2px rgba(0, 0, 0, 0.3));\n",
              "      fill: #FFFFFF;\n",
              "    }\n",
              "  </style>\n",
              "\n",
              "      <script>\n",
              "        const buttonEl =\n",
              "          document.querySelector('#df-742732fa-2428-478a-9675-692051db1237 button.colab-df-convert');\n",
              "        buttonEl.style.display =\n",
              "          google.colab.kernel.accessAllowed ? 'block' : 'none';\n",
              "\n",
              "        async function convertToInteractive(key) {\n",
              "          const element = document.querySelector('#df-742732fa-2428-478a-9675-692051db1237');\n",
              "          const dataTable =\n",
              "            await google.colab.kernel.invokeFunction('convertToInteractive',\n",
              "                                                     [key], {});\n",
              "          if (!dataTable) return;\n",
              "\n",
              "          const docLinkHtml = 'Like what you see? Visit the ' +\n",
              "            '<a target=\"_blank\" href=https://colab.research.google.com/notebooks/data_table.ipynb>data table notebook</a>'\n",
              "            + ' to learn more about interactive tables.';\n",
              "          element.innerHTML = '';\n",
              "          dataTable['output_type'] = 'display_data';\n",
              "          await google.colab.output.renderOutput(dataTable, element);\n",
              "          const docLink = document.createElement('div');\n",
              "          docLink.innerHTML = docLinkHtml;\n",
              "          element.appendChild(docLink);\n",
              "        }\n",
              "      </script>\n",
              "    </div>\n",
              "  </div>\n",
              "  "
            ]
          },
          "metadata": {},
          "execution_count": 12
        }
      ]
    },
    {
      "cell_type": "markdown",
      "source": [
        "Assumption: All peer reviews share the same grade range [0, 5]"
      ],
      "metadata": {
        "id": "ZhYQXLReM9v3"
      }
    },
    {
      "cell_type": "code",
      "source": [
        "final_grade_df = students_df[['Week8_Total', 'Grade']]\n",
        "final_grade_df.head()"
      ],
      "metadata": {
        "colab": {
          "base_uri": "https://localhost:8080/",
          "height": 206
        },
        "id": "6Y_GL79A3saU",
        "outputId": "2f6799cb-571b-4b58-8733-0f1c973b514e"
      },
      "execution_count": 13,
      "outputs": [
        {
          "output_type": "execute_result",
          "data": {
            "text/plain": [
              "   Week8_Total  Grade\n",
              "0        82.97      4\n",
              "1        82.43      4\n",
              "2        79.44      3\n",
              "3        80.65      3\n",
              "4        67.68      2"
            ],
            "text/html": [
              "\n",
              "  <div id=\"df-911e1ecb-61c5-483c-875d-63ad2c9f388c\">\n",
              "    <div class=\"colab-df-container\">\n",
              "      <div>\n",
              "<style scoped>\n",
              "    .dataframe tbody tr th:only-of-type {\n",
              "        vertical-align: middle;\n",
              "    }\n",
              "\n",
              "    .dataframe tbody tr th {\n",
              "        vertical-align: top;\n",
              "    }\n",
              "\n",
              "    .dataframe thead th {\n",
              "        text-align: right;\n",
              "    }\n",
              "</style>\n",
              "<table border=\"1\" class=\"dataframe\">\n",
              "  <thead>\n",
              "    <tr style=\"text-align: right;\">\n",
              "      <th></th>\n",
              "      <th>Week8_Total</th>\n",
              "      <th>Grade</th>\n",
              "    </tr>\n",
              "  </thead>\n",
              "  <tbody>\n",
              "    <tr>\n",
              "      <th>0</th>\n",
              "      <td>82.97</td>\n",
              "      <td>4</td>\n",
              "    </tr>\n",
              "    <tr>\n",
              "      <th>1</th>\n",
              "      <td>82.43</td>\n",
              "      <td>4</td>\n",
              "    </tr>\n",
              "    <tr>\n",
              "      <th>2</th>\n",
              "      <td>79.44</td>\n",
              "      <td>3</td>\n",
              "    </tr>\n",
              "    <tr>\n",
              "      <th>3</th>\n",
              "      <td>80.65</td>\n",
              "      <td>3</td>\n",
              "    </tr>\n",
              "    <tr>\n",
              "      <th>4</th>\n",
              "      <td>67.68</td>\n",
              "      <td>2</td>\n",
              "    </tr>\n",
              "  </tbody>\n",
              "</table>\n",
              "</div>\n",
              "      <button class=\"colab-df-convert\" onclick=\"convertToInteractive('df-911e1ecb-61c5-483c-875d-63ad2c9f388c')\"\n",
              "              title=\"Convert this dataframe to an interactive table.\"\n",
              "              style=\"display:none;\">\n",
              "        \n",
              "  <svg xmlns=\"http://www.w3.org/2000/svg\" height=\"24px\"viewBox=\"0 0 24 24\"\n",
              "       width=\"24px\">\n",
              "    <path d=\"M0 0h24v24H0V0z\" fill=\"none\"/>\n",
              "    <path d=\"M18.56 5.44l.94 2.06.94-2.06 2.06-.94-2.06-.94-.94-2.06-.94 2.06-2.06.94zm-11 1L8.5 8.5l.94-2.06 2.06-.94-2.06-.94L8.5 2.5l-.94 2.06-2.06.94zm10 10l.94 2.06.94-2.06 2.06-.94-2.06-.94-.94-2.06-.94 2.06-2.06.94z\"/><path d=\"M17.41 7.96l-1.37-1.37c-.4-.4-.92-.59-1.43-.59-.52 0-1.04.2-1.43.59L10.3 9.45l-7.72 7.72c-.78.78-.78 2.05 0 2.83L4 21.41c.39.39.9.59 1.41.59.51 0 1.02-.2 1.41-.59l7.78-7.78 2.81-2.81c.8-.78.8-2.07 0-2.86zM5.41 20L4 18.59l7.72-7.72 1.47 1.35L5.41 20z\"/>\n",
              "  </svg>\n",
              "      </button>\n",
              "      \n",
              "  <style>\n",
              "    .colab-df-container {\n",
              "      display:flex;\n",
              "      flex-wrap:wrap;\n",
              "      gap: 12px;\n",
              "    }\n",
              "\n",
              "    .colab-df-convert {\n",
              "      background-color: #E8F0FE;\n",
              "      border: none;\n",
              "      border-radius: 50%;\n",
              "      cursor: pointer;\n",
              "      display: none;\n",
              "      fill: #1967D2;\n",
              "      height: 32px;\n",
              "      padding: 0 0 0 0;\n",
              "      width: 32px;\n",
              "    }\n",
              "\n",
              "    .colab-df-convert:hover {\n",
              "      background-color: #E2EBFA;\n",
              "      box-shadow: 0px 1px 2px rgba(60, 64, 67, 0.3), 0px 1px 3px 1px rgba(60, 64, 67, 0.15);\n",
              "      fill: #174EA6;\n",
              "    }\n",
              "\n",
              "    [theme=dark] .colab-df-convert {\n",
              "      background-color: #3B4455;\n",
              "      fill: #D2E3FC;\n",
              "    }\n",
              "\n",
              "    [theme=dark] .colab-df-convert:hover {\n",
              "      background-color: #434B5C;\n",
              "      box-shadow: 0px 1px 3px 1px rgba(0, 0, 0, 0.15);\n",
              "      filter: drop-shadow(0px 1px 2px rgba(0, 0, 0, 0.3));\n",
              "      fill: #FFFFFF;\n",
              "    }\n",
              "  </style>\n",
              "\n",
              "      <script>\n",
              "        const buttonEl =\n",
              "          document.querySelector('#df-911e1ecb-61c5-483c-875d-63ad2c9f388c button.colab-df-convert');\n",
              "        buttonEl.style.display =\n",
              "          google.colab.kernel.accessAllowed ? 'block' : 'none';\n",
              "\n",
              "        async function convertToInteractive(key) {\n",
              "          const element = document.querySelector('#df-911e1ecb-61c5-483c-875d-63ad2c9f388c');\n",
              "          const dataTable =\n",
              "            await google.colab.kernel.invokeFunction('convertToInteractive',\n",
              "                                                     [key], {});\n",
              "          if (!dataTable) return;\n",
              "\n",
              "          const docLinkHtml = 'Like what you see? Visit the ' +\n",
              "            '<a target=\"_blank\" href=https://colab.research.google.com/notebooks/data_table.ipynb>data table notebook</a>'\n",
              "            + ' to learn more about interactive tables.';\n",
              "          element.innerHTML = '';\n",
              "          dataTable['output_type'] = 'display_data';\n",
              "          await google.colab.output.renderOutput(dataTable, element);\n",
              "          const docLink = document.createElement('div');\n",
              "          docLink.innerHTML = docLinkHtml;\n",
              "          element.appendChild(docLink);\n",
              "        }\n",
              "      </script>\n",
              "    </div>\n",
              "  </div>\n",
              "  "
            ]
          },
          "metadata": {},
          "execution_count": 13
        }
      ]
    },
    {
      "cell_type": "code",
      "source": [
        "final_grade_df.describe()"
      ],
      "metadata": {
        "colab": {
          "base_uri": "https://localhost:8080/",
          "height": 300
        },
        "id": "y6MR5-icNPdu",
        "outputId": "ce90696e-69a3-4ada-b8fe-1a5aa2b505f5"
      },
      "execution_count": 14,
      "outputs": [
        {
          "output_type": "execute_result",
          "data": {
            "text/plain": [
              "       Week8_Total       Grade\n",
              "count   107.000000  107.000000\n",
              "mean     47.380467    2.074766\n",
              "std      41.035589    1.993863\n",
              "min       0.000000    0.000000\n",
              "25%       0.000000    0.000000\n",
              "50%      71.530000    3.000000\n",
              "75%      83.550000    4.000000\n",
              "max      99.710000    5.000000"
            ],
            "text/html": [
              "\n",
              "  <div id=\"df-21c33dbd-cc56-46c7-bb3a-5d28e2129e52\">\n",
              "    <div class=\"colab-df-container\">\n",
              "      <div>\n",
              "<style scoped>\n",
              "    .dataframe tbody tr th:only-of-type {\n",
              "        vertical-align: middle;\n",
              "    }\n",
              "\n",
              "    .dataframe tbody tr th {\n",
              "        vertical-align: top;\n",
              "    }\n",
              "\n",
              "    .dataframe thead th {\n",
              "        text-align: right;\n",
              "    }\n",
              "</style>\n",
              "<table border=\"1\" class=\"dataframe\">\n",
              "  <thead>\n",
              "    <tr style=\"text-align: right;\">\n",
              "      <th></th>\n",
              "      <th>Week8_Total</th>\n",
              "      <th>Grade</th>\n",
              "    </tr>\n",
              "  </thead>\n",
              "  <tbody>\n",
              "    <tr>\n",
              "      <th>count</th>\n",
              "      <td>107.000000</td>\n",
              "      <td>107.000000</td>\n",
              "    </tr>\n",
              "    <tr>\n",
              "      <th>mean</th>\n",
              "      <td>47.380467</td>\n",
              "      <td>2.074766</td>\n",
              "    </tr>\n",
              "    <tr>\n",
              "      <th>std</th>\n",
              "      <td>41.035589</td>\n",
              "      <td>1.993863</td>\n",
              "    </tr>\n",
              "    <tr>\n",
              "      <th>min</th>\n",
              "      <td>0.000000</td>\n",
              "      <td>0.000000</td>\n",
              "    </tr>\n",
              "    <tr>\n",
              "      <th>25%</th>\n",
              "      <td>0.000000</td>\n",
              "      <td>0.000000</td>\n",
              "    </tr>\n",
              "    <tr>\n",
              "      <th>50%</th>\n",
              "      <td>71.530000</td>\n",
              "      <td>3.000000</td>\n",
              "    </tr>\n",
              "    <tr>\n",
              "      <th>75%</th>\n",
              "      <td>83.550000</td>\n",
              "      <td>4.000000</td>\n",
              "    </tr>\n",
              "    <tr>\n",
              "      <th>max</th>\n",
              "      <td>99.710000</td>\n",
              "      <td>5.000000</td>\n",
              "    </tr>\n",
              "  </tbody>\n",
              "</table>\n",
              "</div>\n",
              "      <button class=\"colab-df-convert\" onclick=\"convertToInteractive('df-21c33dbd-cc56-46c7-bb3a-5d28e2129e52')\"\n",
              "              title=\"Convert this dataframe to an interactive table.\"\n",
              "              style=\"display:none;\">\n",
              "        \n",
              "  <svg xmlns=\"http://www.w3.org/2000/svg\" height=\"24px\"viewBox=\"0 0 24 24\"\n",
              "       width=\"24px\">\n",
              "    <path d=\"M0 0h24v24H0V0z\" fill=\"none\"/>\n",
              "    <path d=\"M18.56 5.44l.94 2.06.94-2.06 2.06-.94-2.06-.94-.94-2.06-.94 2.06-2.06.94zm-11 1L8.5 8.5l.94-2.06 2.06-.94-2.06-.94L8.5 2.5l-.94 2.06-2.06.94zm10 10l.94 2.06.94-2.06 2.06-.94-2.06-.94-.94-2.06-.94 2.06-2.06.94z\"/><path d=\"M17.41 7.96l-1.37-1.37c-.4-.4-.92-.59-1.43-.59-.52 0-1.04.2-1.43.59L10.3 9.45l-7.72 7.72c-.78.78-.78 2.05 0 2.83L4 21.41c.39.39.9.59 1.41.59.51 0 1.02-.2 1.41-.59l7.78-7.78 2.81-2.81c.8-.78.8-2.07 0-2.86zM5.41 20L4 18.59l7.72-7.72 1.47 1.35L5.41 20z\"/>\n",
              "  </svg>\n",
              "      </button>\n",
              "      \n",
              "  <style>\n",
              "    .colab-df-container {\n",
              "      display:flex;\n",
              "      flex-wrap:wrap;\n",
              "      gap: 12px;\n",
              "    }\n",
              "\n",
              "    .colab-df-convert {\n",
              "      background-color: #E8F0FE;\n",
              "      border: none;\n",
              "      border-radius: 50%;\n",
              "      cursor: pointer;\n",
              "      display: none;\n",
              "      fill: #1967D2;\n",
              "      height: 32px;\n",
              "      padding: 0 0 0 0;\n",
              "      width: 32px;\n",
              "    }\n",
              "\n",
              "    .colab-df-convert:hover {\n",
              "      background-color: #E2EBFA;\n",
              "      box-shadow: 0px 1px 2px rgba(60, 64, 67, 0.3), 0px 1px 3px 1px rgba(60, 64, 67, 0.15);\n",
              "      fill: #174EA6;\n",
              "    }\n",
              "\n",
              "    [theme=dark] .colab-df-convert {\n",
              "      background-color: #3B4455;\n",
              "      fill: #D2E3FC;\n",
              "    }\n",
              "\n",
              "    [theme=dark] .colab-df-convert:hover {\n",
              "      background-color: #434B5C;\n",
              "      box-shadow: 0px 1px 3px 1px rgba(0, 0, 0, 0.15);\n",
              "      filter: drop-shadow(0px 1px 2px rgba(0, 0, 0, 0.3));\n",
              "      fill: #FFFFFF;\n",
              "    }\n",
              "  </style>\n",
              "\n",
              "      <script>\n",
              "        const buttonEl =\n",
              "          document.querySelector('#df-21c33dbd-cc56-46c7-bb3a-5d28e2129e52 button.colab-df-convert');\n",
              "        buttonEl.style.display =\n",
              "          google.colab.kernel.accessAllowed ? 'block' : 'none';\n",
              "\n",
              "        async function convertToInteractive(key) {\n",
              "          const element = document.querySelector('#df-21c33dbd-cc56-46c7-bb3a-5d28e2129e52');\n",
              "          const dataTable =\n",
              "            await google.colab.kernel.invokeFunction('convertToInteractive',\n",
              "                                                     [key], {});\n",
              "          if (!dataTable) return;\n",
              "\n",
              "          const docLinkHtml = 'Like what you see? Visit the ' +\n",
              "            '<a target=\"_blank\" href=https://colab.research.google.com/notebooks/data_table.ipynb>data table notebook</a>'\n",
              "            + ' to learn more about interactive tables.';\n",
              "          element.innerHTML = '';\n",
              "          dataTable['output_type'] = 'display_data';\n",
              "          await google.colab.output.renderOutput(dataTable, element);\n",
              "          const docLink = document.createElement('div');\n",
              "          docLink.innerHTML = docLinkHtml;\n",
              "          element.appendChild(docLink);\n",
              "        }\n",
              "      </script>\n",
              "    </div>\n",
              "  </div>\n",
              "  "
            ]
          },
          "metadata": {},
          "execution_count": 14
        }
      ]
    },
    {
      "cell_type": "markdown",
      "source": [
        "Assumptions:\n",
        "* Week8_Total ranges from [0, 99.71] which we will assume as 0 to 100\n",
        "* Grade range is [0, 1, 2, 3, 4, 5] since it is a categorical value\n"
      ],
      "metadata": {
        "id": "srvi9dTRNXva"
      }
    },
    {
      "cell_type": "code",
      "source": [
        "grades_df = pd.concat([miniprojects_df, quizzes_df, peer_reviews_df, final_grade_df], axis=1, join='inner')\n",
        "grades_df.head()"
      ],
      "metadata": {
        "id": "4fskFJs-FnFp",
        "colab": {
          "base_uri": "https://localhost:8080/",
          "height": 206
        },
        "outputId": "d65f7d8a-2193-4da8-ac17-0919bfdbfff7"
      },
      "execution_count": 15,
      "outputs": [
        {
          "output_type": "execute_result",
          "data": {
            "text/plain": [
              "   Week3_MP1  Week5_MP2  Week7_MP3  Week2_Quiz1  Week4_Quiz2  Week6_Quiz3  \\\n",
              "0       15.0      16.09      21.88         5.00         5.00          5.0   \n",
              "1       15.0      17.83      22.27         3.33         4.00          5.0   \n",
              "2       13.0      15.22      27.05         1.67         5.00          5.0   \n",
              "3       14.0      10.00      31.02         2.50         3.13          5.0   \n",
              "4       15.0      12.17      15.91         0.00         4.67          5.0   \n",
              "\n",
              "   Week3_PR1  Week5_PR2  Week7_PR3  Week8_Total  Grade  \n",
              "0        5.0       5.00        5.0        82.97      4  \n",
              "1        5.0       5.00        5.0        82.43      4  \n",
              "2        5.0       5.00        2.5        79.44      3  \n",
              "3        5.0       5.00        5.0        80.65      3  \n",
              "4        5.0       4.93        5.0        67.68      2  "
            ],
            "text/html": [
              "\n",
              "  <div id=\"df-09bd4a41-fe34-436b-bcb5-ed4301e473ef\">\n",
              "    <div class=\"colab-df-container\">\n",
              "      <div>\n",
              "<style scoped>\n",
              "    .dataframe tbody tr th:only-of-type {\n",
              "        vertical-align: middle;\n",
              "    }\n",
              "\n",
              "    .dataframe tbody tr th {\n",
              "        vertical-align: top;\n",
              "    }\n",
              "\n",
              "    .dataframe thead th {\n",
              "        text-align: right;\n",
              "    }\n",
              "</style>\n",
              "<table border=\"1\" class=\"dataframe\">\n",
              "  <thead>\n",
              "    <tr style=\"text-align: right;\">\n",
              "      <th></th>\n",
              "      <th>Week3_MP1</th>\n",
              "      <th>Week5_MP2</th>\n",
              "      <th>Week7_MP3</th>\n",
              "      <th>Week2_Quiz1</th>\n",
              "      <th>Week4_Quiz2</th>\n",
              "      <th>Week6_Quiz3</th>\n",
              "      <th>Week3_PR1</th>\n",
              "      <th>Week5_PR2</th>\n",
              "      <th>Week7_PR3</th>\n",
              "      <th>Week8_Total</th>\n",
              "      <th>Grade</th>\n",
              "    </tr>\n",
              "  </thead>\n",
              "  <tbody>\n",
              "    <tr>\n",
              "      <th>0</th>\n",
              "      <td>15.0</td>\n",
              "      <td>16.09</td>\n",
              "      <td>21.88</td>\n",
              "      <td>5.00</td>\n",
              "      <td>5.00</td>\n",
              "      <td>5.0</td>\n",
              "      <td>5.0</td>\n",
              "      <td>5.00</td>\n",
              "      <td>5.0</td>\n",
              "      <td>82.97</td>\n",
              "      <td>4</td>\n",
              "    </tr>\n",
              "    <tr>\n",
              "      <th>1</th>\n",
              "      <td>15.0</td>\n",
              "      <td>17.83</td>\n",
              "      <td>22.27</td>\n",
              "      <td>3.33</td>\n",
              "      <td>4.00</td>\n",
              "      <td>5.0</td>\n",
              "      <td>5.0</td>\n",
              "      <td>5.00</td>\n",
              "      <td>5.0</td>\n",
              "      <td>82.43</td>\n",
              "      <td>4</td>\n",
              "    </tr>\n",
              "    <tr>\n",
              "      <th>2</th>\n",
              "      <td>13.0</td>\n",
              "      <td>15.22</td>\n",
              "      <td>27.05</td>\n",
              "      <td>1.67</td>\n",
              "      <td>5.00</td>\n",
              "      <td>5.0</td>\n",
              "      <td>5.0</td>\n",
              "      <td>5.00</td>\n",
              "      <td>2.5</td>\n",
              "      <td>79.44</td>\n",
              "      <td>3</td>\n",
              "    </tr>\n",
              "    <tr>\n",
              "      <th>3</th>\n",
              "      <td>14.0</td>\n",
              "      <td>10.00</td>\n",
              "      <td>31.02</td>\n",
              "      <td>2.50</td>\n",
              "      <td>3.13</td>\n",
              "      <td>5.0</td>\n",
              "      <td>5.0</td>\n",
              "      <td>5.00</td>\n",
              "      <td>5.0</td>\n",
              "      <td>80.65</td>\n",
              "      <td>3</td>\n",
              "    </tr>\n",
              "    <tr>\n",
              "      <th>4</th>\n",
              "      <td>15.0</td>\n",
              "      <td>12.17</td>\n",
              "      <td>15.91</td>\n",
              "      <td>0.00</td>\n",
              "      <td>4.67</td>\n",
              "      <td>5.0</td>\n",
              "      <td>5.0</td>\n",
              "      <td>4.93</td>\n",
              "      <td>5.0</td>\n",
              "      <td>67.68</td>\n",
              "      <td>2</td>\n",
              "    </tr>\n",
              "  </tbody>\n",
              "</table>\n",
              "</div>\n",
              "      <button class=\"colab-df-convert\" onclick=\"convertToInteractive('df-09bd4a41-fe34-436b-bcb5-ed4301e473ef')\"\n",
              "              title=\"Convert this dataframe to an interactive table.\"\n",
              "              style=\"display:none;\">\n",
              "        \n",
              "  <svg xmlns=\"http://www.w3.org/2000/svg\" height=\"24px\"viewBox=\"0 0 24 24\"\n",
              "       width=\"24px\">\n",
              "    <path d=\"M0 0h24v24H0V0z\" fill=\"none\"/>\n",
              "    <path d=\"M18.56 5.44l.94 2.06.94-2.06 2.06-.94-2.06-.94-.94-2.06-.94 2.06-2.06.94zm-11 1L8.5 8.5l.94-2.06 2.06-.94-2.06-.94L8.5 2.5l-.94 2.06-2.06.94zm10 10l.94 2.06.94-2.06 2.06-.94-2.06-.94-.94-2.06-.94 2.06-2.06.94z\"/><path d=\"M17.41 7.96l-1.37-1.37c-.4-.4-.92-.59-1.43-.59-.52 0-1.04.2-1.43.59L10.3 9.45l-7.72 7.72c-.78.78-.78 2.05 0 2.83L4 21.41c.39.39.9.59 1.41.59.51 0 1.02-.2 1.41-.59l7.78-7.78 2.81-2.81c.8-.78.8-2.07 0-2.86zM5.41 20L4 18.59l7.72-7.72 1.47 1.35L5.41 20z\"/>\n",
              "  </svg>\n",
              "      </button>\n",
              "      \n",
              "  <style>\n",
              "    .colab-df-container {\n",
              "      display:flex;\n",
              "      flex-wrap:wrap;\n",
              "      gap: 12px;\n",
              "    }\n",
              "\n",
              "    .colab-df-convert {\n",
              "      background-color: #E8F0FE;\n",
              "      border: none;\n",
              "      border-radius: 50%;\n",
              "      cursor: pointer;\n",
              "      display: none;\n",
              "      fill: #1967D2;\n",
              "      height: 32px;\n",
              "      padding: 0 0 0 0;\n",
              "      width: 32px;\n",
              "    }\n",
              "\n",
              "    .colab-df-convert:hover {\n",
              "      background-color: #E2EBFA;\n",
              "      box-shadow: 0px 1px 2px rgba(60, 64, 67, 0.3), 0px 1px 3px 1px rgba(60, 64, 67, 0.15);\n",
              "      fill: #174EA6;\n",
              "    }\n",
              "\n",
              "    [theme=dark] .colab-df-convert {\n",
              "      background-color: #3B4455;\n",
              "      fill: #D2E3FC;\n",
              "    }\n",
              "\n",
              "    [theme=dark] .colab-df-convert:hover {\n",
              "      background-color: #434B5C;\n",
              "      box-shadow: 0px 1px 3px 1px rgba(0, 0, 0, 0.15);\n",
              "      filter: drop-shadow(0px 1px 2px rgba(0, 0, 0, 0.3));\n",
              "      fill: #FFFFFF;\n",
              "    }\n",
              "  </style>\n",
              "\n",
              "      <script>\n",
              "        const buttonEl =\n",
              "          document.querySelector('#df-09bd4a41-fe34-436b-bcb5-ed4301e473ef button.colab-df-convert');\n",
              "        buttonEl.style.display =\n",
              "          google.colab.kernel.accessAllowed ? 'block' : 'none';\n",
              "\n",
              "        async function convertToInteractive(key) {\n",
              "          const element = document.querySelector('#df-09bd4a41-fe34-436b-bcb5-ed4301e473ef');\n",
              "          const dataTable =\n",
              "            await google.colab.kernel.invokeFunction('convertToInteractive',\n",
              "                                                     [key], {});\n",
              "          if (!dataTable) return;\n",
              "\n",
              "          const docLinkHtml = 'Like what you see? Visit the ' +\n",
              "            '<a target=\"_blank\" href=https://colab.research.google.com/notebooks/data_table.ipynb>data table notebook</a>'\n",
              "            + ' to learn more about interactive tables.';\n",
              "          element.innerHTML = '';\n",
              "          dataTable['output_type'] = 'display_data';\n",
              "          await google.colab.output.renderOutput(dataTable, element);\n",
              "          const docLink = document.createElement('div');\n",
              "          docLink.innerHTML = docLinkHtml;\n",
              "          element.appendChild(docLink);\n",
              "        }\n",
              "      </script>\n",
              "    </div>\n",
              "  </div>\n",
              "  "
            ]
          },
          "metadata": {},
          "execution_count": 15
        }
      ]
    },
    {
      "cell_type": "markdown",
      "source": [
        "To sum up, if a student gets the max value in every Mini project, Quiz and Peer Review, his/her 'Week8_Total' grade would be 100 and therefore the final 'Grade' will be 5. This show us that grades have a direct correlation to the final grade but are not relevant predictors unless we choose a subset of them. For example, the grades for the first N weeks. \n",
        "\n",
        "Let's explore the correlations between the grades to determine whether is worth keeping some of these features or not."
      ],
      "metadata": {
        "id": "l09cpvS6Pthq"
      }
    },
    {
      "cell_type": "code",
      "source": [
        "# Creating a correlation matrix\n",
        "grades_df.corr()"
      ],
      "metadata": {
        "colab": {
          "base_uri": "https://localhost:8080/",
          "height": 394
        },
        "id": "pY1U1J8T_tA8",
        "outputId": "494b0f4f-6755-42ce-9f67-101b34386e57"
      },
      "execution_count": 16,
      "outputs": [
        {
          "output_type": "execute_result",
          "data": {
            "text/plain": [
              "             Week3_MP1  Week5_MP2  Week7_MP3  Week2_Quiz1  Week4_Quiz2  \\\n",
              "Week3_MP1     1.000000   0.905769   0.881352     0.739992     0.879998   \n",
              "Week5_MP2     0.905769   1.000000   0.904458     0.677371     0.808479   \n",
              "Week7_MP3     0.881352   0.904458   1.000000     0.635804     0.781677   \n",
              "Week2_Quiz1   0.739992   0.677371   0.635804     1.000000     0.746331   \n",
              "Week4_Quiz2   0.879998   0.808479   0.781677     0.746331     1.000000   \n",
              "Week6_Quiz3   0.912700   0.847296   0.814492     0.695119     0.912396   \n",
              "Week3_PR1     0.962502   0.890706   0.868638     0.723109     0.904170   \n",
              "Week5_PR2     0.964849   0.932880   0.897020     0.710990     0.863713   \n",
              "Week7_PR3     0.834397   0.874247   0.807097     0.622655     0.785238   \n",
              "Week8_Total   0.965074   0.962302   0.957955     0.739192     0.884461   \n",
              "Grade         0.901788   0.953488   0.968130     0.689783     0.810920   \n",
              "\n",
              "             Week6_Quiz3  Week3_PR1  Week5_PR2  Week7_PR3  Week8_Total  \\\n",
              "Week3_MP1       0.912700   0.962502   0.964849   0.834397     0.965074   \n",
              "Week5_MP2       0.847296   0.890706   0.932880   0.874247     0.962302   \n",
              "Week7_MP3       0.814492   0.868638   0.897020   0.807097     0.957955   \n",
              "Week2_Quiz1     0.695119   0.723109   0.710990   0.622655     0.739192   \n",
              "Week4_Quiz2     0.912396   0.904170   0.863713   0.785238     0.884461   \n",
              "Week6_Quiz3     1.000000   0.906560   0.887432   0.814822     0.910623   \n",
              "Week3_PR1       0.906560   1.000000   0.942896   0.830599     0.952095   \n",
              "Week5_PR2       0.887432   0.942896   1.000000   0.854744     0.968613   \n",
              "Week7_PR3       0.814822   0.830599   0.854744   1.000000     0.883680   \n",
              "Week8_Total     0.910623   0.952095   0.968613   0.883680     1.000000   \n",
              "Grade           0.849920   0.887352   0.907837   0.865616     0.972348   \n",
              "\n",
              "                Grade  \n",
              "Week3_MP1    0.901788  \n",
              "Week5_MP2    0.953488  \n",
              "Week7_MP3    0.968130  \n",
              "Week2_Quiz1  0.689783  \n",
              "Week4_Quiz2  0.810920  \n",
              "Week6_Quiz3  0.849920  \n",
              "Week3_PR1    0.887352  \n",
              "Week5_PR2    0.907837  \n",
              "Week7_PR3    0.865616  \n",
              "Week8_Total  0.972348  \n",
              "Grade        1.000000  "
            ],
            "text/html": [
              "\n",
              "  <div id=\"df-01d6a3a1-712c-4c8b-802e-d99e149629ef\">\n",
              "    <div class=\"colab-df-container\">\n",
              "      <div>\n",
              "<style scoped>\n",
              "    .dataframe tbody tr th:only-of-type {\n",
              "        vertical-align: middle;\n",
              "    }\n",
              "\n",
              "    .dataframe tbody tr th {\n",
              "        vertical-align: top;\n",
              "    }\n",
              "\n",
              "    .dataframe thead th {\n",
              "        text-align: right;\n",
              "    }\n",
              "</style>\n",
              "<table border=\"1\" class=\"dataframe\">\n",
              "  <thead>\n",
              "    <tr style=\"text-align: right;\">\n",
              "      <th></th>\n",
              "      <th>Week3_MP1</th>\n",
              "      <th>Week5_MP2</th>\n",
              "      <th>Week7_MP3</th>\n",
              "      <th>Week2_Quiz1</th>\n",
              "      <th>Week4_Quiz2</th>\n",
              "      <th>Week6_Quiz3</th>\n",
              "      <th>Week3_PR1</th>\n",
              "      <th>Week5_PR2</th>\n",
              "      <th>Week7_PR3</th>\n",
              "      <th>Week8_Total</th>\n",
              "      <th>Grade</th>\n",
              "    </tr>\n",
              "  </thead>\n",
              "  <tbody>\n",
              "    <tr>\n",
              "      <th>Week3_MP1</th>\n",
              "      <td>1.000000</td>\n",
              "      <td>0.905769</td>\n",
              "      <td>0.881352</td>\n",
              "      <td>0.739992</td>\n",
              "      <td>0.879998</td>\n",
              "      <td>0.912700</td>\n",
              "      <td>0.962502</td>\n",
              "      <td>0.964849</td>\n",
              "      <td>0.834397</td>\n",
              "      <td>0.965074</td>\n",
              "      <td>0.901788</td>\n",
              "    </tr>\n",
              "    <tr>\n",
              "      <th>Week5_MP2</th>\n",
              "      <td>0.905769</td>\n",
              "      <td>1.000000</td>\n",
              "      <td>0.904458</td>\n",
              "      <td>0.677371</td>\n",
              "      <td>0.808479</td>\n",
              "      <td>0.847296</td>\n",
              "      <td>0.890706</td>\n",
              "      <td>0.932880</td>\n",
              "      <td>0.874247</td>\n",
              "      <td>0.962302</td>\n",
              "      <td>0.953488</td>\n",
              "    </tr>\n",
              "    <tr>\n",
              "      <th>Week7_MP3</th>\n",
              "      <td>0.881352</td>\n",
              "      <td>0.904458</td>\n",
              "      <td>1.000000</td>\n",
              "      <td>0.635804</td>\n",
              "      <td>0.781677</td>\n",
              "      <td>0.814492</td>\n",
              "      <td>0.868638</td>\n",
              "      <td>0.897020</td>\n",
              "      <td>0.807097</td>\n",
              "      <td>0.957955</td>\n",
              "      <td>0.968130</td>\n",
              "    </tr>\n",
              "    <tr>\n",
              "      <th>Week2_Quiz1</th>\n",
              "      <td>0.739992</td>\n",
              "      <td>0.677371</td>\n",
              "      <td>0.635804</td>\n",
              "      <td>1.000000</td>\n",
              "      <td>0.746331</td>\n",
              "      <td>0.695119</td>\n",
              "      <td>0.723109</td>\n",
              "      <td>0.710990</td>\n",
              "      <td>0.622655</td>\n",
              "      <td>0.739192</td>\n",
              "      <td>0.689783</td>\n",
              "    </tr>\n",
              "    <tr>\n",
              "      <th>Week4_Quiz2</th>\n",
              "      <td>0.879998</td>\n",
              "      <td>0.808479</td>\n",
              "      <td>0.781677</td>\n",
              "      <td>0.746331</td>\n",
              "      <td>1.000000</td>\n",
              "      <td>0.912396</td>\n",
              "      <td>0.904170</td>\n",
              "      <td>0.863713</td>\n",
              "      <td>0.785238</td>\n",
              "      <td>0.884461</td>\n",
              "      <td>0.810920</td>\n",
              "    </tr>\n",
              "    <tr>\n",
              "      <th>Week6_Quiz3</th>\n",
              "      <td>0.912700</td>\n",
              "      <td>0.847296</td>\n",
              "      <td>0.814492</td>\n",
              "      <td>0.695119</td>\n",
              "      <td>0.912396</td>\n",
              "      <td>1.000000</td>\n",
              "      <td>0.906560</td>\n",
              "      <td>0.887432</td>\n",
              "      <td>0.814822</td>\n",
              "      <td>0.910623</td>\n",
              "      <td>0.849920</td>\n",
              "    </tr>\n",
              "    <tr>\n",
              "      <th>Week3_PR1</th>\n",
              "      <td>0.962502</td>\n",
              "      <td>0.890706</td>\n",
              "      <td>0.868638</td>\n",
              "      <td>0.723109</td>\n",
              "      <td>0.904170</td>\n",
              "      <td>0.906560</td>\n",
              "      <td>1.000000</td>\n",
              "      <td>0.942896</td>\n",
              "      <td>0.830599</td>\n",
              "      <td>0.952095</td>\n",
              "      <td>0.887352</td>\n",
              "    </tr>\n",
              "    <tr>\n",
              "      <th>Week5_PR2</th>\n",
              "      <td>0.964849</td>\n",
              "      <td>0.932880</td>\n",
              "      <td>0.897020</td>\n",
              "      <td>0.710990</td>\n",
              "      <td>0.863713</td>\n",
              "      <td>0.887432</td>\n",
              "      <td>0.942896</td>\n",
              "      <td>1.000000</td>\n",
              "      <td>0.854744</td>\n",
              "      <td>0.968613</td>\n",
              "      <td>0.907837</td>\n",
              "    </tr>\n",
              "    <tr>\n",
              "      <th>Week7_PR3</th>\n",
              "      <td>0.834397</td>\n",
              "      <td>0.874247</td>\n",
              "      <td>0.807097</td>\n",
              "      <td>0.622655</td>\n",
              "      <td>0.785238</td>\n",
              "      <td>0.814822</td>\n",
              "      <td>0.830599</td>\n",
              "      <td>0.854744</td>\n",
              "      <td>1.000000</td>\n",
              "      <td>0.883680</td>\n",
              "      <td>0.865616</td>\n",
              "    </tr>\n",
              "    <tr>\n",
              "      <th>Week8_Total</th>\n",
              "      <td>0.965074</td>\n",
              "      <td>0.962302</td>\n",
              "      <td>0.957955</td>\n",
              "      <td>0.739192</td>\n",
              "      <td>0.884461</td>\n",
              "      <td>0.910623</td>\n",
              "      <td>0.952095</td>\n",
              "      <td>0.968613</td>\n",
              "      <td>0.883680</td>\n",
              "      <td>1.000000</td>\n",
              "      <td>0.972348</td>\n",
              "    </tr>\n",
              "    <tr>\n",
              "      <th>Grade</th>\n",
              "      <td>0.901788</td>\n",
              "      <td>0.953488</td>\n",
              "      <td>0.968130</td>\n",
              "      <td>0.689783</td>\n",
              "      <td>0.810920</td>\n",
              "      <td>0.849920</td>\n",
              "      <td>0.887352</td>\n",
              "      <td>0.907837</td>\n",
              "      <td>0.865616</td>\n",
              "      <td>0.972348</td>\n",
              "      <td>1.000000</td>\n",
              "    </tr>\n",
              "  </tbody>\n",
              "</table>\n",
              "</div>\n",
              "      <button class=\"colab-df-convert\" onclick=\"convertToInteractive('df-01d6a3a1-712c-4c8b-802e-d99e149629ef')\"\n",
              "              title=\"Convert this dataframe to an interactive table.\"\n",
              "              style=\"display:none;\">\n",
              "        \n",
              "  <svg xmlns=\"http://www.w3.org/2000/svg\" height=\"24px\"viewBox=\"0 0 24 24\"\n",
              "       width=\"24px\">\n",
              "    <path d=\"M0 0h24v24H0V0z\" fill=\"none\"/>\n",
              "    <path d=\"M18.56 5.44l.94 2.06.94-2.06 2.06-.94-2.06-.94-.94-2.06-.94 2.06-2.06.94zm-11 1L8.5 8.5l.94-2.06 2.06-.94-2.06-.94L8.5 2.5l-.94 2.06-2.06.94zm10 10l.94 2.06.94-2.06 2.06-.94-2.06-.94-.94-2.06-.94 2.06-2.06.94z\"/><path d=\"M17.41 7.96l-1.37-1.37c-.4-.4-.92-.59-1.43-.59-.52 0-1.04.2-1.43.59L10.3 9.45l-7.72 7.72c-.78.78-.78 2.05 0 2.83L4 21.41c.39.39.9.59 1.41.59.51 0 1.02-.2 1.41-.59l7.78-7.78 2.81-2.81c.8-.78.8-2.07 0-2.86zM5.41 20L4 18.59l7.72-7.72 1.47 1.35L5.41 20z\"/>\n",
              "  </svg>\n",
              "      </button>\n",
              "      \n",
              "  <style>\n",
              "    .colab-df-container {\n",
              "      display:flex;\n",
              "      flex-wrap:wrap;\n",
              "      gap: 12px;\n",
              "    }\n",
              "\n",
              "    .colab-df-convert {\n",
              "      background-color: #E8F0FE;\n",
              "      border: none;\n",
              "      border-radius: 50%;\n",
              "      cursor: pointer;\n",
              "      display: none;\n",
              "      fill: #1967D2;\n",
              "      height: 32px;\n",
              "      padding: 0 0 0 0;\n",
              "      width: 32px;\n",
              "    }\n",
              "\n",
              "    .colab-df-convert:hover {\n",
              "      background-color: #E2EBFA;\n",
              "      box-shadow: 0px 1px 2px rgba(60, 64, 67, 0.3), 0px 1px 3px 1px rgba(60, 64, 67, 0.15);\n",
              "      fill: #174EA6;\n",
              "    }\n",
              "\n",
              "    [theme=dark] .colab-df-convert {\n",
              "      background-color: #3B4455;\n",
              "      fill: #D2E3FC;\n",
              "    }\n",
              "\n",
              "    [theme=dark] .colab-df-convert:hover {\n",
              "      background-color: #434B5C;\n",
              "      box-shadow: 0px 1px 3px 1px rgba(0, 0, 0, 0.15);\n",
              "      filter: drop-shadow(0px 1px 2px rgba(0, 0, 0, 0.3));\n",
              "      fill: #FFFFFF;\n",
              "    }\n",
              "  </style>\n",
              "\n",
              "      <script>\n",
              "        const buttonEl =\n",
              "          document.querySelector('#df-01d6a3a1-712c-4c8b-802e-d99e149629ef button.colab-df-convert');\n",
              "        buttonEl.style.display =\n",
              "          google.colab.kernel.accessAllowed ? 'block' : 'none';\n",
              "\n",
              "        async function convertToInteractive(key) {\n",
              "          const element = document.querySelector('#df-01d6a3a1-712c-4c8b-802e-d99e149629ef');\n",
              "          const dataTable =\n",
              "            await google.colab.kernel.invokeFunction('convertToInteractive',\n",
              "                                                     [key], {});\n",
              "          if (!dataTable) return;\n",
              "\n",
              "          const docLinkHtml = 'Like what you see? Visit the ' +\n",
              "            '<a target=\"_blank\" href=https://colab.research.google.com/notebooks/data_table.ipynb>data table notebook</a>'\n",
              "            + ' to learn more about interactive tables.';\n",
              "          element.innerHTML = '';\n",
              "          dataTable['output_type'] = 'display_data';\n",
              "          await google.colab.output.renderOutput(dataTable, element);\n",
              "          const docLink = document.createElement('div');\n",
              "          docLink.innerHTML = docLinkHtml;\n",
              "          element.appendChild(docLink);\n",
              "        }\n",
              "      </script>\n",
              "    </div>\n",
              "  </div>\n",
              "  "
            ]
          },
          "metadata": {},
          "execution_count": 16
        }
      ]
    },
    {
      "cell_type": "code",
      "source": [
        "#plot the correlation matrix \n",
        "sns.heatmap(grades_df.corr(), annot=True, cmap = 'crest')\n",
        "plt.show()"
      ],
      "metadata": {
        "colab": {
          "base_uri": "https://localhost:8080/",
          "height": 326
        },
        "id": "V2NEL6nv_4ko",
        "outputId": "69ed8538-6046-48a6-d410-49406de577b2"
      },
      "execution_count": 17,
      "outputs": [
        {
          "output_type": "display_data",
          "data": {
            "text/plain": [
              "<Figure size 432x288 with 2 Axes>"
            ],
            "image/png": "[encoded data removed]"
          },
          "metadata": {
            "needs_background": "light"
          }
        }
      ]
    },
    {
      "cell_type": "markdown",
      "source": [
        "This correlation matrix shows that grades are generally highly correlated between each other which means that they are redundant for our analysis. \n",
        "\n",
        "We don't consider keeping any of these for further analysis since Quizzes and Peer Reviews are redundant and have a small contribution to the final grade, while mini projects would be the strongest predictors, giving a false impression that our model is successfully predicting students performance.\n",
        "\n",
        "For now, we will focus on the course logs a.k.a stats to see if they could become interesting predictors for the students' final grade."
      ],
      "metadata": {
        "id": "rUm-WyRJANBt"
      }
    },
    {
      "cell_type": "markdown",
      "source": [
        "#### Logs Dataframes\n",
        "Let's now explore the course logs a.k.a stats."
      ],
      "metadata": {
        "id": "b43crCqfQ-B7"
      }
    },
    {
      "cell_type": "markdown",
      "source": [
        "Although we have removed 10 columns related to students' grades. We still have 38 columns in our dataset. With this in mind we will proceed with 3 approaches in order to determine which one will give us better results when training our models and which could provide more comprenhensive answers to our research questions.\n",
        "\n",
        "* Grouping data by week. Is there a specific week where students' chance to pass or fail the course increases?\n",
        "\n",
        "* Grouping data by stat. Is a student more succesful in the course if it participates more in the forum? if it checks more the lessons?\n",
        "\n",
        "* Keeping the current features. This might provide more comprehensive answers since it would directly lead us to a specific week and stat. For example, is early participation in forums an initial sign of students success?"
      ],
      "metadata": {
        "id": "2QkuTZzc5yX2"
      }
    },
    {
      "cell_type": "markdown",
      "source": [
        "We have already removed grade columns based on Domain Knowledge, and we now analyze if we have missing values and low variance in certain columns in order to reduce the feature space more."
      ],
      "metadata": {
        "id": "a8Km_aXZIEX8"
      }
    },
    {
      "cell_type": "code",
      "source": [
        "week_1_logs_df = students_df[['Week1_Stat0', 'Week1_Stat1', 'Week1_Stat2', 'Week1_Stat3']]\n",
        "week_2_logs_df = students_df[['Week2_Stat0', 'Week2_Stat1', 'Week2_Stat2', 'Week2_Stat3']]\n",
        "week_3_logs_df = students_df[['Week3_Stat0', 'Week3_Stat1', 'Week3_Stat2', 'Week3_Stat3']]\n",
        "week_4_logs_df = students_df[['Week4_Stat0', 'Week4_Stat1', 'Week4_Stat2', 'Week4_Stat3']]\n",
        "week_5_logs_df = students_df[['Week5_Stat0', 'Week5_Stat1', 'Week5_Stat2', 'Week5_Stat3']]\n",
        "week_6_logs_df = students_df[['Week6_Stat0', 'Week6_Stat1', 'Week6_Stat2', 'Week6_Stat3']]\n",
        "week_7_logs_df = students_df[['Week7_Stat0', 'Week7_Stat1', 'Week7_Stat2', 'Week7_Stat3']]\n",
        "week_8_logs_df = students_df[['Week8_Stat0', 'Week8_Stat1', 'Week8_Stat2', 'Week8_Stat3']]\n",
        "week_9_logs_df = students_df[['Week9_Stat0', 'Week9_Stat1', 'Week9_Stat2', 'Week9_Stat3']]"
      ],
      "metadata": {
        "id": "KGWP1IM4PfWr"
      },
      "execution_count": 18,
      "outputs": []
    },
    {
      "cell_type": "code",
      "source": [
        "# Giving some initial order to the features\n",
        "course_logs_df = pd.concat([week_1_logs_df, week_2_logs_df, week_3_logs_df, week_4_logs_df,\n",
        "                            week_5_logs_df, week_6_logs_df, week_7_logs_df, week_8_logs_df,\n",
        "                            week_9_logs_df], \n",
        "                           axis=1, join='inner')\n",
        "course_logs_df.head()"
      ],
      "metadata": {
        "colab": {
          "base_uri": "https://localhost:8080/",
          "height": 299
        },
        "id": "upEPKJy8winy",
        "outputId": "241a5e31-eddc-4fad-d2fa-eeb04caa870c"
      },
      "execution_count": 19,
      "outputs": [
        {
          "output_type": "execute_result",
          "data": {
            "text/plain": [
              "   Week1_Stat0  Week1_Stat1  Week1_Stat2  Week1_Stat3  Week2_Stat0  \\\n",
              "0            0            0            0            0            7   \n",
              "1            8            0            0            0           61   \n",
              "2            4            0            0            0           19   \n",
              "3           12            0            0            1           30   \n",
              "4            6            0            0            0            0   \n",
              "\n",
              "   Week2_Stat1  Week2_Stat2  Week2_Stat3  Week3_Stat0  Week3_Stat1  ...  \\\n",
              "0           30            1            0           30            4  ...   \n",
              "1           10            3            8          100            4  ...   \n",
              "2           10            3            3           25            4  ...   \n",
              "3           10            1            6           79            4  ...   \n",
              "4            0            0            0           27            5  ...   \n",
              "\n",
              "   Week7_Stat2  Week7_Stat3  Week8_Stat0  Week8_Stat1  Week8_Stat2  \\\n",
              "0            1            0            5            4            0   \n",
              "1            0            8            5            2            0   \n",
              "2            0            0            8            2            0   \n",
              "3            5            4           10            0            0   \n",
              "4            3            6            8            5            1   \n",
              "\n",
              "   Week8_Stat3  Week9_Stat0  Week9_Stat1  Week9_Stat2  Week9_Stat3  \n",
              "0            4            8            6            1            0  \n",
              "1            0           25            3            2            5  \n",
              "2            0            9            0            1            0  \n",
              "3            0            7            6            0            0  \n",
              "4            1            5            3            1            0  \n",
              "\n",
              "[5 rows x 36 columns]"
            ],
            "text/html": [
              "\n",
              "  <div id=\"df-9b247f7c-bdc9-4e8f-8bab-d7e00a50ae81\">\n",
              "    <div class=\"colab-df-container\">\n",
              "      <div>\n",
              "<style scoped>\n",
              "    .dataframe tbody tr th:only-of-type {\n",
              "        vertical-align: middle;\n",
              "    }\n",
              "\n",
              "    .dataframe tbody tr th {\n",
              "        vertical-align: top;\n",
              "    }\n",
              "\n",
              "    .dataframe thead th {\n",
              "        text-align: right;\n",
              "    }\n",
              "</style>\n",
              "<table border=\"1\" class=\"dataframe\">\n",
              "  <thead>\n",
              "    <tr style=\"text-align: right;\">\n",
              "      <th></th>\n",
              "      <th>Week1_Stat0</th>\n",
              "      <th>Week1_Stat1</th>\n",
              "      <th>Week1_Stat2</th>\n",
              "      <th>Week1_Stat3</th>\n",
              "      <th>Week2_Stat0</th>\n",
              "      <th>Week2_Stat1</th>\n",
              "      <th>Week2_Stat2</th>\n",
              "      <th>Week2_Stat3</th>\n",
              "      <th>Week3_Stat0</th>\n",
              "      <th>Week3_Stat1</th>\n",
              "      <th>...</th>\n",
              "      <th>Week7_Stat2</th>\n",
              "      <th>Week7_Stat3</th>\n",
              "      <th>Week8_Stat0</th>\n",
              "      <th>Week8_Stat1</th>\n",
              "      <th>Week8_Stat2</th>\n",
              "      <th>Week8_Stat3</th>\n",
              "      <th>Week9_Stat0</th>\n",
              "      <th>Week9_Stat1</th>\n",
              "      <th>Week9_Stat2</th>\n",
              "      <th>Week9_Stat3</th>\n",
              "    </tr>\n",
              "  </thead>\n",
              "  <tbody>\n",
              "    <tr>\n",
              "      <th>0</th>\n",
              "      <td>0</td>\n",
              "      <td>0</td>\n",
              "      <td>0</td>\n",
              "      <td>0</td>\n",
              "      <td>7</td>\n",
              "      <td>30</td>\n",
              "      <td>1</td>\n",
              "      <td>0</td>\n",
              "      <td>30</td>\n",
              "      <td>4</td>\n",
              "      <td>...</td>\n",
              "      <td>1</td>\n",
              "      <td>0</td>\n",
              "      <td>5</td>\n",
              "      <td>4</td>\n",
              "      <td>0</td>\n",
              "      <td>4</td>\n",
              "      <td>8</td>\n",
              "      <td>6</td>\n",
              "      <td>1</td>\n",
              "      <td>0</td>\n",
              "    </tr>\n",
              "    <tr>\n",
              "      <th>1</th>\n",
              "      <td>8</td>\n",
              "      <td>0</td>\n",
              "      <td>0</td>\n",
              "      <td>0</td>\n",
              "      <td>61</td>\n",
              "      <td>10</td>\n",
              "      <td>3</td>\n",
              "      <td>8</td>\n",
              "      <td>100</td>\n",
              "      <td>4</td>\n",
              "      <td>...</td>\n",
              "      <td>0</td>\n",
              "      <td>8</td>\n",
              "      <td>5</td>\n",
              "      <td>2</td>\n",
              "      <td>0</td>\n",
              "      <td>0</td>\n",
              "      <td>25</td>\n",
              "      <td>3</td>\n",
              "      <td>2</td>\n",
              "      <td>5</td>\n",
              "    </tr>\n",
              "    <tr>\n",
              "      <th>2</th>\n",
              "      <td>4</td>\n",
              "      <td>0</td>\n",
              "      <td>0</td>\n",
              "      <td>0</td>\n",
              "      <td>19</td>\n",
              "      <td>10</td>\n",
              "      <td>3</td>\n",
              "      <td>3</td>\n",
              "      <td>25</td>\n",
              "      <td>4</td>\n",
              "      <td>...</td>\n",
              "      <td>0</td>\n",
              "      <td>0</td>\n",
              "      <td>8</td>\n",
              "      <td>2</td>\n",
              "      <td>0</td>\n",
              "      <td>0</td>\n",
              "      <td>9</td>\n",
              "      <td>0</td>\n",
              "      <td>1</td>\n",
              "      <td>0</td>\n",
              "    </tr>\n",
              "    <tr>\n",
              "      <th>3</th>\n",
              "      <td>12</td>\n",
              "      <td>0</td>\n",
              "      <td>0</td>\n",
              "      <td>1</td>\n",
              "      <td>30</td>\n",
              "      <td>10</td>\n",
              "      <td>1</td>\n",
              "      <td>6</td>\n",
              "      <td>79</td>\n",
              "      <td>4</td>\n",
              "      <td>...</td>\n",
              "      <td>5</td>\n",
              "      <td>4</td>\n",
              "      <td>10</td>\n",
              "      <td>0</td>\n",
              "      <td>0</td>\n",
              "      <td>0</td>\n",
              "      <td>7</td>\n",
              "      <td>6</td>\n",
              "      <td>0</td>\n",
              "      <td>0</td>\n",
              "    </tr>\n",
              "    <tr>\n",
              "      <th>4</th>\n",
              "      <td>6</td>\n",
              "      <td>0</td>\n",
              "      <td>0</td>\n",
              "      <td>0</td>\n",
              "      <td>0</td>\n",
              "      <td>0</td>\n",
              "      <td>0</td>\n",
              "      <td>0</td>\n",
              "      <td>27</td>\n",
              "      <td>5</td>\n",
              "      <td>...</td>\n",
              "      <td>3</td>\n",
              "      <td>6</td>\n",
              "      <td>8</td>\n",
              "      <td>5</td>\n",
              "      <td>1</td>\n",
              "      <td>1</td>\n",
              "      <td>5</td>\n",
              "      <td>3</td>\n",
              "      <td>1</td>\n",
              "      <td>0</td>\n",
              "    </tr>\n",
              "  </tbody>\n",
              "</table>\n",
              "<p>5 rows × 36 columns</p>\n",
              "</div>\n",
              "      <button class=\"colab-df-convert\" onclick=\"convertToInteractive('df-9b247f7c-bdc9-4e8f-8bab-d7e00a50ae81')\"\n",
              "              title=\"Convert this dataframe to an interactive table.\"\n",
              "              style=\"display:none;\">\n",
              "        \n",
              "  <svg xmlns=\"http://www.w3.org/2000/svg\" height=\"24px\"viewBox=\"0 0 24 24\"\n",
              "       width=\"24px\">\n",
              "    <path d=\"M0 0h24v24H0V0z\" fill=\"none\"/>\n",
              "    <path d=\"M18.56 5.44l.94 2.06.94-2.06 2.06-.94-2.06-.94-.94-2.06-.94 2.06-2.06.94zm-11 1L8.5 8.5l.94-2.06 2.06-.94-2.06-.94L8.5 2.5l-.94 2.06-2.06.94zm10 10l.94 2.06.94-2.06 2.06-.94-2.06-.94-.94-2.06-.94 2.06-2.06.94z\"/><path d=\"M17.41 7.96l-1.37-1.37c-.4-.4-.92-.59-1.43-.59-.52 0-1.04.2-1.43.59L10.3 9.45l-7.72 7.72c-.78.78-.78 2.05 0 2.83L4 21.41c.39.39.9.59 1.41.59.51 0 1.02-.2 1.41-.59l7.78-7.78 2.81-2.81c.8-.78.8-2.07 0-2.86zM5.41 20L4 18.59l7.72-7.72 1.47 1.35L5.41 20z\"/>\n",
              "  </svg>\n",
              "      </button>\n",
              "      \n",
              "  <style>\n",
              "    .colab-df-container {\n",
              "      display:flex;\n",
              "      flex-wrap:wrap;\n",
              "      gap: 12px;\n",
              "    }\n",
              "\n",
              "    .colab-df-convert {\n",
              "      background-color: #E8F0FE;\n",
              "      border: none;\n",
              "      border-radius: 50%;\n",
              "      cursor: pointer;\n",
              "      display: none;\n",
              "      fill: #1967D2;\n",
              "      height: 32px;\n",
              "      padding: 0 0 0 0;\n",
              "      width: 32px;\n",
              "    }\n",
              "\n",
              "    .colab-df-convert:hover {\n",
              "      background-color: #E2EBFA;\n",
              "      box-shadow: 0px 1px 2px rgba(60, 64, 67, 0.3), 0px 1px 3px 1px rgba(60, 64, 67, 0.15);\n",
              "      fill: #174EA6;\n",
              "    }\n",
              "\n",
              "    [theme=dark] .colab-df-convert {\n",
              "      background-color: #3B4455;\n",
              "      fill: #D2E3FC;\n",
              "    }\n",
              "\n",
              "    [theme=dark] .colab-df-convert:hover {\n",
              "      background-color: #434B5C;\n",
              "      box-shadow: 0px 1px 3px 1px rgba(0, 0, 0, 0.15);\n",
              "      filter: drop-shadow(0px 1px 2px rgba(0, 0, 0, 0.3));\n",
              "      fill: #FFFFFF;\n",
              "    }\n",
              "  </style>\n",
              "\n",
              "      <script>\n",
              "        const buttonEl =\n",
              "          document.querySelector('#df-9b247f7c-bdc9-4e8f-8bab-d7e00a50ae81 button.colab-df-convert');\n",
              "        buttonEl.style.display =\n",
              "          google.colab.kernel.accessAllowed ? 'block' : 'none';\n",
              "\n",
              "        async function convertToInteractive(key) {\n",
              "          const element = document.querySelector('#df-9b247f7c-bdc9-4e8f-8bab-d7e00a50ae81');\n",
              "          const dataTable =\n",
              "            await google.colab.kernel.invokeFunction('convertToInteractive',\n",
              "                                                     [key], {});\n",
              "          if (!dataTable) return;\n",
              "\n",
              "          const docLinkHtml = 'Like what you see? Visit the ' +\n",
              "            '<a target=\"_blank\" href=https://colab.research.google.com/notebooks/data_table.ipynb>data table notebook</a>'\n",
              "            + ' to learn more about interactive tables.';\n",
              "          element.innerHTML = '';\n",
              "          dataTable['output_type'] = 'display_data';\n",
              "          await google.colab.output.renderOutput(dataTable, element);\n",
              "          const docLink = document.createElement('div');\n",
              "          docLink.innerHTML = docLinkHtml;\n",
              "          element.appendChild(docLink);\n",
              "        }\n",
              "      </script>\n",
              "    </div>\n",
              "  </div>\n",
              "  "
            ]
          },
          "metadata": {},
          "execution_count": 19
        }
      ]
    },
    {
      "cell_type": "code",
      "source": [
        "# Checking missing values\n",
        "course_logs_df.isnull().sum()"
      ],
      "metadata": {
        "colab": {
          "base_uri": "https://localhost:8080/"
        },
        "id": "RNmZxIckwdOj",
        "outputId": "6da604a6-3ea1-4af0-fb3c-90be98dee0b8"
      },
      "execution_count": 20,
      "outputs": [
        {
          "output_type": "execute_result",
          "data": {
            "text/plain": [
              "Week1_Stat0    0\n",
              "Week1_Stat1    0\n",
              "Week1_Stat2    0\n",
              "Week1_Stat3    0\n",
              "Week2_Stat0    0\n",
              "Week2_Stat1    0\n",
              "Week2_Stat2    0\n",
              "Week2_Stat3    0\n",
              "Week3_Stat0    0\n",
              "Week3_Stat1    0\n",
              "Week3_Stat2    0\n",
              "Week3_Stat3    0\n",
              "Week4_Stat0    0\n",
              "Week4_Stat1    0\n",
              "Week4_Stat2    0\n",
              "Week4_Stat3    0\n",
              "Week5_Stat0    0\n",
              "Week5_Stat1    0\n",
              "Week5_Stat2    0\n",
              "Week5_Stat3    0\n",
              "Week6_Stat0    0\n",
              "Week6_Stat1    0\n",
              "Week6_Stat2    0\n",
              "Week6_Stat3    0\n",
              "Week7_Stat0    0\n",
              "Week7_Stat1    0\n",
              "Week7_Stat2    0\n",
              "Week7_Stat3    0\n",
              "Week8_Stat0    0\n",
              "Week8_Stat1    0\n",
              "Week8_Stat2    0\n",
              "Week8_Stat3    0\n",
              "Week9_Stat0    0\n",
              "Week9_Stat1    0\n",
              "Week9_Stat2    0\n",
              "Week9_Stat3    0\n",
              "dtype: int64"
            ]
          },
          "metadata": {},
          "execution_count": 20
        }
      ]
    },
    {
      "cell_type": "markdown",
      "source": [
        "Apparently we don't have missing values so we can proceed."
      ],
      "metadata": {
        "id": "9AD0QSU-xYBP"
      }
    },
    {
      "cell_type": "code",
      "source": [
        "from sklearn.feature_selection import VarianceThreshold"
      ],
      "metadata": {
        "id": "Pw8l7XEIyRF9"
      },
      "execution_count": 21,
      "outputs": []
    },
    {
      "cell_type": "code",
      "source": [
        "# Univariate analysis: removing features with low variance (at least 90% of data points are the same)\n",
        "variance = VarianceThreshold(threshold = (.9 * (1 - .9))) \n",
        "variance.fit(course_logs_df) \n",
        "variance.get_support()"
      ],
      "metadata": {
        "colab": {
          "base_uri": "https://localhost:8080/"
        },
        "id": "JdpQWkG-yo59",
        "outputId": "fe5f12bd-ffaa-458c-d844-7aaafa42f4c9"
      },
      "execution_count": 22,
      "outputs": [
        {
          "output_type": "execute_result",
          "data": {
            "text/plain": [
              "array([ True, False,  True,  True,  True,  True,  True,  True,  True,\n",
              "        True,  True,  True,  True,  True,  True,  True,  True,  True,\n",
              "        True,  True,  True,  True,  True,  True,  True,  True,  True,\n",
              "        True,  True,  True,  True,  True,  True,  True,  True,  True])"
            ]
          },
          "metadata": {},
          "execution_count": 22
        }
      ]
    },
    {
      "cell_type": "markdown",
      "source": [
        "The Variance analysis tell us that just the second column 'Week1_Stat1' has a very low variance i.e., at least 90% of the values in this column are the same. For our dataset that means 96 out of 107 are just the same value. The variance analysis was also run for 80% and 70% and 'Week1_Stat1' was still the only column with low variance showing a clear distinction from other columns."
      ],
      "metadata": {
        "id": "kQiy_hgIzU8D"
      }
    },
    {
      "cell_type": "markdown",
      "source": [
        "Let's first check the values in this column in order to decide whether or not we drop this feature."
      ],
      "metadata": {
        "id": "fzJz4sQCyiB3"
      }
    },
    {
      "cell_type": "code",
      "source": [
        "# Checking values in 'Week1_Stat1'\n",
        "course_logs_df['Week1_Stat1'].value_counts()"
      ],
      "metadata": {
        "colab": {
          "base_uri": "https://localhost:8080/"
        },
        "id": "Zm4u4g4948Y-",
        "outputId": "679898f7-1c8a-4ac3-fc00-4e8cb0f6baae"
      },
      "execution_count": 23,
      "outputs": [
        {
          "output_type": "execute_result",
          "data": {
            "text/plain": [
              "0    107\n",
              "Name: Week1_Stat1, dtype: int64"
            ]
          },
          "metadata": {},
          "execution_count": 23
        }
      ]
    },
    {
      "cell_type": "markdown",
      "source": [
        "With this we conclude that there is not only a low variance in this column, but actually is just a column of zeros.\n",
        "\n",
        "This column won’t help the model to find any patterns so let's remove it."
      ],
      "metadata": {
        "id": "LV15QnS85J9T"
      }
    },
    {
      "cell_type": "code",
      "source": [
        "course_logs_df = course_logs_df.drop(['Week1_Stat1'], axis=1)"
      ],
      "metadata": {
        "id": "NZXCyDYD5Z6Q"
      },
      "execution_count": 24,
      "outputs": []
    },
    {
      "cell_type": "code",
      "source": [
        "course_logs_df.head()"
      ],
      "metadata": {
        "colab": {
          "base_uri": "https://localhost:8080/",
          "height": 299
        },
        "id": "OkUPoZMV6NbZ",
        "outputId": "c04f7f24-9093-4aa7-e194-3e816bfe3bd4"
      },
      "execution_count": 25,
      "outputs": [
        {
          "output_type": "execute_result",
          "data": {
            "text/plain": [
              "   Week1_Stat0  Week1_Stat2  Week1_Stat3  Week2_Stat0  Week2_Stat1  \\\n",
              "0            0            0            0            7           30   \n",
              "1            8            0            0           61           10   \n",
              "2            4            0            0           19           10   \n",
              "3           12            0            1           30           10   \n",
              "4            6            0            0            0            0   \n",
              "\n",
              "   Week2_Stat2  Week2_Stat3  Week3_Stat0  Week3_Stat1  Week3_Stat2  ...  \\\n",
              "0            1            0           30            4            0  ...   \n",
              "1            3            8          100            4            4  ...   \n",
              "2            3            3           25            4            0  ...   \n",
              "3            1            6           79            4            2  ...   \n",
              "4            0            0           27            5            0  ...   \n",
              "\n",
              "   Week7_Stat2  Week7_Stat3  Week8_Stat0  Week8_Stat1  Week8_Stat2  \\\n",
              "0            1            0            5            4            0   \n",
              "1            0            8            5            2            0   \n",
              "2            0            0            8            2            0   \n",
              "3            5            4           10            0            0   \n",
              "4            3            6            8            5            1   \n",
              "\n",
              "   Week8_Stat3  Week9_Stat0  Week9_Stat1  Week9_Stat2  Week9_Stat3  \n",
              "0            4            8            6            1            0  \n",
              "1            0           25            3            2            5  \n",
              "2            0            9            0            1            0  \n",
              "3            0            7            6            0            0  \n",
              "4            1            5            3            1            0  \n",
              "\n",
              "[5 rows x 35 columns]"
            ],
            "text/html": [
              "\n",
              "  <div id=\"df-fe9a5d4d-2c0c-46ef-84ec-0b472ff15a49\">\n",
              "    <div class=\"colab-df-container\">\n",
              "      <div>\n",
              "<style scoped>\n",
              "    .dataframe tbody tr th:only-of-type {\n",
              "        vertical-align: middle;\n",
              "    }\n",
              "\n",
              "    .dataframe tbody tr th {\n",
              "        vertical-align: top;\n",
              "    }\n",
              "\n",
              "    .dataframe thead th {\n",
              "        text-align: right;\n",
              "    }\n",
              "</style>\n",
              "<table border=\"1\" class=\"dataframe\">\n",
              "  <thead>\n",
              "    <tr style=\"text-align: right;\">\n",
              "      <th></th>\n",
              "      <th>Week1_Stat0</th>\n",
              "      <th>Week1_Stat2</th>\n",
              "      <th>Week1_Stat3</th>\n",
              "      <th>Week2_Stat0</th>\n",
              "      <th>Week2_Stat1</th>\n",
              "      <th>Week2_Stat2</th>\n",
              "      <th>Week2_Stat3</th>\n",
              "      <th>Week3_Stat0</th>\n",
              "      <th>Week3_Stat1</th>\n",
              "      <th>Week3_Stat2</th>\n",
              "      <th>...</th>\n",
              "      <th>Week7_Stat2</th>\n",
              "      <th>Week7_Stat3</th>\n",
              "      <th>Week8_Stat0</th>\n",
              "      <th>Week8_Stat1</th>\n",
              "      <th>Week8_Stat2</th>\n",
              "      <th>Week8_Stat3</th>\n",
              "      <th>Week9_Stat0</th>\n",
              "      <th>Week9_Stat1</th>\n",
              "      <th>Week9_Stat2</th>\n",
              "      <th>Week9_Stat3</th>\n",
              "    </tr>\n",
              "  </thead>\n",
              "  <tbody>\n",
              "    <tr>\n",
              "      <th>0</th>\n",
              "      <td>0</td>\n",
              "      <td>0</td>\n",
              "      <td>0</td>\n",
              "      <td>7</td>\n",
              "      <td>30</td>\n",
              "      <td>1</td>\n",
              "      <td>0</td>\n",
              "      <td>30</td>\n",
              "      <td>4</td>\n",
              "      <td>0</td>\n",
              "      <td>...</td>\n",
              "      <td>1</td>\n",
              "      <td>0</td>\n",
              "      <td>5</td>\n",
              "      <td>4</td>\n",
              "      <td>0</td>\n",
              "      <td>4</td>\n",
              "      <td>8</td>\n",
              "      <td>6</td>\n",
              "      <td>1</td>\n",
              "      <td>0</td>\n",
              "    </tr>\n",
              "    <tr>\n",
              "      <th>1</th>\n",
              "      <td>8</td>\n",
              "      <td>0</td>\n",
              "      <td>0</td>\n",
              "      <td>61</td>\n",
              "      <td>10</td>\n",
              "      <td>3</td>\n",
              "      <td>8</td>\n",
              "      <td>100</td>\n",
              "      <td>4</td>\n",
              "      <td>4</td>\n",
              "      <td>...</td>\n",
              "      <td>0</td>\n",
              "      <td>8</td>\n",
              "      <td>5</td>\n",
              "      <td>2</td>\n",
              "      <td>0</td>\n",
              "      <td>0</td>\n",
              "      <td>25</td>\n",
              "      <td>3</td>\n",
              "      <td>2</td>\n",
              "      <td>5</td>\n",
              "    </tr>\n",
              "    <tr>\n",
              "      <th>2</th>\n",
              "      <td>4</td>\n",
              "      <td>0</td>\n",
              "      <td>0</td>\n",
              "      <td>19</td>\n",
              "      <td>10</td>\n",
              "      <td>3</td>\n",
              "      <td>3</td>\n",
              "      <td>25</td>\n",
              "      <td>4</td>\n",
              "      <td>0</td>\n",
              "      <td>...</td>\n",
              "      <td>0</td>\n",
              "      <td>0</td>\n",
              "      <td>8</td>\n",
              "      <td>2</td>\n",
              "      <td>0</td>\n",
              "      <td>0</td>\n",
              "      <td>9</td>\n",
              "      <td>0</td>\n",
              "      <td>1</td>\n",
              "      <td>0</td>\n",
              "    </tr>\n",
              "    <tr>\n",
              "      <th>3</th>\n",
              "      <td>12</td>\n",
              "      <td>0</td>\n",
              "      <td>1</td>\n",
              "      <td>30</td>\n",
              "      <td>10</td>\n",
              "      <td>1</td>\n",
              "      <td>6</td>\n",
              "      <td>79</td>\n",
              "      <td>4</td>\n",
              "      <td>2</td>\n",
              "      <td>...</td>\n",
              "      <td>5</td>\n",
              "      <td>4</td>\n",
              "      <td>10</td>\n",
              "      <td>0</td>\n",
              "      <td>0</td>\n",
              "      <td>0</td>\n",
              "      <td>7</td>\n",
              "      <td>6</td>\n",
              "      <td>0</td>\n",
              "      <td>0</td>\n",
              "    </tr>\n",
              "    <tr>\n",
              "      <th>4</th>\n",
              "      <td>6</td>\n",
              "      <td>0</td>\n",
              "      <td>0</td>\n",
              "      <td>0</td>\n",
              "      <td>0</td>\n",
              "      <td>0</td>\n",
              "      <td>0</td>\n",
              "      <td>27</td>\n",
              "      <td>5</td>\n",
              "      <td>0</td>\n",
              "      <td>...</td>\n",
              "      <td>3</td>\n",
              "      <td>6</td>\n",
              "      <td>8</td>\n",
              "      <td>5</td>\n",
              "      <td>1</td>\n",
              "      <td>1</td>\n",
              "      <td>5</td>\n",
              "      <td>3</td>\n",
              "      <td>1</td>\n",
              "      <td>0</td>\n",
              "    </tr>\n",
              "  </tbody>\n",
              "</table>\n",
              "<p>5 rows × 35 columns</p>\n",
              "</div>\n",
              "      <button class=\"colab-df-convert\" onclick=\"convertToInteractive('df-fe9a5d4d-2c0c-46ef-84ec-0b472ff15a49')\"\n",
              "              title=\"Convert this dataframe to an interactive table.\"\n",
              "              style=\"display:none;\">\n",
              "        \n",
              "  <svg xmlns=\"http://www.w3.org/2000/svg\" height=\"24px\"viewBox=\"0 0 24 24\"\n",
              "       width=\"24px\">\n",
              "    <path d=\"M0 0h24v24H0V0z\" fill=\"none\"/>\n",
              "    <path d=\"M18.56 5.44l.94 2.06.94-2.06 2.06-.94-2.06-.94-.94-2.06-.94 2.06-2.06.94zm-11 1L8.5 8.5l.94-2.06 2.06-.94-2.06-.94L8.5 2.5l-.94 2.06-2.06.94zm10 10l.94 2.06.94-2.06 2.06-.94-2.06-.94-.94-2.06-.94 2.06-2.06.94z\"/><path d=\"M17.41 7.96l-1.37-1.37c-.4-.4-.92-.59-1.43-.59-.52 0-1.04.2-1.43.59L10.3 9.45l-7.72 7.72c-.78.78-.78 2.05 0 2.83L4 21.41c.39.39.9.59 1.41.59.51 0 1.02-.2 1.41-.59l7.78-7.78 2.81-2.81c.8-.78.8-2.07 0-2.86zM5.41 20L4 18.59l7.72-7.72 1.47 1.35L5.41 20z\"/>\n",
              "  </svg>\n",
              "      </button>\n",
              "      \n",
              "  <style>\n",
              "    .colab-df-container {\n",
              "      display:flex;\n",
              "      flex-wrap:wrap;\n",
              "      gap: 12px;\n",
              "    }\n",
              "\n",
              "    .colab-df-convert {\n",
              "      background-color: #E8F0FE;\n",
              "      border: none;\n",
              "      border-radius: 50%;\n",
              "      cursor: pointer;\n",
              "      display: none;\n",
              "      fill: #1967D2;\n",
              "      height: 32px;\n",
              "      padding: 0 0 0 0;\n",
              "      width: 32px;\n",
              "    }\n",
              "\n",
              "    .colab-df-convert:hover {\n",
              "      background-color: #E2EBFA;\n",
              "      box-shadow: 0px 1px 2px rgba(60, 64, 67, 0.3), 0px 1px 3px 1px rgba(60, 64, 67, 0.15);\n",
              "      fill: #174EA6;\n",
              "    }\n",
              "\n",
              "    [theme=dark] .colab-df-convert {\n",
              "      background-color: #3B4455;\n",
              "      fill: #D2E3FC;\n",
              "    }\n",
              "\n",
              "    [theme=dark] .colab-df-convert:hover {\n",
              "      background-color: #434B5C;\n",
              "      box-shadow: 0px 1px 3px 1px rgba(0, 0, 0, 0.15);\n",
              "      filter: drop-shadow(0px 1px 2px rgba(0, 0, 0, 0.3));\n",
              "      fill: #FFFFFF;\n",
              "    }\n",
              "  </style>\n",
              "\n",
              "      <script>\n",
              "        const buttonEl =\n",
              "          document.querySelector('#df-fe9a5d4d-2c0c-46ef-84ec-0b472ff15a49 button.colab-df-convert');\n",
              "        buttonEl.style.display =\n",
              "          google.colab.kernel.accessAllowed ? 'block' : 'none';\n",
              "\n",
              "        async function convertToInteractive(key) {\n",
              "          const element = document.querySelector('#df-fe9a5d4d-2c0c-46ef-84ec-0b472ff15a49');\n",
              "          const dataTable =\n",
              "            await google.colab.kernel.invokeFunction('convertToInteractive',\n",
              "                                                     [key], {});\n",
              "          if (!dataTable) return;\n",
              "\n",
              "          const docLinkHtml = 'Like what you see? Visit the ' +\n",
              "            '<a target=\"_blank\" href=https://colab.research.google.com/notebooks/data_table.ipynb>data table notebook</a>'\n",
              "            + ' to learn more about interactive tables.';\n",
              "          element.innerHTML = '';\n",
              "          dataTable['output_type'] = 'display_data';\n",
              "          await google.colab.output.renderOutput(dataTable, element);\n",
              "          const docLink = document.createElement('div');\n",
              "          docLink.innerHTML = docLinkHtml;\n",
              "          element.appendChild(docLink);\n",
              "        }\n",
              "      </script>\n",
              "    </div>\n",
              "  </div>\n",
              "  "
            ]
          },
          "metadata": {},
          "execution_count": 25
        }
      ]
    },
    {
      "cell_type": "markdown",
      "source": [
        "We don't consider more strategies to directly remove current features given that we want to keep certain balance between weeks and stats. Let's then continue with our 3 proposed approaches:\n",
        "* Group by week\n",
        "* Group by stat\n",
        "* Keep all logs features"
      ],
      "metadata": {
        "id": "KKP9Ekrh7jB_"
      }
    },
    {
      "cell_type": "markdown",
      "source": [
        "##### Dataframe grouped by week"
      ],
      "metadata": {
        "id": "H4PRUjdOREFi"
      }
    },
    {
      "cell_type": "code",
      "source": [
        "course_logs_df['week_1_logs_agg'] = course_logs_df.Week1_Stat0 + course_logs_df.Week1_Stat2 + course_logs_df.Week1_Stat3\n",
        "course_logs_df['week_2_logs_agg'] = course_logs_df.Week2_Stat0 + course_logs_df.Week2_Stat1 + course_logs_df.Week2_Stat2 + course_logs_df.Week2_Stat3\n",
        "course_logs_df['week_3_logs_agg'] = course_logs_df.Week3_Stat0 + course_logs_df.Week3_Stat1 + course_logs_df.Week3_Stat2 + course_logs_df.Week3_Stat3\n",
        "course_logs_df['week_4_logs_agg'] = course_logs_df.Week4_Stat0 + course_logs_df.Week4_Stat1 + course_logs_df.Week4_Stat2 + course_logs_df.Week4_Stat3\n",
        "course_logs_df['week_5_logs_agg'] = course_logs_df.Week5_Stat0 + course_logs_df.Week5_Stat1 + course_logs_df.Week5_Stat2 + course_logs_df.Week5_Stat3\n",
        "course_logs_df['week_6_logs_agg'] = course_logs_df.Week6_Stat0 + course_logs_df.Week6_Stat1 + course_logs_df.Week6_Stat2 + course_logs_df.Week6_Stat3\n",
        "course_logs_df['week_7_logs_agg'] = course_logs_df.Week7_Stat0 + course_logs_df.Week7_Stat1 + course_logs_df.Week7_Stat2 + course_logs_df.Week7_Stat3\n",
        "course_logs_df['week_8_logs_agg'] = course_logs_df.Week8_Stat0 + course_logs_df.Week8_Stat1 + course_logs_df.Week8_Stat2 + course_logs_df.Week8_Stat3\n",
        "course_logs_df['week_9_logs_agg'] = course_logs_df.Week9_Stat0 + course_logs_df.Week9_Stat1 + course_logs_df.Week9_Stat2 + course_logs_df.Week9_Stat3\n",
        "course_logs_df.head()"
      ],
      "metadata": {
        "colab": {
          "base_uri": "https://localhost:8080/",
          "height": 299
        },
        "id": "JQQG4yDf-EvH",
        "outputId": "eea66829-0209-48b2-9f66-6eaeb9977a95"
      },
      "execution_count": 26,
      "outputs": [
        {
          "output_type": "execute_result",
          "data": {
            "text/plain": [
              "   Week1_Stat0  Week1_Stat2  Week1_Stat3  Week2_Stat0  Week2_Stat1  \\\n",
              "0            0            0            0            7           30   \n",
              "1            8            0            0           61           10   \n",
              "2            4            0            0           19           10   \n",
              "3           12            0            1           30           10   \n",
              "4            6            0            0            0            0   \n",
              "\n",
              "   Week2_Stat2  Week2_Stat3  Week3_Stat0  Week3_Stat1  Week3_Stat2  ...  \\\n",
              "0            1            0           30            4            0  ...   \n",
              "1            3            8          100            4            4  ...   \n",
              "2            3            3           25            4            0  ...   \n",
              "3            1            6           79            4            2  ...   \n",
              "4            0            0           27            5            0  ...   \n",
              "\n",
              "   Week9_Stat3  week_1_logs_agg  week_2_logs_agg  week_3_logs_agg  \\\n",
              "0            0                0               38               34   \n",
              "1            5                8               82              111   \n",
              "2            0                4               35               31   \n",
              "3            0               13               47               87   \n",
              "4            0                6                0               32   \n",
              "\n",
              "   week_4_logs_agg  week_5_logs_agg  week_6_logs_agg  week_7_logs_agg  \\\n",
              "0               55               31               60                3   \n",
              "1              151               77               85               48   \n",
              "2               73               36               36               16   \n",
              "3              270               55              122               42   \n",
              "4               22               52               43               56   \n",
              "\n",
              "   week_8_logs_agg  week_9_logs_agg  \n",
              "0               13               15  \n",
              "1                7               35  \n",
              "2               10               10  \n",
              "3               10               13  \n",
              "4               15                9  \n",
              "\n",
              "[5 rows x 44 columns]"
            ],
            "text/html": [
              "\n",
              "  <div id=\"df-29440b91-8f06-472e-957b-361b2b6be75f\">\n",
              "    <div class=\"colab-df-container\">\n",
              "      <div>\n",
              "<style scoped>\n",
              "    .dataframe tbody tr th:only-of-type {\n",
              "        vertical-align: middle;\n",
              "    }\n",
              "\n",
              "    .dataframe tbody tr th {\n",
              "        vertical-align: top;\n",
              "    }\n",
              "\n",
              "    .dataframe thead th {\n",
              "        text-align: right;\n",
              "    }\n",
              "</style>\n",
              "<table border=\"1\" class=\"dataframe\">\n",
              "  <thead>\n",
              "    <tr style=\"text-align: right;\">\n",
              "      <th></th>\n",
              "      <th>Week1_Stat0</th>\n",
              "      <th>Week1_Stat2</th>\n",
              "      <th>Week1_Stat3</th>\n",
              "      <th>Week2_Stat0</th>\n",
              "      <th>Week2_Stat1</th>\n",
              "      <th>Week2_Stat2</th>\n",
              "      <th>Week2_Stat3</th>\n",
              "      <th>Week3_Stat0</th>\n",
              "      <th>Week3_Stat1</th>\n",
              "      <th>Week3_Stat2</th>\n",
              "      <th>...</th>\n",
              "      <th>Week9_Stat3</th>\n",
              "      <th>week_1_logs_agg</th>\n",
              "      <th>week_2_logs_agg</th>\n",
              "      <th>week_3_logs_agg</th>\n",
              "      <th>week_4_logs_agg</th>\n",
              "      <th>week_5_logs_agg</th>\n",
              "      <th>week_6_logs_agg</th>\n",
              "      <th>week_7_logs_agg</th>\n",
              "      <th>week_8_logs_agg</th>\n",
              "      <th>week_9_logs_agg</th>\n",
              "    </tr>\n",
              "  </thead>\n",
              "  <tbody>\n",
              "    <tr>\n",
              "      <th>0</th>\n",
              "      <td>0</td>\n",
              "      <td>0</td>\n",
              "      <td>0</td>\n",
              "      <td>7</td>\n",
              "      <td>30</td>\n",
              "      <td>1</td>\n",
              "      <td>0</td>\n",
              "      <td>30</td>\n",
              "      <td>4</td>\n",
              "      <td>0</td>\n",
              "      <td>...</td>\n",
              "      <td>0</td>\n",
              "      <td>0</td>\n",
              "      <td>38</td>\n",
              "      <td>34</td>\n",
              "      <td>55</td>\n",
              "      <td>31</td>\n",
              "      <td>60</td>\n",
              "      <td>3</td>\n",
              "      <td>13</td>\n",
              "      <td>15</td>\n",
              "    </tr>\n",
              "    <tr>\n",
              "      <th>1</th>\n",
              "      <td>8</td>\n",
              "      <td>0</td>\n",
              "      <td>0</td>\n",
              "      <td>61</td>\n",
              "      <td>10</td>\n",
              "      <td>3</td>\n",
              "      <td>8</td>\n",
              "      <td>100</td>\n",
              "      <td>4</td>\n",
              "      <td>4</td>\n",
              "      <td>...</td>\n",
              "      <td>5</td>\n",
              "      <td>8</td>\n",
              "      <td>82</td>\n",
              "      <td>111</td>\n",
              "      <td>151</td>\n",
              "      <td>77</td>\n",
              "      <td>85</td>\n",
              "      <td>48</td>\n",
              "      <td>7</td>\n",
              "      <td>35</td>\n",
              "    </tr>\n",
              "    <tr>\n",
              "      <th>2</th>\n",
              "      <td>4</td>\n",
              "      <td>0</td>\n",
              "      <td>0</td>\n",
              "      <td>19</td>\n",
              "      <td>10</td>\n",
              "      <td>3</td>\n",
              "      <td>3</td>\n",
              "      <td>25</td>\n",
              "      <td>4</td>\n",
              "      <td>0</td>\n",
              "      <td>...</td>\n",
              "      <td>0</td>\n",
              "      <td>4</td>\n",
              "      <td>35</td>\n",
              "      <td>31</td>\n",
              "      <td>73</td>\n",
              "      <td>36</td>\n",
              "      <td>36</td>\n",
              "      <td>16</td>\n",
              "      <td>10</td>\n",
              "      <td>10</td>\n",
              "    </tr>\n",
              "    <tr>\n",
              "      <th>3</th>\n",
              "      <td>12</td>\n",
              "      <td>0</td>\n",
              "      <td>1</td>\n",
              "      <td>30</td>\n",
              "      <td>10</td>\n",
              "      <td>1</td>\n",
              "      <td>6</td>\n",
              "      <td>79</td>\n",
              "      <td>4</td>\n",
              "      <td>2</td>\n",
              "      <td>...</td>\n",
              "      <td>0</td>\n",
              "      <td>13</td>\n",
              "      <td>47</td>\n",
              "      <td>87</td>\n",
              "      <td>270</td>\n",
              "      <td>55</td>\n",
              "      <td>122</td>\n",
              "      <td>42</td>\n",
              "      <td>10</td>\n",
              "      <td>13</td>\n",
              "    </tr>\n",
              "    <tr>\n",
              "      <th>4</th>\n",
              "      <td>6</td>\n",
              "      <td>0</td>\n",
              "      <td>0</td>\n",
              "      <td>0</td>\n",
              "      <td>0</td>\n",
              "      <td>0</td>\n",
              "      <td>0</td>\n",
              "      <td>27</td>\n",
              "      <td>5</td>\n",
              "      <td>0</td>\n",
              "      <td>...</td>\n",
              "      <td>0</td>\n",
              "      <td>6</td>\n",
              "      <td>0</td>\n",
              "      <td>32</td>\n",
              "      <td>22</td>\n",
              "      <td>52</td>\n",
              "      <td>43</td>\n",
              "      <td>56</td>\n",
              "      <td>15</td>\n",
              "      <td>9</td>\n",
              "    </tr>\n",
              "  </tbody>\n",
              "</table>\n",
              "<p>5 rows × 44 columns</p>\n",
              "</div>\n",
              "      <button class=\"colab-df-convert\" onclick=\"convertToInteractive('df-29440b91-8f06-472e-957b-361b2b6be75f')\"\n",
              "              title=\"Convert this dataframe to an interactive table.\"\n",
              "              style=\"display:none;\">\n",
              "        \n",
              "  <svg xmlns=\"http://www.w3.org/2000/svg\" height=\"24px\"viewBox=\"0 0 24 24\"\n",
              "       width=\"24px\">\n",
              "    <path d=\"M0 0h24v24H0V0z\" fill=\"none\"/>\n",
              "    <path d=\"M18.56 5.44l.94 2.06.94-2.06 2.06-.94-2.06-.94-.94-2.06-.94 2.06-2.06.94zm-11 1L8.5 8.5l.94-2.06 2.06-.94-2.06-.94L8.5 2.5l-.94 2.06-2.06.94zm10 10l.94 2.06.94-2.06 2.06-.94-2.06-.94-.94-2.06-.94 2.06-2.06.94z\"/><path d=\"M17.41 7.96l-1.37-1.37c-.4-.4-.92-.59-1.43-.59-.52 0-1.04.2-1.43.59L10.3 9.45l-7.72 7.72c-.78.78-.78 2.05 0 2.83L4 21.41c.39.39.9.59 1.41.59.51 0 1.02-.2 1.41-.59l7.78-7.78 2.81-2.81c.8-.78.8-2.07 0-2.86zM5.41 20L4 18.59l7.72-7.72 1.47 1.35L5.41 20z\"/>\n",
              "  </svg>\n",
              "      </button>\n",
              "      \n",
              "  <style>\n",
              "    .colab-df-container {\n",
              "      display:flex;\n",
              "      flex-wrap:wrap;\n",
              "      gap: 12px;\n",
              "    }\n",
              "\n",
              "    .colab-df-convert {\n",
              "      background-color: #E8F0FE;\n",
              "      border: none;\n",
              "      border-radius: 50%;\n",
              "      cursor: pointer;\n",
              "      display: none;\n",
              "      fill: #1967D2;\n",
              "      height: 32px;\n",
              "      padding: 0 0 0 0;\n",
              "      width: 32px;\n",
              "    }\n",
              "\n",
              "    .colab-df-convert:hover {\n",
              "      background-color: #E2EBFA;\n",
              "      box-shadow: 0px 1px 2px rgba(60, 64, 67, 0.3), 0px 1px 3px 1px rgba(60, 64, 67, 0.15);\n",
              "      fill: #174EA6;\n",
              "    }\n",
              "\n",
              "    [theme=dark] .colab-df-convert {\n",
              "      background-color: #3B4455;\n",
              "      fill: #D2E3FC;\n",
              "    }\n",
              "\n",
              "    [theme=dark] .colab-df-convert:hover {\n",
              "      background-color: #434B5C;\n",
              "      box-shadow: 0px 1px 3px 1px rgba(0, 0, 0, 0.15);\n",
              "      filter: drop-shadow(0px 1px 2px rgba(0, 0, 0, 0.3));\n",
              "      fill: #FFFFFF;\n",
              "    }\n",
              "  </style>\n",
              "\n",
              "      <script>\n",
              "        const buttonEl =\n",
              "          document.querySelector('#df-29440b91-8f06-472e-957b-361b2b6be75f button.colab-df-convert');\n",
              "        buttonEl.style.display =\n",
              "          google.colab.kernel.accessAllowed ? 'block' : 'none';\n",
              "\n",
              "        async function convertToInteractive(key) {\n",
              "          const element = document.querySelector('#df-29440b91-8f06-472e-957b-361b2b6be75f');\n",
              "          const dataTable =\n",
              "            await google.colab.kernel.invokeFunction('convertToInteractive',\n",
              "                                                     [key], {});\n",
              "          if (!dataTable) return;\n",
              "\n",
              "          const docLinkHtml = 'Like what you see? Visit the ' +\n",
              "            '<a target=\"_blank\" href=https://colab.research.google.com/notebooks/data_table.ipynb>data table notebook</a>'\n",
              "            + ' to learn more about interactive tables.';\n",
              "          element.innerHTML = '';\n",
              "          dataTable['output_type'] = 'display_data';\n",
              "          await google.colab.output.renderOutput(dataTable, element);\n",
              "          const docLink = document.createElement('div');\n",
              "          docLink.innerHTML = docLinkHtml;\n",
              "          element.appendChild(docLink);\n",
              "        }\n",
              "      </script>\n",
              "    </div>\n",
              "  </div>\n",
              "  "
            ]
          },
          "metadata": {},
          "execution_count": 26
        }
      ]
    },
    {
      "cell_type": "code",
      "source": [
        "print(course_logs_df.columns.str.contains('Stat'))"
      ],
      "metadata": {
        "colab": {
          "base_uri": "https://localhost:8080/"
        },
        "id": "_JCpGNrvCIvP",
        "outputId": "44b02577-0788-46a7-c811-f65321610973"
      },
      "execution_count": 27,
      "outputs": [
        {
          "output_type": "stream",
          "name": "stdout",
          "text": [
            "[ True  True  True  True  True  True  True  True  True  True  True  True\n",
            "  True  True  True  True  True  True  True  True  True  True  True  True\n",
            "  True  True  True  True  True  True  True  True  True  True  True False\n",
            " False False False False False False False False]\n"
          ]
        }
      ]
    },
    {
      "cell_type": "code",
      "source": [
        "# Remove non-aggregate columns\n",
        "weeks_agg_df = course_logs_df.drop(course_logs_df.columns[course_logs_df.columns.str.contains('Stat')], axis=1)"
      ],
      "metadata": {
        "id": "MFRKS4V3DWfL"
      },
      "execution_count": 28,
      "outputs": []
    },
    {
      "cell_type": "code",
      "source": [
        "weeks_agg_df.head()"
      ],
      "metadata": {
        "colab": {
          "base_uri": "https://localhost:8080/",
          "height": 206
        },
        "id": "OTl9KOJrDZc4",
        "outputId": "b24acd64-4d26-4774-e059-bb8b9e24d564"
      },
      "execution_count": 29,
      "outputs": [
        {
          "output_type": "execute_result",
          "data": {
            "text/plain": [
              "   week_1_logs_agg  week_2_logs_agg  week_3_logs_agg  week_4_logs_agg  \\\n",
              "0                0               38               34               55   \n",
              "1                8               82              111              151   \n",
              "2                4               35               31               73   \n",
              "3               13               47               87              270   \n",
              "4                6                0               32               22   \n",
              "\n",
              "   week_5_logs_agg  week_6_logs_agg  week_7_logs_agg  week_8_logs_agg  \\\n",
              "0               31               60                3               13   \n",
              "1               77               85               48                7   \n",
              "2               36               36               16               10   \n",
              "3               55              122               42               10   \n",
              "4               52               43               56               15   \n",
              "\n",
              "   week_9_logs_agg  \n",
              "0               15  \n",
              "1               35  \n",
              "2               10  \n",
              "3               13  \n",
              "4                9  "
            ],
            "text/html": [
              "\n",
              "  <div id=\"df-890e4137-34f8-4d08-9322-a8cbf8fbed61\">\n",
              "    <div class=\"colab-df-container\">\n",
              "      <div>\n",
              "<style scoped>\n",
              "    .dataframe tbody tr th:only-of-type {\n",
              "        vertical-align: middle;\n",
              "    }\n",
              "\n",
              "    .dataframe tbody tr th {\n",
              "        vertical-align: top;\n",
              "    }\n",
              "\n",
              "    .dataframe thead th {\n",
              "        text-align: right;\n",
              "    }\n",
              "</style>\n",
              "<table border=\"1\" class=\"dataframe\">\n",
              "  <thead>\n",
              "    <tr style=\"text-align: right;\">\n",
              "      <th></th>\n",
              "      <th>week_1_logs_agg</th>\n",
              "      <th>week_2_logs_agg</th>\n",
              "      <th>week_3_logs_agg</th>\n",
              "      <th>week_4_logs_agg</th>\n",
              "      <th>week_5_logs_agg</th>\n",
              "      <th>week_6_logs_agg</th>\n",
              "      <th>week_7_logs_agg</th>\n",
              "      <th>week_8_logs_agg</th>\n",
              "      <th>week_9_logs_agg</th>\n",
              "    </tr>\n",
              "  </thead>\n",
              "  <tbody>\n",
              "    <tr>\n",
              "      <th>0</th>\n",
              "      <td>0</td>\n",
              "      <td>38</td>\n",
              "      <td>34</td>\n",
              "      <td>55</td>\n",
              "      <td>31</td>\n",
              "      <td>60</td>\n",
              "      <td>3</td>\n",
              "      <td>13</td>\n",
              "      <td>15</td>\n",
              "    </tr>\n",
              "    <tr>\n",
              "      <th>1</th>\n",
              "      <td>8</td>\n",
              "      <td>82</td>\n",
              "      <td>111</td>\n",
              "      <td>151</td>\n",
              "      <td>77</td>\n",
              "      <td>85</td>\n",
              "      <td>48</td>\n",
              "      <td>7</td>\n",
              "      <td>35</td>\n",
              "    </tr>\n",
              "    <tr>\n",
              "      <th>2</th>\n",
              "      <td>4</td>\n",
              "      <td>35</td>\n",
              "      <td>31</td>\n",
              "      <td>73</td>\n",
              "      <td>36</td>\n",
              "      <td>36</td>\n",
              "      <td>16</td>\n",
              "      <td>10</td>\n",
              "      <td>10</td>\n",
              "    </tr>\n",
              "    <tr>\n",
              "      <th>3</th>\n",
              "      <td>13</td>\n",
              "      <td>47</td>\n",
              "      <td>87</td>\n",
              "      <td>270</td>\n",
              "      <td>55</td>\n",
              "      <td>122</td>\n",
              "      <td>42</td>\n",
              "      <td>10</td>\n",
              "      <td>13</td>\n",
              "    </tr>\n",
              "    <tr>\n",
              "      <th>4</th>\n",
              "      <td>6</td>\n",
              "      <td>0</td>\n",
              "      <td>32</td>\n",
              "      <td>22</td>\n",
              "      <td>52</td>\n",
              "      <td>43</td>\n",
              "      <td>56</td>\n",
              "      <td>15</td>\n",
              "      <td>9</td>\n",
              "    </tr>\n",
              "  </tbody>\n",
              "</table>\n",
              "</div>\n",
              "      <button class=\"colab-df-convert\" onclick=\"convertToInteractive('df-890e4137-34f8-4d08-9322-a8cbf8fbed61')\"\n",
              "              title=\"Convert this dataframe to an interactive table.\"\n",
              "              style=\"display:none;\">\n",
              "        \n",
              "  <svg xmlns=\"http://www.w3.org/2000/svg\" height=\"24px\"viewBox=\"0 0 24 24\"\n",
              "       width=\"24px\">\n",
              "    <path d=\"M0 0h24v24H0V0z\" fill=\"none\"/>\n",
              "    <path d=\"M18.56 5.44l.94 2.06.94-2.06 2.06-.94-2.06-.94-.94-2.06-.94 2.06-2.06.94zm-11 1L8.5 8.5l.94-2.06 2.06-.94-2.06-.94L8.5 2.5l-.94 2.06-2.06.94zm10 10l.94 2.06.94-2.06 2.06-.94-2.06-.94-.94-2.06-.94 2.06-2.06.94z\"/><path d=\"M17.41 7.96l-1.37-1.37c-.4-.4-.92-.59-1.43-.59-.52 0-1.04.2-1.43.59L10.3 9.45l-7.72 7.72c-.78.78-.78 2.05 0 2.83L4 21.41c.39.39.9.59 1.41.59.51 0 1.02-.2 1.41-.59l7.78-7.78 2.81-2.81c.8-.78.8-2.07 0-2.86zM5.41 20L4 18.59l7.72-7.72 1.47 1.35L5.41 20z\"/>\n",
              "  </svg>\n",
              "      </button>\n",
              "      \n",
              "  <style>\n",
              "    .colab-df-container {\n",
              "      display:flex;\n",
              "      flex-wrap:wrap;\n",
              "      gap: 12px;\n",
              "    }\n",
              "\n",
              "    .colab-df-convert {\n",
              "      background-color: #E8F0FE;\n",
              "      border: none;\n",
              "      border-radius: 50%;\n",
              "      cursor: pointer;\n",
              "      display: none;\n",
              "      fill: #1967D2;\n",
              "      height: 32px;\n",
              "      padding: 0 0 0 0;\n",
              "      width: 32px;\n",
              "    }\n",
              "\n",
              "    .colab-df-convert:hover {\n",
              "      background-color: #E2EBFA;\n",
              "      box-shadow: 0px 1px 2px rgba(60, 64, 67, 0.3), 0px 1px 3px 1px rgba(60, 64, 67, 0.15);\n",
              "      fill: #174EA6;\n",
              "    }\n",
              "\n",
              "    [theme=dark] .colab-df-convert {\n",
              "      background-color: #3B4455;\n",
              "      fill: #D2E3FC;\n",
              "    }\n",
              "\n",
              "    [theme=dark] .colab-df-convert:hover {\n",
              "      background-color: #434B5C;\n",
              "      box-shadow: 0px 1px 3px 1px rgba(0, 0, 0, 0.15);\n",
              "      filter: drop-shadow(0px 1px 2px rgba(0, 0, 0, 0.3));\n",
              "      fill: #FFFFFF;\n",
              "    }\n",
              "  </style>\n",
              "\n",
              "      <script>\n",
              "        const buttonEl =\n",
              "          document.querySelector('#df-890e4137-34f8-4d08-9322-a8cbf8fbed61 button.colab-df-convert');\n",
              "        buttonEl.style.display =\n",
              "          google.colab.kernel.accessAllowed ? 'block' : 'none';\n",
              "\n",
              "        async function convertToInteractive(key) {\n",
              "          const element = document.querySelector('#df-890e4137-34f8-4d08-9322-a8cbf8fbed61');\n",
              "          const dataTable =\n",
              "            await google.colab.kernel.invokeFunction('convertToInteractive',\n",
              "                                                     [key], {});\n",
              "          if (!dataTable) return;\n",
              "\n",
              "          const docLinkHtml = 'Like what you see? Visit the ' +\n",
              "            '<a target=\"_blank\" href=https://colab.research.google.com/notebooks/data_table.ipynb>data table notebook</a>'\n",
              "            + ' to learn more about interactive tables.';\n",
              "          element.innerHTML = '';\n",
              "          dataTable['output_type'] = 'display_data';\n",
              "          await google.colab.output.renderOutput(dataTable, element);\n",
              "          const docLink = document.createElement('div');\n",
              "          docLink.innerHTML = docLinkHtml;\n",
              "          element.appendChild(docLink);\n",
              "        }\n",
              "      </script>\n",
              "    </div>\n",
              "  </div>\n",
              "  "
            ]
          },
          "metadata": {},
          "execution_count": 29
        }
      ]
    },
    {
      "cell_type": "code",
      "source": [
        "weeks_agg_df.shape"
      ],
      "metadata": {
        "colab": {
          "base_uri": "https://localhost:8080/"
        },
        "id": "3H1DCnn8DpEu",
        "outputId": "c9fb62c3-f99c-4070-c885-d4c875ccd359"
      },
      "execution_count": 30,
      "outputs": [
        {
          "output_type": "execute_result",
          "data": {
            "text/plain": [
              "(107, 9)"
            ]
          },
          "metadata": {},
          "execution_count": 30
        }
      ]
    },
    {
      "cell_type": "markdown",
      "source": [
        "We now have 9 columns which allows a more clear analysis of the features available and also simplifies model training in a way that could help produce more accurate results."
      ],
      "metadata": {
        "id": "VLKgs5dzDrNO"
      }
    },
    {
      "cell_type": "markdown",
      "source": [
        "##### Dataframe grouped by stat"
      ],
      "metadata": {
        "id": "HOJUKOjvRAW8"
      }
    },
    {
      "cell_type": "code",
      "source": [
        "# Droping non-stat columns from original dataset\n",
        "stats_agg_df = students_df.drop(students_df.columns[~students_df.columns.str.contains('Stat')], axis=1)\n",
        "stats_agg_df.head()"
      ],
      "metadata": {
        "colab": {
          "base_uri": "https://localhost:8080/",
          "height": 299
        },
        "id": "MRy-yAP8QksY",
        "outputId": "51915d86-78ce-4ba4-dc27-32cf0124cb86"
      },
      "execution_count": 31,
      "outputs": [
        {
          "output_type": "execute_result",
          "data": {
            "text/plain": [
              "   Week1_Stat0  Week1_Stat1  Week1_Stat2  Week1_Stat3  Week2_Stat0  \\\n",
              "0            0            0            0            0            7   \n",
              "1            8            0            0            0           61   \n",
              "2            4            0            0            0           19   \n",
              "3           12            0            0            1           30   \n",
              "4            6            0            0            0            0   \n",
              "\n",
              "   Week2_Stat1  Week2_Stat2  Week2_Stat3  Week3_Stat0  Week3_Stat1  ...  \\\n",
              "0           30            1            0           30            4  ...   \n",
              "1           10            3            8          100            4  ...   \n",
              "2           10            3            3           25            4  ...   \n",
              "3           10            1            6           79            4  ...   \n",
              "4            0            0            0           27            5  ...   \n",
              "\n",
              "   Week7_Stat2  Week7_Stat3  Week8_Stat0  Week8_Stat1  Week8_Stat2  \\\n",
              "0            1            0            5            4            0   \n",
              "1            0            8            5            2            0   \n",
              "2            0            0            8            2            0   \n",
              "3            5            4           10            0            0   \n",
              "4            3            6            8            5            1   \n",
              "\n",
              "   Week8_Stat3  Week9_Stat0  Week9_Stat1  Week9_Stat2  Week9_Stat3  \n",
              "0            4            8            6            1            0  \n",
              "1            0           25            3            2            5  \n",
              "2            0            9            0            1            0  \n",
              "3            0            7            6            0            0  \n",
              "4            1            5            3            1            0  \n",
              "\n",
              "[5 rows x 36 columns]"
            ],
            "text/html": [
              "\n",
              "  <div id=\"df-eb6e208e-f858-4f0d-a705-3b296e828330\">\n",
              "    <div class=\"colab-df-container\">\n",
              "      <div>\n",
              "<style scoped>\n",
              "    .dataframe tbody tr th:only-of-type {\n",
              "        vertical-align: middle;\n",
              "    }\n",
              "\n",
              "    .dataframe tbody tr th {\n",
              "        vertical-align: top;\n",
              "    }\n",
              "\n",
              "    .dataframe thead th {\n",
              "        text-align: right;\n",
              "    }\n",
              "</style>\n",
              "<table border=\"1\" class=\"dataframe\">\n",
              "  <thead>\n",
              "    <tr style=\"text-align: right;\">\n",
              "      <th></th>\n",
              "      <th>Week1_Stat0</th>\n",
              "      <th>Week1_Stat1</th>\n",
              "      <th>Week1_Stat2</th>\n",
              "      <th>Week1_Stat3</th>\n",
              "      <th>Week2_Stat0</th>\n",
              "      <th>Week2_Stat1</th>\n",
              "      <th>Week2_Stat2</th>\n",
              "      <th>Week2_Stat3</th>\n",
              "      <th>Week3_Stat0</th>\n",
              "      <th>Week3_Stat1</th>\n",
              "      <th>...</th>\n",
              "      <th>Week7_Stat2</th>\n",
              "      <th>Week7_Stat3</th>\n",
              "      <th>Week8_Stat0</th>\n",
              "      <th>Week8_Stat1</th>\n",
              "      <th>Week8_Stat2</th>\n",
              "      <th>Week8_Stat3</th>\n",
              "      <th>Week9_Stat0</th>\n",
              "      <th>Week9_Stat1</th>\n",
              "      <th>Week9_Stat2</th>\n",
              "      <th>Week9_Stat3</th>\n",
              "    </tr>\n",
              "  </thead>\n",
              "  <tbody>\n",
              "    <tr>\n",
              "      <th>0</th>\n",
              "      <td>0</td>\n",
              "      <td>0</td>\n",
              "      <td>0</td>\n",
              "      <td>0</td>\n",
              "      <td>7</td>\n",
              "      <td>30</td>\n",
              "      <td>1</td>\n",
              "      <td>0</td>\n",
              "      <td>30</td>\n",
              "      <td>4</td>\n",
              "      <td>...</td>\n",
              "      <td>1</td>\n",
              "      <td>0</td>\n",
              "      <td>5</td>\n",
              "      <td>4</td>\n",
              "      <td>0</td>\n",
              "      <td>4</td>\n",
              "      <td>8</td>\n",
              "      <td>6</td>\n",
              "      <td>1</td>\n",
              "      <td>0</td>\n",
              "    </tr>\n",
              "    <tr>\n",
              "      <th>1</th>\n",
              "      <td>8</td>\n",
              "      <td>0</td>\n",
              "      <td>0</td>\n",
              "      <td>0</td>\n",
              "      <td>61</td>\n",
              "      <td>10</td>\n",
              "      <td>3</td>\n",
              "      <td>8</td>\n",
              "      <td>100</td>\n",
              "      <td>4</td>\n",
              "      <td>...</td>\n",
              "      <td>0</td>\n",
              "      <td>8</td>\n",
              "      <td>5</td>\n",
              "      <td>2</td>\n",
              "      <td>0</td>\n",
              "      <td>0</td>\n",
              "      <td>25</td>\n",
              "      <td>3</td>\n",
              "      <td>2</td>\n",
              "      <td>5</td>\n",
              "    </tr>\n",
              "    <tr>\n",
              "      <th>2</th>\n",
              "      <td>4</td>\n",
              "      <td>0</td>\n",
              "      <td>0</td>\n",
              "      <td>0</td>\n",
              "      <td>19</td>\n",
              "      <td>10</td>\n",
              "      <td>3</td>\n",
              "      <td>3</td>\n",
              "      <td>25</td>\n",
              "      <td>4</td>\n",
              "      <td>...</td>\n",
              "      <td>0</td>\n",
              "      <td>0</td>\n",
              "      <td>8</td>\n",
              "      <td>2</td>\n",
              "      <td>0</td>\n",
              "      <td>0</td>\n",
              "      <td>9</td>\n",
              "      <td>0</td>\n",
              "      <td>1</td>\n",
              "      <td>0</td>\n",
              "    </tr>\n",
              "    <tr>\n",
              "      <th>3</th>\n",
              "      <td>12</td>\n",
              "      <td>0</td>\n",
              "      <td>0</td>\n",
              "      <td>1</td>\n",
              "      <td>30</td>\n",
              "      <td>10</td>\n",
              "      <td>1</td>\n",
              "      <td>6</td>\n",
              "      <td>79</td>\n",
              "      <td>4</td>\n",
              "      <td>...</td>\n",
              "      <td>5</td>\n",
              "      <td>4</td>\n",
              "      <td>10</td>\n",
              "      <td>0</td>\n",
              "      <td>0</td>\n",
              "      <td>0</td>\n",
              "      <td>7</td>\n",
              "      <td>6</td>\n",
              "      <td>0</td>\n",
              "      <td>0</td>\n",
              "    </tr>\n",
              "    <tr>\n",
              "      <th>4</th>\n",
              "      <td>6</td>\n",
              "      <td>0</td>\n",
              "      <td>0</td>\n",
              "      <td>0</td>\n",
              "      <td>0</td>\n",
              "      <td>0</td>\n",
              "      <td>0</td>\n",
              "      <td>0</td>\n",
              "      <td>27</td>\n",
              "      <td>5</td>\n",
              "      <td>...</td>\n",
              "      <td>3</td>\n",
              "      <td>6</td>\n",
              "      <td>8</td>\n",
              "      <td>5</td>\n",
              "      <td>1</td>\n",
              "      <td>1</td>\n",
              "      <td>5</td>\n",
              "      <td>3</td>\n",
              "      <td>1</td>\n",
              "      <td>0</td>\n",
              "    </tr>\n",
              "  </tbody>\n",
              "</table>\n",
              "<p>5 rows × 36 columns</p>\n",
              "</div>\n",
              "      <button class=\"colab-df-convert\" onclick=\"convertToInteractive('df-eb6e208e-f858-4f0d-a705-3b296e828330')\"\n",
              "              title=\"Convert this dataframe to an interactive table.\"\n",
              "              style=\"display:none;\">\n",
              "        \n",
              "  <svg xmlns=\"http://www.w3.org/2000/svg\" height=\"24px\"viewBox=\"0 0 24 24\"\n",
              "       width=\"24px\">\n",
              "    <path d=\"M0 0h24v24H0V0z\" fill=\"none\"/>\n",
              "    <path d=\"M18.56 5.44l.94 2.06.94-2.06 2.06-.94-2.06-.94-.94-2.06-.94 2.06-2.06.94zm-11 1L8.5 8.5l.94-2.06 2.06-.94-2.06-.94L8.5 2.5l-.94 2.06-2.06.94zm10 10l.94 2.06.94-2.06 2.06-.94-2.06-.94-.94-2.06-.94 2.06-2.06.94z\"/><path d=\"M17.41 7.96l-1.37-1.37c-.4-.4-.92-.59-1.43-.59-.52 0-1.04.2-1.43.59L10.3 9.45l-7.72 7.72c-.78.78-.78 2.05 0 2.83L4 21.41c.39.39.9.59 1.41.59.51 0 1.02-.2 1.41-.59l7.78-7.78 2.81-2.81c.8-.78.8-2.07 0-2.86zM5.41 20L4 18.59l7.72-7.72 1.47 1.35L5.41 20z\"/>\n",
              "  </svg>\n",
              "      </button>\n",
              "      \n",
              "  <style>\n",
              "    .colab-df-container {\n",
              "      display:flex;\n",
              "      flex-wrap:wrap;\n",
              "      gap: 12px;\n",
              "    }\n",
              "\n",
              "    .colab-df-convert {\n",
              "      background-color: #E8F0FE;\n",
              "      border: none;\n",
              "      border-radius: 50%;\n",
              "      cursor: pointer;\n",
              "      display: none;\n",
              "      fill: #1967D2;\n",
              "      height: 32px;\n",
              "      padding: 0 0 0 0;\n",
              "      width: 32px;\n",
              "    }\n",
              "\n",
              "    .colab-df-convert:hover {\n",
              "      background-color: #E2EBFA;\n",
              "      box-shadow: 0px 1px 2px rgba(60, 64, 67, 0.3), 0px 1px 3px 1px rgba(60, 64, 67, 0.15);\n",
              "      fill: #174EA6;\n",
              "    }\n",
              "\n",
              "    [theme=dark] .colab-df-convert {\n",
              "      background-color: #3B4455;\n",
              "      fill: #D2E3FC;\n",
              "    }\n",
              "\n",
              "    [theme=dark] .colab-df-convert:hover {\n",
              "      background-color: #434B5C;\n",
              "      box-shadow: 0px 1px 3px 1px rgba(0, 0, 0, 0.15);\n",
              "      filter: drop-shadow(0px 1px 2px rgba(0, 0, 0, 0.3));\n",
              "      fill: #FFFFFF;\n",
              "    }\n",
              "  </style>\n",
              "\n",
              "      <script>\n",
              "        const buttonEl =\n",
              "          document.querySelector('#df-eb6e208e-f858-4f0d-a705-3b296e828330 button.colab-df-convert');\n",
              "        buttonEl.style.display =\n",
              "          google.colab.kernel.accessAllowed ? 'block' : 'none';\n",
              "\n",
              "        async function convertToInteractive(key) {\n",
              "          const element = document.querySelector('#df-eb6e208e-f858-4f0d-a705-3b296e828330');\n",
              "          const dataTable =\n",
              "            await google.colab.kernel.invokeFunction('convertToInteractive',\n",
              "                                                     [key], {});\n",
              "          if (!dataTable) return;\n",
              "\n",
              "          const docLinkHtml = 'Like what you see? Visit the ' +\n",
              "            '<a target=\"_blank\" href=https://colab.research.google.com/notebooks/data_table.ipynb>data table notebook</a>'\n",
              "            + ' to learn more about interactive tables.';\n",
              "          element.innerHTML = '';\n",
              "          dataTable['output_type'] = 'display_data';\n",
              "          await google.colab.output.renderOutput(dataTable, element);\n",
              "          const docLink = document.createElement('div');\n",
              "          docLink.innerHTML = docLinkHtml;\n",
              "          element.appendChild(docLink);\n",
              "        }\n",
              "      </script>\n",
              "    </div>\n",
              "  </div>\n",
              "  "
            ]
          },
          "metadata": {},
          "execution_count": 31
        }
      ]
    },
    {
      "cell_type": "code",
      "source": [
        "stats_agg_df['stat_0_agg'] = stats_agg_df.Week1_Stat0 + stats_agg_df.Week2_Stat0 + stats_agg_df.Week3_Stat0 + stats_agg_df.Week4_Stat0 + stats_agg_df.Week5_Stat0 + stats_agg_df.Week6_Stat0 + stats_agg_df.Week7_Stat0 + stats_agg_df.Week8_Stat0 + stats_agg_df.Week9_Stat0\n",
        "stats_agg_df['stat_1_agg'] = stats_agg_df.Week1_Stat1 + stats_agg_df.Week2_Stat1 + stats_agg_df.Week3_Stat1 + stats_agg_df.Week4_Stat1 + stats_agg_df.Week5_Stat1 + stats_agg_df.Week6_Stat1 + stats_agg_df.Week7_Stat1 + stats_agg_df.Week8_Stat1 + stats_agg_df.Week9_Stat1 \n",
        "stats_agg_df['stat_2_agg'] = stats_agg_df.Week1_Stat2 + stats_agg_df.Week2_Stat2 + stats_agg_df.Week3_Stat2 + stats_agg_df.Week4_Stat2 + stats_agg_df.Week5_Stat2 + stats_agg_df.Week6_Stat2 + stats_agg_df.Week7_Stat2 + stats_agg_df.Week8_Stat2 + stats_agg_df.Week9_Stat2 \n",
        "stats_agg_df['stat_3_agg'] = stats_agg_df.Week1_Stat3 + stats_agg_df.Week2_Stat3 + stats_agg_df.Week3_Stat3 + stats_agg_df.Week4_Stat3 + stats_agg_df.Week5_Stat3 + stats_agg_df.Week6_Stat3 + stats_agg_df.Week7_Stat3 + stats_agg_df.Week8_Stat3 + stats_agg_df.Week9_Stat3 "
      ],
      "metadata": {
        "id": "ni49pbBrRTSh"
      },
      "execution_count": 32,
      "outputs": []
    },
    {
      "cell_type": "code",
      "source": [
        "stats_agg_df.head()"
      ],
      "metadata": {
        "colab": {
          "base_uri": "https://localhost:8080/",
          "height": 299
        },
        "id": "rqW1FoJMSY4Y",
        "outputId": "a4932120-a2c6-4c2d-d5ed-59007cc1e9be"
      },
      "execution_count": 33,
      "outputs": [
        {
          "output_type": "execute_result",
          "data": {
            "text/plain": [
              "   Week1_Stat0  Week1_Stat1  Week1_Stat2  Week1_Stat3  Week2_Stat0  \\\n",
              "0            0            0            0            0            7   \n",
              "1            8            0            0            0           61   \n",
              "2            4            0            0            0           19   \n",
              "3           12            0            0            1           30   \n",
              "4            6            0            0            0            0   \n",
              "\n",
              "   Week2_Stat1  Week2_Stat2  Week2_Stat3  Week3_Stat0  Week3_Stat1  ...  \\\n",
              "0           30            1            0           30            4  ...   \n",
              "1           10            3            8          100            4  ...   \n",
              "2           10            3            3           25            4  ...   \n",
              "3           10            1            6           79            4  ...   \n",
              "4            0            0            0           27            5  ...   \n",
              "\n",
              "   Week8_Stat2  Week8_Stat3  Week9_Stat0  Week9_Stat1  Week9_Stat2  \\\n",
              "0            0            4            8            6            1   \n",
              "1            0            0           25            3            2   \n",
              "2            0            0            9            0            1   \n",
              "3            0            0            7            6            0   \n",
              "4            1            1            5            3            1   \n",
              "\n",
              "   Week9_Stat3  stat_0_agg  stat_1_agg  stat_2_agg  stat_3_agg  \n",
              "0            0         118         119           8           4  \n",
              "1            5         465          85          17          37  \n",
              "2            0         169          65           8           9  \n",
              "3            0         553          74          17          15  \n",
              "4            0         149          62           7          17  \n",
              "\n",
              "[5 rows x 40 columns]"
            ],
            "text/html": [
              "\n",
              "  <div id=\"df-6855be0e-21c9-4b7c-babe-f1737b66e038\">\n",
              "    <div class=\"colab-df-container\">\n",
              "      <div>\n",
              "<style scoped>\n",
              "    .dataframe tbody tr th:only-of-type {\n",
              "        vertical-align: middle;\n",
              "    }\n",
              "\n",
              "    .dataframe tbody tr th {\n",
              "        vertical-align: top;\n",
              "    }\n",
              "\n",
              "    .dataframe thead th {\n",
              "        text-align: right;\n",
              "    }\n",
              "</style>\n",
              "<table border=\"1\" class=\"dataframe\">\n",
              "  <thead>\n",
              "    <tr style=\"text-align: right;\">\n",
              "      <th></th>\n",
              "      <th>Week1_Stat0</th>\n",
              "      <th>Week1_Stat1</th>\n",
              "      <th>Week1_Stat2</th>\n",
              "      <th>Week1_Stat3</th>\n",
              "      <th>Week2_Stat0</th>\n",
              "      <th>Week2_Stat1</th>\n",
              "      <th>Week2_Stat2</th>\n",
              "      <th>Week2_Stat3</th>\n",
              "      <th>Week3_Stat0</th>\n",
              "      <th>Week3_Stat1</th>\n",
              "      <th>...</th>\n",
              "      <th>Week8_Stat2</th>\n",
              "      <th>Week8_Stat3</th>\n",
              "      <th>Week9_Stat0</th>\n",
              "      <th>Week9_Stat1</th>\n",
              "      <th>Week9_Stat2</th>\n",
              "      <th>Week9_Stat3</th>\n",
              "      <th>stat_0_agg</th>\n",
              "      <th>stat_1_agg</th>\n",
              "      <th>stat_2_agg</th>\n",
              "      <th>stat_3_agg</th>\n",
              "    </tr>\n",
              "  </thead>\n",
              "  <tbody>\n",
              "    <tr>\n",
              "      <th>0</th>\n",
              "      <td>0</td>\n",
              "      <td>0</td>\n",
              "      <td>0</td>\n",
              "      <td>0</td>\n",
              "      <td>7</td>\n",
              "      <td>30</td>\n",
              "      <td>1</td>\n",
              "      <td>0</td>\n",
              "      <td>30</td>\n",
              "      <td>4</td>\n",
              "      <td>...</td>\n",
              "      <td>0</td>\n",
              "      <td>4</td>\n",
              "      <td>8</td>\n",
              "      <td>6</td>\n",
              "      <td>1</td>\n",
              "      <td>0</td>\n",
              "      <td>118</td>\n",
              "      <td>119</td>\n",
              "      <td>8</td>\n",
              "      <td>4</td>\n",
              "    </tr>\n",
              "    <tr>\n",
              "      <th>1</th>\n",
              "      <td>8</td>\n",
              "      <td>0</td>\n",
              "      <td>0</td>\n",
              "      <td>0</td>\n",
              "      <td>61</td>\n",
              "      <td>10</td>\n",
              "      <td>3</td>\n",
              "      <td>8</td>\n",
              "      <td>100</td>\n",
              "      <td>4</td>\n",
              "      <td>...</td>\n",
              "      <td>0</td>\n",
              "      <td>0</td>\n",
              "      <td>25</td>\n",
              "      <td>3</td>\n",
              "      <td>2</td>\n",
              "      <td>5</td>\n",
              "      <td>465</td>\n",
              "      <td>85</td>\n",
              "      <td>17</td>\n",
              "      <td>37</td>\n",
              "    </tr>\n",
              "    <tr>\n",
              "      <th>2</th>\n",
              "      <td>4</td>\n",
              "      <td>0</td>\n",
              "      <td>0</td>\n",
              "      <td>0</td>\n",
              "      <td>19</td>\n",
              "      <td>10</td>\n",
              "      <td>3</td>\n",
              "      <td>3</td>\n",
              "      <td>25</td>\n",
              "      <td>4</td>\n",
              "      <td>...</td>\n",
              "      <td>0</td>\n",
              "      <td>0</td>\n",
              "      <td>9</td>\n",
              "      <td>0</td>\n",
              "      <td>1</td>\n",
              "      <td>0</td>\n",
              "      <td>169</td>\n",
              "      <td>65</td>\n",
              "      <td>8</td>\n",
              "      <td>9</td>\n",
              "    </tr>\n",
              "    <tr>\n",
              "      <th>3</th>\n",
              "      <td>12</td>\n",
              "      <td>0</td>\n",
              "      <td>0</td>\n",
              "      <td>1</td>\n",
              "      <td>30</td>\n",
              "      <td>10</td>\n",
              "      <td>1</td>\n",
              "      <td>6</td>\n",
              "      <td>79</td>\n",
              "      <td>4</td>\n",
              "      <td>...</td>\n",
              "      <td>0</td>\n",
              "      <td>0</td>\n",
              "      <td>7</td>\n",
              "      <td>6</td>\n",
              "      <td>0</td>\n",
              "      <td>0</td>\n",
              "      <td>553</td>\n",
              "      <td>74</td>\n",
              "      <td>17</td>\n",
              "      <td>15</td>\n",
              "    </tr>\n",
              "    <tr>\n",
              "      <th>4</th>\n",
              "      <td>6</td>\n",
              "      <td>0</td>\n",
              "      <td>0</td>\n",
              "      <td>0</td>\n",
              "      <td>0</td>\n",
              "      <td>0</td>\n",
              "      <td>0</td>\n",
              "      <td>0</td>\n",
              "      <td>27</td>\n",
              "      <td>5</td>\n",
              "      <td>...</td>\n",
              "      <td>1</td>\n",
              "      <td>1</td>\n",
              "      <td>5</td>\n",
              "      <td>3</td>\n",
              "      <td>1</td>\n",
              "      <td>0</td>\n",
              "      <td>149</td>\n",
              "      <td>62</td>\n",
              "      <td>7</td>\n",
              "      <td>17</td>\n",
              "    </tr>\n",
              "  </tbody>\n",
              "</table>\n",
              "<p>5 rows × 40 columns</p>\n",
              "</div>\n",
              "      <button class=\"colab-df-convert\" onclick=\"convertToInteractive('df-6855be0e-21c9-4b7c-babe-f1737b66e038')\"\n",
              "              title=\"Convert this dataframe to an interactive table.\"\n",
              "              style=\"display:none;\">\n",
              "        \n",
              "  <svg xmlns=\"http://www.w3.org/2000/svg\" height=\"24px\"viewBox=\"0 0 24 24\"\n",
              "       width=\"24px\">\n",
              "    <path d=\"M0 0h24v24H0V0z\" fill=\"none\"/>\n",
              "    <path d=\"M18.56 5.44l.94 2.06.94-2.06 2.06-.94-2.06-.94-.94-2.06-.94 2.06-2.06.94zm-11 1L8.5 8.5l.94-2.06 2.06-.94-2.06-.94L8.5 2.5l-.94 2.06-2.06.94zm10 10l.94 2.06.94-2.06 2.06-.94-2.06-.94-.94-2.06-.94 2.06-2.06.94z\"/><path d=\"M17.41 7.96l-1.37-1.37c-.4-.4-.92-.59-1.43-.59-.52 0-1.04.2-1.43.59L10.3 9.45l-7.72 7.72c-.78.78-.78 2.05 0 2.83L4 21.41c.39.39.9.59 1.41.59.51 0 1.02-.2 1.41-.59l7.78-7.78 2.81-2.81c.8-.78.8-2.07 0-2.86zM5.41 20L4 18.59l7.72-7.72 1.47 1.35L5.41 20z\"/>\n",
              "  </svg>\n",
              "      </button>\n",
              "      \n",
              "  <style>\n",
              "    .colab-df-container {\n",
              "      display:flex;\n",
              "      flex-wrap:wrap;\n",
              "      gap: 12px;\n",
              "    }\n",
              "\n",
              "    .colab-df-convert {\n",
              "      background-color: #E8F0FE;\n",
              "      border: none;\n",
              "      border-radius: 50%;\n",
              "      cursor: pointer;\n",
              "      display: none;\n",
              "      fill: #1967D2;\n",
              "      height: 32px;\n",
              "      padding: 0 0 0 0;\n",
              "      width: 32px;\n",
              "    }\n",
              "\n",
              "    .colab-df-convert:hover {\n",
              "      background-color: #E2EBFA;\n",
              "      box-shadow: 0px 1px 2px rgba(60, 64, 67, 0.3), 0px 1px 3px 1px rgba(60, 64, 67, 0.15);\n",
              "      fill: #174EA6;\n",
              "    }\n",
              "\n",
              "    [theme=dark] .colab-df-convert {\n",
              "      background-color: #3B4455;\n",
              "      fill: #D2E3FC;\n",
              "    }\n",
              "\n",
              "    [theme=dark] .colab-df-convert:hover {\n",
              "      background-color: #434B5C;\n",
              "      box-shadow: 0px 1px 3px 1px rgba(0, 0, 0, 0.15);\n",
              "      filter: drop-shadow(0px 1px 2px rgba(0, 0, 0, 0.3));\n",
              "      fill: #FFFFFF;\n",
              "    }\n",
              "  </style>\n",
              "\n",
              "      <script>\n",
              "        const buttonEl =\n",
              "          document.querySelector('#df-6855be0e-21c9-4b7c-babe-f1737b66e038 button.colab-df-convert');\n",
              "        buttonEl.style.display =\n",
              "          google.colab.kernel.accessAllowed ? 'block' : 'none';\n",
              "\n",
              "        async function convertToInteractive(key) {\n",
              "          const element = document.querySelector('#df-6855be0e-21c9-4b7c-babe-f1737b66e038');\n",
              "          const dataTable =\n",
              "            await google.colab.kernel.invokeFunction('convertToInteractive',\n",
              "                                                     [key], {});\n",
              "          if (!dataTable) return;\n",
              "\n",
              "          const docLinkHtml = 'Like what you see? Visit the ' +\n",
              "            '<a target=\"_blank\" href=https://colab.research.google.com/notebooks/data_table.ipynb>data table notebook</a>'\n",
              "            + ' to learn more about interactive tables.';\n",
              "          element.innerHTML = '';\n",
              "          dataTable['output_type'] = 'display_data';\n",
              "          await google.colab.output.renderOutput(dataTable, element);\n",
              "          const docLink = document.createElement('div');\n",
              "          docLink.innerHTML = docLinkHtml;\n",
              "          element.appendChild(docLink);\n",
              "        }\n",
              "      </script>\n",
              "    </div>\n",
              "  </div>\n",
              "  "
            ]
          },
          "metadata": {},
          "execution_count": 33
        }
      ]
    },
    {
      "cell_type": "code",
      "source": [
        "# Remove non-aggregate columns\n",
        "stats_agg_df = stats_agg_df.drop(stats_agg_df.columns[stats_agg_df.columns.str.contains('Week')], axis=1)\n",
        "stats_agg_df.head()"
      ],
      "metadata": {
        "colab": {
          "base_uri": "https://localhost:8080/",
          "height": 206
        },
        "id": "XR_fAGD1Truv",
        "outputId": "85589ff1-0827-4a67-fd0f-7a131cc38658"
      },
      "execution_count": 34,
      "outputs": [
        {
          "output_type": "execute_result",
          "data": {
            "text/plain": [
              "   stat_0_agg  stat_1_agg  stat_2_agg  stat_3_agg\n",
              "0         118         119           8           4\n",
              "1         465          85          17          37\n",
              "2         169          65           8           9\n",
              "3         553          74          17          15\n",
              "4         149          62           7          17"
            ],
            "text/html": [
              "\n",
              "  <div id=\"df-6256cbb8-a1e8-4445-8b88-07e96f93c776\">\n",
              "    <div class=\"colab-df-container\">\n",
              "      <div>\n",
              "<style scoped>\n",
              "    .dataframe tbody tr th:only-of-type {\n",
              "        vertical-align: middle;\n",
              "    }\n",
              "\n",
              "    .dataframe tbody tr th {\n",
              "        vertical-align: top;\n",
              "    }\n",
              "\n",
              "    .dataframe thead th {\n",
              "        text-align: right;\n",
              "    }\n",
              "</style>\n",
              "<table border=\"1\" class=\"dataframe\">\n",
              "  <thead>\n",
              "    <tr style=\"text-align: right;\">\n",
              "      <th></th>\n",
              "      <th>stat_0_agg</th>\n",
              "      <th>stat_1_agg</th>\n",
              "      <th>stat_2_agg</th>\n",
              "      <th>stat_3_agg</th>\n",
              "    </tr>\n",
              "  </thead>\n",
              "  <tbody>\n",
              "    <tr>\n",
              "      <th>0</th>\n",
              "      <td>118</td>\n",
              "      <td>119</td>\n",
              "      <td>8</td>\n",
              "      <td>4</td>\n",
              "    </tr>\n",
              "    <tr>\n",
              "      <th>1</th>\n",
              "      <td>465</td>\n",
              "      <td>85</td>\n",
              "      <td>17</td>\n",
              "      <td>37</td>\n",
              "    </tr>\n",
              "    <tr>\n",
              "      <th>2</th>\n",
              "      <td>169</td>\n",
              "      <td>65</td>\n",
              "      <td>8</td>\n",
              "      <td>9</td>\n",
              "    </tr>\n",
              "    <tr>\n",
              "      <th>3</th>\n",
              "      <td>553</td>\n",
              "      <td>74</td>\n",
              "      <td>17</td>\n",
              "      <td>15</td>\n",
              "    </tr>\n",
              "    <tr>\n",
              "      <th>4</th>\n",
              "      <td>149</td>\n",
              "      <td>62</td>\n",
              "      <td>7</td>\n",
              "      <td>17</td>\n",
              "    </tr>\n",
              "  </tbody>\n",
              "</table>\n",
              "</div>\n",
              "      <button class=\"colab-df-convert\" onclick=\"convertToInteractive('df-6256cbb8-a1e8-4445-8b88-07e96f93c776')\"\n",
              "              title=\"Convert this dataframe to an interactive table.\"\n",
              "              style=\"display:none;\">\n",
              "        \n",
              "  <svg xmlns=\"http://www.w3.org/2000/svg\" height=\"24px\"viewBox=\"0 0 24 24\"\n",
              "       width=\"24px\">\n",
              "    <path d=\"M0 0h24v24H0V0z\" fill=\"none\"/>\n",
              "    <path d=\"M18.56 5.44l.94 2.06.94-2.06 2.06-.94-2.06-.94-.94-2.06-.94 2.06-2.06.94zm-11 1L8.5 8.5l.94-2.06 2.06-.94-2.06-.94L8.5 2.5l-.94 2.06-2.06.94zm10 10l.94 2.06.94-2.06 2.06-.94-2.06-.94-.94-2.06-.94 2.06-2.06.94z\"/><path d=\"M17.41 7.96l-1.37-1.37c-.4-.4-.92-.59-1.43-.59-.52 0-1.04.2-1.43.59L10.3 9.45l-7.72 7.72c-.78.78-.78 2.05 0 2.83L4 21.41c.39.39.9.59 1.41.59.51 0 1.02-.2 1.41-.59l7.78-7.78 2.81-2.81c.8-.78.8-2.07 0-2.86zM5.41 20L4 18.59l7.72-7.72 1.47 1.35L5.41 20z\"/>\n",
              "  </svg>\n",
              "      </button>\n",
              "      \n",
              "  <style>\n",
              "    .colab-df-container {\n",
              "      display:flex;\n",
              "      flex-wrap:wrap;\n",
              "      gap: 12px;\n",
              "    }\n",
              "\n",
              "    .colab-df-convert {\n",
              "      background-color: #E8F0FE;\n",
              "      border: none;\n",
              "      border-radius: 50%;\n",
              "      cursor: pointer;\n",
              "      display: none;\n",
              "      fill: #1967D2;\n",
              "      height: 32px;\n",
              "      padding: 0 0 0 0;\n",
              "      width: 32px;\n",
              "    }\n",
              "\n",
              "    .colab-df-convert:hover {\n",
              "      background-color: #E2EBFA;\n",
              "      box-shadow: 0px 1px 2px rgba(60, 64, 67, 0.3), 0px 1px 3px 1px rgba(60, 64, 67, 0.15);\n",
              "      fill: #174EA6;\n",
              "    }\n",
              "\n",
              "    [theme=dark] .colab-df-convert {\n",
              "      background-color: #3B4455;\n",
              "      fill: #D2E3FC;\n",
              "    }\n",
              "\n",
              "    [theme=dark] .colab-df-convert:hover {\n",
              "      background-color: #434B5C;\n",
              "      box-shadow: 0px 1px 3px 1px rgba(0, 0, 0, 0.15);\n",
              "      filter: drop-shadow(0px 1px 2px rgba(0, 0, 0, 0.3));\n",
              "      fill: #FFFFFF;\n",
              "    }\n",
              "  </style>\n",
              "\n",
              "      <script>\n",
              "        const buttonEl =\n",
              "          document.querySelector('#df-6256cbb8-a1e8-4445-8b88-07e96f93c776 button.colab-df-convert');\n",
              "        buttonEl.style.display =\n",
              "          google.colab.kernel.accessAllowed ? 'block' : 'none';\n",
              "\n",
              "        async function convertToInteractive(key) {\n",
              "          const element = document.querySelector('#df-6256cbb8-a1e8-4445-8b88-07e96f93c776');\n",
              "          const dataTable =\n",
              "            await google.colab.kernel.invokeFunction('convertToInteractive',\n",
              "                                                     [key], {});\n",
              "          if (!dataTable) return;\n",
              "\n",
              "          const docLinkHtml = 'Like what you see? Visit the ' +\n",
              "            '<a target=\"_blank\" href=https://colab.research.google.com/notebooks/data_table.ipynb>data table notebook</a>'\n",
              "            + ' to learn more about interactive tables.';\n",
              "          element.innerHTML = '';\n",
              "          dataTable['output_type'] = 'display_data';\n",
              "          await google.colab.output.renderOutput(dataTable, element);\n",
              "          const docLink = document.createElement('div');\n",
              "          docLink.innerHTML = docLinkHtml;\n",
              "          element.appendChild(docLink);\n",
              "        }\n",
              "      </script>\n",
              "    </div>\n",
              "  </div>\n",
              "  "
            ]
          },
          "metadata": {},
          "execution_count": 34
        }
      ]
    },
    {
      "cell_type": "markdown",
      "source": [
        "We now have a smaller feature space. This is just another representation of the same data, so even though we don't expect a big impact in the models' results, we think that it might help the models find new interesting trends and perhaps improve accuracy."
      ],
      "metadata": {
        "id": "CukSO_Wk1k-p"
      }
    },
    {
      "cell_type": "code",
      "source": [
        "stats_agg_df.shape"
      ],
      "metadata": {
        "colab": {
          "base_uri": "https://localhost:8080/"
        },
        "id": "VGLjWopZUAbp",
        "outputId": "6dd77063-4827-4d5e-e5b7-3977264b264a"
      },
      "execution_count": 35,
      "outputs": [
        {
          "output_type": "execute_result",
          "data": {
            "text/plain": [
              "(107, 4)"
            ]
          },
          "metadata": {},
          "execution_count": 35
        }
      ]
    },
    {
      "cell_type": "markdown",
      "source": [
        "##### All logs Dataframe"
      ],
      "metadata": {
        "id": "0eMF3--G2Mtc"
      }
    },
    {
      "cell_type": "code",
      "source": [
        "all_logs_df = course_logs_df.drop(course_logs_df.columns[course_logs_df.columns.str.contains('agg')], axis=1)\n",
        "all_logs_df.head()"
      ],
      "metadata": {
        "colab": {
          "base_uri": "https://localhost:8080/",
          "height": 299
        },
        "id": "3SMxnlAO2vJ5",
        "outputId": "da52449c-5706-465b-f4bd-8c459b314e58"
      },
      "execution_count": 36,
      "outputs": [
        {
          "output_type": "execute_result",
          "data": {
            "text/plain": [
              "   Week1_Stat0  Week1_Stat2  Week1_Stat3  Week2_Stat0  Week2_Stat1  \\\n",
              "0            0            0            0            7           30   \n",
              "1            8            0            0           61           10   \n",
              "2            4            0            0           19           10   \n",
              "3           12            0            1           30           10   \n",
              "4            6            0            0            0            0   \n",
              "\n",
              "   Week2_Stat2  Week2_Stat3  Week3_Stat0  Week3_Stat1  Week3_Stat2  ...  \\\n",
              "0            1            0           30            4            0  ...   \n",
              "1            3            8          100            4            4  ...   \n",
              "2            3            3           25            4            0  ...   \n",
              "3            1            6           79            4            2  ...   \n",
              "4            0            0           27            5            0  ...   \n",
              "\n",
              "   Week7_Stat2  Week7_Stat3  Week8_Stat0  Week8_Stat1  Week8_Stat2  \\\n",
              "0            1            0            5            4            0   \n",
              "1            0            8            5            2            0   \n",
              "2            0            0            8            2            0   \n",
              "3            5            4           10            0            0   \n",
              "4            3            6            8            5            1   \n",
              "\n",
              "   Week8_Stat3  Week9_Stat0  Week9_Stat1  Week9_Stat2  Week9_Stat3  \n",
              "0            4            8            6            1            0  \n",
              "1            0           25            3            2            5  \n",
              "2            0            9            0            1            0  \n",
              "3            0            7            6            0            0  \n",
              "4            1            5            3            1            0  \n",
              "\n",
              "[5 rows x 35 columns]"
            ],
            "text/html": [
              "\n",
              "  <div id=\"df-2cab67ea-582d-4073-839a-726f9b0dc511\">\n",
              "    <div class=\"colab-df-container\">\n",
              "      <div>\n",
              "<style scoped>\n",
              "    .dataframe tbody tr th:only-of-type {\n",
              "        vertical-align: middle;\n",
              "    }\n",
              "\n",
              "    .dataframe tbody tr th {\n",
              "        vertical-align: top;\n",
              "    }\n",
              "\n",
              "    .dataframe thead th {\n",
              "        text-align: right;\n",
              "    }\n",
              "</style>\n",
              "<table border=\"1\" class=\"dataframe\">\n",
              "  <thead>\n",
              "    <tr style=\"text-align: right;\">\n",
              "      <th></th>\n",
              "      <th>Week1_Stat0</th>\n",
              "      <th>Week1_Stat2</th>\n",
              "      <th>Week1_Stat3</th>\n",
              "      <th>Week2_Stat0</th>\n",
              "      <th>Week2_Stat1</th>\n",
              "      <th>Week2_Stat2</th>\n",
              "      <th>Week2_Stat3</th>\n",
              "      <th>Week3_Stat0</th>\n",
              "      <th>Week3_Stat1</th>\n",
              "      <th>Week3_Stat2</th>\n",
              "      <th>...</th>\n",
              "      <th>Week7_Stat2</th>\n",
              "      <th>Week7_Stat3</th>\n",
              "      <th>Week8_Stat0</th>\n",
              "      <th>Week8_Stat1</th>\n",
              "      <th>Week8_Stat2</th>\n",
              "      <th>Week8_Stat3</th>\n",
              "      <th>Week9_Stat0</th>\n",
              "      <th>Week9_Stat1</th>\n",
              "      <th>Week9_Stat2</th>\n",
              "      <th>Week9_Stat3</th>\n",
              "    </tr>\n",
              "  </thead>\n",
              "  <tbody>\n",
              "    <tr>\n",
              "      <th>0</th>\n",
              "      <td>0</td>\n",
              "      <td>0</td>\n",
              "      <td>0</td>\n",
              "      <td>7</td>\n",
              "      <td>30</td>\n",
              "      <td>1</td>\n",
              "      <td>0</td>\n",
              "      <td>30</td>\n",
              "      <td>4</td>\n",
              "      <td>0</td>\n",
              "      <td>...</td>\n",
              "      <td>1</td>\n",
              "      <td>0</td>\n",
              "      <td>5</td>\n",
              "      <td>4</td>\n",
              "      <td>0</td>\n",
              "      <td>4</td>\n",
              "      <td>8</td>\n",
              "      <td>6</td>\n",
              "      <td>1</td>\n",
              "      <td>0</td>\n",
              "    </tr>\n",
              "    <tr>\n",
              "      <th>1</th>\n",
              "      <td>8</td>\n",
              "      <td>0</td>\n",
              "      <td>0</td>\n",
              "      <td>61</td>\n",
              "      <td>10</td>\n",
              "      <td>3</td>\n",
              "      <td>8</td>\n",
              "      <td>100</td>\n",
              "      <td>4</td>\n",
              "      <td>4</td>\n",
              "      <td>...</td>\n",
              "      <td>0</td>\n",
              "      <td>8</td>\n",
              "      <td>5</td>\n",
              "      <td>2</td>\n",
              "      <td>0</td>\n",
              "      <td>0</td>\n",
              "      <td>25</td>\n",
              "      <td>3</td>\n",
              "      <td>2</td>\n",
              "      <td>5</td>\n",
              "    </tr>\n",
              "    <tr>\n",
              "      <th>2</th>\n",
              "      <td>4</td>\n",
              "      <td>0</td>\n",
              "      <td>0</td>\n",
              "      <td>19</td>\n",
              "      <td>10</td>\n",
              "      <td>3</td>\n",
              "      <td>3</td>\n",
              "      <td>25</td>\n",
              "      <td>4</td>\n",
              "      <td>0</td>\n",
              "      <td>...</td>\n",
              "      <td>0</td>\n",
              "      <td>0</td>\n",
              "      <td>8</td>\n",
              "      <td>2</td>\n",
              "      <td>0</td>\n",
              "      <td>0</td>\n",
              "      <td>9</td>\n",
              "      <td>0</td>\n",
              "      <td>1</td>\n",
              "      <td>0</td>\n",
              "    </tr>\n",
              "    <tr>\n",
              "      <th>3</th>\n",
              "      <td>12</td>\n",
              "      <td>0</td>\n",
              "      <td>1</td>\n",
              "      <td>30</td>\n",
              "      <td>10</td>\n",
              "      <td>1</td>\n",
              "      <td>6</td>\n",
              "      <td>79</td>\n",
              "      <td>4</td>\n",
              "      <td>2</td>\n",
              "      <td>...</td>\n",
              "      <td>5</td>\n",
              "      <td>4</td>\n",
              "      <td>10</td>\n",
              "      <td>0</td>\n",
              "      <td>0</td>\n",
              "      <td>0</td>\n",
              "      <td>7</td>\n",
              "      <td>6</td>\n",
              "      <td>0</td>\n",
              "      <td>0</td>\n",
              "    </tr>\n",
              "    <tr>\n",
              "      <th>4</th>\n",
              "      <td>6</td>\n",
              "      <td>0</td>\n",
              "      <td>0</td>\n",
              "      <td>0</td>\n",
              "      <td>0</td>\n",
              "      <td>0</td>\n",
              "      <td>0</td>\n",
              "      <td>27</td>\n",
              "      <td>5</td>\n",
              "      <td>0</td>\n",
              "      <td>...</td>\n",
              "      <td>3</td>\n",
              "      <td>6</td>\n",
              "      <td>8</td>\n",
              "      <td>5</td>\n",
              "      <td>1</td>\n",
              "      <td>1</td>\n",
              "      <td>5</td>\n",
              "      <td>3</td>\n",
              "      <td>1</td>\n",
              "      <td>0</td>\n",
              "    </tr>\n",
              "  </tbody>\n",
              "</table>\n",
              "<p>5 rows × 35 columns</p>\n",
              "</div>\n",
              "      <button class=\"colab-df-convert\" onclick=\"convertToInteractive('df-2cab67ea-582d-4073-839a-726f9b0dc511')\"\n",
              "              title=\"Convert this dataframe to an interactive table.\"\n",
              "              style=\"display:none;\">\n",
              "        \n",
              "  <svg xmlns=\"http://www.w3.org/2000/svg\" height=\"24px\"viewBox=\"0 0 24 24\"\n",
              "       width=\"24px\">\n",
              "    <path d=\"M0 0h24v24H0V0z\" fill=\"none\"/>\n",
              "    <path d=\"M18.56 5.44l.94 2.06.94-2.06 2.06-.94-2.06-.94-.94-2.06-.94 2.06-2.06.94zm-11 1L8.5 8.5l.94-2.06 2.06-.94-2.06-.94L8.5 2.5l-.94 2.06-2.06.94zm10 10l.94 2.06.94-2.06 2.06-.94-2.06-.94-.94-2.06-.94 2.06-2.06.94z\"/><path d=\"M17.41 7.96l-1.37-1.37c-.4-.4-.92-.59-1.43-.59-.52 0-1.04.2-1.43.59L10.3 9.45l-7.72 7.72c-.78.78-.78 2.05 0 2.83L4 21.41c.39.39.9.59 1.41.59.51 0 1.02-.2 1.41-.59l7.78-7.78 2.81-2.81c.8-.78.8-2.07 0-2.86zM5.41 20L4 18.59l7.72-7.72 1.47 1.35L5.41 20z\"/>\n",
              "  </svg>\n",
              "      </button>\n",
              "      \n",
              "  <style>\n",
              "    .colab-df-container {\n",
              "      display:flex;\n",
              "      flex-wrap:wrap;\n",
              "      gap: 12px;\n",
              "    }\n",
              "\n",
              "    .colab-df-convert {\n",
              "      background-color: #E8F0FE;\n",
              "      border: none;\n",
              "      border-radius: 50%;\n",
              "      cursor: pointer;\n",
              "      display: none;\n",
              "      fill: #1967D2;\n",
              "      height: 32px;\n",
              "      padding: 0 0 0 0;\n",
              "      width: 32px;\n",
              "    }\n",
              "\n",
              "    .colab-df-convert:hover {\n",
              "      background-color: #E2EBFA;\n",
              "      box-shadow: 0px 1px 2px rgba(60, 64, 67, 0.3), 0px 1px 3px 1px rgba(60, 64, 67, 0.15);\n",
              "      fill: #174EA6;\n",
              "    }\n",
              "\n",
              "    [theme=dark] .colab-df-convert {\n",
              "      background-color: #3B4455;\n",
              "      fill: #D2E3FC;\n",
              "    }\n",
              "\n",
              "    [theme=dark] .colab-df-convert:hover {\n",
              "      background-color: #434B5C;\n",
              "      box-shadow: 0px 1px 3px 1px rgba(0, 0, 0, 0.15);\n",
              "      filter: drop-shadow(0px 1px 2px rgba(0, 0, 0, 0.3));\n",
              "      fill: #FFFFFF;\n",
              "    }\n",
              "  </style>\n",
              "\n",
              "      <script>\n",
              "        const buttonEl =\n",
              "          document.querySelector('#df-2cab67ea-582d-4073-839a-726f9b0dc511 button.colab-df-convert');\n",
              "        buttonEl.style.display =\n",
              "          google.colab.kernel.accessAllowed ? 'block' : 'none';\n",
              "\n",
              "        async function convertToInteractive(key) {\n",
              "          const element = document.querySelector('#df-2cab67ea-582d-4073-839a-726f9b0dc511');\n",
              "          const dataTable =\n",
              "            await google.colab.kernel.invokeFunction('convertToInteractive',\n",
              "                                                     [key], {});\n",
              "          if (!dataTable) return;\n",
              "\n",
              "          const docLinkHtml = 'Like what you see? Visit the ' +\n",
              "            '<a target=\"_blank\" href=https://colab.research.google.com/notebooks/data_table.ipynb>data table notebook</a>'\n",
              "            + ' to learn more about interactive tables.';\n",
              "          element.innerHTML = '';\n",
              "          dataTable['output_type'] = 'display_data';\n",
              "          await google.colab.output.renderOutput(dataTable, element);\n",
              "          const docLink = document.createElement('div');\n",
              "          docLink.innerHTML = docLinkHtml;\n",
              "          element.appendChild(docLink);\n",
              "        }\n",
              "      </script>\n",
              "    </div>\n",
              "  </div>\n",
              "  "
            ]
          },
          "metadata": {},
          "execution_count": 36
        }
      ]
    },
    {
      "cell_type": "markdown",
      "source": [
        "## Step 2 – Training & Test Dataset\n",
        "Given the size of the dataset, we consider that we need the most data points possible to train the models. Therefore, we choose a split of 80/20 (80% training - 20% testing).\n"
      ],
      "metadata": {
        "id": "hNgJZz5zjeJB"
      }
    },
    {
      "cell_type": "markdown",
      "source": [
        "We also tried a different split of the data in Step 3 - Models Training (70/30) in order to see if there would be any effect on the predictions. The was not a noticeable effect, so the 80/20 ratio is kept."
      ],
      "metadata": {
        "id": "UJJc5bCv79x5"
      }
    },
    {
      "cell_type": "code",
      "source": [
        "from sklearn.model_selection import train_test_split"
      ],
      "metadata": {
        "id": "RFYW7mTHF57s"
      },
      "execution_count": 37,
      "outputs": []
    },
    {
      "cell_type": "code",
      "source": [
        "# Split for dataframe grouped by week\n",
        "X_train_weeks, X_test_weeks, y_train_weeks, y_test_weeks = train_test_split(weeks_agg_df, students_df.Grade, test_size=0.20, shuffle=True, random_state=42)"
      ],
      "metadata": {
        "id": "d2r686a0jpZt"
      },
      "execution_count": 38,
      "outputs": []
    },
    {
      "cell_type": "code",
      "source": [
        "# Split for dataframe grouped by stat\n",
        "X_train_stats, X_test_stats, y_train_stats, y_test_stats = train_test_split(stats_agg_df, students_df.Grade, test_size=0.20, shuffle=True, random_state=42)"
      ],
      "metadata": {
        "id": "mTorkJBm6TeR"
      },
      "execution_count": 39,
      "outputs": []
    },
    {
      "cell_type": "code",
      "source": [
        "# Split for all logs dataframe\n",
        "X_train_all, X_test_all, y_train_all, y_test_all = train_test_split(all_logs_df, students_df.Grade, test_size=0.20, shuffle=True, random_state=42)"
      ],
      "metadata": {
        "id": "XwQR3cDz6UXz"
      },
      "execution_count": 40,
      "outputs": []
    },
    {
      "cell_type": "markdown",
      "source": [
        "## Step 3 – Models Training\n",
        "Predicting the students’ final grade using:\n",
        "* Random Forest Classifier\n",
        "* KNN Classifier"
      ],
      "metadata": {
        "id": "sW3PPHAij3yZ"
      }
    },
    {
      "cell_type": "markdown",
      "source": [
        "###  3.1 - Random Forest Classifier"
      ],
      "metadata": {
        "id": "_gC9Nmv_kSl1"
      }
    },
    {
      "cell_type": "code",
      "source": [
        "from sklearn.ensemble import RandomForestClassifier\n",
        "from sklearn import metrics"
      ],
      "metadata": {
        "id": "dV-jMIcMkR5k"
      },
      "execution_count": 41,
      "outputs": []
    },
    {
      "cell_type": "code",
      "source": [
        "# Random Forest with 100 trees\n",
        "clf_weeks_1 = RandomForestClassifier(n_estimators=100)"
      ],
      "metadata": {
        "id": "gAkEPoAlKLYd"
      },
      "execution_count": 52,
      "outputs": []
    },
    {
      "cell_type": "code",
      "source": [
        "# Training the model in our first set of data (grouped by week)\n",
        "clf_weeks_1.fit(X_train_weeks,y_train_weeks)"
      ],
      "metadata": {
        "colab": {
          "base_uri": "https://localhost:8080/"
        },
        "id": "hkp6nkdvMNCE",
        "outputId": "5e03dc72-77de-4f87-fcb9-be3311493134"
      },
      "execution_count": 53,
      "outputs": [
        {
          "output_type": "execute_result",
          "data": {
            "text/plain": [
              "RandomForestClassifier()"
            ]
          },
          "metadata": {},
          "execution_count": 53
        }
      ]
    },
    {
      "cell_type": "code",
      "source": [
        "# Use the model to predict the test data\n",
        "y_pred_weeks_1 = clf_weeks_1.predict(X_test_weeks)"
      ],
      "metadata": {
        "id": "29cpt1xhMV_B"
      },
      "execution_count": 54,
      "outputs": []
    },
    {
      "cell_type": "code",
      "source": [
        "# Model Accuracy (how often is the classifier correct?)\n",
        "# How accurate does the model predict the students’ final grade?\n",
        "print(\"Accuracy:\", metrics.accuracy_score(y_test_weeks, y_pred_weeks_1))"
      ],
      "metadata": {
        "colab": {
          "base_uri": "https://localhost:8080/"
        },
        "id": "tjZ61MRGMhxI",
        "outputId": "45891dc9-b66a-44c5-f7ac-cabebf3391aa"
      },
      "execution_count": 55,
      "outputs": [
        {
          "output_type": "stream",
          "name": "stdout",
          "text": [
            "Accuracy: 0.6818181818181818\n"
          ]
        }
      ]
    },
    {
      "cell_type": "markdown",
      "source": [
        "In case it changes, these values have been shown multiple times as the accuracy for the model. Since a random forest classifier might have a different accuracy when training it again, we use these as reference.\n",
        "\n",
        "* Accuracy: 0.5454545454545454\n",
        "* Accuracy: 0.6363636363636364\n",
        "* Accuracy: 0.5909090909090909\n",
        "* Accuracy: 0.6818181818181818\n"
      ],
      "metadata": {
        "id": "8cBssxjaCBKI"
      }
    },
    {
      "cell_type": "markdown",
      "source": [
        "This result tell us that our model is not very good at classifying new data. Let's tune the model to try and get better results."
      ],
      "metadata": {
        "id": "EZIzuOkJMuVb"
      }
    },
    {
      "cell_type": "code",
      "source": [
        "# Increasing the number of estimators/trees to try to get better accuracy\n",
        "clf_weeks_2 = RandomForestClassifier(n_estimators=150)"
      ],
      "metadata": {
        "id": "Wg6mr3q1M866"
      },
      "execution_count": 56,
      "outputs": []
    },
    {
      "cell_type": "code",
      "source": [
        "clf_weeks_2.fit(X_train_weeks,y_train_weeks)"
      ],
      "metadata": {
        "colab": {
          "base_uri": "https://localhost:8080/"
        },
        "id": "lP8wBtRgNBSp",
        "outputId": "875698d9-a069-4c2e-bf54-e3d2427c96d2"
      },
      "execution_count": 57,
      "outputs": [
        {
          "output_type": "execute_result",
          "data": {
            "text/plain": [
              "RandomForestClassifier(n_estimators=150)"
            ]
          },
          "metadata": {},
          "execution_count": 57
        }
      ]
    },
    {
      "cell_type": "code",
      "source": [
        "y_pred_weeks_2 = clf_weeks_2.predict(X_test_weeks)"
      ],
      "metadata": {
        "id": "msIxx80xNFMf"
      },
      "execution_count": 58,
      "outputs": []
    },
    {
      "cell_type": "code",
      "source": [
        "print(\"Accuracy:\", metrics.accuracy_score(y_test_weeks, y_pred_weeks_2))"
      ],
      "metadata": {
        "colab": {
          "base_uri": "https://localhost:8080/"
        },
        "id": "iDXbl0-JNJtL",
        "outputId": "138ddc81-db19-4053-bd92-a6376b55fb09"
      },
      "execution_count": 59,
      "outputs": [
        {
          "output_type": "stream",
          "name": "stdout",
          "text": [
            "Accuracy: 0.5454545454545454\n"
          ]
        }
      ]
    },
    {
      "cell_type": "markdown",
      "source": [
        "More estimators do not improve accuracy in this case. In some cases keeps the same, in other it even gets a worse result.\n",
        "\n",
        "Values shown:\n",
        "\n",
        "* Accuracy: 0.5454545454545454\n",
        "* Accuracy: 0.6363636363636364"
      ],
      "metadata": {
        "id": "cRaLe4wQD_Vn"
      }
    },
    {
      "cell_type": "markdown",
      "source": [
        "Since there is not an improvement by increasing the number of estimators. Let's try to decrease them and see what happens."
      ],
      "metadata": {
        "id": "yI1RlKL3NNdH"
      }
    },
    {
      "cell_type": "code",
      "source": [
        "clf_weeks_3 = RandomForestClassifier(n_estimators=50)\n",
        "clf_weeks_3.fit(X_train_weeks,y_train_weeks)\n",
        "y_pred_weeks_3 = clf_weeks_3.predict(X_test_weeks)\n",
        "print(\"Accuracy:\", metrics.accuracy_score(y_test_weeks, y_pred_weeks_3))"
      ],
      "metadata": {
        "colab": {
          "base_uri": "https://localhost:8080/"
        },
        "id": "SETkOyiPNWsb",
        "outputId": "eb17b5ca-c5ca-4080-dd1b-25786efee5a2"
      },
      "execution_count": 61,
      "outputs": [
        {
          "output_type": "stream",
          "name": "stdout",
          "text": [
            "Accuracy: 0.6363636363636364\n"
          ]
        }
      ]
    },
    {
      "cell_type": "markdown",
      "source": [
        "After training multiple times (with 50, 100, 200, 300 estimators). We conclude that the model is not getting any better than 63% (sometimes 68%) at predicting new values.\n",
        "\n",
        "Let's train the models with the other two approaches discussed during our feature engineering process to see if we get better results."
      ],
      "metadata": {
        "id": "oxC2xAHIN-83"
      }
    },
    {
      "cell_type": "markdown",
      "source": [
        "Let's now try with the Dataframe grouped by stat"
      ],
      "metadata": {
        "id": "w1sNyF1xURdW"
      }
    },
    {
      "cell_type": "code",
      "source": [
        "clf_stats_1 = RandomForestClassifier(n_estimators=100)\n",
        "clf_stats_1.fit(X_train_stats,y_train_stats)\n",
        "y_pred_stats_1 = clf_stats_1.predict(X_test_stats)\n",
        "print(\"Accuracy:\", metrics.accuracy_score(y_test_stats, y_pred_stats_1))"
      ],
      "metadata": {
        "colab": {
          "base_uri": "https://localhost:8080/"
        },
        "id": "QUcYikbZU7kF",
        "outputId": "c1e38f5d-3216-43b4-eb6b-9646c9af3f06"
      },
      "execution_count": 64,
      "outputs": [
        {
          "output_type": "stream",
          "name": "stdout",
          "text": [
            "Accuracy: 0.5909090909090909\n"
          ]
        }
      ]
    },
    {
      "cell_type": "markdown",
      "source": [
        "Other representation of our data did not help the model. \n",
        "Accuracy is still in the 0.54 - 0.63 range."
      ],
      "metadata": {
        "id": "r7plzRFIHKU9"
      }
    },
    {
      "cell_type": "markdown",
      "source": [
        "Let's now try with the All logs dataframe."
      ],
      "metadata": {
        "id": "f7yToCFCVbd-"
      }
    },
    {
      "cell_type": "code",
      "source": [
        "clf_all_1 = RandomForestClassifier(n_estimators=100)\n",
        "clf_all_1.fit(X_train_all,y_train_all)\n",
        "y_pred_all_1 = clf_all_1.predict(X_test_all)\n",
        "print(\"Accuracy:\", metrics.accuracy_score(y_test_all, y_pred_all_1))"
      ],
      "metadata": {
        "colab": {
          "base_uri": "https://localhost:8080/"
        },
        "id": "NGWrzZSjI1J6",
        "outputId": "836908fa-0274-4d84-d8ef-b555276b4b54"
      },
      "execution_count": 74,
      "outputs": [
        {
          "output_type": "stream",
          "name": "stdout",
          "text": [
            "Accuracy: 0.6818181818181818\n"
          ]
        }
      ]
    },
    {
      "cell_type": "markdown",
      "source": [
        "The model does not get better than 68% accuracy with all the course logs. Staying most of the trainings between 54% and 63%. Since this is one of the best classifiers methods out there we start getting an idea of what can be answered with the data available and the chosen features."
      ],
      "metadata": {
        "id": "sR3UvUSeJeqT"
      }
    },
    {
      "cell_type": "markdown",
      "source": [
        "### 3.2 - KNN"
      ],
      "metadata": {
        "id": "5Gv5RncUkdBb"
      }
    },
    {
      "cell_type": "markdown",
      "source": [
        "Let's now try KNN for its simplicity and see how it compares to our random forest classifier"
      ],
      "metadata": {
        "id": "odv6URqgaGmW"
      }
    },
    {
      "cell_type": "code",
      "source": [
        "# See the distinct classes in order to define the neighbours for KNN\n",
        "students_df.Grade.unique()"
      ],
      "metadata": {
        "colab": {
          "base_uri": "https://localhost:8080/"
        },
        "id": "ULrcYcwIaGPf",
        "outputId": "20f7f8a1-b75c-46b4-f535-866f4cc75073"
      },
      "execution_count": 75,
      "outputs": [
        {
          "output_type": "execute_result",
          "data": {
            "text/plain": [
              "array([4, 3, 2, 0, 5])"
            ]
          },
          "metadata": {},
          "execution_count": 75
        }
      ]
    },
    {
      "cell_type": "code",
      "source": [
        "from sklearn.neighbors import KNeighborsClassifier"
      ],
      "metadata": {
        "id": "ED4wiS7okhoy"
      },
      "execution_count": 76,
      "outputs": []
    },
    {
      "cell_type": "code",
      "source": [
        "knn_weeks_model = KNeighborsClassifier(n_neighbors=5)"
      ],
      "metadata": {
        "id": "ItkIR6Ulavto"
      },
      "execution_count": 77,
      "outputs": []
    },
    {
      "cell_type": "code",
      "source": [
        "knn_weeks_model.fit(X_train_weeks, y_train_weeks)"
      ],
      "metadata": {
        "colab": {
          "base_uri": "https://localhost:8080/"
        },
        "id": "bvfWf0jpa_ey",
        "outputId": "fbbf51f7-4c82-450d-eac3-f0ca6dcfe4ad"
      },
      "execution_count": 78,
      "outputs": [
        {
          "output_type": "execute_result",
          "data": {
            "text/plain": [
              "KNeighborsClassifier()"
            ]
          },
          "metadata": {},
          "execution_count": 78
        }
      ]
    },
    {
      "cell_type": "code",
      "source": [
        "y_pred_knn_weeks = knn_weeks_model.predict(X_test_weeks)"
      ],
      "metadata": {
        "id": "QSYxdjk9bIVs"
      },
      "execution_count": 79,
      "outputs": []
    },
    {
      "cell_type": "code",
      "source": [
        "print(\"Accuracy:\",metrics.accuracy_score(y_test_weeks, y_pred_knn_weeks))"
      ],
      "metadata": {
        "colab": {
          "base_uri": "https://localhost:8080/"
        },
        "id": "o_Km3FN1bWCZ",
        "outputId": "3439ef57-2b66-4735-8430-850ef8181d9e"
      },
      "execution_count": 81,
      "outputs": [
        {
          "output_type": "stream",
          "name": "stdout",
          "text": [
            "Accuracy: 0.5454545454545454\n"
          ]
        }
      ]
    },
    {
      "cell_type": "markdown",
      "source": [
        "Let's now train with the data grouped by stats"
      ],
      "metadata": {
        "id": "txpkfZrFcCyL"
      }
    },
    {
      "cell_type": "code",
      "source": [
        "knn_stats_model = KNeighborsClassifier(n_neighbors=5)\n",
        "knn_stats_model.fit(X_train_stats, y_train_stats)\n",
        "y_pred_knn_stats = knn_stats_model.predict(X_test_stats)\n",
        "print(\"Accuracy:\",metrics.accuracy_score(y_test_stats, y_pred_knn_stats))"
      ],
      "metadata": {
        "colab": {
          "base_uri": "https://localhost:8080/"
        },
        "id": "lVW6jXQhb0ad",
        "outputId": "49e59da2-c20c-4dec-e763-71e7a9042ef1"
      },
      "execution_count": 82,
      "outputs": [
        {
          "output_type": "stream",
          "name": "stdout",
          "text": [
            "Accuracy: 0.5454545454545454\n"
          ]
        }
      ]
    },
    {
      "cell_type": "markdown",
      "source": [
        "Let's now try with the all logs dataset"
      ],
      "metadata": {
        "id": "mHuV6M04RSOp"
      }
    },
    {
      "cell_type": "code",
      "source": [
        "knn_all_model = KNeighborsClassifier(n_neighbors=5)\n",
        "knn_all_model.fit(X_train_all, y_train_all)\n",
        "y_pred_knn_all = knn_all_model.predict(X_test_all)\n",
        "print(\"Accuracy:\",metrics.accuracy_score(y_test_all, y_pred_knn_all))"
      ],
      "metadata": {
        "colab": {
          "base_uri": "https://localhost:8080/"
        },
        "id": "RB84-qxSRVj3",
        "outputId": "4bfee2df-7f77-4791-a1d0-740c18ec66da"
      },
      "execution_count": 83,
      "outputs": [
        {
          "output_type": "stream",
          "name": "stdout",
          "text": [
            "Accuracy: 0.5\n"
          ]
        }
      ]
    },
    {
      "cell_type": "markdown",
      "source": [
        "There is not an improvement in the accuracy when using KNN. It actually got a smaller worse result for our last dataframe which shows a small advantage by the random forest classifier, showing that having a ensemble method can clearly improve our model performance. However, this also shows that no matter how good your model is, your data is the key. We can now conclude that the available data and chosen features do not describe well our target."
      ],
      "metadata": {
        "id": "XA_um2d3PK3K"
      }
    },
    {
      "cell_type": "markdown",
      "source": [
        "Neither of the models predict the students' final grade with high confidence. With that in mind Random Forest Classifier is the clear winner out of this. Given its way of working, it produces slighly different results when repeating the training process with the same data, ranging between 54%-68% accuracy. On the other hand, KNN never got a better accuracy than 54% and it actually decreased for one of the scenarios until simply 50% (missing the right answer half the time!).\n",
        "\n",
        "The most direct comparison which we can make right now is how they both work. KNN is a simple type of model which uses the distances between data points to form groups and classify data, while Random Forest uses an esemble of decision trees which can produce more accurate results by protecting trees from the errors of other estimators.\n"
      ],
      "metadata": {
        "id": "gXvrW-gHToRK"
      }
    },
    {
      "cell_type": "markdown",
      "source": [
        "## Step 4 – Performance Evaluation\n",
        "* Accuracy, Confusion Matrix, Precision, Recall, F1-score\n",
        "* Model Tuning Ideas\n"
      ],
      "metadata": {
        "id": "BEFEzw36lKOE"
      }
    },
    {
      "cell_type": "markdown",
      "source": [
        "Models Performance has been partially cover in the previous section \"Step 3 - Models Training\". We summarize those results in here, add new performance metrics, and also discuss what could be possible changes to improve our models. Finally, we show some visualizations in order to give a better picture of our models performance."
      ],
      "metadata": {
        "id": "hrScFqbAlKGT"
      }
    },
    {
      "cell_type": "markdown",
      "source": [
        "Random Forest Classifiers Accuracy"
      ],
      "metadata": {
        "id": "VdZF41hWnYkC"
      }
    },
    {
      "cell_type": "code",
      "source": [
        "# Random Forest Classifier [100 estimators] [dataframe grouped by week]\n",
        "print(\"Accuracy:\", metrics.accuracy_score(y_test_weeks, y_pred_weeks_1))\n",
        "\n",
        "# Random Forest Classifier [150 estimators] [dataframe grouped by week]\n",
        "print(\"Accuracy:\", metrics.accuracy_score(y_test_weeks, y_pred_weeks_2))\n",
        "\n",
        "# Random Forest Classifier [50 estimators] [dataframe grouped by week]\n",
        "print(\"Accuracy:\", metrics.accuracy_score(y_test_weeks, y_pred_weeks_3))\n",
        "\n",
        "# Random Forest Classifier [100 estimators] [dataframe grouped by stat]\n",
        "print(\"Accuracy:\", metrics.accuracy_score(y_test_stats, y_pred_stats_1))\n",
        "\n",
        "# Random Forest Classifier [100 estimators] [all logs dataframe]\n",
        "print(\"Accuracy:\", metrics.accuracy_score(y_test_all, y_pred_all_1))"
      ],
      "metadata": {
        "id": "j-UcqO_2lLcw",
        "colab": {
          "base_uri": "https://localhost:8080/"
        },
        "outputId": "2797f8f1-9ab9-4afc-cffb-6510da1edbac"
      },
      "execution_count": 84,
      "outputs": [
        {
          "output_type": "stream",
          "name": "stdout",
          "text": [
            "Accuracy: 0.6818181818181818\n",
            "Accuracy: 0.5454545454545454\n",
            "Accuracy: 0.6363636363636364\n",
            "Accuracy: 0.5909090909090909\n",
            "Accuracy: 0.6818181818181818\n"
          ]
        }
      ]
    },
    {
      "cell_type": "markdown",
      "source": [
        "KNN Accuracy"
      ],
      "metadata": {
        "id": "r15ZEScanirS"
      }
    },
    {
      "cell_type": "code",
      "source": [
        "# KNN [k = 5] [dataframe grouped by week]\n",
        "print(\"Accuracy:\",metrics.accuracy_score(y_test_weeks, y_pred_knn_weeks))\n",
        "\n",
        "# KNN [k = 5] [dataframe grouped by stat]\n",
        "print(\"Accuracy:\",metrics.accuracy_score(y_test_stats, y_pred_knn_stats))\n",
        "\n",
        "# KNN [k = 5] [all logs dataframe]\n",
        "print(\"Accuracy:\",metrics.accuracy_score(y_test_all, y_pred_knn_all))"
      ],
      "metadata": {
        "colab": {
          "base_uri": "https://localhost:8080/"
        },
        "id": "NkICIG5mnkTC",
        "outputId": "0eeb6fc6-e2bf-40ee-bbb8-76e97f9734eb"
      },
      "execution_count": 85,
      "outputs": [
        {
          "output_type": "stream",
          "name": "stdout",
          "text": [
            "Accuracy: 0.5454545454545454\n",
            "Accuracy: 0.5454545454545454\n",
            "Accuracy: 0.5\n"
          ]
        }
      ]
    },
    {
      "cell_type": "markdown",
      "source": [
        "Although the accuracy gives us a first hint at how our models are doing, the accuracy is not a great measure of classifier performance when the classes are imbalanced. We need more information to understand how well the model really performed for each class. \n",
        "Let’s find out with a confusion matrix. A confusion matrix is a way to express how many of a classifier’s predictions were correct, and when incorrect, where the classifier got confused. https://medium.com/analytics-vidhya/evaluating-a-random-forest-model-9d165595ad56"
      ],
      "metadata": {
        "id": "abr4rsGNr4I2"
      }
    },
    {
      "cell_type": "code",
      "source": [
        "from sklearn.metrics import accuracy_score, confusion_matrix, classification_report"
      ],
      "metadata": {
        "id": "U6-xRrXhoY1n"
      },
      "execution_count": 86,
      "outputs": []
    },
    {
      "cell_type": "code",
      "source": [
        "# View confusion matrix for test data and predictions\n",
        "confusion_matrix(y_test_stats, y_pred_stats_1)"
      ],
      "metadata": {
        "colab": {
          "base_uri": "https://localhost:8080/"
        },
        "id": "cudljFRLohLt",
        "outputId": "6ef519d5-7b68-497c-833b-8d869c714325"
      },
      "execution_count": 87,
      "outputs": [
        {
          "output_type": "execute_result",
          "data": {
            "text/plain": [
              "array([[10,  0,  0,  0,  0],\n",
              "       [ 1,  0,  0,  0,  0],\n",
              "       [ 0,  0,  1,  1,  0],\n",
              "       [ 0,  1,  2,  2,  1],\n",
              "       [ 1,  0,  2,  0,  0]])"
            ]
          },
          "metadata": {},
          "execution_count": 87
        }
      ]
    },
    {
      "cell_type": "code",
      "source": [
        "import numpy as np"
      ],
      "metadata": {
        "id": "MdtEnoE-qFcx"
      },
      "execution_count": 88,
      "outputs": []
    },
    {
      "cell_type": "code",
      "source": [
        "# Get and reshape confusion matrix data\n",
        "matrix = confusion_matrix(y_test_stats, y_pred_stats_1)\n",
        "matrix = matrix.astype('float') / matrix.sum(axis=1)[:, np.newaxis]\n",
        "\n",
        "# Build the plot\n",
        "plt.figure(figsize=(10,4))\n",
        "sns.set(font_scale=1.4)\n",
        "sns.heatmap(matrix, annot=True, annot_kws={'size':10},\n",
        "            cmap=plt.cm.Greens, linewidths=0.2)\n",
        "\n",
        "# Add labels to the plot\n",
        "class_names = ['0', '2', '3', '4', '5']\n",
        "\n",
        "plt.xlabel('Predicted label')\n",
        "plt.ylabel('True label')\n",
        "plt.title('Confusion Matrix for Random Forest Model')\n",
        "plt.show()"
      ],
      "metadata": {
        "colab": {
          "base_uri": "https://localhost:8080/",
          "height": 315
        },
        "id": "7CrScdaEp7cv",
        "outputId": "55030a63-38e3-4a7c-b859-34e19a93d3e8"
      },
      "execution_count": 89,
      "outputs": [
        {
          "output_type": "display_data",
          "data": {
            "text/plain": [
              "<Figure size 720x288 with 2 Axes>"
            ],
            "image/png": "[encoded data removed]"
          },
          "metadata": {
            "needs_background": "light"
          }
        }
      ]
    },
    {
      "cell_type": "markdown",
      "source": [
        "Now it’s easier to see that our classifier struggled at predicting multiple labels. For example, Class \"2\", which was mislabed half the time as class \"3\"."
      ],
      "metadata": {
        "id": "r59GMt7hsMeo"
      }
    },
    {
      "cell_type": "code",
      "source": [
        "# View the classification report for test data and predictions\n",
        "print(classification_report(y_test_stats, y_pred_stats_1))"
      ],
      "metadata": {
        "colab": {
          "base_uri": "https://localhost:8080/"
        },
        "id": "sJIV5kMstwMS",
        "outputId": "3621d2a1-8534-4f4d-d3f5-00b54d8c2504"
      },
      "execution_count": 90,
      "outputs": [
        {
          "output_type": "stream",
          "name": "stdout",
          "text": [
            "              precision    recall  f1-score   support\n",
            "\n",
            "           0       0.83      1.00      0.91        10\n",
            "           2       0.00      0.00      0.00         1\n",
            "           3       0.20      0.50      0.29         2\n",
            "           4       0.67      0.33      0.44         6\n",
            "           5       0.00      0.00      0.00         3\n",
            "\n",
            "    accuracy                           0.59        22\n",
            "   macro avg       0.34      0.37      0.33        22\n",
            "weighted avg       0.58      0.59      0.56        22\n",
            "\n"
          ]
        }
      ]
    },
    {
      "cell_type": "markdown",
      "source": [
        "Possible improvements for our data and models:\n",
        "* Add new features which provide a more clear representation of students interactions with the plaform.\n",
        "* Combine the final grades into two classes (pass or fail) to create a binary classifier.\n",
        "* For the KNN model, test different distance measures. These distances are used to calculate the similarity between data points. A good distance metric boosts the performance of a model.\n",
        "\n"
      ],
      "metadata": {
        "id": "yl8_MLrHmHnh"
      }
    },
    {
      "cell_type": "markdown",
      "source": [
        "## Step 5 – Important features\n",
        "Most important features in predicting students’ final grade"
      ],
      "metadata": {
        "id": "bEme7QA7lceB"
      }
    },
    {
      "cell_type": "markdown",
      "source": [
        "Since we have concluded that our models do not accurately predict students' performance, we consider the following features are not the most important for a correct prediction, but instead the most relevant for our current model. What our models consider better to predict a grade, which might clearly be innacurate given our results."
      ],
      "metadata": {
        "id": "DmkxSQx7x2GQ"
      }
    },
    {
      "cell_type": "markdown",
      "source": [
        "### Important Features for Dataframe grouped by week"
      ],
      "metadata": {
        "id": "8BWj3ud_1ZUU"
      }
    },
    {
      "cell_type": "markdown",
      "source": [
        "https://vitalflux.com/feature-importance-random-forest-classifier-python/"
      ],
      "metadata": {
        "id": "JWizDsqGqYtU"
      }
    },
    {
      "cell_type": "code",
      "source": [
        "importances = clf_weeks_1.feature_importances_\n",
        "#\n",
        "# Sort the feature importance in descending order\n",
        "#\n",
        "sorted_indices = np.argsort(importances)[::-1]\n",
        "\n",
        "weeks_df = pd.concat([weeks_agg_df, students_df.Grade], axis=1, join='inner')\n",
        "\n",
        "feat_labels = weeks_df.columns[1:]\n",
        " \n",
        "for f in range(X_train_weeks.shape[1]):\n",
        "    print(\"%2d) %-*s %f\" % (f + 1, 30,\n",
        "                            feat_labels[sorted_indices[f]],\n",
        "                            importances[sorted_indices[f]]))"
      ],
      "metadata": {
        "id": "S1NwlFg_lgjm",
        "colab": {
          "base_uri": "https://localhost:8080/"
        },
        "outputId": "abebedcc-585c-4520-e82c-267f846e9f53"
      },
      "execution_count": 91,
      "outputs": [
        {
          "output_type": "stream",
          "name": "stdout",
          "text": [
            " 1) week_6_logs_agg                0.195385\n",
            " 2) week_7_logs_agg                0.147462\n",
            " 3) Grade                          0.142527\n",
            " 4) week_8_logs_agg                0.115338\n",
            " 5) week_9_logs_agg                0.097070\n",
            " 6) week_4_logs_agg                0.091700\n",
            " 7) week_5_logs_agg                0.084354\n",
            " 8) week_2_logs_agg                0.071750\n",
            " 9) week_3_logs_agg                0.054414\n"
          ]
        }
      ]
    },
    {
      "cell_type": "code",
      "source": [
        "plt.title('Feature Importance')\n",
        "plt.bar(range(X_train_weeks.shape[1]), importances[sorted_indices], align='center')\n",
        "plt.xticks(range(X_train_weeks.shape[1]), X_train_weeks.columns[sorted_indices], rotation=90)\n",
        "plt.tight_layout()\n",
        "plt.show()"
      ],
      "metadata": {
        "colab": {
          "base_uri": "https://localhost:8080/",
          "height": 283
        },
        "id": "B2hudRizzy41",
        "outputId": "1b98d3c9-9bc2-448a-ba70-9f59241e3c78"
      },
      "execution_count": 92,
      "outputs": [
        {
          "output_type": "display_data",
          "data": {
            "text/plain": [
              "<Figure size 432x288 with 1 Axes>"
            ],
            "image/png": "[encoded data removed]"
          },
          "metadata": {}
        }
      ]
    },
    {
      "cell_type": "markdown",
      "source": [
        "The three most relevant features are the logs aggregates for week 5, week 6 and week 9, which might be an indication on how interactions with the plaform increases towards the middle and end of the course."
      ],
      "metadata": {
        "id": "j3RPI8vy1Df9"
      }
    },
    {
      "cell_type": "markdown",
      "source": [
        "### Important Features for Dataframe grouped by stat"
      ],
      "metadata": {
        "id": "5eoam7eZ1h-p"
      }
    },
    {
      "cell_type": "markdown",
      "source": [
        "https://vitalflux.com/feature-importance-random-forest-classifier-python/"
      ],
      "metadata": {
        "id": "xNvYDqVoqasz"
      }
    },
    {
      "cell_type": "code",
      "source": [
        "importances = clf_stats_1.feature_importances_\n",
        "#\n",
        "# Sort the feature importance in descending order\n",
        "#\n",
        "sorted_indices = np.argsort(importances)[::-1]\n",
        "\n",
        "stats_df = pd.concat([stats_agg_df, students_df.Grade], axis=1, join='inner')\n",
        "\n",
        "feat_labels = stats_df.columns[1:]\n",
        " \n",
        "for f in range(X_train_stats.shape[1]):\n",
        "    print(\"%2d) %-*s %f\" % (f + 1, 30,\n",
        "                            feat_labels[sorted_indices[f]],\n",
        "                            importances[sorted_indices[f]]))"
      ],
      "metadata": {
        "colab": {
          "base_uri": "https://localhost:8080/"
        },
        "id": "90Yaq7Gn1iox",
        "outputId": "38499990-64c1-4bce-c1ac-9dfead95ee39"
      },
      "execution_count": 93,
      "outputs": [
        {
          "output_type": "stream",
          "name": "stdout",
          "text": [
            " 1) stat_2_agg                     0.348538\n",
            " 2) stat_1_agg                     0.342166\n",
            " 3) Grade                          0.165164\n",
            " 4) stat_3_agg                     0.144131\n"
          ]
        }
      ]
    },
    {
      "cell_type": "code",
      "source": [
        "plt.title('Feature Importance')\n",
        "plt.bar(range(X_train_stats.shape[1]), importances[sorted_indices], align='center')\n",
        "plt.xticks(range(X_train_stats.shape[1]), X_train_stats.columns[sorted_indices], rotation=90)\n",
        "plt.tight_layout()\n",
        "plt.show()"
      ],
      "metadata": {
        "colab": {
          "base_uri": "https://localhost:8080/",
          "height": 283
        },
        "id": "S57n1HjR1nkH",
        "outputId": "9a8f096b-6237-4ab1-c3fd-faf1f8322fc3"
      },
      "execution_count": 94,
      "outputs": [
        {
          "output_type": "display_data",
          "data": {
            "text/plain": [
              "<Figure size 432x288 with 1 Axes>"
            ],
            "image/png": "[encoded data removed]"
          },
          "metadata": {}
        }
      ]
    },
    {
      "cell_type": "markdown",
      "source": [
        "Stat 1 and Stat 0 are the most important features for this representation of our data. \n",
        "\n",
        "Stat 1 is related to assignments, including quizzes attempts, and project submissions, this might be an indicator that the more a student engage with graded activities, better results it might get.\n",
        "\n",
        "Stat 0 corresponds to the lessons and content, which might indicate us that the more a student prepares with the resources available in the platform, the highest the change to succeed in the course.\n",
        "\n",
        "We can interpret from this, while answering our third project question, that the most relevant interactions that students have with the plaform are submitting assignments and reviewing learning content. In third place, we have Stat 3, which is forum related and it could hint at the value of checking the forum to receive help or offer help during the course."
      ],
      "metadata": {
        "id": "iztn-6Tq2VDV"
      }
    },
    {
      "cell_type": "markdown",
      "source": [
        "The \"All logs dataframe\" did not provide relevant information in terms of feature importance. Given the amount of features the importance was dispersed among the features and did not show a clear trend. Therefore, is not further explored in here.\n",
        "\n",
        "However, we do recognize that going back to our feature engineering process with a subset of these features might give a new chance to our models to improve their accuracy. We consider this for future work."
      ],
      "metadata": {
        "id": "FF_ep_YF4M5s"
      }
    }
  ]
}