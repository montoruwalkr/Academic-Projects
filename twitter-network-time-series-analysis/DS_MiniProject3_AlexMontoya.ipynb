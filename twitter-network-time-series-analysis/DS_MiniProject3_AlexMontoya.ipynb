{
  "nbformat": 4,
  "nbformat_minor": 0,
  "metadata": {
    "colab": {
      "provenance": [],
      "collapsed_sections": [
        "m0kNfEAzTWJs",
        "PF5EQGJslXge",
        "H9SKIzNjWBD9",
        "Sv_Tf-lUssES",
        "HQnohv7xwOy8",
        "5d90OkuIwRmj",
        "76CyKFKPwT20",
        "NpM-bK89wYUh",
        "TeYx1x1LNhWe",
        "XHwniTpuPrLt",
        "nHThbeHivzk7",
        "oKuzBfzlvj-1",
        "vgR1rGkxxntj"
      ]
    },
    "kernelspec": {
      "name": "python3",
      "display_name": "Python 3"
    },
    "language_info": {
      "name": "python"
    }
  },
  "cells": [
    {
      "cell_type": "markdown",
      "source": [
        "# Data Science - Mini Project 3 - Alex Montoya Franco\n",
        "## Twitter Network Analysis\n",
        "\n",
        "With this mini project we intend to answer the following questions:\n",
        "\n",
        "1. Is the movie going experience still relevant in today’s pop culture compared to the attention that streaming services are facing?\n",
        "\n",
        "2. What is the evolution of consumer’s behaviour, denoted by number of tweets, trending topics, hashtags, social interactions, in terms of theatrical experiences vs streaming services? \n",
        "\n",
        "3. Is it possible to predict this behaviour for the next few years?"
      ],
      "metadata": {
        "id": "SdMoBsGyO_Ey"
      }
    },
    {
      "cell_type": "markdown",
      "source": [
        "## Data Gathering Part (API Credentials Required)\n",
        "For this part Twitter's Academic Research Access is needed. If you have it, feel free to put your credentials in here to run the cells. If not, the cells' outputs are prove of the execution flow. The data is finally loaded to csv files which are attached to the submission.\n",
        "The second part of the notebook therefore uses the csv to load the data and make the required analysis."
      ],
      "metadata": {
        "id": "rimcLH4DJJGf"
      }
    },
    {
      "cell_type": "markdown",
      "source": [
        "### Setting up Tweepy"
      ],
      "metadata": {
        "id": "wdhJf4olTP0h"
      }
    },
    {
      "cell_type": "code",
      "source": [
        "# Using tweepy to conveniently access twitter's API data \n",
        "! pip install tweepy==4.12.0"
      ],
      "metadata": {
        "colab": {
          "base_uri": "https://localhost:8080/"
        },
        "id": "FrQmhem6Pal8",
        "outputId": "f040c056-7ecd-44a0-bc46-d153a91ff172"
      },
      "execution_count": null,
      "outputs": [
        {
          "output_type": "stream",
          "name": "stdout",
          "text": [
            "Looking in indexes: https://pypi.org/simple, https://us-python.pkg.dev/colab-wheels/public/simple/\n",
            "Collecting tweepy==4.12.0\n",
            "  Downloading tweepy-4.12.0-py3-none-any.whl (101 kB)\n",
            "\u001b[K     |████████████████████████████████| 101 kB 9.8 MB/s \n",
            "\u001b[?25hCollecting requests<3,>=2.27.0\n",
            "  Downloading requests-2.28.1-py3-none-any.whl (62 kB)\n",
            "\u001b[K     |████████████████████████████████| 62 kB 1.6 MB/s \n",
            "\u001b[?25hRequirement already satisfied: requests-oauthlib<2,>=1.2.0 in /usr/local/lib/python3.7/dist-packages (from tweepy==4.12.0) (1.3.1)\n",
            "Requirement already satisfied: oauthlib<4,>=3.2.0 in /usr/local/lib/python3.7/dist-packages (from tweepy==4.12.0) (3.2.2)\n",
            "Requirement already satisfied: urllib3<1.27,>=1.21.1 in /usr/local/lib/python3.7/dist-packages (from requests<3,>=2.27.0->tweepy==4.12.0) (1.24.3)\n",
            "Requirement already satisfied: certifi>=2017.4.17 in /usr/local/lib/python3.7/dist-packages (from requests<3,>=2.27.0->tweepy==4.12.0) (2022.9.24)\n",
            "Requirement already satisfied: charset-normalizer<3,>=2 in /usr/local/lib/python3.7/dist-packages (from requests<3,>=2.27.0->tweepy==4.12.0) (2.1.1)\n",
            "Requirement already satisfied: idna<4,>=2.5 in /usr/local/lib/python3.7/dist-packages (from requests<3,>=2.27.0->tweepy==4.12.0) (2.10)\n",
            "Installing collected packages: requests, tweepy\n",
            "  Attempting uninstall: requests\n",
            "    Found existing installation: requests 2.23.0\n",
            "    Uninstalling requests-2.23.0:\n",
            "      Successfully uninstalled requests-2.23.0\n",
            "  Attempting uninstall: tweepy\n",
            "    Found existing installation: tweepy 3.10.0\n",
            "    Uninstalling tweepy-3.10.0:\n",
            "      Successfully uninstalled tweepy-3.10.0\n",
            "Successfully installed requests-2.28.1 tweepy-4.12.0\n"
          ]
        }
      ]
    },
    {
      "cell_type": "code",
      "source": [
        "import tweepy"
      ],
      "metadata": {
        "id": "DG995xiCR_BH"
      },
      "execution_count": null,
      "outputs": []
    },
    {
      "cell_type": "markdown",
      "source": [
        "Academic Research Access was requested in order to get historical data from Twitter and be able to build our time series and forecasting. The access was granted. Here the different keys were copied to authenticate us against the API. However, for the submission the tokens will be removed and further cells (in the second part of this notebook) can be executed using the csv files generated."
      ],
      "metadata": {
        "id": "nt7seELNSCTw"
      }
    },
    {
      "cell_type": "code",
      "source": [
        "# Academic Research Access Tokens\n",
        "api_key = \"\"\n",
        "api_key_secret = \"\"\n",
        "\n",
        "access_token = \"\"\n",
        "access_token_secret = \"\"\n",
        "\n",
        "bearer_token = \"\""
      ],
      "metadata": {
        "id": "UeGx04TFR_2r"
      },
      "execution_count": null,
      "outputs": []
    },
    {
      "cell_type": "code",
      "source": [
        "# Building client for requesting data to the API\n",
        "client = tweepy.Client(\n",
        "    wait_on_rate_limit = True,\n",
        "    consumer_key = api_key,\n",
        "    consumer_secret = api_key_secret,\n",
        "    access_token = access_token,\n",
        "    access_token_secret = access_token_secret,\n",
        "    bearer_token = bearer_token,\n",
        ")"
      ],
      "metadata": {
        "id": "zrs9GyJzTDAx"
      },
      "execution_count": null,
      "outputs": []
    },
    {
      "cell_type": "code",
      "source": [
        "client"
      ],
      "metadata": {
        "colab": {
          "base_uri": "https://localhost:8080/"
        },
        "id": "FdTmLMTETJQy",
        "outputId": "c6a9d314-a1c6-4c71-c54d-ee817f1e3318"
      },
      "execution_count": null,
      "outputs": [
        {
          "output_type": "execute_result",
          "data": {
            "text/plain": [
              "<tweepy.client.Client at 0x7fa179a76190>"
            ]
          },
          "metadata": {},
          "execution_count": 33
        }
      ]
    },
    {
      "cell_type": "markdown",
      "source": [
        "### Testing Twitter's Endpoints"
      ],
      "metadata": {
        "id": "m0kNfEAzTWJs"
      }
    },
    {
      "cell_type": "markdown",
      "source": [
        "[Tweet Counts](https://developer.twitter.com/en/docs/twitter-api/tweets/counts/introduction)"
      ],
      "metadata": {
        "id": "TDrvlkQeUhuC"
      }
    },
    {
      "cell_type": "code",
      "source": [
        "# Count the number of tweets mentioning netflix in a given day\n",
        "test1_counts = client.get_all_tweets_count(query='netflix -is:retweet', granularity='day', start_time='2022-03-10T00:01:00.000Z', end_time='2022-03-10T23:59:00.000Z')"
      ],
      "metadata": {
        "id": "ajYJc5f3TaPp"
      },
      "execution_count": null,
      "outputs": []
    },
    {
      "cell_type": "code",
      "source": [
        "for i in test1_counts.data:\n",
        "    print(i[\"tweet_count\"])"
      ],
      "metadata": {
        "colab": {
          "base_uri": "https://localhost:8080/"
        },
        "id": "yRutOZD5V1kt",
        "outputId": "a52cddbe-b364-483d-d2f3-5e71135cd053"
      },
      "execution_count": null,
      "outputs": [
        {
          "output_type": "stream",
          "name": "stdout",
          "text": [
            "98722\n"
          ]
        }
      ]
    },
    {
      "cell_type": "markdown",
      "source": [
        "[Search Tweets](https://developer.twitter.com/en/docs/twitter-api/tweets/search/introduction)"
      ],
      "metadata": {
        "id": "VEMF7c2rU-bN"
      }
    },
    {
      "cell_type": "code",
      "source": [
        "# Get all tweets mentioning netflix in a given day\n",
        "test1_search = client.search_all_tweets(\n",
        "    query = \"netflix -is:retweet lang:en\",\n",
        "    start_time='2022-03-10T00:01:00.000Z', \n",
        "    end_time='2022-03-10T23:59:00.000Z',\n",
        "    expansions = [\"author_id\", \"geo.place_id\"],\n",
        "    tweet_fields = [\"created_at\", \"public_metrics\", \"text\"],\n",
        "    user_fields = [\"id\", \"name\", \"public_metrics\", \"username\", \"verified\"],\n",
        "    place_fields = [\"id\", \"name\", \"country\", \"country_code\"],\n",
        "    max_results = 10\n",
        ")"
      ],
      "metadata": {
        "id": "BibDiGxHVB_d"
      },
      "execution_count": null,
      "outputs": []
    },
    {
      "cell_type": "code",
      "source": [
        "test1_search.data[9].data"
      ],
      "metadata": {
        "colab": {
          "base_uri": "https://localhost:8080/"
        },
        "id": "BTwTQ7WAaNQK",
        "outputId": "119f31f3-36a5-4372-dbce-68dad920c411"
      },
      "execution_count": null,
      "outputs": [
        {
          "output_type": "execute_result",
          "data": {
            "text/plain": [
              "{'created_at': '2022-03-10T23:58:33.000Z',\n",
              " 'author_id': '81836744',\n",
              " 'text': 'No one told me how good ‘Good Girls’ on Netflix is. 🔥',\n",
              " 'public_metrics': {'retweet_count': 0,\n",
              "  'reply_count': 1,\n",
              "  'like_count': 1,\n",
              "  'quote_count': 0},\n",
              " 'edit_history_tweet_ids': ['1502071441663176714'],\n",
              " 'id': '1502071441663176714'}"
            ]
          },
          "metadata": {},
          "execution_count": 9
        }
      ]
    },
    {
      "cell_type": "code",
      "source": [
        "test1_search.includes"
      ],
      "metadata": {
        "colab": {
          "base_uri": "https://localhost:8080/"
        },
        "id": "DGMwcVpEe4TY",
        "outputId": "74c6cb3e-8b1f-48f5-cfe0-e3d860852476"
      },
      "execution_count": null,
      "outputs": [
        {
          "output_type": "execute_result",
          "data": {
            "text/plain": [
              "{'users': [<User id=226255608 name=Alex Lake username=a___lake>,\n",
              "  <User id=1700621616 name=Darlene Montz🧚‍♂️🎭💛🖤⚜️ username=dandb200>,\n",
              "  <User id=914531877230465024 name=Kayla Wayla username=kayladonniece>,\n",
              "  <User id=976604963743842304 name=NetflixFilm username=NetflixFilm>,\n",
              "  <User id=1849612543 name=Bella Noches ♍️ username=beautynbullshit>,\n",
              "  <User id=1464703884954324993 name=Kewchie Mane ❄️ username=AssKetchum_>,\n",
              "  <User id=51321812 name=CoolBeans username=JordanBurnz>,\n",
              "  <User id=1404352830492794881 name=🎸 username=Gary39348024>,\n",
              "  <User id=632375790 name=librat 🛍 username=Pinkydagreat>,\n",
              "  <User id=81836744 name=theMisses.AB username=Not_Y0urBae>]}"
            ]
          },
          "metadata": {},
          "execution_count": 10
        }
      ]
    },
    {
      "cell_type": "markdown",
      "source": [
        "[Tweet Annotations](https://developer.twitter.com/en/docs/twitter-api/annotations/overview)"
      ],
      "metadata": {
        "id": "7dRGVEQ3VDq5"
      }
    },
    {
      "cell_type": "code",
      "source": [
        "# Get the tweet's context annotations e.g, [86 Movie] [3 TV Shows] [47 Brand]\n",
        "test1_context_search = client.search_recent_tweets(\n",
        "    query = \"netflix -is:retweet lang:en\",\n",
        "    tweet_fields = [\"text\", \"context_annotations\"],\n",
        "    max_results = 10,\n",
        ")"
      ],
      "metadata": {
        "id": "kgyufPyoVYVD"
      },
      "execution_count": null,
      "outputs": []
    },
    {
      "cell_type": "code",
      "source": [
        "test1_context_search.data[9].data"
      ],
      "metadata": {
        "colab": {
          "base_uri": "https://localhost:8080/"
        },
        "id": "6xhQ0OzejtRm",
        "outputId": "b5b25d79-0a8b-496a-d5b9-8c2184728d85"
      },
      "execution_count": null,
      "outputs": [
        {
          "output_type": "execute_result",
          "data": {
            "text/plain": [
              "{'text': 'Lagi cari apa bunda? Netflix spotify grammarly akun coursehero x course hero youtube canva quizlet plus picsart gold wetv scribd disney+ hotstar bisa banget ke pmjro T. Jual beli wtb need #zonauang https://t.co/IAikoUhA3h',\n",
              " 'id': '1589327569014312960',\n",
              " 'edit_history_tweet_ids': ['1589327569014312960'],\n",
              " 'context_annotations': [{'domain': {'id': '45',\n",
              "    'name': 'Brand Vertical',\n",
              "    'description': 'Top level entities that describe a Brands industry'},\n",
              "   'entity': {'id': '781974597310615553', 'name': 'Entertainment'}},\n",
              "  {'domain': {'id': '30',\n",
              "    'name': 'Entities [Entity Service]',\n",
              "    'description': 'Entity Service top level domain, every item that is in Entity Service should be in this domain'},\n",
              "   'entity': {'id': '781974597105094656',\n",
              "    'name': 'TV/Movies Related - Entertainment'}},\n",
              "  {'domain': {'id': '47',\n",
              "    'name': 'Brand',\n",
              "    'description': 'Brands and Companies'},\n",
              "   'entity': {'id': '10026367762', 'name': 'Netflix'}},\n",
              "  {'domain': {'id': '47',\n",
              "    'name': 'Brand',\n",
              "    'description': 'Brands and Companies'},\n",
              "   'entity': {'id': '1480479394401452033', 'name': 'WeTV'}},\n",
              "  {'domain': {'id': '47',\n",
              "    'name': 'Brand',\n",
              "    'description': 'Brands and Companies'},\n",
              "   'entity': {'id': '1488878370209206274', 'name': 'Disney+ Hotstar'}},\n",
              "  {'domain': {'id': '47',\n",
              "    'name': 'Brand',\n",
              "    'description': 'Brands and Companies'},\n",
              "   'entity': {'id': '1575492093224443914', 'name': 'Course Hero'}},\n",
              "  {'domain': {'id': '131',\n",
              "    'name': 'Unified Twitter Taxonomy',\n",
              "    'description': 'A taxonomy of user interests. '},\n",
              "   'entity': {'id': '10026367762', 'name': 'Netflix'}},\n",
              "  {'domain': {'id': '131',\n",
              "    'name': 'Unified Twitter Taxonomy',\n",
              "    'description': 'A taxonomy of user interests. '},\n",
              "   'entity': {'id': '1196446161223028736', 'name': 'Social media'}},\n",
              "  {'domain': {'id': '131',\n",
              "    'name': 'Unified Twitter Taxonomy',\n",
              "    'description': 'A taxonomy of user interests. '},\n",
              "   'entity': {'id': '1196447585004736512', 'name': 'Entertainment industry'}},\n",
              "  {'domain': {'id': '131',\n",
              "    'name': 'Unified Twitter Taxonomy',\n",
              "    'description': 'A taxonomy of user interests. '},\n",
              "   'entity': {'id': '1397573214239289349', 'name': 'TV streaming services'}},\n",
              "  {'domain': {'id': '131',\n",
              "    'name': 'Unified Twitter Taxonomy',\n",
              "    'description': 'A taxonomy of user interests. '},\n",
              "   'entity': {'id': '1480479394401452033', 'name': 'WeTV'}},\n",
              "  {'domain': {'id': '131',\n",
              "    'name': 'Unified Twitter Taxonomy',\n",
              "    'description': 'A taxonomy of user interests. '},\n",
              "   'entity': {'id': '1488878370209206274', 'name': 'Disney+ Hotstar'}},\n",
              "  {'domain': {'id': '165',\n",
              "    'name': 'Technology',\n",
              "    'description': 'for individual and types of technology, e.g., food technology, 3D printing'},\n",
              "   'entity': {'id': '1196446161223028736', 'name': 'Social media'}},\n",
              "  {'domain': {'id': '45',\n",
              "    'name': 'Brand Vertical',\n",
              "    'description': 'Top level entities that describe a Brands industry'},\n",
              "   'entity': {'id': '781974597310615553', 'name': 'Entertainment'}},\n",
              "  {'domain': {'id': '30',\n",
              "    'name': 'Entities [Entity Service]',\n",
              "    'description': 'Entity Service top level domain, every item that is in Entity Service should be in this domain'},\n",
              "   'entity': {'id': '781974596752842752', 'name': 'Services'}},\n",
              "  {'domain': {'id': '30',\n",
              "    'name': 'Entities [Entity Service]',\n",
              "    'description': 'Entity Service top level domain, every item that is in Entity Service should be in this domain'},\n",
              "   'entity': {'id': '781974597105094656',\n",
              "    'name': 'TV/Movies Related - Entertainment'}},\n",
              "  {'domain': {'id': '47',\n",
              "    'name': 'Brand',\n",
              "    'description': 'Brands and Companies'},\n",
              "   'entity': {'id': '10029382357', 'name': 'YouTube'}},\n",
              "  {'domain': {'id': '47',\n",
              "    'name': 'Brand',\n",
              "    'description': 'Brands and Companies'},\n",
              "   'entity': {'id': '10037284711', 'name': 'Disney'}},\n",
              "  {'domain': {'id': '131',\n",
              "    'name': 'Unified Twitter Taxonomy',\n",
              "    'description': 'A taxonomy of user interests. '},\n",
              "   'entity': {'id': '10029382357', 'name': 'YouTube'}},\n",
              "  {'domain': {'id': '131',\n",
              "    'name': 'Unified Twitter Taxonomy',\n",
              "    'description': 'A taxonomy of user interests. '},\n",
              "   'entity': {'id': '10037284711', 'name': 'Disney'}},\n",
              "  {'domain': {'id': '131',\n",
              "    'name': 'Unified Twitter Taxonomy',\n",
              "    'description': 'A taxonomy of user interests. '},\n",
              "   'entity': {'id': '1196447585004736512', 'name': 'Entertainment industry'}}]}"
            ]
          },
          "metadata": {},
          "execution_count": 12
        }
      ]
    },
    {
      "cell_type": "markdown",
      "source": [
        "### Learning how to build a query\n",
        "[Building queries for Search Tweets](https://developer.twitter.com/en/docs/twitter-api/tweets/search/integrate/build-a-query) - [Building high-quality filters for getting Twitter data](https://developer.twitter.com/en/docs/tutorials/building-high-quality-filters)"
      ],
      "metadata": {
        "id": "PF5EQGJslXge"
      }
    },
    {
      "cell_type": "markdown",
      "source": [
        "The Data that we required for this project is mainly the count of tweets addressing both \"movie going experiences\" and \"streaming experiences\". In this sense, we don't need to go to the detail of each tweet, but just want to analyze which topic is more popular.\n",
        "On the other hand, these two topics are not very specific. For instance, how do we identify that a tweet refers to a \"streaming experience\"?\n",
        "We consider that the key is in how we construct the queries that are gonna provide that the \"right\" data.\n",
        "\n",
        "* Movie going experience:\n",
        "  * Mention of main cinema chains\n",
        "  * Mention of big movies (released on cinemas)\n",
        "  * Context annotations - Domains/Entities (For example, Movie Festival)\n",
        "\n",
        "* Streaming experience:\n",
        "  * Mention of streaming services (Netflix, Disney+, HBO Max, Paramount+, AppleTV+, Amazon Prime Video)\n",
        "  * Mention of Streaming TV Shows (e.g., Stranger Things, The Crown)\n",
        "  * Context annotations - Domains/Entities (TV Shows, TV Episodes, Global TV Show) "
      ],
      "metadata": {
        "id": "lJz1Lt4pMH6h"
      }
    },
    {
      "cell_type": "markdown",
      "source": [
        "Building a Query (with Academic Research access)\n",
        "* Query can be 1024 characters long\n",
        "* Advanced Operators are available\n",
        "* Standalone operator:\n",
        "  - `#hashtag` operator. e.g., `#twitterapiv2`\n",
        "* Conjunction-required (they can only be used when at least one standalone operator is included in the query):\n",
        "  - `\"twitter data\" has:mentions (has:media OR has:links) is:retweet`\n",
        "  - `(place_country:US OR place_country:MX OR place_country:CA)` for north-america tweets\n",
        "  - Include `has:geo` to compare locations.\n",
        "  - We noticed that we were getting Tweets in a variety of different languages. In this situation, we want to only receive Tweets that are in english with `lang:en` (possible future NLP has proven to be more effective and have more information available for english language)\n",
        "  - `from:<twitter account>`\n",
        "  - `-is:nullcast` - Removes Tweets created for promotion only on ads.twitter.com. This operator must be negated. Example: \"mobile games\" `-is:nullcast` (No interest in tweets for advertisement since this will lead to who is advertising more, instead of who is generating more interest)\n",
        "* Boolean Operators\n",
        "  - [AND] `snow day #NoSchool` will match Tweets containing the terms `snow` and `day` and the hashtag `#NoSchool`\n",
        "  - [OR] `grumpy OR cat OR #meme` will match any Tweets containing at least the terms `grumpy` or `cat`, or the hashtag `#meme`\n",
        "  - [NOT] `cat #meme -grumpy` will match Tweets containing the hashtag `#meme` and the term `cat`, but only if they do not contain the term `grumpy`. One common query clause is `-is:retweet`, which will not match on Retweets, thus matching only on original Tweets, Quote Tweets, and replies.\n",
        "* Grouping Operators: `(grumpy cat) OR (#meme has:images)` will return either Tweets containing the terms `grumpy` and `cat`, or Tweets with images containing the hashtag `#meme`. Do not negate a set of operators grouped together in a set of parentheses. Instead, negate each individual operator. \n",
        "* All operators are evaluated in a case-insensitive manner. For example, the query `cat` will match Tweets with all of the following: cat, CAT, Cat.\n",
        "\n",
        "Query Examples\n",
        "* `#nowplaying (happy OR exciting OR excited OR favorite OR fav OR amazing OR lovely OR incredible) (place_country:US OR place_country:MX OR place_country:CA) -horrible -worst -sucks -bad -disappointing`"
      ],
      "metadata": {
        "id": "et8B6q4QpLsv"
      }
    },
    {
      "cell_type": "markdown",
      "source": [
        "Find Tweets that relate to a specific Tweet annotation.\n",
        "To do this, we used the `context:` operator to take advantage of the Tweet annotation functionality.\n",
        "\n",
        "`context:domain_id.entity_id`\n",
        "\n",
        "What are our domains and entities?\n",
        "\n",
        "Context\n",
        "- `context:domain_id.entity_id [This will give you all Tweets about an entity within that domain]`\n",
        "- `context:domain_id.* [This will give you all Tweets about that domain]`\n",
        "\n",
        "Entity\n",
        "- `entity:entity_name [entity name is the string value, name for the entity]`\n",
        "\n",
        "We first need to use the Tweet lookup endpoint and the `tweet.fields=context_annotations` fields parameter to identify which domain.entity IDs we need to use in our query"
      ],
      "metadata": {
        "id": "DmF-RMxmzkja"
      }
    },
    {
      "cell_type": "markdown",
      "source": [
        "### Query Building Process\n",
        "What query we end up with is as important in this project as the data analysis of the captured data. If we use a unreliable query, then any derived analysis is not as reliable as we would hope."
      ],
      "metadata": {
        "id": "H9SKIzNjWBD9"
      }
    },
    {
      "cell_type": "markdown",
      "source": [
        "Identifying our relevant contexts:\n",
        "\n",
        "Domain 131 (Unified Twitter Taxonomy) refers to Twitter's User Facing Interest Taxonomy. This taxonomy helps to power features on the platform such as, Topics.\n",
        "\n",
        "* name: TV streaming services \n",
        "  - domain: 131\n",
        "  - entity: 1397573214239289349\n",
        "\n"
      ],
      "metadata": {
        "id": "tuGiV4zH_dYM"
      }
    },
    {
      "cell_type": "code",
      "source": [
        "streaming_services = \"(netflix OR disney+ OR disneyplus OR hbomax OR hulu OR appletvplus OR peacock OR primevideo)\"\n",
        "original_content = \"(show OR series OR episode OR streaming OR original OR season OR documentary)\"\n",
        "query_operators = \"-is:retweet lang:en -is:nullcast\""
      ],
      "metadata": {
        "id": "GIQ9ZT7oVtT_"
      },
      "execution_count": null,
      "outputs": []
    },
    {
      "cell_type": "code",
      "source": [
        "streaming_query = f'{streaming_services} {original_content} {query_operators}'"
      ],
      "metadata": {
        "id": "bmAlly3ydrNt"
      },
      "execution_count": null,
      "outputs": []
    },
    {
      "cell_type": "code",
      "source": [
        "print(streaming_query)"
      ],
      "metadata": {
        "colab": {
          "base_uri": "https://localhost:8080/"
        },
        "id": "mNzWo6b6ele7",
        "outputId": "a688e81d-1ad7-433e-ca3c-206596245003"
      },
      "execution_count": null,
      "outputs": [
        {
          "output_type": "stream",
          "name": "stdout",
          "text": [
            "(netflix OR disney+ OR disneyplus OR hbomax OR hulu OR appletvplus OR peacock OR primevideo) (show OR series OR episode OR streaming OR original OR season OR documentary) -is:retweet lang:en -is:nullcast\n"
          ]
        }
      ]
    },
    {
      "cell_type": "code",
      "source": [
        "experience = \"(watch OR IMAX OR Dolby OR 4DX OR theatrical OR drink OR snacks)\"\n",
        "cinema_locations_chains = \"(theatre OR theater OR cinema OR amc OR cineworld OR cinemark OR cinepolis OR cineplex OR vue OR cgv OR cinemex OR wanda OR pvr OR kinepolis OR finnkino OR odeon)\"\n",
        "movies = \"(film OR movie OR screening OR showtime OR premier OR franchise)\"\n",
        "spam = \"-bluray\""
      ],
      "metadata": {
        "id": "-4wad6EKIzmk"
      },
      "execution_count": null,
      "outputs": []
    },
    {
      "cell_type": "code",
      "source": [
        "cinema_query = f'{experience} {cinema_locations_chains} {movies} {query_operators} {spam}'"
      ],
      "metadata": {
        "id": "ZD4UEqHkJCee"
      },
      "execution_count": null,
      "outputs": []
    },
    {
      "cell_type": "code",
      "source": [
        "print(cinema_query)"
      ],
      "metadata": {
        "colab": {
          "base_uri": "https://localhost:8080/"
        },
        "id": "19EnxLxRJol_",
        "outputId": "6602ea3e-167c-4fa5-c87a-ee9d6fee47f9"
      },
      "execution_count": null,
      "outputs": [
        {
          "output_type": "stream",
          "name": "stdout",
          "text": [
            "(watch OR IMAX OR Dolby OR 4DX OR theatrical OR drink OR snacks) (theatre OR theater OR cinema OR amc OR cineworld OR cinemark OR cinepolis OR cineplex OR vue OR cgv OR cinemex OR wanda OR pvr OR kinepolis OR finnkino OR odeon) (film OR movie OR screening OR showtime OR premier OR franchise) -is:retweet lang:en -is:nullcast -bluray\n"
          ]
        }
      ]
    },
    {
      "cell_type": "code",
      "source": [
        "eda1_counts = client.get_all_tweets_count(\n",
        "\tquery = streaming_query, \n",
        "\tgranularity='day',\n",
        "\tstart_time='2022-05-27T00:00:00.000Z', \n",
        "\tend_time='2022-05-28T00:00:00.000Z'\n",
        ")"
      ],
      "metadata": {
        "id": "6sqNjpgDQdr9"
      },
      "execution_count": null,
      "outputs": []
    },
    {
      "cell_type": "code",
      "source": [
        "for i in eda1_counts.data:\n",
        "    print(i[\"tweet_count\"])"
      ],
      "metadata": {
        "colab": {
          "base_uri": "https://localhost:8080/"
        },
        "id": "tqGPg4FAIaW-",
        "outputId": "419efda3-346b-4939-a081-607e216c333b"
      },
      "execution_count": null,
      "outputs": [
        {
          "output_type": "stream",
          "name": "stdout",
          "text": [
            "15451\n"
          ]
        }
      ]
    },
    {
      "cell_type": "code",
      "source": [
        "movies_eda1_counts = client.get_all_tweets_count(\n",
        "\tquery = cinema_query, \n",
        "\tgranularity='day',\n",
        "\tstart_time='2022-10-27T00:00:00.000Z', \n",
        "\tend_time='2022-10-28T00:00:00.000Z'\n",
        ")"
      ],
      "metadata": {
        "id": "t20qnS7eJ7hn"
      },
      "execution_count": null,
      "outputs": []
    },
    {
      "cell_type": "code",
      "source": [
        "for i in movies_eda1_counts.data:\n",
        "    print(i[\"tweet_count\"])"
      ],
      "metadata": {
        "colab": {
          "base_uri": "https://localhost:8080/"
        },
        "id": "S6P1Vhe1LU8x",
        "outputId": "e260bb36-e90e-4689-a460-2fd5f606aa8a"
      },
      "execution_count": null,
      "outputs": [
        {
          "output_type": "stream",
          "name": "stdout",
          "text": [
            "489\n"
          ]
        }
      ]
    },
    {
      "cell_type": "code",
      "source": [
        "eda1_search = client.search_all_tweets(\n",
        "    query = streaming_query,\n",
        "    start_time='2022-05-27T00:00:00.000Z', \n",
        "    end_time='2022-05-28T00:00:00.000Z',\n",
        "    expansions = [\"author_id\", \"geo.place_id\"],\n",
        "    tweet_fields = [\"created_at\", \"public_metrics\", \"text\", \"context_annotations\"],\n",
        "    user_fields = [\"id\", \"name\", \"public_metrics\", \"username\", \"verified\"],\n",
        "    place_fields = [\"id\", \"name\", \"country\", \"country_code\"],\n",
        "    max_results = 10\n",
        ")"
      ],
      "metadata": {
        "id": "_BzNW0psIhpp"
      },
      "execution_count": null,
      "outputs": []
    },
    {
      "cell_type": "code",
      "source": [
        "movie_eda1_search = client.search_all_tweets(\n",
        "    query = cinema_query,\n",
        "    start_time='2022-10-26T23:00:00.000Z', \n",
        "    end_time='2022-10-27T01:00:00.000Z',\n",
        "    expansions = [\"author_id\", \"geo.place_id\"],\n",
        "    tweet_fields = [\"created_at\", \"public_metrics\", \"text\", \"context_annotations\"],\n",
        "    user_fields = [\"id\", \"name\", \"public_metrics\", \"username\", \"verified\"],\n",
        "    place_fields = [\"id\", \"name\", \"country\", \"country_code\"],\n",
        "    max_results = 10\n",
        ")"
      ],
      "metadata": {
        "id": "-NtOp3hgL40G"
      },
      "execution_count": null,
      "outputs": []
    },
    {
      "cell_type": "code",
      "source": [
        "eda1_list = eda1_search.data[0].data"
      ],
      "metadata": {
        "id": "cpuZ8BpVJLmb"
      },
      "execution_count": null,
      "outputs": []
    },
    {
      "cell_type": "code",
      "source": [
        "movie_eda1_list = movie_eda1_search.data[0].data"
      ],
      "metadata": {
        "id": "ns15HVgHMCkr"
      },
      "execution_count": null,
      "outputs": []
    },
    {
      "cell_type": "code",
      "source": [
        "for key in eda1_list:\n",
        "  print(key)"
      ],
      "metadata": {
        "colab": {
          "base_uri": "https://localhost:8080/"
        },
        "id": "RuKQ6ViQKU1u",
        "outputId": "1bc492c6-8d58-4466-ae08-f142ca8bd75b"
      },
      "execution_count": null,
      "outputs": [
        {
          "output_type": "stream",
          "name": "stdout",
          "text": [
            "id\n",
            "author_id\n",
            "context_annotations\n",
            "created_at\n",
            "text\n",
            "edit_history_tweet_ids\n",
            "public_metrics\n"
          ]
        }
      ]
    },
    {
      "cell_type": "code",
      "source": [
        "print(eda1_list[\"text\"])"
      ],
      "metadata": {
        "colab": {
          "base_uri": "https://localhost:8080/"
        },
        "id": "tg69Xug9KgF8",
        "outputId": "5896d77b-72e2-476d-e370-130ff74e4eec"
      },
      "execution_count": null,
      "outputs": [
        {
          "output_type": "stream",
          "name": "stdout",
          "text": [
            "At $30M per episode, I’m pretty sure S4 of #StrangerThings is the season finale of Netflix 🍿\n"
          ]
        }
      ]
    },
    {
      "cell_type": "code",
      "source": [
        "print(movie_eda1_list[\"text\"])"
      ],
      "metadata": {
        "colab": {
          "base_uri": "https://localhost:8080/"
        },
        "id": "zrIHms_4MQm8",
        "outputId": "87c7894a-6b2e-4e03-f1d6-b2a8d0cfeee9"
      },
      "execution_count": null,
      "outputs": [
        {
          "output_type": "stream",
          "name": "stdout",
          "text": [
            "@WhyYaseen can’t wait for the film! \n",
            "pretty sure i can remember going to the cinema to watch the first one that came out :)\n"
          ]
        }
      ]
    },
    {
      "cell_type": "code",
      "source": [
        "print(eda1_list[\"context_annotations\"])"
      ],
      "metadata": {
        "colab": {
          "base_uri": "https://localhost:8080/"
        },
        "id": "Y-8F-y2dKt2C",
        "outputId": "afe460e7-2388-40eb-8a88-26b5a2dc22bc"
      },
      "execution_count": null,
      "outputs": [
        {
          "output_type": "stream",
          "name": "stdout",
          "text": [
            "[{'domain': {'id': '3', 'name': 'TV Shows', 'description': 'Television shows from around the world'}, 'entity': {'id': '10045675573', 'name': 'Stranger Things (Netflix)'}}, {'domain': {'id': '3', 'name': 'TV Shows', 'description': 'Television shows from around the world'}, 'entity': {'id': '10046426305', 'name': 'Stranger Things'}}, {'domain': {'id': '3', 'name': 'TV Shows', 'description': 'Television shows from around the world'}, 'entity': {'id': '10051425401', 'name': 'Stranger Things'}}, {'domain': {'id': '131', 'name': 'Unified Twitter Taxonomy', 'description': 'A taxonomy of user interests. '}, 'entity': {'id': '1223187634983292929', 'name': 'Stranger Things'}}, {'domain': {'id': '131', 'name': 'Unified Twitter Taxonomy', 'description': 'A taxonomy of user interests. '}, 'entity': {'id': '1276514328007467008', 'name': 'Movies & TV'}}, {'domain': {'id': '131', 'name': 'Unified Twitter Taxonomy', 'description': 'A taxonomy of user interests. '}, 'entity': {'id': '1283481070956998656', 'name': 'Sci-fi & fantasy TV'}}, {'domain': {'id': '172', 'name': 'Global TV Show', 'description': 'For global/conceptual TV shows without localization.'}, 'entity': {'id': '1223187634983292929', 'name': 'Stranger Things'}}, {'domain': {'id': '45', 'name': 'Brand Vertical', 'description': 'Top level entities that describe a Brands industry'}, 'entity': {'id': '781974597310615553', 'name': 'Entertainment'}}, {'domain': {'id': '30', 'name': 'Entities [Entity Service]', 'description': 'Entity Service top level domain, every item that is in Entity Service should be in this domain'}, 'entity': {'id': '781974597105094656', 'name': 'TV/Movies Related - Entertainment'}}, {'domain': {'id': '47', 'name': 'Brand', 'description': 'Brands and Companies'}, 'entity': {'id': '10026367762', 'name': 'Netflix'}}, {'domain': {'id': '131', 'name': 'Unified Twitter Taxonomy', 'description': 'A taxonomy of user interests. '}, 'entity': {'id': '10026367762', 'name': 'Netflix'}}, {'domain': {'id': '131', 'name': 'Unified Twitter Taxonomy', 'description': 'A taxonomy of user interests. '}, 'entity': {'id': '1397573214239289349', 'name': 'TV streaming services'}}]\n"
          ]
        }
      ]
    },
    {
      "cell_type": "code",
      "source": [
        "contexts = eda1_list[\"context_annotations\"]\n",
        "for i in contexts:\n",
        "  for key in i.keys():\n",
        "    print(key, '->', i[key])"
      ],
      "metadata": {
        "colab": {
          "base_uri": "https://localhost:8080/"
        },
        "id": "4BDhv72HK8aU",
        "outputId": "7d3e9ed4-340f-43cd-fb26-382e6d77310f"
      },
      "execution_count": null,
      "outputs": [
        {
          "output_type": "stream",
          "name": "stdout",
          "text": [
            "domain -> {'id': '3', 'name': 'TV Shows', 'description': 'Television shows from around the world'}\n",
            "entity -> {'id': '10045675573', 'name': 'Stranger Things (Netflix)'}\n",
            "domain -> {'id': '3', 'name': 'TV Shows', 'description': 'Television shows from around the world'}\n",
            "entity -> {'id': '10046426305', 'name': 'Stranger Things'}\n",
            "domain -> {'id': '3', 'name': 'TV Shows', 'description': 'Television shows from around the world'}\n",
            "entity -> {'id': '10051425401', 'name': 'Stranger Things'}\n",
            "domain -> {'id': '131', 'name': 'Unified Twitter Taxonomy', 'description': 'A taxonomy of user interests. '}\n",
            "entity -> {'id': '1223187634983292929', 'name': 'Stranger Things'}\n",
            "domain -> {'id': '131', 'name': 'Unified Twitter Taxonomy', 'description': 'A taxonomy of user interests. '}\n",
            "entity -> {'id': '1276514328007467008', 'name': 'Movies & TV'}\n",
            "domain -> {'id': '131', 'name': 'Unified Twitter Taxonomy', 'description': 'A taxonomy of user interests. '}\n",
            "entity -> {'id': '1283481070956998656', 'name': 'Sci-fi & fantasy TV'}\n",
            "domain -> {'id': '172', 'name': 'Global TV Show', 'description': 'For global/conceptual TV shows without localization.'}\n",
            "entity -> {'id': '1223187634983292929', 'name': 'Stranger Things'}\n",
            "domain -> {'id': '45', 'name': 'Brand Vertical', 'description': 'Top level entities that describe a Brands industry'}\n",
            "entity -> {'id': '781974597310615553', 'name': 'Entertainment'}\n",
            "domain -> {'id': '30', 'name': 'Entities [Entity Service]', 'description': 'Entity Service top level domain, every item that is in Entity Service should be in this domain'}\n",
            "entity -> {'id': '781974597105094656', 'name': 'TV/Movies Related - Entertainment'}\n",
            "domain -> {'id': '47', 'name': 'Brand', 'description': 'Brands and Companies'}\n",
            "entity -> {'id': '10026367762', 'name': 'Netflix'}\n",
            "domain -> {'id': '131', 'name': 'Unified Twitter Taxonomy', 'description': 'A taxonomy of user interests. '}\n",
            "entity -> {'id': '10026367762', 'name': 'Netflix'}\n",
            "domain -> {'id': '131', 'name': 'Unified Twitter Taxonomy', 'description': 'A taxonomy of user interests. '}\n",
            "entity -> {'id': '1397573214239289349', 'name': 'TV streaming services'}\n"
          ]
        }
      ]
    },
    {
      "cell_type": "code",
      "source": [
        "movie_contexts = movie_eda1_list[\"context_annotations\"]\n",
        "for i in movie_contexts:\n",
        "  for key in i.keys():\n",
        "    print(key, '->', i[key])"
      ],
      "metadata": {
        "colab": {
          "base_uri": "https://localhost:8080/"
        },
        "id": "XDq5PVizMmPx",
        "outputId": "88b25564-35b9-47c7-a782-6e169ad9ee8d"
      },
      "execution_count": null,
      "outputs": [
        {
          "output_type": "stream",
          "name": "stdout",
          "text": [
            "domain -> {'id': '46', 'name': 'Business Taxonomy', 'description': 'Categories within Brand Verticals that narrow down the scope of Brands'}\n",
            "entity -> {'id': '1557696802391859201', 'name': 'Entertainment & Leisure Business', 'description': 'Brands, companies, advertisers and every non-person handle with the profit intent related to movies, music, television, franchises, venues, theme parks, toys, tourism, hotels'}\n"
          ]
        }
      ]
    },
    {
      "cell_type": "code",
      "source": [
        "eda1_value_1 = eda1_search.data[1].data\n",
        "print(eda1_value_1[\"text\"])\n",
        "print(eda1_value_1[\"context_annotations\"])"
      ],
      "metadata": {
        "colab": {
          "base_uri": "https://localhost:8080/"
        },
        "id": "ZxWmreHzLqsB",
        "outputId": "00fb5b4b-1c2f-4e60-91cc-c3041ee9703b"
      },
      "execution_count": null,
      "outputs": [
        {
          "output_type": "stream",
          "name": "stdout",
          "text": [
            "343/Microsoft should have leased the halo series to Disney before that dumpster fire of a first season.\n",
            "[{'domain': {'id': '45', 'name': 'Brand Vertical', 'description': 'Top level entities that describe a Brands industry'}, 'entity': {'id': '781974597310615553', 'name': 'Entertainment'}}, {'domain': {'id': '30', 'name': 'Entities [Entity Service]', 'description': 'Entity Service top level domain, every item that is in Entity Service should be in this domain'}, 'entity': {'id': '781974597218340864', 'name': 'Video Games - Entertainment'}}, {'domain': {'id': '71', 'name': 'Video Game', 'description': 'A video game like Overwatch'}, 'entity': {'id': '10024663350', 'name': 'Halo', 'description': 'This entity includes all conversation about the franchise, as well as any individual installments in the series, if applicable.\\t\\t\\t'}}, {'domain': {'id': '130', 'name': 'Multimedia Franchise', 'description': \"Franchises which span multiple forms of media like 'Harry Potter'\"}, 'entity': {'id': '10024663350', 'name': 'Halo', 'description': 'This entity includes all conversation about the franchise, as well as any individual installments in the series, if applicable.\\t\\t\\t'}}, {'domain': {'id': '131', 'name': 'Unified Twitter Taxonomy', 'description': 'A taxonomy of user interests. '}, 'entity': {'id': '10024663350', 'name': 'Halo', 'description': 'This entity includes all conversation about the franchise, as well as any individual installments in the series, if applicable.\\t\\t\\t'}}, {'domain': {'id': '131', 'name': 'Unified Twitter Taxonomy', 'description': 'A taxonomy of user interests. '}, 'entity': {'id': '847527650667094017', 'name': 'Gaming', 'description': 'Gaming'}}, {'domain': {'id': '131', 'name': 'Unified Twitter Taxonomy', 'description': 'A taxonomy of user interests. '}, 'entity': {'id': '1070028159964262400', 'name': 'Video games'}}, {'domain': {'id': '45', 'name': 'Brand Vertical', 'description': 'Top level entities that describe a Brands industry'}, 'entity': {'id': '781974597310615553', 'name': 'Entertainment'}}, {'domain': {'id': '30', 'name': 'Entities [Entity Service]', 'description': 'Entity Service top level domain, every item that is in Entity Service should be in this domain'}, 'entity': {'id': '781974596752842752', 'name': 'Services'}}, {'domain': {'id': '30', 'name': 'Entities [Entity Service]', 'description': 'Entity Service top level domain, every item that is in Entity Service should be in this domain'}, 'entity': {'id': '781974597105094656', 'name': 'TV/Movies Related - Entertainment'}}, {'domain': {'id': '47', 'name': 'Brand', 'description': 'Brands and Companies'}, 'entity': {'id': '10027232467', 'name': 'Microsoft'}}, {'domain': {'id': '47', 'name': 'Brand', 'description': 'Brands and Companies'}, 'entity': {'id': '10037284711', 'name': 'Disney'}}, {'domain': {'id': '131', 'name': 'Unified Twitter Taxonomy', 'description': 'A taxonomy of user interests. '}, 'entity': {'id': '10027232467', 'name': 'Microsoft'}}, {'domain': {'id': '131', 'name': 'Unified Twitter Taxonomy', 'description': 'A taxonomy of user interests. '}, 'entity': {'id': '10037284711', 'name': 'Disney'}}, {'domain': {'id': '131', 'name': 'Unified Twitter Taxonomy', 'description': 'A taxonomy of user interests. '}, 'entity': {'id': '1196447585004736512', 'name': 'Entertainment industry'}}]\n"
          ]
        }
      ]
    },
    {
      "cell_type": "code",
      "source": [
        "eda1_value_1 = eda1_search.data[9].data\n",
        "print(eda1_value_1[\"text\"])\n",
        "contexts = eda1_value_1[\"context_annotations\"]\n",
        "for i in contexts:\n",
        "  for key in i.keys():\n",
        "    print(key, '->', i[key])"
      ],
      "metadata": {
        "colab": {
          "base_uri": "https://localhost:8080/"
        },
        "id": "iaoYyTVvOA49",
        "outputId": "f83f4295-7cb0-40c7-c429-030211d740c2"
      },
      "execution_count": null,
      "outputs": [
        {
          "output_type": "stream",
          "name": "stdout",
          "text": [
            "So I finally got the Netflix password and saw Love Death+ Robots….Yeah, this the final season isn’t it?\n",
            "domain -> {'id': '3', 'name': 'TV Shows', 'description': 'Television shows from around the world'}\n",
            "entity -> {'id': '10055773222', 'name': 'Love, Death + Robots (Netflix)'}\n",
            "domain -> {'id': '131', 'name': 'Unified Twitter Taxonomy', 'description': 'A taxonomy of user interests. '}\n",
            "entity -> {'id': '847869772129685504', 'name': 'Sci-fi & fantasy', 'description': 'Sci-fi and fantasy'}\n",
            "domain -> {'id': '131', 'name': 'Unified Twitter Taxonomy', 'description': 'A taxonomy of user interests. '}\n",
            "entity -> {'id': '1072937043393560576', 'name': 'Television', 'description': 'Television'}\n",
            "domain -> {'id': '131', 'name': 'Unified Twitter Taxonomy', 'description': 'A taxonomy of user interests. '}\n",
            "entity -> {'id': '1276514328007467008', 'name': 'Movies & TV'}\n",
            "domain -> {'id': '131', 'name': 'Unified Twitter Taxonomy', 'description': 'A taxonomy of user interests. '}\n",
            "entity -> {'id': '1283481070956998656', 'name': 'Sci-fi & fantasy TV'}\n",
            "domain -> {'id': '131', 'name': 'Unified Twitter Taxonomy', 'description': 'A taxonomy of user interests. '}\n",
            "entity -> {'id': '1393184391644340228', 'name': 'Love, Death + Robots '}\n",
            "domain -> {'id': '172', 'name': 'Global TV Show', 'description': 'For global/conceptual TV shows without localization.'}\n",
            "entity -> {'id': '1393184391644340228', 'name': 'Love, Death + Robots '}\n",
            "domain -> {'id': '45', 'name': 'Brand Vertical', 'description': 'Top level entities that describe a Brands industry'}\n",
            "entity -> {'id': '781974597310615553', 'name': 'Entertainment'}\n",
            "domain -> {'id': '30', 'name': 'Entities [Entity Service]', 'description': 'Entity Service top level domain, every item that is in Entity Service should be in this domain'}\n",
            "entity -> {'id': '781974597105094656', 'name': 'TV/Movies Related - Entertainment'}\n",
            "domain -> {'id': '47', 'name': 'Brand', 'description': 'Brands and Companies'}\n",
            "entity -> {'id': '10026367762', 'name': 'Netflix'}\n",
            "domain -> {'id': '131', 'name': 'Unified Twitter Taxonomy', 'description': 'A taxonomy of user interests. '}\n",
            "entity -> {'id': '10026367762', 'name': 'Netflix'}\n",
            "domain -> {'id': '131', 'name': 'Unified Twitter Taxonomy', 'description': 'A taxonomy of user interests. '}\n",
            "entity -> {'id': '1196447585004736512', 'name': 'Entertainment industry'}\n",
            "domain -> {'id': '131', 'name': 'Unified Twitter Taxonomy', 'description': 'A taxonomy of user interests. '}\n",
            "entity -> {'id': '1397573214239289349', 'name': 'TV streaming services'}\n"
          ]
        }
      ]
    },
    {
      "cell_type": "code",
      "source": [
        "movie_eda1_value_1 = movie_eda1_search.data[9].data\n",
        "print(movie_eda1_value_1[\"text\"])\n",
        "contexts = movie_eda1_value_1[\"context_annotations\"]\n",
        "for i in contexts:\n",
        "  for key in i.keys():\n",
        "    print(key, '->', i[key])"
      ],
      "metadata": {
        "colab": {
          "base_uri": "https://localhost:8080/"
        },
        "id": "Qm5-4qkh-GZu",
        "outputId": "993556be-ddcc-4535-abbf-03b483ea7a80"
      },
      "execution_count": null,
      "outputs": [
        {
          "output_type": "stream",
          "name": "stdout",
          "text": [
            "I'm at the movie theater about to watch Black Adam, this is my first time in a movie theater in literal months so I'm super hyped! #BlackAdam #BlackAdamMovie\n",
            "domain -> {'id': '46', 'name': 'Business Taxonomy', 'description': 'Categories within Brand Verticals that narrow down the scope of Brands'}\n",
            "entity -> {'id': '1557696802391859201', 'name': 'Entertainment & Leisure Business', 'description': 'Brands, companies, advertisers and every non-person handle with the profit intent related to movies, music, television, franchises, venues, theme parks, toys, tourism, hotels'}\n",
            "domain -> {'id': '86', 'name': 'Movie', 'description': 'A film like Rogue One: A Star Wars Story'}\n",
            "entity -> {'id': '1297874929275113472', 'name': 'Black Adam', 'description': 'To be released on 2021.'}\n",
            "domain -> {'id': '87', 'name': 'Movie Genre', 'description': 'A movie genre like Action'}\n",
            "entity -> {'id': '856976360337661952', 'name': 'Action & adventure films', 'description': 'Action and adventure'}\n",
            "domain -> {'id': '87', 'name': 'Movie Genre', 'description': 'A movie genre like Action'}\n",
            "entity -> {'id': '856977093191647233', 'name': 'Sci-fi & fantasy films', 'description': 'Sci-fi and fantasy'}\n",
            "domain -> {'id': '87', 'name': 'Movie Genre', 'description': 'A movie genre like Action'}\n",
            "entity -> {'id': '1478371796449517568', 'name': 'Superhero films'}\n",
            "domain -> {'id': '130', 'name': 'Multimedia Franchise', 'description': \"Franchises which span multiple forms of media like 'Harry Potter'\"}\n",
            "entity -> {'id': '1080503141345374208', 'name': 'DC Extended Universe', 'description': 'DC Extended Universe (DCEU)'}\n",
            "domain -> {'id': '131', 'name': 'Unified Twitter Taxonomy', 'description': 'A taxonomy of user interests. '}\n",
            "entity -> {'id': '839544274442051584', 'name': 'Entertainment'}\n",
            "domain -> {'id': '131', 'name': 'Unified Twitter Taxonomy', 'description': 'A taxonomy of user interests. '}\n",
            "entity -> {'id': '1072936713134071808', 'name': 'Movies', 'description': 'Movies'}\n",
            "domain -> {'id': '131', 'name': 'Unified Twitter Taxonomy', 'description': 'A taxonomy of user interests. '}\n",
            "entity -> {'id': '1074757527995277313', 'name': 'Entertainment franchises'}\n",
            "domain -> {'id': '131', 'name': 'Unified Twitter Taxonomy', 'description': 'A taxonomy of user interests. '}\n",
            "entity -> {'id': '1080503141345374208', 'name': 'DC Extended Universe', 'description': 'DC Extended Universe (DCEU)'}\n",
            "domain -> {'id': '131', 'name': 'Unified Twitter Taxonomy', 'description': 'A taxonomy of user interests. '}\n",
            "entity -> {'id': '1276514328007467008', 'name': 'Movies & TV'}\n",
            "domain -> {'id': '131', 'name': 'Unified Twitter Taxonomy', 'description': 'A taxonomy of user interests. '}\n",
            "entity -> {'id': '1478371796449517568', 'name': 'Superhero films'}\n"
          ]
        }
      ]
    },
    {
      "cell_type": "code",
      "source": [
        "for index, item in enumerate(eda1_search.data):\n",
        "  print(eda1_search.data[index].data[\"text\"])\n",
        "  print(\"----\")"
      ],
      "metadata": {
        "colab": {
          "base_uri": "https://localhost:8080/"
        },
        "id": "mhJ9eG2kOXxI",
        "outputId": "76a74284-d71d-439e-c060-a397fa93b792"
      },
      "execution_count": null,
      "outputs": [
        {
          "output_type": "stream",
          "name": "stdout",
          "text": [
            "At $30M per episode, I’m pretty sure S4 of #StrangerThings is the season finale of Netflix 🍿\n",
            "----\n",
            "343/Microsoft should have leased the halo series to Disney before that dumpster fire of a first season.\n",
            "----\n",
            "im trying to find a nice wholesome disney show to watch. if you have any recommendations please tell me.\n",
            "----\n",
            "Don't Skip: #TheFlightAttendant Season 2 #TV #Podcasts #HBOMax #Sky\n",
            "\n",
            " https://t.co/WzFNvbPAav\n",
            "----\n",
            "Gonna watch the new Stranger Things season to be disappointed with another show Netflix killed.\n",
            "\n",
            "Btw that noise right at the start, on the Netflix logo? That's a Mutalisk. They stole it from a damn Mutalisk.\n",
            "https://t.co/BkGoeJKeJR\n",
            "----\n",
            "@Bhaal_Spawn Best show on Netflix 😂👍\n",
            "----\n",
            "Bringing every 2-3 months is a terrible concept that is created by the capitalism Disney drives. I can’t see marvel anymore without getting annoyed. Also every show since Disney plus exist has editing issues, some are so feel so bad writing I could have done that shit myself. https://t.co/kytEg93aLX\n",
            "----\n",
            "@_enJOImytweets @netflix Brand New Cherry Favor. Episode 4. 35 minute mark.\n",
            "----\n",
            "With all the new Stranger Things episodes sitting at well over an hour, this felt like a perfect opportunity for Netflix to try out a weekly release schedule. There’s always next season, right? https://t.co/V4Htd5hpRp\n",
            "----\n",
            "So I finally got the Netflix password and saw Love Death+ Robots….Yeah, this the final season isn’t it?\n",
            "----\n"
          ]
        }
      ]
    },
    {
      "cell_type": "code",
      "source": [
        "for index, item in enumerate(movie_eda1_search.data):\n",
        "  print(movie_eda1_search.data[index].data[\"text\"])\n",
        "  print(\"----\")"
      ],
      "metadata": {
        "colab": {
          "base_uri": "https://localhost:8080/"
        },
        "id": "6qxcmCAlM4dI",
        "outputId": "5e37d38f-b244-41d2-aea8-aa4dcd45bd65"
      },
      "execution_count": null,
      "outputs": [
        {
          "output_type": "stream",
          "name": "stdout",
          "text": [
            "@WhyYaseen can’t wait for the film! \n",
            "pretty sure i can remember going to the cinema to watch the first one that came out :)\n",
            "----\n",
            "@amalaekpunobi The comment I left for her on her tik tok: @geminisorceress: Yep I I’ll sit the FK down &amp; shut the FK up while I watch &amp; celebrate the movie at the theater. Diff is I won’t be wearing a raggedy wig like you. #wakandaforever\n",
            "----\n",
            "This isn't about a particular movie. This is about the amount of times I see people going on about how much a movie sucked or how horrible it was when it's just mildly entertaining. Like they only watch groundbreaking cinema now.\n",
            "Let yourselves have an iota of fun. It's worth it.\n",
            "----\n",
            "@Srirachachau I remember going to the Mayfair mall movie theater to watch this blind to any details, and when I found out that this movie was set in Milwaukee (and later a mall) while watching the opening it made it all surreal and deliciously creepy.\n",
            "----\n",
            "She went to the cinema to watch Black Adam with her friend, i hope the movie sucks\n",
            "----\n",
            "@avi_ranganath @Dhananjayaka Done , I have asked my brother in-law to take all his friends to watch the movie . I believe he has already seen it once 😊. Cinema is beyond cast,religion etc . We should be blessed that KFI has @Dhananjayaka . All the best . https://t.co/7m9laTTz7M\n",
            "----\n",
            "@toniapelagica @DrStrangeUpdate Watch the movie again. Wanda has the best scenes, the best shots, the best dialogues and one liners...it was very much wanda centred movie than a strange movie. She ate him ik his own movie😂. Benedicts character has barely evolved from his 2016 version.\n",
            "----\n",
            "On one of the first dates I ever went on, we met at a movie theatre and picked a random movie to watch with no context. We picked CAPTAIN PHILLIPS… which was great but a weird vibe for a pair of teens https://t.co/z72jdFs6ym\n",
            "----\n",
            "@HarkinsTheatres Do you have Harkins theater cool water bottles that you can refill to take home from the movie theater that have the Harkins symbol and you can bring any drink in\n",
            "----\n",
            "I'm at the movie theater about to watch Black Adam, this is my first time in a movie theater in literal months so I'm super hyped! #BlackAdam #BlackAdamMovie\n",
            "----\n"
          ]
        }
      ]
    },
    {
      "cell_type": "code",
      "source": [
        "print(streaming_query)"
      ],
      "metadata": {
        "colab": {
          "base_uri": "https://localhost:8080/"
        },
        "id": "ncenySskoe-L",
        "outputId": "3d482945-24d1-4edc-ced7-ee4ed8384212"
      },
      "execution_count": null,
      "outputs": [
        {
          "output_type": "stream",
          "name": "stdout",
          "text": [
            "(netflix OR disney+ OR disneyplus OR hbomax OR hulu OR appletvplus OR peacock OR primevideo) (show OR series OR episode OR streaming OR original OR season OR documentary) -is:retweet lang:en -is:nullcast\n"
          ]
        }
      ]
    },
    {
      "cell_type": "code",
      "source": [
        "tv_streaming_services_context = \"context:131.1397573214239289349\""
      ],
      "metadata": {
        "id": "MEMuD6ZVoPNv"
      },
      "execution_count": null,
      "outputs": []
    },
    {
      "cell_type": "code",
      "source": [
        "streaming_context_query = f'{streaming_query} {tv_streaming_services_context}'"
      ],
      "metadata": {
        "id": "sVVkh3E5ohVK"
      },
      "execution_count": null,
      "outputs": []
    },
    {
      "cell_type": "code",
      "source": [
        "print(streaming_context_query)"
      ],
      "metadata": {
        "colab": {
          "base_uri": "https://localhost:8080/"
        },
        "id": "z8821u3koo2X",
        "outputId": "5b1edab3-505c-4b27-a9cf-e164d3394e12"
      },
      "execution_count": null,
      "outputs": [
        {
          "output_type": "stream",
          "name": "stdout",
          "text": [
            "(netflix OR disney+ OR disneyplus OR hbomax OR hulu OR appletvplus OR peacock OR primevideo) (show OR series OR episode OR streaming OR original OR season OR documentary) -is:retweet lang:en -is:nullcast context:131.1397573214239289349\n"
          ]
        }
      ]
    },
    {
      "cell_type": "code",
      "source": [
        "print(cinema_query)"
      ],
      "metadata": {
        "colab": {
          "base_uri": "https://localhost:8080/"
        },
        "id": "DbVyMiJJFih3",
        "outputId": "b886cf8b-567a-4b6b-ca11-58c7e50cdb18"
      },
      "execution_count": null,
      "outputs": [
        {
          "output_type": "stream",
          "name": "stdout",
          "text": [
            "(watch OR IMAX OR Dolby OR 4DX OR theatrical OR drink OR snacks) (theatre OR theater OR cinema OR amc OR cineworld OR cinemark OR cinepolis OR cineplex OR vue OR cgv OR cinemex OR wanda OR pvr OR kinepolis OR finnkino OR odeon) (film OR movie OR screening OR showtime OR premier OR franchise) -is:retweet lang:en -is:nullcast -bluray\n"
          ]
        }
      ]
    },
    {
      "cell_type": "code",
      "source": [
        "movie_contexts = \"(context:117.* OR context:86.* OR context:131.1478371796449517568)\""
      ],
      "metadata": {
        "id": "Eo292Dx5G_yA"
      },
      "execution_count": null,
      "outputs": []
    },
    {
      "cell_type": "markdown",
      "source": [
        "BadRequest: 400 Bad Request\n",
        "There were errors processing your request: Wildcards are not supported in Search when using the 'context' operator. Please resubmit without using a wildcard. (at position 1)"
      ],
      "metadata": {
        "id": "WWoLoFwsM4ct"
      }
    },
    {
      "cell_type": "code",
      "source": [
        "movie_context = \"context:131.1478371796449517568\""
      ],
      "metadata": {
        "id": "PRC-8aeAM1ej"
      },
      "execution_count": null,
      "outputs": []
    },
    {
      "cell_type": "code",
      "source": [
        "movie_context_no_animation_no_comic = \"(context:131.1478371796449517568 -context:87.856976559529263104 -context:131.1192082698568814592 -context:131.1297951101136732160 -context:131.847521144173350912)\""
      ],
      "metadata": {
        "id": "V6_N8op3Wo7v"
      },
      "execution_count": null,
      "outputs": []
    },
    {
      "cell_type": "code",
      "source": [
        "cinema_context_query = f'(({experience} {cinema_locations_chains} {movies}) OR {movie_context_no_animation_no_comic}) {query_operators} {spam} -trailer'"
      ],
      "metadata": {
        "id": "u15VTqjqKY6C"
      },
      "execution_count": null,
      "outputs": []
    },
    {
      "cell_type": "code",
      "source": [
        "print(cinema_context_query)"
      ],
      "metadata": {
        "colab": {
          "base_uri": "https://localhost:8080/"
        },
        "id": "x4Mtwdr3LMNp",
        "outputId": "37eba7ef-9f34-4b6a-e45d-27763ac415f1"
      },
      "execution_count": null,
      "outputs": [
        {
          "output_type": "stream",
          "name": "stdout",
          "text": [
            "(((watch OR IMAX OR Dolby OR 4DX OR theatrical OR drink OR snacks) (theatre OR theater OR cinema OR amc OR cineworld OR cinemark OR cinepolis OR cineplex OR vue OR cgv OR cinemex OR wanda OR pvr OR kinepolis OR finnkino OR odeon) (film OR movie OR screening OR showtime OR premier OR franchise)) OR (context:131.1478371796449517568 -context:87.856976559529263104 -context:131.1192082698568814592 -context:131.1297951101136732160 -context:131.847521144173350912)) -is:retweet lang:en -is:nullcast -bluray -trailer\n"
          ]
        }
      ]
    },
    {
      "cell_type": "code",
      "source": [
        "# Count with context annotations (how much does it change from the search without context?)\n",
        "eda1_context_counts = client.get_all_tweets_count(\n",
        "\tquery=streaming_context_query, \n",
        "\tgranularity='day', \n",
        "\tstart_time='2022-05-27T00:00:00.000Z', \n",
        "  end_time='2022-05-28T00:00:00.000Z'\n",
        ")"
      ],
      "metadata": {
        "id": "jjievWOvP0wm"
      },
      "execution_count": null,
      "outputs": []
    },
    {
      "cell_type": "code",
      "source": [
        "for i in eda1_context_counts.data:\n",
        "    print(i[\"tweet_count\"])"
      ],
      "metadata": {
        "colab": {
          "base_uri": "https://localhost:8080/"
        },
        "id": "S111FObfQCG9",
        "outputId": "ea154840-2999-47ac-e5ce-d26d7f5ef849"
      },
      "execution_count": null,
      "outputs": [
        {
          "output_type": "stream",
          "name": "stdout",
          "text": [
            "10859\n"
          ]
        }
      ]
    },
    {
      "cell_type": "code",
      "source": [
        "# Count with context annotations (how much does it change from the search without context?)\n",
        "movies_eda1_context_counts = client.get_all_tweets_count(\n",
        "\tquery=cinema_context_query, \n",
        "\tgranularity='day', \n",
        "\tstart_time='2022-10-27T00:00:00.000Z', \n",
        "\tend_time='2022-10-28T00:00:00.000Z'\n",
        ")"
      ],
      "metadata": {
        "id": "JByqRnYmL41x"
      },
      "execution_count": null,
      "outputs": []
    },
    {
      "cell_type": "code",
      "source": [
        "for i in movies_eda1_context_counts.data:\n",
        "    print(i[\"tweet_count\"])"
      ],
      "metadata": {
        "colab": {
          "base_uri": "https://localhost:8080/"
        },
        "id": "Rrs_JxP6NRGX",
        "outputId": "7de5c343-683e-47ea-957e-7fa4a5274287"
      },
      "execution_count": null,
      "outputs": [
        {
          "output_type": "stream",
          "name": "stdout",
          "text": [
            "17315\n"
          ]
        }
      ]
    },
    {
      "cell_type": "code",
      "source": [
        "movies_eda1_context_search = client.search_all_tweets(\n",
        "    query = cinema_context_query,\n",
        "    start_time='2022-10-26T23:00:00.000Z', \n",
        "    end_time='2022-10-27T01:00:00.000Z',\n",
        "    expansions = [\"author_id\", \"geo.place_id\"],\n",
        "    tweet_fields = [\"created_at\", \"public_metrics\", \"text\", \"context_annotations\"],\n",
        "    user_fields = [\"id\", \"name\", \"public_metrics\", \"username\", \"verified\"],\n",
        "    place_fields = [\"id\", \"name\", \"country\", \"country_code\"],\n",
        "    max_results = 10\n",
        ")"
      ],
      "metadata": {
        "id": "Z_JURrPhOg2h"
      },
      "execution_count": null,
      "outputs": []
    },
    {
      "cell_type": "code",
      "source": [
        "movies_eda1_context_value_1 = movies_eda1_context_search.data[9].data\n",
        "print(movies_eda1_context_value_1[\"text\"])\n",
        "contexts = movies_eda1_context_value_1[\"context_annotations\"]\n",
        "for i in contexts:\n",
        "  for key in i.keys():\n",
        "    print(key, '->', i[key])"
      ],
      "metadata": {
        "colab": {
          "base_uri": "https://localhost:8080/"
        },
        "id": "EjpNeZWyOwTW",
        "outputId": "6c28b1cd-4e2d-49de-acfd-66e97c53be1d"
      },
      "execution_count": null,
      "outputs": [
        {
          "output_type": "stream",
          "name": "stdout",
          "text": [
            "@DripMarvel @MCU_Direct Rihanna was perfect for this movie Wakanda Forever ❤ https://t.co/WagQsYzt4z\n",
            "domain -> {'id': '10', 'name': 'Person', 'description': 'Named people in the world like Nelson Mandela'}\n",
            "entity -> {'id': '806558580715311104', 'name': 'Rihanna', 'description': 'Rihanna'}\n",
            "domain -> {'id': '46', 'name': 'Business Taxonomy', 'description': 'Categories within Brand Verticals that narrow down the scope of Brands'}\n",
            "entity -> {'id': '1557696802391859201', 'name': 'Entertainment & Leisure Business', 'description': 'Brands, companies, advertisers and every non-person handle with the profit intent related to movies, music, television, franchises, venues, theme parks, toys, tourism, hotels'}\n",
            "domain -> {'id': '54', 'name': 'Musician', 'description': 'A musician in the world, like Adele or Bob Dylan'}\n",
            "entity -> {'id': '806558580715311104', 'name': 'Rihanna', 'description': 'Rihanna'}\n",
            "domain -> {'id': '55', 'name': 'Music Genre', 'description': 'A category for a musical style, like Pop, Rock, or Rap'}\n",
            "entity -> {'id': '810938279801470977', 'name': 'Pop', 'description': 'Pop'}\n",
            "domain -> {'id': '86', 'name': 'Movie', 'description': 'A film like Rogue One: A Star Wars Story'}\n",
            "entity -> {'id': '873208160261099520', 'name': 'Black Panther', 'description': 'Black Panther'}\n",
            "domain -> {'id': '87', 'name': 'Movie Genre', 'description': 'A movie genre like Action'}\n",
            "entity -> {'id': '856976360337661952', 'name': 'Action & adventure films', 'description': 'Action and adventure'}\n",
            "domain -> {'id': '87', 'name': 'Movie Genre', 'description': 'A movie genre like Action'}\n",
            "entity -> {'id': '1478371796449517568', 'name': 'Superhero films'}\n",
            "domain -> {'id': '130', 'name': 'Multimedia Franchise', 'description': \"Franchises which span multiple forms of media like 'Harry Potter'\"}\n",
            "entity -> {'id': '1002576732971384832', 'name': 'Marvel Universe', 'description': 'This entity includes all conversation about the franchise, as well as any individual installments in the series, if applicable.\\t\\t\\t'}\n",
            "domain -> {'id': '130', 'name': 'Multimedia Franchise', 'description': \"Franchises which span multiple forms of media like 'Harry Potter'\"}\n",
            "entity -> {'id': '1572244246240776192', 'name': 'Black Panther'}\n",
            "domain -> {'id': '131', 'name': 'Unified Twitter Taxonomy', 'description': 'A taxonomy of user interests. '}\n",
            "entity -> {'id': '806558580715311104', 'name': 'Rihanna', 'description': 'Rihanna'}\n",
            "domain -> {'id': '131', 'name': 'Unified Twitter Taxonomy', 'description': 'A taxonomy of user interests. '}\n",
            "entity -> {'id': '810938279801470977', 'name': 'Pop', 'description': 'Pop'}\n",
            "domain -> {'id': '131', 'name': 'Unified Twitter Taxonomy', 'description': 'A taxonomy of user interests. '}\n",
            "entity -> {'id': '839544274442051584', 'name': 'Entertainment'}\n",
            "domain -> {'id': '131', 'name': 'Unified Twitter Taxonomy', 'description': 'A taxonomy of user interests. '}\n",
            "entity -> {'id': '847524658970636288', 'name': 'Music', 'description': 'Music and radio'}\n",
            "domain -> {'id': '131', 'name': 'Unified Twitter Taxonomy', 'description': 'A taxonomy of user interests. '}\n",
            "entity -> {'id': '1002576732971384832', 'name': 'Marvel Universe', 'description': 'This entity includes all conversation about the franchise, as well as any individual installments in the series, if applicable.\\t\\t\\t'}\n",
            "domain -> {'id': '131', 'name': 'Unified Twitter Taxonomy', 'description': 'A taxonomy of user interests. '}\n",
            "entity -> {'id': '1072936713134071808', 'name': 'Movies', 'description': 'Movies'}\n",
            "domain -> {'id': '131', 'name': 'Unified Twitter Taxonomy', 'description': 'A taxonomy of user interests. '}\n",
            "entity -> {'id': '1074757527995277313', 'name': 'Entertainment franchises'}\n",
            "domain -> {'id': '131', 'name': 'Unified Twitter Taxonomy', 'description': 'A taxonomy of user interests. '}\n",
            "entity -> {'id': '1276514328007467008', 'name': 'Movies & TV'}\n",
            "domain -> {'id': '131', 'name': 'Unified Twitter Taxonomy', 'description': 'A taxonomy of user interests. '}\n",
            "entity -> {'id': '1478371796449517568', 'name': 'Superhero films'}\n",
            "domain -> {'id': '131', 'name': 'Unified Twitter Taxonomy', 'description': 'A taxonomy of user interests. '}\n",
            "entity -> {'id': '1572244246240776192', 'name': 'Black Panther'}\n"
          ]
        }
      ]
    },
    {
      "cell_type": "markdown",
      "source": [
        "This tweet shows that the query is showing some accurate results:\n",
        "\"It’s a fun movie man go support it #BlackAdamMovie\""
      ],
      "metadata": {
        "id": "t1AFMfD1RRMH"
      }
    },
    {
      "cell_type": "code",
      "source": [
        "eda1_context_search = client.search_all_tweets(\n",
        "    query = streaming_context_query,\n",
        "    start_time='2022-05-27T00:00:00.000Z', \n",
        "    end_time='2022-05-28T00:00:00.000Z',\n",
        "    expansions = [\"author_id\", \"geo.place_id\"],\n",
        "    tweet_fields = [\"created_at\", \"public_metrics\", \"text\", \"context_annotations\"],\n",
        "    user_fields = [\"id\", \"name\", \"public_metrics\", \"username\", \"verified\"],\n",
        "    place_fields = [\"id\", \"name\", \"country\", \"country_code\"],\n",
        "    max_results = 10\n",
        ")"
      ],
      "metadata": {
        "id": "9udO5WM1RMQy"
      },
      "execution_count": null,
      "outputs": []
    },
    {
      "cell_type": "code",
      "source": [
        "eda1_context_value_1 = eda1_context_search.data[9].data\n",
        "print(eda1_context_value_1[\"text\"])\n",
        "contexts = eda1_context_value_1[\"context_annotations\"]\n",
        "for i in contexts:\n",
        "  for key in i.keys():\n",
        "    print(key, '->', i[key])"
      ],
      "metadata": {
        "colab": {
          "base_uri": "https://localhost:8080/"
        },
        "id": "v7YKYQUXSF3c",
        "outputId": "d226b620-4254-40d9-8bfe-0f5edb06719b"
      },
      "execution_count": null,
      "outputs": [
        {
          "output_type": "stream",
          "name": "stdout",
          "text": [
            "@n23mc @HillaryClinton @chefjoseandres @WCKitchen @disneyplus Who would shout out a show for a good cause without telling people where they can watch it?\n",
            "domain -> {'id': '23', 'name': 'TV Channels', 'description': 'Television Channels'}\n",
            "entity -> {'id': '1283757670822862848', 'name': 'Disney Plus US'}\n",
            "domain -> {'id': '45', 'name': 'Brand Vertical', 'description': 'Top level entities that describe a Brands industry'}\n",
            "entity -> {'id': '781974597310615553', 'name': 'Entertainment'}\n",
            "domain -> {'id': '30', 'name': 'Entities [Entity Service]', 'description': 'Entity Service top level domain, every item that is in Entity Service should be in this domain'}\n",
            "entity -> {'id': '781974597105094656', 'name': 'TV/Movies Related - Entertainment'}\n",
            "domain -> {'id': '47', 'name': 'Brand', 'description': 'Brands and Companies'}\n",
            "entity -> {'id': '1116734224898281473', 'name': 'Disney+', 'description': 'Disney+'}\n",
            "domain -> {'id': '131', 'name': 'Unified Twitter Taxonomy', 'description': 'A taxonomy of user interests. '}\n",
            "entity -> {'id': '1116734224898281473', 'name': 'Disney+', 'description': 'Disney+'}\n",
            "domain -> {'id': '131', 'name': 'Unified Twitter Taxonomy', 'description': 'A taxonomy of user interests. '}\n",
            "entity -> {'id': '1196447585004736512', 'name': 'Entertainment industry'}\n",
            "domain -> {'id': '131', 'name': 'Unified Twitter Taxonomy', 'description': 'A taxonomy of user interests. '}\n",
            "entity -> {'id': '1397573214239289349', 'name': 'TV streaming services'}\n",
            "domain -> {'id': '10', 'name': 'Person', 'description': 'Named people in the world like Nelson Mandela'}\n",
            "entity -> {'id': '10037721440', 'name': 'Hillary Clinton', 'description': 'Former First Lady of the United States Hillary Clinton'}\n",
            "domain -> {'id': '35', 'name': 'Politician', 'description': 'Politicians in the world, like Joe Biden'}\n",
            "entity -> {'id': '10037721440', 'name': 'Hillary Clinton', 'description': 'Former First Lady of the United States Hillary Clinton'}\n",
            "domain -> {'id': '131', 'name': 'Unified Twitter Taxonomy', 'description': 'A taxonomy of user interests. '}\n",
            "entity -> {'id': '10037721440', 'name': 'Hillary Clinton', 'description': 'Former First Lady of the United States Hillary Clinton'}\n",
            "domain -> {'id': '131', 'name': 'Unified Twitter Taxonomy', 'description': 'A taxonomy of user interests. '}\n",
            "entity -> {'id': '847878884917886977', 'name': 'Politics', 'description': 'Politics'}\n",
            "domain -> {'id': '131', 'name': 'Unified Twitter Taxonomy', 'description': 'A taxonomy of user interests. '}\n",
            "entity -> {'id': '1070032753834438656', 'name': 'Political figures', 'description': 'Politician'}\n"
          ]
        }
      ]
    },
    {
      "cell_type": "code",
      "source": [
        "for index, item in enumerate(movies_eda1_context_search.data):\n",
        "  print(movies_eda1_context_search.data[index].data[\"text\"])\n",
        "  print(\"----\")"
      ],
      "metadata": {
        "colab": {
          "base_uri": "https://localhost:8080/"
        },
        "id": "DUNof4DgSXhk",
        "outputId": "76667dfb-c450-435a-d9fd-b5185c0dcda1"
      },
      "execution_count": null,
      "outputs": [
        {
          "output_type": "stream",
          "name": "stdout",
          "text": [
            "GOOD NIGHT AND GOOD LUCK THEN https://t.co/n7ejSPiCL3\n",
            "----\n",
            "@WhyYaseen can’t wait for the film! \n",
            "pretty sure i can remember going to the cinema to watch the first one that came out :)\n",
            "----\n",
            "@GameSpot Oh yeah dances with smurfs is way more original than Marvel movies 🙄\n",
            "----\n",
            "It’s a fun movie man go support it #BlackAdamMovie https://t.co/x8dNjqm2D6\n",
            "----\n",
            "@marcbernardin I’ve just been listening  to your very entertaining 90s Batman movie commentaries with @ThatKevinSmith. I feel obliged to inform you that your Michael Gough impressions really made me laugh. 🤣\n",
            "----\n",
            "Zack Snyder is not a bad guy but I genuinely do not find any of his movies enjoyable https://t.co/JY60vMSCa5\n",
            "----\n",
            "KANG GONNA BE AN ABSOLUTE MENACE! Can’t wait! (Beautiful song choice btw) https://t.co/4HtS6n9SMN\n",
            "----\n",
            "i dont particularly like #him but im very excited for mos2. it seems like with the new direction who actually understands the characters they write we’ll get a good movie👍 once again im not the analytical type but if they mess up a superman movie..\n",
            "----\n",
            "@chrismcfeely But we just got a Superman movie this year, and it might just be a contender for the BEST one in years!\n",
            "https://t.co/p6oNr6qoWd\n",
            "----\n",
            "@DripMarvel @MCU_Direct Rihanna was perfect for this movie Wakanda Forever ❤ https://t.co/WagQsYzt4z\n",
            "----\n"
          ]
        }
      ]
    },
    {
      "cell_type": "code",
      "source": [
        "for index, item in enumerate(eda1_context_search.data):\n",
        "  print(eda1_context_search.data[index].data[\"text\"])\n",
        "  print(\"----\")"
      ],
      "metadata": {
        "colab": {
          "base_uri": "https://localhost:8080/"
        },
        "id": "BZ-kI9Ujc4dN",
        "outputId": "3b7dbd22-c2b5-4d2b-af48-22cce19ef5e9"
      },
      "execution_count": null,
      "outputs": [
        {
          "output_type": "stream",
          "name": "stdout",
          "text": [
            "At $30M per episode, I’m pretty sure S4 of #StrangerThings is the season finale of Netflix 🍿\n",
            "----\n",
            "Don't Skip: #TheFlightAttendant Season 2 #TV #Podcasts #HBOMax #Sky\n",
            "\n",
            " https://t.co/WzFNvbPAav\n",
            "----\n",
            "Gonna watch the new Stranger Things season to be disappointed with another show Netflix killed.\n",
            "\n",
            "Btw that noise right at the start, on the Netflix logo? That's a Mutalisk. They stole it from a damn Mutalisk.\n",
            "https://t.co/BkGoeJKeJR\n",
            "----\n",
            "@Bhaal_Spawn Best show on Netflix 😂👍\n",
            "----\n",
            "Bringing every 2-3 months is a terrible concept that is created by the capitalism Disney drives. I can’t see marvel anymore without getting annoyed. Also every show since Disney plus exist has editing issues, some are so feel so bad writing I could have done that shit myself. https://t.co/kytEg93aLX\n",
            "----\n",
            "@_enJOImytweets @netflix Brand New Cherry Favor. Episode 4. 35 minute mark.\n",
            "----\n",
            "With all the new Stranger Things episodes sitting at well over an hour, this felt like a perfect opportunity for Netflix to try out a weekly release schedule. There’s always next season, right? https://t.co/V4Htd5hpRp\n",
            "----\n",
            "So I finally got the Netflix password and saw Love Death+ Robots….Yeah, this the final season isn’t it?\n",
            "----\n",
            "the original TopGun is now on Netflix and now i must rewatch it before seeing the new one\n",
            "----\n",
            "@n23mc @HillaryClinton @chefjoseandres @WCKitchen @disneyplus Who would shout out a show for a good cause without telling people where they can watch it?\n",
            "----\n"
          ]
        }
      ]
    },
    {
      "cell_type": "markdown",
      "source": [
        "###  Data Access and Storage (CSV Files)"
      ],
      "metadata": {
        "id": "Sv_Tf-lUssES"
      }
    },
    {
      "cell_type": "markdown",
      "source": [
        "Let's get the count of tweets in the last year so that we get a sense of how to get the data, process it and visualize. This data is also relevant to help us answer our first project question."
      ],
      "metadata": {
        "id": "rmzl44Lfy4tl"
      }
    },
    {
      "cell_type": "markdown",
      "source": [
        "The counts endpoint paginates at 31 days per response."
      ],
      "metadata": {
        "id": "4IEKKUlVtGbr"
      }
    },
    {
      "cell_type": "markdown",
      "source": [
        "The API does not always behave in the same way, sometimes some days are missing, but given the nature of the project and the analysis over multiple months and years we believe this is not an issue for us. Although some attention needs to be paid to this."
      ],
      "metadata": {
        "id": "AR4VgFWis0O-"
      }
    },
    {
      "cell_type": "code",
      "source": [
        "import csv"
      ],
      "metadata": {
        "id": "cJFhVkgr_Sgo"
      },
      "execution_count": null,
      "outputs": []
    },
    {
      "cell_type": "markdown",
      "source": [
        "#### Current Year - Streaming (01.01.2022 - 31.10.2022)"
      ],
      "metadata": {
        "id": "HQnohv7xwOy8"
      }
    },
    {
      "cell_type": "code",
      "source": [
        "current_year_streaming_paginator = tweepy.Paginator(\n",
        "    method = client.get_all_tweets_count,\n",
        "    limit=10, #10 pages for 10 months\n",
        "    query=streaming_context_query,\n",
        "\t  granularity='day', \n",
        "\t  start_time='2022-01-01T00:00:0.0000Z',\n",
        "\t  end_time='2022-11-01T00:00:00.000Z' \n",
        ")"
      ],
      "metadata": {
        "id": "p8y2f_jy-kKu"
      },
      "execution_count": null,
      "outputs": []
    },
    {
      "cell_type": "code",
      "source": [
        "# Validating that the number of days corresponds to the expected output (for 10 months it should be around 300)\n",
        "n_days = 0\n",
        "\n",
        "for page in current_year_streaming_paginator:\n",
        "  n_days += len(page.data)\n",
        "\n",
        "print(f'Number of Days: {n_days}')"
      ],
      "metadata": {
        "colab": {
          "base_uri": "https://localhost:8080/"
        },
        "id": "Yi5Pa5Qa-uFD",
        "outputId": "17fd23ae-f451-4a23-fc72-040fe42ac6f1"
      },
      "execution_count": null,
      "outputs": [
        {
          "output_type": "stream",
          "name": "stdout",
          "text": [
            "Number of Days: 304\n"
          ]
        }
      ]
    },
    {
      "cell_type": "code",
      "source": [
        "current_year_streaming_csv_file = open(\"streaming_tweets_timeseries_current_year.csv\", 'w')\n",
        "current_year_streaming_file_writer = csv.writer(current_year_streaming_csv_file)"
      ],
      "metadata": {
        "id": "lPD0OgHF_SWV"
      },
      "execution_count": null,
      "outputs": []
    },
    {
      "cell_type": "code",
      "source": [
        "columns = ['start_time','end_time', 'tweet_Count']\n",
        "current_year_streaming_file_writer.writerow(columns)"
      ],
      "metadata": {
        "colab": {
          "base_uri": "https://localhost:8080/"
        },
        "id": "YooBQdq8_rA4",
        "outputId": "be0f11c8-cc55-48ef-8e7f-ef6dbead431f"
      },
      "execution_count": null,
      "outputs": [
        {
          "output_type": "execute_result",
          "data": {
            "text/plain": [
              "33"
            ]
          },
          "metadata": {},
          "execution_count": 51
        }
      ]
    },
    {
      "cell_type": "code",
      "source": [
        "for page in current_year_streaming_paginator:\n",
        "  for i in page.data:\n",
        "    #print(f'Start: {i[\"start\"]} - End: {i[\"end\"]} - Tweet Count: {i[\"tweet_count\"]}')\n",
        "    current_year_streaming_file_writer.writerow([i[\"start\"], i[\"end\"], i[\"tweet_count\"]])"
      ],
      "metadata": {
        "id": "5srTMegW_n0_"
      },
      "execution_count": null,
      "outputs": []
    },
    {
      "cell_type": "code",
      "source": [
        "current_year_streaming_csv_file.close()"
      ],
      "metadata": {
        "id": "HZBNgDxI_tN-"
      },
      "execution_count": null,
      "outputs": []
    },
    {
      "cell_type": "markdown",
      "source": [
        "#### Current Year - Cinema (01.01.2022 - 31.10.2022)"
      ],
      "metadata": {
        "id": "5d90OkuIwRmj"
      }
    },
    {
      "cell_type": "code",
      "source": [
        "current_year_cinema_paginator = tweepy.Paginator(\n",
        "    method = client.get_all_tweets_count,\n",
        "    limit=10, #10 pages for 10 months\n",
        "    query=cinema_context_query,\n",
        "\t  granularity='day', \n",
        "\t  start_time='2022-01-01T00:00:0.0000Z',\n",
        "\t  end_time='2022-11-01T00:00:00.000Z' \n",
        ")"
      ],
      "metadata": {
        "id": "DxoQF3zse02o"
      },
      "execution_count": null,
      "outputs": []
    },
    {
      "cell_type": "code",
      "source": [
        "n_days = 0\n",
        "\n",
        "for page in current_year_cinema_paginator:\n",
        "  n_days += len(page.data)\n",
        "\n",
        "print(f'Number of Days: {n_days}')"
      ],
      "metadata": {
        "colab": {
          "base_uri": "https://localhost:8080/"
        },
        "id": "dDKM4LxUfMUm",
        "outputId": "66dd27a2-31cd-47a5-f802-c62f392bd230"
      },
      "execution_count": null,
      "outputs": [
        {
          "output_type": "stream",
          "name": "stdout",
          "text": [
            "Number of Days: 304\n"
          ]
        }
      ]
    },
    {
      "cell_type": "code",
      "source": [
        "current_year_cinema_csv_file = open(\"cinema_tweets_timeseries_current_year.csv\", 'w')\n",
        "current_year_cinema_file_writer = csv.writer(current_year_cinema_csv_file)"
      ],
      "metadata": {
        "id": "zIaNoJvzfpG8"
      },
      "execution_count": null,
      "outputs": []
    },
    {
      "cell_type": "code",
      "source": [
        "columns = ['start_time','end_time', 'tweet_Count']\n",
        "current_year_cinema_file_writer.writerow(columns)"
      ],
      "metadata": {
        "colab": {
          "base_uri": "https://localhost:8080/"
        },
        "id": "ObL-12rw198m",
        "outputId": "3c0b7c43-1c00-4264-a337-fb38c9ceb0bf"
      },
      "execution_count": null,
      "outputs": [
        {
          "output_type": "execute_result",
          "data": {
            "text/plain": [
              "33"
            ]
          },
          "metadata": {},
          "execution_count": 57
        }
      ]
    },
    {
      "cell_type": "code",
      "source": [
        "for page in current_year_cinema_paginator:\n",
        "  for i in page.data:\n",
        "    #print(f'Start: {i[\"start\"]} - End: {i[\"end\"]} - Tweet Count: {i[\"tweet_count\"]}')\n",
        "    current_year_cinema_file_writer.writerow([i[\"start\"], i[\"end\"], i[\"tweet_count\"]])"
      ],
      "metadata": {
        "id": "9u0Mm3A-f1MU"
      },
      "execution_count": null,
      "outputs": []
    },
    {
      "cell_type": "code",
      "source": [
        "current_year_cinema_csv_file.close()"
      ],
      "metadata": {
        "id": "bPfOQBB52R21"
      },
      "execution_count": null,
      "outputs": []
    },
    {
      "cell_type": "markdown",
      "source": [
        "#### Historical - Streaming (01.01-2007 - 31.12.2021)"
      ],
      "metadata": {
        "id": "76CyKFKPwT20"
      }
    },
    {
      "cell_type": "markdown",
      "source": [
        "Full-Archive Search API provides complete and instant access to the full corpus of Twitter data dating all the way back to the first Tweet in March 2006."
      ],
      "metadata": {
        "id": "lmT_j5ZN2-bB"
      }
    },
    {
      "cell_type": "markdown",
      "source": [
        "Let's get 15 years worth of tweets. From 2007 to 2021\n",
        "\n",
        "Twitter's API paginates per month. So we need 15*12 = 180 pages to save all this data"
      ],
      "metadata": {
        "id": "zaUySnwv6Z32"
      }
    },
    {
      "cell_type": "code",
      "source": [
        "historical_streaming_paginator = tweepy.Paginator(\n",
        "    method = client.get_all_tweets_count,\n",
        "    limit=180, #180 pages for 15 years\n",
        "    query=streaming_query,\n",
        "\t  granularity='day', \n",
        "\t  start_time='2007-01-01T00:00:0.0000Z',\n",
        "\t  end_time='2022-01-01T00:00:00.000Z' \n",
        ")"
      ],
      "metadata": {
        "id": "rQa8Cmym3458"
      },
      "execution_count": null,
      "outputs": []
    },
    {
      "cell_type": "code",
      "source": [
        "historical_streaming_csv_file = open(\"streaming_tweets_timeseries_historical.csv\", 'w')\n",
        "historical_streaming_file_writer = csv.writer(historical_streaming_csv_file)"
      ],
      "metadata": {
        "id": "fZQZPEgq38IN"
      },
      "execution_count": null,
      "outputs": []
    },
    {
      "cell_type": "code",
      "source": [
        "columns = ['start_time','end_time', 'tweet_Count']\n",
        "historical_streaming_file_writer.writerow(columns)"
      ],
      "metadata": {
        "colab": {
          "base_uri": "https://localhost:8080/"
        },
        "id": "unoySflo3_gP",
        "outputId": "5aeb1c43-cef5-40e2-d34a-da07ba54a764"
      },
      "execution_count": null,
      "outputs": [
        {
          "output_type": "execute_result",
          "data": {
            "text/plain": [
              "33"
            ]
          },
          "metadata": {},
          "execution_count": 86
        }
      ]
    },
    {
      "cell_type": "markdown",
      "source": [
        "The following cell took up to 8 minutes (It's filtering and counting the number of tweets per month for the past 15 years). It also launches this warning, given twitter's API limits.\n",
        "\n",
        "WARNING:tweepy.client:Rate limit exceeded. Sleeping for 308 seconds.\n",
        "\n",
        "Please take this into account if you are running this cell."
      ],
      "metadata": {
        "id": "EcpzOsjQ98qE"
      }
    },
    {
      "cell_type": "code",
      "source": [
        "for page in historical_streaming_paginator:\n",
        "  for i in page.data:\n",
        "    historical_streaming_file_writer.writerow([i[\"start\"], i[\"end\"], i[\"tweet_count\"]])"
      ],
      "metadata": {
        "colab": {
          "base_uri": "https://localhost:8080/"
        },
        "id": "IOklZL3n4BN3",
        "outputId": "c545a683-12ef-4fd6-c3b2-c5e358661f78"
      },
      "execution_count": null,
      "outputs": [
        {
          "output_type": "stream",
          "name": "stderr",
          "text": [
            "WARNING:tweepy.client:Rate limit exceeded. Sleeping for 308 seconds.\n"
          ]
        }
      ]
    },
    {
      "cell_type": "code",
      "source": [
        "historical_streaming_csv_file.close()"
      ],
      "metadata": {
        "id": "oDVmahhv4D_b"
      },
      "execution_count": null,
      "outputs": []
    },
    {
      "cell_type": "markdown",
      "source": [
        "#### Historical - Cinema (01.01-2007 - 31.12.2021)"
      ],
      "metadata": {
        "id": "NpM-bK89wYUh"
      }
    },
    {
      "cell_type": "markdown",
      "source": [
        "Using the cinema_context_query seems to be messing with the results. Perhaps if tweets are not annotated then the API is not returning those tweets. We are gonna try this function with our initial query \"cinema_query\" and see what results do we get. Again, this could provide an interesting analysis to whether or not superhero films are driving the conversation around movie going experiences."
      ],
      "metadata": {
        "id": "tDJW5AvNJIGc"
      }
    },
    {
      "cell_type": "code",
      "source": [
        "historical_cinema_paginator = tweepy.Paginator(\n",
        "    method = client.get_all_tweets_count,\n",
        "    limit=180, #180 pages for 15 years\n",
        "    query=cinema_query,\n",
        "\t  granularity='day', \n",
        "\t  start_time='2007-01-01T00:00:0.0000Z',\n",
        "\t  end_time='2022-01-01T00:00:00.000Z' \n",
        ")"
      ],
      "metadata": {
        "id": "SycTUpmhFJc-"
      },
      "execution_count": null,
      "outputs": []
    },
    {
      "cell_type": "code",
      "source": [
        "historical_cinema_csv_file = open(\"cinema_tweets_timeseries_historical.csv\", 'w')\n",
        "historical_cinema_file_writer = csv.writer(historical_cinema_csv_file)"
      ],
      "metadata": {
        "id": "xiB0Lvf3FWEZ"
      },
      "execution_count": null,
      "outputs": []
    },
    {
      "cell_type": "code",
      "source": [
        "columns = ['start_time','end_time', 'tweet_Count']\n",
        "historical_cinema_file_writer.writerow(columns)"
      ],
      "metadata": {
        "colab": {
          "base_uri": "https://localhost:8080/"
        },
        "id": "-oRzifWtFWeF",
        "outputId": "e504292b-69a9-4f0d-9ec2-dcdd77ed0f9c"
      },
      "execution_count": null,
      "outputs": [
        {
          "output_type": "execute_result",
          "data": {
            "text/plain": [
              "33"
            ]
          },
          "metadata": {},
          "execution_count": 120
        }
      ]
    },
    {
      "cell_type": "code",
      "source": [
        "for page in historical_cinema_paginator:\n",
        "  for i in page.data:\n",
        "    historical_cinema_file_writer.writerow([i[\"start\"], i[\"end\"], i[\"tweet_count\"]])"
      ],
      "metadata": {
        "id": "tbrPTk3EFiNz"
      },
      "execution_count": null,
      "outputs": []
    },
    {
      "cell_type": "code",
      "source": [
        "historical_cinema_csv_file.close()"
      ],
      "metadata": {
        "id": "qvGfOXVUFoig"
      },
      "execution_count": null,
      "outputs": []
    },
    {
      "cell_type": "markdown",
      "source": [
        "#### Current Year Cinema (without superhero context)"
      ],
      "metadata": {
        "id": "TeYx1x1LNhWe"
      }
    },
    {
      "cell_type": "markdown",
      "source": [
        "Given the big difference between the historical numbers without superhero context vs the last year's values with superhero context, we feel like it's appropriate to balance this out by also showing the last year counts without this context."
      ],
      "metadata": {
        "id": "qMUSAJidN13W"
      }
    },
    {
      "cell_type": "code",
      "source": [
        "no_superhero_current_year_cinema_paginator = tweepy.Paginator(\n",
        "    method = client.get_all_tweets_count,\n",
        "    limit=10, #10 pages for 10 months\n",
        "    query=cinema_query,\n",
        "\t  granularity='day', \n",
        "\t  start_time='2022-01-01T00:00:0.0000Z',\n",
        "\t  end_time='2022-11-01T00:00:00.000Z' \n",
        ")"
      ],
      "metadata": {
        "id": "YAW4rkRYNp_o"
      },
      "execution_count": null,
      "outputs": []
    },
    {
      "cell_type": "code",
      "source": [
        "no_superhero_current_year_cinema_csv_file = open(\"no_superhero_cinema_tweets_timeseries_current_year.csv\", 'w')\n",
        "no_superhero_current_year_cinema_file_writer = csv.writer(no_superhero_current_year_cinema_csv_file)"
      ],
      "metadata": {
        "id": "M9LlnmsbNr5l"
      },
      "execution_count": null,
      "outputs": []
    },
    {
      "cell_type": "code",
      "source": [
        "columns = ['start_time','end_time', 'tweet_Count']\n",
        "no_superhero_current_year_cinema_file_writer.writerow(columns)"
      ],
      "metadata": {
        "colab": {
          "base_uri": "https://localhost:8080/"
        },
        "id": "q8JvB-dYNvTm",
        "outputId": "87d7b8d8-b46f-4832-e002-35b8250b902f"
      },
      "execution_count": null,
      "outputs": [
        {
          "output_type": "execute_result",
          "data": {
            "text/plain": [
              "33"
            ]
          },
          "metadata": {},
          "execution_count": 135
        }
      ]
    },
    {
      "cell_type": "code",
      "source": [
        "for page in no_superhero_current_year_cinema_paginator:\n",
        "  for i in page.data:\n",
        "    #print(f'Start: {i[\"start\"]} - End: {i[\"end\"]} - Tweet Count: {i[\"tweet_count\"]}')\n",
        "    no_superhero_current_year_cinema_file_writer.writerow([i[\"start\"], i[\"end\"], i[\"tweet_count\"]])"
      ],
      "metadata": {
        "id": "NAKcSOqHNyzd"
      },
      "execution_count": null,
      "outputs": []
    },
    {
      "cell_type": "code",
      "source": [
        "no_superhero_current_year_cinema_csv_file.close()"
      ],
      "metadata": {
        "id": "YGrDUiq7N0Q9"
      },
      "execution_count": null,
      "outputs": []
    },
    {
      "cell_type": "markdown",
      "source": [
        "## Data Analysis Part (CSV Files Required)\n",
        "For this part, please first install the \"Darts\" library (first cell) and restart the runtime before running further cells. This library conflicts with Colab's version of Matplotlib so restarting is needed so that Darts can use its own version of the visualization library. After that, just upload the csv files attached to the submission of this project. Sorry for the inconvenience."
      ],
      "metadata": {
        "id": "XHwniTpuPrLt"
      }
    },
    {
      "cell_type": "markdown",
      "source": [
        "### Installing Darts Library (For Timeseries Analysis) - Runtime restart needed"
      ],
      "metadata": {
        "id": "nHThbeHivzk7"
      }
    },
    {
      "cell_type": "code",
      "source": [
        "! pip install darts"
      ],
      "metadata": {
        "colab": {
          "base_uri": "https://localhost:8080/",
          "height": 1000
        },
        "id": "JBybqqd5H7Wa",
        "outputId": "0dc804f0-9b9b-4d7e-ccc2-65220ce2297a"
      },
      "execution_count": null,
      "outputs": [
        {
          "output_type": "stream",
          "name": "stdout",
          "text": [
            "Looking in indexes: https://pypi.org/simple, https://us-python.pkg.dev/colab-wheels/public/simple/\n",
            "Collecting darts\n",
            "  Downloading darts-0.22.0-py3-none-any.whl (451 kB)\n",
            "\u001b[K     |████████████████████████████████| 451 kB 4.1 MB/s \n",
            "\u001b[?25hRequirement already satisfied: pandas>=1.0.5 in /usr/local/lib/python3.7/dist-packages (from darts) (1.3.5)\n",
            "Requirement already satisfied: prophet>=1.1.1 in /usr/local/lib/python3.7/dist-packages (from darts) (1.1.1)\n",
            "Requirement already satisfied: xarray>=0.17.0 in /usr/local/lib/python3.7/dist-packages (from darts) (0.20.2)\n",
            "Requirement already satisfied: scikit-learn>=1.0.1 in /usr/local/lib/python3.7/dist-packages (from darts) (1.0.2)\n",
            "Requirement already satisfied: scipy>=1.3.2 in /usr/local/lib/python3.7/dist-packages (from darts) (1.7.3)\n",
            "Requirement already satisfied: requests>=2.22.0 in /usr/local/lib/python3.7/dist-packages (from darts) (2.23.0)\n",
            "Requirement already satisfied: torch>=1.8.0 in /usr/local/lib/python3.7/dist-packages (from darts) (1.12.1+cu113)\n",
            "Collecting pytorch-lightning>=1.5.0\n",
            "  Downloading pytorch_lightning-1.8.0.post1-py3-none-any.whl (796 kB)\n",
            "\u001b[K     |████████████████████████████████| 796 kB 51.6 MB/s \n",
            "\u001b[?25hRequirement already satisfied: joblib>=0.16.0 in /usr/local/lib/python3.7/dist-packages (from darts) (1.2.0)\n",
            "Collecting catboost>=1.0.6\n",
            "  Downloading catboost-1.1.1-cp37-none-manylinux1_x86_64.whl (76.6 MB)\n",
            "\u001b[K     |████████████████████████████████| 76.6 MB 1.2 MB/s \n",
            "\u001b[?25hCollecting matplotlib>=3.3.0\n",
            "  Downloading matplotlib-3.5.3-cp37-cp37m-manylinux_2_5_x86_64.manylinux1_x86_64.whl (11.2 MB)\n",
            "\u001b[K     |████████████████████████████████| 11.2 MB 25.4 MB/s \n",
            "\u001b[?25hRequirement already satisfied: numpy>=1.19.0 in /usr/local/lib/python3.7/dist-packages (from darts) (1.21.6)\n",
            "Requirement already satisfied: holidays>=0.11.1 in /usr/local/lib/python3.7/dist-packages (from darts) (0.16)\n",
            "Collecting tbats>=1.1.0\n",
            "  Downloading tbats-1.1.1-py3-none-any.whl (43 kB)\n",
            "\u001b[K     |████████████████████████████████| 43 kB 2.3 MB/s \n",
            "\u001b[?25hCollecting shap>=0.40.0\n",
            "  Downloading shap-0.41.0-cp37-cp37m-manylinux_2_12_x86_64.manylinux2010_x86_64.whl (569 kB)\n",
            "\u001b[K     |████████████████████████████████| 569 kB 62.6 MB/s \n",
            "\u001b[?25hRequirement already satisfied: tqdm>=4.60.0 in /usr/local/lib/python3.7/dist-packages (from darts) (4.64.1)\n",
            "Collecting nfoursid>=1.0.0\n",
            "  Downloading nfoursid-1.0.1-py3-none-any.whl (16 kB)\n",
            "Collecting statsforecast>=1.0.0\n",
            "  Downloading statsforecast-1.2.1-py3-none-any.whl (78 kB)\n",
            "\u001b[K     |████████████████████████████████| 78 kB 7.7 MB/s \n",
            "\u001b[?25hRequirement already satisfied: lightgbm>=2.2.3 in /usr/local/lib/python3.7/dist-packages (from darts) (2.2.3)\n",
            "Collecting statsmodels>=0.13.0\n",
            "  Downloading statsmodels-0.13.5-cp37-cp37m-manylinux_2_17_x86_64.manylinux2014_x86_64.whl (9.9 MB)\n",
            "\u001b[K     |████████████████████████████████| 9.9 MB 39.8 MB/s \n",
            "\u001b[?25hCollecting pmdarima>=1.8.0\n",
            "  Downloading pmdarima-2.0.1-cp37-cp37m-manylinux_2_17_x86_64.manylinux2014_x86_64.manylinux_2_28_x86_64.whl (1.8 MB)\n",
            "\u001b[K     |████████████████████████████████| 1.8 MB 42.9 MB/s \n",
            "\u001b[?25hRequirement already satisfied: ipython>=5.0.0 in /usr/local/lib/python3.7/dist-packages (from darts) (7.9.0)\n",
            "Requirement already satisfied: six in /usr/local/lib/python3.7/dist-packages (from catboost>=1.0.6->darts) (1.15.0)\n",
            "Requirement already satisfied: graphviz in /usr/local/lib/python3.7/dist-packages (from catboost>=1.0.6->darts) (0.10.1)\n",
            "Requirement already satisfied: plotly in /usr/local/lib/python3.7/dist-packages (from catboost>=1.0.6->darts) (5.5.0)\n",
            "Requirement already satisfied: hijri-converter in /usr/local/lib/python3.7/dist-packages (from holidays>=0.11.1->darts) (2.2.4)\n",
            "Requirement already satisfied: python-dateutil in /usr/local/lib/python3.7/dist-packages (from holidays>=0.11.1->darts) (2.8.2)\n",
            "Requirement already satisfied: korean-lunar-calendar in /usr/local/lib/python3.7/dist-packages (from holidays>=0.11.1->darts) (0.3.1)\n",
            "Requirement already satisfied: convertdate>=2.3.0 in /usr/local/lib/python3.7/dist-packages (from holidays>=0.11.1->darts) (2.4.0)\n",
            "Requirement already satisfied: pymeeus<=1,>=0.3.13 in /usr/local/lib/python3.7/dist-packages (from convertdate>=2.3.0->holidays>=0.11.1->darts) (0.5.11)\n",
            "Requirement already satisfied: prompt-toolkit<2.1.0,>=2.0.0 in /usr/local/lib/python3.7/dist-packages (from ipython>=5.0.0->darts) (2.0.10)\n",
            "Collecting jedi>=0.10\n",
            "  Downloading jedi-0.18.1-py2.py3-none-any.whl (1.6 MB)\n",
            "\u001b[K     |████████████████████████████████| 1.6 MB 66.1 MB/s \n",
            "\u001b[?25hRequirement already satisfied: setuptools>=18.5 in /usr/local/lib/python3.7/dist-packages (from ipython>=5.0.0->darts) (57.4.0)\n",
            "Requirement already satisfied: backcall in /usr/local/lib/python3.7/dist-packages (from ipython>=5.0.0->darts) (0.2.0)\n",
            "Requirement already satisfied: pickleshare in /usr/local/lib/python3.7/dist-packages (from ipython>=5.0.0->darts) (0.7.5)\n",
            "Requirement already satisfied: decorator in /usr/local/lib/python3.7/dist-packages (from ipython>=5.0.0->darts) (4.4.2)\n",
            "Requirement already satisfied: pexpect in /usr/local/lib/python3.7/dist-packages (from ipython>=5.0.0->darts) (4.8.0)\n",
            "Requirement already satisfied: pygments in /usr/local/lib/python3.7/dist-packages (from ipython>=5.0.0->darts) (2.6.1)\n",
            "Requirement already satisfied: traitlets>=4.2 in /usr/local/lib/python3.7/dist-packages (from ipython>=5.0.0->darts) (5.1.1)\n",
            "Requirement already satisfied: parso<0.9.0,>=0.8.0 in /usr/local/lib/python3.7/dist-packages (from jedi>=0.10->ipython>=5.0.0->darts) (0.8.3)\n",
            "Requirement already satisfied: pyparsing>=2.2.1 in /usr/local/lib/python3.7/dist-packages (from matplotlib>=3.3.0->darts) (3.0.9)\n",
            "Requirement already satisfied: pillow>=6.2.0 in /usr/local/lib/python3.7/dist-packages (from matplotlib>=3.3.0->darts) (7.1.2)\n",
            "Requirement already satisfied: cycler>=0.10 in /usr/local/lib/python3.7/dist-packages (from matplotlib>=3.3.0->darts) (0.11.0)\n",
            "Collecting fonttools>=4.22.0\n",
            "  Downloading fonttools-4.38.0-py3-none-any.whl (965 kB)\n",
            "\u001b[K     |████████████████████████████████| 965 kB 55.1 MB/s \n",
            "\u001b[?25hRequirement already satisfied: kiwisolver>=1.0.1 in /usr/local/lib/python3.7/dist-packages (from matplotlib>=3.3.0->darts) (1.4.4)\n",
            "Requirement already satisfied: packaging>=20.0 in /usr/local/lib/python3.7/dist-packages (from matplotlib>=3.3.0->darts) (21.3)\n",
            "Requirement already satisfied: typing-extensions in /usr/local/lib/python3.7/dist-packages (from kiwisolver>=1.0.1->matplotlib>=3.3.0->darts) (4.1.1)\n",
            "Requirement already satisfied: pytz>=2017.3 in /usr/local/lib/python3.7/dist-packages (from pandas>=1.0.5->darts) (2022.6)\n",
            "Requirement already satisfied: Cython!=0.29.18,!=0.29.31,>=0.29 in /usr/local/lib/python3.7/dist-packages (from pmdarima>=1.8.0->darts) (0.29.32)\n",
            "Requirement already satisfied: urllib3 in /usr/local/lib/python3.7/dist-packages (from pmdarima>=1.8.0->darts) (1.24.3)\n",
            "Requirement already satisfied: wcwidth in /usr/local/lib/python3.7/dist-packages (from prompt-toolkit<2.1.0,>=2.0.0->ipython>=5.0.0->darts) (0.2.5)\n",
            "Requirement already satisfied: cmdstanpy>=1.0.4 in /usr/local/lib/python3.7/dist-packages (from prophet>=1.1.1->darts) (1.0.8)\n",
            "Requirement already satisfied: LunarCalendar>=0.0.9 in /usr/local/lib/python3.7/dist-packages (from prophet>=1.1.1->darts) (0.0.9)\n",
            "Requirement already satisfied: wheel>=0.37.0 in /usr/local/lib/python3.7/dist-packages (from prophet>=1.1.1->darts) (0.38.1)\n",
            "Requirement already satisfied: setuptools-git>=1.2 in /usr/local/lib/python3.7/dist-packages (from prophet>=1.1.1->darts) (1.2)\n",
            "Requirement already satisfied: ephem>=3.7.5.3 in /usr/local/lib/python3.7/dist-packages (from LunarCalendar>=0.0.9->prophet>=1.1.1->darts) (4.1.3)\n",
            "Collecting torchmetrics>=0.7.0\n",
            "  Downloading torchmetrics-0.10.2-py3-none-any.whl (529 kB)\n",
            "\u001b[K     |████████████████████████████████| 529 kB 50.8 MB/s \n",
            "\u001b[?25hRequirement already satisfied: fsspec[http]>2021.06.0 in /usr/local/lib/python3.7/dist-packages (from pytorch-lightning>=1.5.0->darts) (2022.10.0)\n",
            "Collecting lightning-lite==1.8.0.post1\n",
            "  Downloading lightning_lite-1.8.0.post1-py3-none-any.whl (136 kB)\n",
            "\u001b[K     |████████████████████████████████| 136 kB 39.5 MB/s \n",
            "\u001b[?25hRequirement already satisfied: tensorboard>=2.9.1 in /usr/local/lib/python3.7/dist-packages (from pytorch-lightning>=1.5.0->darts) (2.9.1)\n",
            "Requirement already satisfied: PyYAML>=5.4 in /usr/local/lib/python3.7/dist-packages (from pytorch-lightning>=1.5.0->darts) (6.0)\n",
            "Collecting lightning-utilities==0.3.*\n",
            "  Downloading lightning_utilities-0.3.0-py3-none-any.whl (15 kB)\n",
            "Collecting fire\n",
            "  Downloading fire-0.4.0.tar.gz (87 kB)\n",
            "\u001b[K     |████████████████████████████████| 87 kB 7.0 MB/s \n",
            "\u001b[?25hRequirement already satisfied: aiohttp!=4.0.0a0,!=4.0.0a1 in /usr/local/lib/python3.7/dist-packages (from fsspec[http]>2021.06.0->pytorch-lightning>=1.5.0->darts) (3.8.3)\n",
            "Requirement already satisfied: aiosignal>=1.1.2 in /usr/local/lib/python3.7/dist-packages (from aiohttp!=4.0.0a0,!=4.0.0a1->fsspec[http]>2021.06.0->pytorch-lightning>=1.5.0->darts) (1.2.0)\n",
            "Requirement already satisfied: attrs>=17.3.0 in /usr/local/lib/python3.7/dist-packages (from aiohttp!=4.0.0a0,!=4.0.0a1->fsspec[http]>2021.06.0->pytorch-lightning>=1.5.0->darts) (22.1.0)\n",
            "Requirement already satisfied: charset-normalizer<3.0,>=2.0 in /usr/local/lib/python3.7/dist-packages (from aiohttp!=4.0.0a0,!=4.0.0a1->fsspec[http]>2021.06.0->pytorch-lightning>=1.5.0->darts) (2.1.1)\n",
            "Requirement already satisfied: frozenlist>=1.1.1 in /usr/local/lib/python3.7/dist-packages (from aiohttp!=4.0.0a0,!=4.0.0a1->fsspec[http]>2021.06.0->pytorch-lightning>=1.5.0->darts) (1.3.1)\n",
            "Requirement already satisfied: async-timeout<5.0,>=4.0.0a3 in /usr/local/lib/python3.7/dist-packages (from aiohttp!=4.0.0a0,!=4.0.0a1->fsspec[http]>2021.06.0->pytorch-lightning>=1.5.0->darts) (4.0.2)\n",
            "Requirement already satisfied: multidict<7.0,>=4.5 in /usr/local/lib/python3.7/dist-packages (from aiohttp!=4.0.0a0,!=4.0.0a1->fsspec[http]>2021.06.0->pytorch-lightning>=1.5.0->darts) (6.0.2)\n",
            "Requirement already satisfied: yarl<2.0,>=1.0 in /usr/local/lib/python3.7/dist-packages (from aiohttp!=4.0.0a0,!=4.0.0a1->fsspec[http]>2021.06.0->pytorch-lightning>=1.5.0->darts) (1.8.1)\n",
            "Requirement already satisfied: asynctest==0.13.0 in /usr/local/lib/python3.7/dist-packages (from aiohttp!=4.0.0a0,!=4.0.0a1->fsspec[http]>2021.06.0->pytorch-lightning>=1.5.0->darts) (0.13.0)\n",
            "Requirement already satisfied: idna<3,>=2.5 in /usr/local/lib/python3.7/dist-packages (from requests>=2.22.0->darts) (2.10)\n",
            "Requirement already satisfied: chardet<4,>=3.0.2 in /usr/local/lib/python3.7/dist-packages (from requests>=2.22.0->darts) (3.0.4)\n",
            "Requirement already satisfied: certifi>=2017.4.17 in /usr/local/lib/python3.7/dist-packages (from requests>=2.22.0->darts) (2022.9.24)\n",
            "Requirement already satisfied: threadpoolctl>=2.0.0 in /usr/local/lib/python3.7/dist-packages (from scikit-learn>=1.0.1->darts) (3.1.0)\n",
            "Requirement already satisfied: numba in /usr/local/lib/python3.7/dist-packages (from shap>=0.40.0->darts) (0.56.4)\n",
            "Collecting slicer==0.0.7\n",
            "  Downloading slicer-0.0.7-py3-none-any.whl (14 kB)\n",
            "Requirement already satisfied: cloudpickle in /usr/local/lib/python3.7/dist-packages (from shap>=0.40.0->darts) (1.5.0)\n",
            "Requirement already satisfied: llvmlite<0.40,>=0.39.0dev0 in /usr/local/lib/python3.7/dist-packages (from numba->shap>=0.40.0->darts) (0.39.1)\n",
            "Requirement already satisfied: importlib-metadata in /usr/local/lib/python3.7/dist-packages (from numba->shap>=0.40.0->darts) (4.13.0)\n",
            "Requirement already satisfied: patsy>=0.5.2 in /usr/local/lib/python3.7/dist-packages (from statsmodels>=0.13.0->darts) (0.5.3)\n",
            "Requirement already satisfied: protobuf<3.20,>=3.9.2 in /usr/local/lib/python3.7/dist-packages (from tensorboard>=2.9.1->pytorch-lightning>=1.5.0->darts) (3.17.3)\n",
            "Requirement already satisfied: google-auth<3,>=1.6.3 in /usr/local/lib/python3.7/dist-packages (from tensorboard>=2.9.1->pytorch-lightning>=1.5.0->darts) (1.35.0)\n",
            "Requirement already satisfied: tensorboard-plugin-wit>=1.6.0 in /usr/local/lib/python3.7/dist-packages (from tensorboard>=2.9.1->pytorch-lightning>=1.5.0->darts) (1.8.1)\n",
            "Requirement already satisfied: absl-py>=0.4 in /usr/local/lib/python3.7/dist-packages (from tensorboard>=2.9.1->pytorch-lightning>=1.5.0->darts) (1.3.0)\n",
            "Requirement already satisfied: markdown>=2.6.8 in /usr/local/lib/python3.7/dist-packages (from tensorboard>=2.9.1->pytorch-lightning>=1.5.0->darts) (3.4.1)\n",
            "Requirement already satisfied: grpcio>=1.24.3 in /usr/local/lib/python3.7/dist-packages (from tensorboard>=2.9.1->pytorch-lightning>=1.5.0->darts) (1.50.0)\n",
            "Requirement already satisfied: werkzeug>=1.0.1 in /usr/local/lib/python3.7/dist-packages (from tensorboard>=2.9.1->pytorch-lightning>=1.5.0->darts) (1.0.1)\n",
            "Requirement already satisfied: google-auth-oauthlib<0.5,>=0.4.1 in /usr/local/lib/python3.7/dist-packages (from tensorboard>=2.9.1->pytorch-lightning>=1.5.0->darts) (0.4.6)\n",
            "Requirement already satisfied: tensorboard-data-server<0.7.0,>=0.6.0 in /usr/local/lib/python3.7/dist-packages (from tensorboard>=2.9.1->pytorch-lightning>=1.5.0->darts) (0.6.1)\n",
            "Requirement already satisfied: rsa<5,>=3.1.4 in /usr/local/lib/python3.7/dist-packages (from google-auth<3,>=1.6.3->tensorboard>=2.9.1->pytorch-lightning>=1.5.0->darts) (4.9)\n",
            "Requirement already satisfied: pyasn1-modules>=0.2.1 in /usr/local/lib/python3.7/dist-packages (from google-auth<3,>=1.6.3->tensorboard>=2.9.1->pytorch-lightning>=1.5.0->darts) (0.2.8)\n",
            "Requirement already satisfied: cachetools<5.0,>=2.0.0 in /usr/local/lib/python3.7/dist-packages (from google-auth<3,>=1.6.3->tensorboard>=2.9.1->pytorch-lightning>=1.5.0->darts) (4.2.4)\n",
            "Requirement already satisfied: requests-oauthlib>=0.7.0 in /usr/local/lib/python3.7/dist-packages (from google-auth-oauthlib<0.5,>=0.4.1->tensorboard>=2.9.1->pytorch-lightning>=1.5.0->darts) (1.3.1)\n",
            "Requirement already satisfied: zipp>=0.5 in /usr/local/lib/python3.7/dist-packages (from importlib-metadata->numba->shap>=0.40.0->darts) (3.10.0)\n",
            "Requirement already satisfied: pyasn1<0.5.0,>=0.4.6 in /usr/local/lib/python3.7/dist-packages (from pyasn1-modules>=0.2.1->google-auth<3,>=1.6.3->tensorboard>=2.9.1->pytorch-lightning>=1.5.0->darts) (0.4.8)\n",
            "Requirement already satisfied: oauthlib>=3.0.0 in /usr/local/lib/python3.7/dist-packages (from requests-oauthlib>=0.7.0->google-auth-oauthlib<0.5,>=0.4.1->tensorboard>=2.9.1->pytorch-lightning>=1.5.0->darts) (3.2.2)\n",
            "Requirement already satisfied: termcolor in /usr/local/lib/python3.7/dist-packages (from fire->lightning-utilities==0.3.*->pytorch-lightning>=1.5.0->darts) (2.1.0)\n",
            "Requirement already satisfied: ptyprocess>=0.5 in /usr/local/lib/python3.7/dist-packages (from pexpect->ipython>=5.0.0->darts) (0.7.0)\n",
            "Requirement already satisfied: tenacity>=6.2.0 in /usr/local/lib/python3.7/dist-packages (from plotly->catboost>=1.0.6->darts) (8.1.0)\n",
            "Building wheels for collected packages: fire\n",
            "  Building wheel for fire (setup.py) ... \u001b[?25l\u001b[?25hdone\n",
            "  Created wheel for fire: filename=fire-0.4.0-py2.py3-none-any.whl size=115942 sha256=da7a45803a1b9965f5f7e9c0d20ffc16a8e8feecf905bd71444d46e83900881f\n",
            "  Stored in directory: /root/.cache/pip/wheels/8a/67/fb/2e8a12fa16661b9d5af1f654bd199366799740a85c64981226\n",
            "Successfully built fire\n",
            "Installing collected packages: fire, statsmodels, lightning-utilities, fonttools, torchmetrics, slicer, pmdarima, matplotlib, lightning-lite, jedi, tbats, statsforecast, shap, pytorch-lightning, nfoursid, catboost, darts\n",
            "  Attempting uninstall: statsmodels\n",
            "    Found existing installation: statsmodels 0.12.2\n",
            "    Uninstalling statsmodels-0.12.2:\n",
            "      Successfully uninstalled statsmodels-0.12.2\n",
            "  Attempting uninstall: matplotlib\n",
            "    Found existing installation: matplotlib 3.2.2\n",
            "    Uninstalling matplotlib-3.2.2:\n",
            "      Successfully uninstalled matplotlib-3.2.2\n",
            "Successfully installed catboost-1.1.1 darts-0.22.0 fire-0.4.0 fonttools-4.38.0 jedi-0.18.1 lightning-lite-1.8.0.post1 lightning-utilities-0.3.0 matplotlib-3.5.3 nfoursid-1.0.1 pmdarima-2.0.1 pytorch-lightning-1.8.0.post1 shap-0.41.0 slicer-0.0.7 statsforecast-1.2.1 statsmodels-0.13.5 tbats-1.1.1 torchmetrics-0.10.2\n"
          ]
        },
        {
          "output_type": "display_data",
          "data": {
            "application/vnd.colab-display-data+json": {
              "pip_warning": {
                "packages": [
                  "matplotlib",
                  "mpl_toolkits"
                ]
              }
            }
          },
          "metadata": {}
        }
      ]
    },
    {
      "cell_type": "markdown",
      "source": [
        "### Data Loading and Processing\n",
        "Loading CSVs, formatting datetime values, and ordering time columns"
      ],
      "metadata": {
        "id": "oKuzBfzlvj-1"
      }
    },
    {
      "cell_type": "code",
      "source": [
        "import pandas as pd\n",
        "from datetime import datetime"
      ],
      "metadata": {
        "id": "tqsR-zp1QKUm"
      },
      "execution_count": null,
      "outputs": []
    },
    {
      "cell_type": "code",
      "source": [
        "streaming_df = pd.read_csv(\"streaming_tweets_timeseries_current_year.csv\")\n",
        "streaming_df.head()"
      ],
      "metadata": {
        "colab": {
          "base_uri": "https://localhost:8080/",
          "height": 206
        },
        "id": "XxlPIZcUD7Yk",
        "outputId": "d5d59ba1-2e42-45c6-fa72-b1e7c807ab8b"
      },
      "execution_count": null,
      "outputs": [
        {
          "output_type": "execute_result",
          "data": {
            "text/plain": [
              "                 start_time                  end_time  tweet_Count\n",
              "0  2022-10-01T00:00:00.000Z  2022-10-02T00:00:00.000Z         9266\n",
              "1  2022-10-02T00:00:00.000Z  2022-10-03T00:00:00.000Z         8126\n",
              "2  2022-10-03T00:00:00.000Z  2022-10-04T00:00:00.000Z         8750\n",
              "3  2022-10-04T00:00:00.000Z  2022-10-05T00:00:00.000Z         8429\n",
              "4  2022-10-05T00:00:00.000Z  2022-10-06T00:00:00.000Z         9471"
            ],
            "text/html": [
              "\n",
              "  <div id=\"df-f0cda44b-3daa-4c0b-948f-50d98d53547c\">\n",
              "    <div class=\"colab-df-container\">\n",
              "      <div>\n",
              "<style scoped>\n",
              "    .dataframe tbody tr th:only-of-type {\n",
              "        vertical-align: middle;\n",
              "    }\n",
              "\n",
              "    .dataframe tbody tr th {\n",
              "        vertical-align: top;\n",
              "    }\n",
              "\n",
              "    .dataframe thead th {\n",
              "        text-align: right;\n",
              "    }\n",
              "</style>\n",
              "<table border=\"1\" class=\"dataframe\">\n",
              "  <thead>\n",
              "    <tr style=\"text-align: right;\">\n",
              "      <th></th>\n",
              "      <th>start_time</th>\n",
              "      <th>end_time</th>\n",
              "      <th>tweet_Count</th>\n",
              "    </tr>\n",
              "  </thead>\n",
              "  <tbody>\n",
              "    <tr>\n",
              "      <th>0</th>\n",
              "      <td>2022-10-01T00:00:00.000Z</td>\n",
              "      <td>2022-10-02T00:00:00.000Z</td>\n",
              "      <td>9266</td>\n",
              "    </tr>\n",
              "    <tr>\n",
              "      <th>1</th>\n",
              "      <td>2022-10-02T00:00:00.000Z</td>\n",
              "      <td>2022-10-03T00:00:00.000Z</td>\n",
              "      <td>8126</td>\n",
              "    </tr>\n",
              "    <tr>\n",
              "      <th>2</th>\n",
              "      <td>2022-10-03T00:00:00.000Z</td>\n",
              "      <td>2022-10-04T00:00:00.000Z</td>\n",
              "      <td>8750</td>\n",
              "    </tr>\n",
              "    <tr>\n",
              "      <th>3</th>\n",
              "      <td>2022-10-04T00:00:00.000Z</td>\n",
              "      <td>2022-10-05T00:00:00.000Z</td>\n",
              "      <td>8429</td>\n",
              "    </tr>\n",
              "    <tr>\n",
              "      <th>4</th>\n",
              "      <td>2022-10-05T00:00:00.000Z</td>\n",
              "      <td>2022-10-06T00:00:00.000Z</td>\n",
              "      <td>9471</td>\n",
              "    </tr>\n",
              "  </tbody>\n",
              "</table>\n",
              "</div>\n",
              "      <button class=\"colab-df-convert\" onclick=\"convertToInteractive('df-f0cda44b-3daa-4c0b-948f-50d98d53547c')\"\n",
              "              title=\"Convert this dataframe to an interactive table.\"\n",
              "              style=\"display:none;\">\n",
              "        \n",
              "  <svg xmlns=\"http://www.w3.org/2000/svg\" height=\"24px\"viewBox=\"0 0 24 24\"\n",
              "       width=\"24px\">\n",
              "    <path d=\"M0 0h24v24H0V0z\" fill=\"none\"/>\n",
              "    <path d=\"M18.56 5.44l.94 2.06.94-2.06 2.06-.94-2.06-.94-.94-2.06-.94 2.06-2.06.94zm-11 1L8.5 8.5l.94-2.06 2.06-.94-2.06-.94L8.5 2.5l-.94 2.06-2.06.94zm10 10l.94 2.06.94-2.06 2.06-.94-2.06-.94-.94-2.06-.94 2.06-2.06.94z\"/><path d=\"M17.41 7.96l-1.37-1.37c-.4-.4-.92-.59-1.43-.59-.52 0-1.04.2-1.43.59L10.3 9.45l-7.72 7.72c-.78.78-.78 2.05 0 2.83L4 21.41c.39.39.9.59 1.41.59.51 0 1.02-.2 1.41-.59l7.78-7.78 2.81-2.81c.8-.78.8-2.07 0-2.86zM5.41 20L4 18.59l7.72-7.72 1.47 1.35L5.41 20z\"/>\n",
              "  </svg>\n",
              "      </button>\n",
              "      \n",
              "  <style>\n",
              "    .colab-df-container {\n",
              "      display:flex;\n",
              "      flex-wrap:wrap;\n",
              "      gap: 12px;\n",
              "    }\n",
              "\n",
              "    .colab-df-convert {\n",
              "      background-color: #E8F0FE;\n",
              "      border: none;\n",
              "      border-radius: 50%;\n",
              "      cursor: pointer;\n",
              "      display: none;\n",
              "      fill: #1967D2;\n",
              "      height: 32px;\n",
              "      padding: 0 0 0 0;\n",
              "      width: 32px;\n",
              "    }\n",
              "\n",
              "    .colab-df-convert:hover {\n",
              "      background-color: #E2EBFA;\n",
              "      box-shadow: 0px 1px 2px rgba(60, 64, 67, 0.3), 0px 1px 3px 1px rgba(60, 64, 67, 0.15);\n",
              "      fill: #174EA6;\n",
              "    }\n",
              "\n",
              "    [theme=dark] .colab-df-convert {\n",
              "      background-color: #3B4455;\n",
              "      fill: #D2E3FC;\n",
              "    }\n",
              "\n",
              "    [theme=dark] .colab-df-convert:hover {\n",
              "      background-color: #434B5C;\n",
              "      box-shadow: 0px 1px 3px 1px rgba(0, 0, 0, 0.15);\n",
              "      filter: drop-shadow(0px 1px 2px rgba(0, 0, 0, 0.3));\n",
              "      fill: #FFFFFF;\n",
              "    }\n",
              "  </style>\n",
              "\n",
              "      <script>\n",
              "        const buttonEl =\n",
              "          document.querySelector('#df-f0cda44b-3daa-4c0b-948f-50d98d53547c button.colab-df-convert');\n",
              "        buttonEl.style.display =\n",
              "          google.colab.kernel.accessAllowed ? 'block' : 'none';\n",
              "\n",
              "        async function convertToInteractive(key) {\n",
              "          const element = document.querySelector('#df-f0cda44b-3daa-4c0b-948f-50d98d53547c');\n",
              "          const dataTable =\n",
              "            await google.colab.kernel.invokeFunction('convertToInteractive',\n",
              "                                                     [key], {});\n",
              "          if (!dataTable) return;\n",
              "\n",
              "          const docLinkHtml = 'Like what you see? Visit the ' +\n",
              "            '<a target=\"_blank\" href=https://colab.research.google.com/notebooks/data_table.ipynb>data table notebook</a>'\n",
              "            + ' to learn more about interactive tables.';\n",
              "          element.innerHTML = '';\n",
              "          dataTable['output_type'] = 'display_data';\n",
              "          await google.colab.output.renderOutput(dataTable, element);\n",
              "          const docLink = document.createElement('div');\n",
              "          docLink.innerHTML = docLinkHtml;\n",
              "          element.appendChild(docLink);\n",
              "        }\n",
              "      </script>\n",
              "    </div>\n",
              "  </div>\n",
              "  "
            ]
          },
          "metadata": {},
          "execution_count": 3
        }
      ]
    },
    {
      "cell_type": "code",
      "source": [
        "cinema_df = pd.read_csv(\"cinema_tweets_timeseries_current_year.csv\")\n",
        "cinema_df.head()"
      ],
      "metadata": {
        "colab": {
          "base_uri": "https://localhost:8080/",
          "height": 206
        },
        "id": "eXW0m0C2gaXp",
        "outputId": "7b274245-87a1-490b-9132-d9f9220d24bc"
      },
      "execution_count": null,
      "outputs": [
        {
          "output_type": "execute_result",
          "data": {
            "text/plain": [
              "                 start_time                  end_time  tweet_Count\n",
              "0  2022-10-01T00:00:00.000Z  2022-10-02T00:00:00.000Z         8179\n",
              "1  2022-10-02T00:00:00.000Z  2022-10-03T00:00:00.000Z         7898\n",
              "2  2022-10-03T00:00:00.000Z  2022-10-04T00:00:00.000Z        16527\n",
              "3  2022-10-04T00:00:00.000Z  2022-10-05T00:00:00.000Z        11071\n",
              "4  2022-10-05T00:00:00.000Z  2022-10-06T00:00:00.000Z         8897"
            ],
            "text/html": [
              "\n",
              "  <div id=\"df-cee16c6c-e6c9-4a48-a93b-4b2c39c42557\">\n",
              "    <div class=\"colab-df-container\">\n",
              "      <div>\n",
              "<style scoped>\n",
              "    .dataframe tbody tr th:only-of-type {\n",
              "        vertical-align: middle;\n",
              "    }\n",
              "\n",
              "    .dataframe tbody tr th {\n",
              "        vertical-align: top;\n",
              "    }\n",
              "\n",
              "    .dataframe thead th {\n",
              "        text-align: right;\n",
              "    }\n",
              "</style>\n",
              "<table border=\"1\" class=\"dataframe\">\n",
              "  <thead>\n",
              "    <tr style=\"text-align: right;\">\n",
              "      <th></th>\n",
              "      <th>start_time</th>\n",
              "      <th>end_time</th>\n",
              "      <th>tweet_Count</th>\n",
              "    </tr>\n",
              "  </thead>\n",
              "  <tbody>\n",
              "    <tr>\n",
              "      <th>0</th>\n",
              "      <td>2022-10-01T00:00:00.000Z</td>\n",
              "      <td>2022-10-02T00:00:00.000Z</td>\n",
              "      <td>8179</td>\n",
              "    </tr>\n",
              "    <tr>\n",
              "      <th>1</th>\n",
              "      <td>2022-10-02T00:00:00.000Z</td>\n",
              "      <td>2022-10-03T00:00:00.000Z</td>\n",
              "      <td>7898</td>\n",
              "    </tr>\n",
              "    <tr>\n",
              "      <th>2</th>\n",
              "      <td>2022-10-03T00:00:00.000Z</td>\n",
              "      <td>2022-10-04T00:00:00.000Z</td>\n",
              "      <td>16527</td>\n",
              "    </tr>\n",
              "    <tr>\n",
              "      <th>3</th>\n",
              "      <td>2022-10-04T00:00:00.000Z</td>\n",
              "      <td>2022-10-05T00:00:00.000Z</td>\n",
              "      <td>11071</td>\n",
              "    </tr>\n",
              "    <tr>\n",
              "      <th>4</th>\n",
              "      <td>2022-10-05T00:00:00.000Z</td>\n",
              "      <td>2022-10-06T00:00:00.000Z</td>\n",
              "      <td>8897</td>\n",
              "    </tr>\n",
              "  </tbody>\n",
              "</table>\n",
              "</div>\n",
              "      <button class=\"colab-df-convert\" onclick=\"convertToInteractive('df-cee16c6c-e6c9-4a48-a93b-4b2c39c42557')\"\n",
              "              title=\"Convert this dataframe to an interactive table.\"\n",
              "              style=\"display:none;\">\n",
              "        \n",
              "  <svg xmlns=\"http://www.w3.org/2000/svg\" height=\"24px\"viewBox=\"0 0 24 24\"\n",
              "       width=\"24px\">\n",
              "    <path d=\"M0 0h24v24H0V0z\" fill=\"none\"/>\n",
              "    <path d=\"M18.56 5.44l.94 2.06.94-2.06 2.06-.94-2.06-.94-.94-2.06-.94 2.06-2.06.94zm-11 1L8.5 8.5l.94-2.06 2.06-.94-2.06-.94L8.5 2.5l-.94 2.06-2.06.94zm10 10l.94 2.06.94-2.06 2.06-.94-2.06-.94-.94-2.06-.94 2.06-2.06.94z\"/><path d=\"M17.41 7.96l-1.37-1.37c-.4-.4-.92-.59-1.43-.59-.52 0-1.04.2-1.43.59L10.3 9.45l-7.72 7.72c-.78.78-.78 2.05 0 2.83L4 21.41c.39.39.9.59 1.41.59.51 0 1.02-.2 1.41-.59l7.78-7.78 2.81-2.81c.8-.78.8-2.07 0-2.86zM5.41 20L4 18.59l7.72-7.72 1.47 1.35L5.41 20z\"/>\n",
              "  </svg>\n",
              "      </button>\n",
              "      \n",
              "  <style>\n",
              "    .colab-df-container {\n",
              "      display:flex;\n",
              "      flex-wrap:wrap;\n",
              "      gap: 12px;\n",
              "    }\n",
              "\n",
              "    .colab-df-convert {\n",
              "      background-color: #E8F0FE;\n",
              "      border: none;\n",
              "      border-radius: 50%;\n",
              "      cursor: pointer;\n",
              "      display: none;\n",
              "      fill: #1967D2;\n",
              "      height: 32px;\n",
              "      padding: 0 0 0 0;\n",
              "      width: 32px;\n",
              "    }\n",
              "\n",
              "    .colab-df-convert:hover {\n",
              "      background-color: #E2EBFA;\n",
              "      box-shadow: 0px 1px 2px rgba(60, 64, 67, 0.3), 0px 1px 3px 1px rgba(60, 64, 67, 0.15);\n",
              "      fill: #174EA6;\n",
              "    }\n",
              "\n",
              "    [theme=dark] .colab-df-convert {\n",
              "      background-color: #3B4455;\n",
              "      fill: #D2E3FC;\n",
              "    }\n",
              "\n",
              "    [theme=dark] .colab-df-convert:hover {\n",
              "      background-color: #434B5C;\n",
              "      box-shadow: 0px 1px 3px 1px rgba(0, 0, 0, 0.15);\n",
              "      filter: drop-shadow(0px 1px 2px rgba(0, 0, 0, 0.3));\n",
              "      fill: #FFFFFF;\n",
              "    }\n",
              "  </style>\n",
              "\n",
              "      <script>\n",
              "        const buttonEl =\n",
              "          document.querySelector('#df-cee16c6c-e6c9-4a48-a93b-4b2c39c42557 button.colab-df-convert');\n",
              "        buttonEl.style.display =\n",
              "          google.colab.kernel.accessAllowed ? 'block' : 'none';\n",
              "\n",
              "        async function convertToInteractive(key) {\n",
              "          const element = document.querySelector('#df-cee16c6c-e6c9-4a48-a93b-4b2c39c42557');\n",
              "          const dataTable =\n",
              "            await google.colab.kernel.invokeFunction('convertToInteractive',\n",
              "                                                     [key], {});\n",
              "          if (!dataTable) return;\n",
              "\n",
              "          const docLinkHtml = 'Like what you see? Visit the ' +\n",
              "            '<a target=\"_blank\" href=https://colab.research.google.com/notebooks/data_table.ipynb>data table notebook</a>'\n",
              "            + ' to learn more about interactive tables.';\n",
              "          element.innerHTML = '';\n",
              "          dataTable['output_type'] = 'display_data';\n",
              "          await google.colab.output.renderOutput(dataTable, element);\n",
              "          const docLink = document.createElement('div');\n",
              "          docLink.innerHTML = docLinkHtml;\n",
              "          element.appendChild(docLink);\n",
              "        }\n",
              "      </script>\n",
              "    </div>\n",
              "  </div>\n",
              "  "
            ]
          },
          "metadata": {},
          "execution_count": 4
        }
      ]
    },
    {
      "cell_type": "code",
      "source": [
        "hist_streaming_df = pd.read_csv(\"streaming_tweets_timeseries_historical.csv\")\n",
        "hist_streaming_df.head()"
      ],
      "metadata": {
        "colab": {
          "base_uri": "https://localhost:8080/",
          "height": 206
        },
        "id": "e8xW5hBgAWou",
        "outputId": "c4919f59-3698-4fbc-a114-87fbb34bdffd"
      },
      "execution_count": null,
      "outputs": [
        {
          "output_type": "execute_result",
          "data": {
            "text/plain": [
              "                 start_time                  end_time  tweet_Count\n",
              "0  2021-12-01T00:00:00.000Z  2021-12-02T00:00:00.000Z        11265\n",
              "1  2021-12-02T00:00:00.000Z  2021-12-03T00:00:00.000Z        11368\n",
              "2  2021-12-03T00:00:00.000Z  2021-12-04T00:00:00.000Z        11191\n",
              "3  2021-12-04T00:00:00.000Z  2021-12-05T00:00:00.000Z         8216\n",
              "4  2021-12-05T00:00:00.000Z  2021-12-06T00:00:00.000Z         7939"
            ],
            "text/html": [
              "\n",
              "  <div id=\"df-91e30e8a-adef-411d-bcdf-c4af9c0bb590\">\n",
              "    <div class=\"colab-df-container\">\n",
              "      <div>\n",
              "<style scoped>\n",
              "    .dataframe tbody tr th:only-of-type {\n",
              "        vertical-align: middle;\n",
              "    }\n",
              "\n",
              "    .dataframe tbody tr th {\n",
              "        vertical-align: top;\n",
              "    }\n",
              "\n",
              "    .dataframe thead th {\n",
              "        text-align: right;\n",
              "    }\n",
              "</style>\n",
              "<table border=\"1\" class=\"dataframe\">\n",
              "  <thead>\n",
              "    <tr style=\"text-align: right;\">\n",
              "      <th></th>\n",
              "      <th>start_time</th>\n",
              "      <th>end_time</th>\n",
              "      <th>tweet_Count</th>\n",
              "    </tr>\n",
              "  </thead>\n",
              "  <tbody>\n",
              "    <tr>\n",
              "      <th>0</th>\n",
              "      <td>2021-12-01T00:00:00.000Z</td>\n",
              "      <td>2021-12-02T00:00:00.000Z</td>\n",
              "      <td>11265</td>\n",
              "    </tr>\n",
              "    <tr>\n",
              "      <th>1</th>\n",
              "      <td>2021-12-02T00:00:00.000Z</td>\n",
              "      <td>2021-12-03T00:00:00.000Z</td>\n",
              "      <td>11368</td>\n",
              "    </tr>\n",
              "    <tr>\n",
              "      <th>2</th>\n",
              "      <td>2021-12-03T00:00:00.000Z</td>\n",
              "      <td>2021-12-04T00:00:00.000Z</td>\n",
              "      <td>11191</td>\n",
              "    </tr>\n",
              "    <tr>\n",
              "      <th>3</th>\n",
              "      <td>2021-12-04T00:00:00.000Z</td>\n",
              "      <td>2021-12-05T00:00:00.000Z</td>\n",
              "      <td>8216</td>\n",
              "    </tr>\n",
              "    <tr>\n",
              "      <th>4</th>\n",
              "      <td>2021-12-05T00:00:00.000Z</td>\n",
              "      <td>2021-12-06T00:00:00.000Z</td>\n",
              "      <td>7939</td>\n",
              "    </tr>\n",
              "  </tbody>\n",
              "</table>\n",
              "</div>\n",
              "      <button class=\"colab-df-convert\" onclick=\"convertToInteractive('df-91e30e8a-adef-411d-bcdf-c4af9c0bb590')\"\n",
              "              title=\"Convert this dataframe to an interactive table.\"\n",
              "              style=\"display:none;\">\n",
              "        \n",
              "  <svg xmlns=\"http://www.w3.org/2000/svg\" height=\"24px\"viewBox=\"0 0 24 24\"\n",
              "       width=\"24px\">\n",
              "    <path d=\"M0 0h24v24H0V0z\" fill=\"none\"/>\n",
              "    <path d=\"M18.56 5.44l.94 2.06.94-2.06 2.06-.94-2.06-.94-.94-2.06-.94 2.06-2.06.94zm-11 1L8.5 8.5l.94-2.06 2.06-.94-2.06-.94L8.5 2.5l-.94 2.06-2.06.94zm10 10l.94 2.06.94-2.06 2.06-.94-2.06-.94-.94-2.06-.94 2.06-2.06.94z\"/><path d=\"M17.41 7.96l-1.37-1.37c-.4-.4-.92-.59-1.43-.59-.52 0-1.04.2-1.43.59L10.3 9.45l-7.72 7.72c-.78.78-.78 2.05 0 2.83L4 21.41c.39.39.9.59 1.41.59.51 0 1.02-.2 1.41-.59l7.78-7.78 2.81-2.81c.8-.78.8-2.07 0-2.86zM5.41 20L4 18.59l7.72-7.72 1.47 1.35L5.41 20z\"/>\n",
              "  </svg>\n",
              "      </button>\n",
              "      \n",
              "  <style>\n",
              "    .colab-df-container {\n",
              "      display:flex;\n",
              "      flex-wrap:wrap;\n",
              "      gap: 12px;\n",
              "    }\n",
              "\n",
              "    .colab-df-convert {\n",
              "      background-color: #E8F0FE;\n",
              "      border: none;\n",
              "      border-radius: 50%;\n",
              "      cursor: pointer;\n",
              "      display: none;\n",
              "      fill: #1967D2;\n",
              "      height: 32px;\n",
              "      padding: 0 0 0 0;\n",
              "      width: 32px;\n",
              "    }\n",
              "\n",
              "    .colab-df-convert:hover {\n",
              "      background-color: #E2EBFA;\n",
              "      box-shadow: 0px 1px 2px rgba(60, 64, 67, 0.3), 0px 1px 3px 1px rgba(60, 64, 67, 0.15);\n",
              "      fill: #174EA6;\n",
              "    }\n",
              "\n",
              "    [theme=dark] .colab-df-convert {\n",
              "      background-color: #3B4455;\n",
              "      fill: #D2E3FC;\n",
              "    }\n",
              "\n",
              "    [theme=dark] .colab-df-convert:hover {\n",
              "      background-color: #434B5C;\n",
              "      box-shadow: 0px 1px 3px 1px rgba(0, 0, 0, 0.15);\n",
              "      filter: drop-shadow(0px 1px 2px rgba(0, 0, 0, 0.3));\n",
              "      fill: #FFFFFF;\n",
              "    }\n",
              "  </style>\n",
              "\n",
              "      <script>\n",
              "        const buttonEl =\n",
              "          document.querySelector('#df-91e30e8a-adef-411d-bcdf-c4af9c0bb590 button.colab-df-convert');\n",
              "        buttonEl.style.display =\n",
              "          google.colab.kernel.accessAllowed ? 'block' : 'none';\n",
              "\n",
              "        async function convertToInteractive(key) {\n",
              "          const element = document.querySelector('#df-91e30e8a-adef-411d-bcdf-c4af9c0bb590');\n",
              "          const dataTable =\n",
              "            await google.colab.kernel.invokeFunction('convertToInteractive',\n",
              "                                                     [key], {});\n",
              "          if (!dataTable) return;\n",
              "\n",
              "          const docLinkHtml = 'Like what you see? Visit the ' +\n",
              "            '<a target=\"_blank\" href=https://colab.research.google.com/notebooks/data_table.ipynb>data table notebook</a>'\n",
              "            + ' to learn more about interactive tables.';\n",
              "          element.innerHTML = '';\n",
              "          dataTable['output_type'] = 'display_data';\n",
              "          await google.colab.output.renderOutput(dataTable, element);\n",
              "          const docLink = document.createElement('div');\n",
              "          docLink.innerHTML = docLinkHtml;\n",
              "          element.appendChild(docLink);\n",
              "        }\n",
              "      </script>\n",
              "    </div>\n",
              "  </div>\n",
              "  "
            ]
          },
          "metadata": {},
          "execution_count": 5
        }
      ]
    },
    {
      "cell_type": "code",
      "source": [
        "hist_cinema_df = pd.read_csv(\"cinema_tweets_timeseries_historical.csv\")\n",
        "hist_cinema_df.head()"
      ],
      "metadata": {
        "colab": {
          "base_uri": "https://localhost:8080/",
          "height": 206
        },
        "id": "iBHcGZ30HjYt",
        "outputId": "45eac977-480b-405c-a2ca-b431411cb445"
      },
      "execution_count": null,
      "outputs": [
        {
          "output_type": "execute_result",
          "data": {
            "text/plain": [
              "                 start_time                  end_time  tweet_Count\n",
              "0  2021-12-01T00:00:00.000Z  2021-12-02T00:00:00.000Z          422\n",
              "1  2021-12-02T00:00:00.000Z  2021-12-03T00:00:00.000Z          431\n",
              "2  2021-12-03T00:00:00.000Z  2021-12-04T00:00:00.000Z          530\n",
              "3  2021-12-04T00:00:00.000Z  2021-12-05T00:00:00.000Z          395\n",
              "4  2021-12-05T00:00:00.000Z  2021-12-06T00:00:00.000Z          343"
            ],
            "text/html": [
              "\n",
              "  <div id=\"df-68b8e777-114c-42ef-b92d-a85e75db84aa\">\n",
              "    <div class=\"colab-df-container\">\n",
              "      <div>\n",
              "<style scoped>\n",
              "    .dataframe tbody tr th:only-of-type {\n",
              "        vertical-align: middle;\n",
              "    }\n",
              "\n",
              "    .dataframe tbody tr th {\n",
              "        vertical-align: top;\n",
              "    }\n",
              "\n",
              "    .dataframe thead th {\n",
              "        text-align: right;\n",
              "    }\n",
              "</style>\n",
              "<table border=\"1\" class=\"dataframe\">\n",
              "  <thead>\n",
              "    <tr style=\"text-align: right;\">\n",
              "      <th></th>\n",
              "      <th>start_time</th>\n",
              "      <th>end_time</th>\n",
              "      <th>tweet_Count</th>\n",
              "    </tr>\n",
              "  </thead>\n",
              "  <tbody>\n",
              "    <tr>\n",
              "      <th>0</th>\n",
              "      <td>2021-12-01T00:00:00.000Z</td>\n",
              "      <td>2021-12-02T00:00:00.000Z</td>\n",
              "      <td>422</td>\n",
              "    </tr>\n",
              "    <tr>\n",
              "      <th>1</th>\n",
              "      <td>2021-12-02T00:00:00.000Z</td>\n",
              "      <td>2021-12-03T00:00:00.000Z</td>\n",
              "      <td>431</td>\n",
              "    </tr>\n",
              "    <tr>\n",
              "      <th>2</th>\n",
              "      <td>2021-12-03T00:00:00.000Z</td>\n",
              "      <td>2021-12-04T00:00:00.000Z</td>\n",
              "      <td>530</td>\n",
              "    </tr>\n",
              "    <tr>\n",
              "      <th>3</th>\n",
              "      <td>2021-12-04T00:00:00.000Z</td>\n",
              "      <td>2021-12-05T00:00:00.000Z</td>\n",
              "      <td>395</td>\n",
              "    </tr>\n",
              "    <tr>\n",
              "      <th>4</th>\n",
              "      <td>2021-12-05T00:00:00.000Z</td>\n",
              "      <td>2021-12-06T00:00:00.000Z</td>\n",
              "      <td>343</td>\n",
              "    </tr>\n",
              "  </tbody>\n",
              "</table>\n",
              "</div>\n",
              "      <button class=\"colab-df-convert\" onclick=\"convertToInteractive('df-68b8e777-114c-42ef-b92d-a85e75db84aa')\"\n",
              "              title=\"Convert this dataframe to an interactive table.\"\n",
              "              style=\"display:none;\">\n",
              "        \n",
              "  <svg xmlns=\"http://www.w3.org/2000/svg\" height=\"24px\"viewBox=\"0 0 24 24\"\n",
              "       width=\"24px\">\n",
              "    <path d=\"M0 0h24v24H0V0z\" fill=\"none\"/>\n",
              "    <path d=\"M18.56 5.44l.94 2.06.94-2.06 2.06-.94-2.06-.94-.94-2.06-.94 2.06-2.06.94zm-11 1L8.5 8.5l.94-2.06 2.06-.94-2.06-.94L8.5 2.5l-.94 2.06-2.06.94zm10 10l.94 2.06.94-2.06 2.06-.94-2.06-.94-.94-2.06-.94 2.06-2.06.94z\"/><path d=\"M17.41 7.96l-1.37-1.37c-.4-.4-.92-.59-1.43-.59-.52 0-1.04.2-1.43.59L10.3 9.45l-7.72 7.72c-.78.78-.78 2.05 0 2.83L4 21.41c.39.39.9.59 1.41.59.51 0 1.02-.2 1.41-.59l7.78-7.78 2.81-2.81c.8-.78.8-2.07 0-2.86zM5.41 20L4 18.59l7.72-7.72 1.47 1.35L5.41 20z\"/>\n",
              "  </svg>\n",
              "      </button>\n",
              "      \n",
              "  <style>\n",
              "    .colab-df-container {\n",
              "      display:flex;\n",
              "      flex-wrap:wrap;\n",
              "      gap: 12px;\n",
              "    }\n",
              "\n",
              "    .colab-df-convert {\n",
              "      background-color: #E8F0FE;\n",
              "      border: none;\n",
              "      border-radius: 50%;\n",
              "      cursor: pointer;\n",
              "      display: none;\n",
              "      fill: #1967D2;\n",
              "      height: 32px;\n",
              "      padding: 0 0 0 0;\n",
              "      width: 32px;\n",
              "    }\n",
              "\n",
              "    .colab-df-convert:hover {\n",
              "      background-color: #E2EBFA;\n",
              "      box-shadow: 0px 1px 2px rgba(60, 64, 67, 0.3), 0px 1px 3px 1px rgba(60, 64, 67, 0.15);\n",
              "      fill: #174EA6;\n",
              "    }\n",
              "\n",
              "    [theme=dark] .colab-df-convert {\n",
              "      background-color: #3B4455;\n",
              "      fill: #D2E3FC;\n",
              "    }\n",
              "\n",
              "    [theme=dark] .colab-df-convert:hover {\n",
              "      background-color: #434B5C;\n",
              "      box-shadow: 0px 1px 3px 1px rgba(0, 0, 0, 0.15);\n",
              "      filter: drop-shadow(0px 1px 2px rgba(0, 0, 0, 0.3));\n",
              "      fill: #FFFFFF;\n",
              "    }\n",
              "  </style>\n",
              "\n",
              "      <script>\n",
              "        const buttonEl =\n",
              "          document.querySelector('#df-68b8e777-114c-42ef-b92d-a85e75db84aa button.colab-df-convert');\n",
              "        buttonEl.style.display =\n",
              "          google.colab.kernel.accessAllowed ? 'block' : 'none';\n",
              "\n",
              "        async function convertToInteractive(key) {\n",
              "          const element = document.querySelector('#df-68b8e777-114c-42ef-b92d-a85e75db84aa');\n",
              "          const dataTable =\n",
              "            await google.colab.kernel.invokeFunction('convertToInteractive',\n",
              "                                                     [key], {});\n",
              "          if (!dataTable) return;\n",
              "\n",
              "          const docLinkHtml = 'Like what you see? Visit the ' +\n",
              "            '<a target=\"_blank\" href=https://colab.research.google.com/notebooks/data_table.ipynb>data table notebook</a>'\n",
              "            + ' to learn more about interactive tables.';\n",
              "          element.innerHTML = '';\n",
              "          dataTable['output_type'] = 'display_data';\n",
              "          await google.colab.output.renderOutput(dataTable, element);\n",
              "          const docLink = document.createElement('div');\n",
              "          docLink.innerHTML = docLinkHtml;\n",
              "          element.appendChild(docLink);\n",
              "        }\n",
              "      </script>\n",
              "    </div>\n",
              "  </div>\n",
              "  "
            ]
          },
          "metadata": {},
          "execution_count": 6
        }
      ]
    },
    {
      "cell_type": "code",
      "source": [
        "no_hero_cinema_df = pd.read_csv(\"no_superhero_cinema_tweets_timeseries_current_year.csv\")\n",
        "no_hero_cinema_df.head()"
      ],
      "metadata": {
        "colab": {
          "base_uri": "https://localhost:8080/",
          "height": 206
        },
        "id": "ZLdpx9CwOs9t",
        "outputId": "fb34d979-5e4c-485a-a6e8-e464c9e31ead"
      },
      "execution_count": null,
      "outputs": [
        {
          "output_type": "execute_result",
          "data": {
            "text/plain": [
              "                 start_time                  end_time  tweet_Count\n",
              "0  2022-10-01T00:00:00.000Z  2022-10-02T00:00:00.000Z          784\n",
              "1  2022-10-02T00:00:00.000Z  2022-10-03T00:00:00.000Z          703\n",
              "2  2022-10-03T00:00:00.000Z  2022-10-04T00:00:00.000Z          942\n",
              "3  2022-10-04T00:00:00.000Z  2022-10-05T00:00:00.000Z          653\n",
              "4  2022-10-05T00:00:00.000Z  2022-10-06T00:00:00.000Z          662"
            ],
            "text/html": [
              "\n",
              "  <div id=\"df-5f3115fe-04b3-476f-b858-405975838fc5\">\n",
              "    <div class=\"colab-df-container\">\n",
              "      <div>\n",
              "<style scoped>\n",
              "    .dataframe tbody tr th:only-of-type {\n",
              "        vertical-align: middle;\n",
              "    }\n",
              "\n",
              "    .dataframe tbody tr th {\n",
              "        vertical-align: top;\n",
              "    }\n",
              "\n",
              "    .dataframe thead th {\n",
              "        text-align: right;\n",
              "    }\n",
              "</style>\n",
              "<table border=\"1\" class=\"dataframe\">\n",
              "  <thead>\n",
              "    <tr style=\"text-align: right;\">\n",
              "      <th></th>\n",
              "      <th>start_time</th>\n",
              "      <th>end_time</th>\n",
              "      <th>tweet_Count</th>\n",
              "    </tr>\n",
              "  </thead>\n",
              "  <tbody>\n",
              "    <tr>\n",
              "      <th>0</th>\n",
              "      <td>2022-10-01T00:00:00.000Z</td>\n",
              "      <td>2022-10-02T00:00:00.000Z</td>\n",
              "      <td>784</td>\n",
              "    </tr>\n",
              "    <tr>\n",
              "      <th>1</th>\n",
              "      <td>2022-10-02T00:00:00.000Z</td>\n",
              "      <td>2022-10-03T00:00:00.000Z</td>\n",
              "      <td>703</td>\n",
              "    </tr>\n",
              "    <tr>\n",
              "      <th>2</th>\n",
              "      <td>2022-10-03T00:00:00.000Z</td>\n",
              "      <td>2022-10-04T00:00:00.000Z</td>\n",
              "      <td>942</td>\n",
              "    </tr>\n",
              "    <tr>\n",
              "      <th>3</th>\n",
              "      <td>2022-10-04T00:00:00.000Z</td>\n",
              "      <td>2022-10-05T00:00:00.000Z</td>\n",
              "      <td>653</td>\n",
              "    </tr>\n",
              "    <tr>\n",
              "      <th>4</th>\n",
              "      <td>2022-10-05T00:00:00.000Z</td>\n",
              "      <td>2022-10-06T00:00:00.000Z</td>\n",
              "      <td>662</td>\n",
              "    </tr>\n",
              "  </tbody>\n",
              "</table>\n",
              "</div>\n",
              "      <button class=\"colab-df-convert\" onclick=\"convertToInteractive('df-5f3115fe-04b3-476f-b858-405975838fc5')\"\n",
              "              title=\"Convert this dataframe to an interactive table.\"\n",
              "              style=\"display:none;\">\n",
              "        \n",
              "  <svg xmlns=\"http://www.w3.org/2000/svg\" height=\"24px\"viewBox=\"0 0 24 24\"\n",
              "       width=\"24px\">\n",
              "    <path d=\"M0 0h24v24H0V0z\" fill=\"none\"/>\n",
              "    <path d=\"M18.56 5.44l.94 2.06.94-2.06 2.06-.94-2.06-.94-.94-2.06-.94 2.06-2.06.94zm-11 1L8.5 8.5l.94-2.06 2.06-.94-2.06-.94L8.5 2.5l-.94 2.06-2.06.94zm10 10l.94 2.06.94-2.06 2.06-.94-2.06-.94-.94-2.06-.94 2.06-2.06.94z\"/><path d=\"M17.41 7.96l-1.37-1.37c-.4-.4-.92-.59-1.43-.59-.52 0-1.04.2-1.43.59L10.3 9.45l-7.72 7.72c-.78.78-.78 2.05 0 2.83L4 21.41c.39.39.9.59 1.41.59.51 0 1.02-.2 1.41-.59l7.78-7.78 2.81-2.81c.8-.78.8-2.07 0-2.86zM5.41 20L4 18.59l7.72-7.72 1.47 1.35L5.41 20z\"/>\n",
              "  </svg>\n",
              "      </button>\n",
              "      \n",
              "  <style>\n",
              "    .colab-df-container {\n",
              "      display:flex;\n",
              "      flex-wrap:wrap;\n",
              "      gap: 12px;\n",
              "    }\n",
              "\n",
              "    .colab-df-convert {\n",
              "      background-color: #E8F0FE;\n",
              "      border: none;\n",
              "      border-radius: 50%;\n",
              "      cursor: pointer;\n",
              "      display: none;\n",
              "      fill: #1967D2;\n",
              "      height: 32px;\n",
              "      padding: 0 0 0 0;\n",
              "      width: 32px;\n",
              "    }\n",
              "\n",
              "    .colab-df-convert:hover {\n",
              "      background-color: #E2EBFA;\n",
              "      box-shadow: 0px 1px 2px rgba(60, 64, 67, 0.3), 0px 1px 3px 1px rgba(60, 64, 67, 0.15);\n",
              "      fill: #174EA6;\n",
              "    }\n",
              "\n",
              "    [theme=dark] .colab-df-convert {\n",
              "      background-color: #3B4455;\n",
              "      fill: #D2E3FC;\n",
              "    }\n",
              "\n",
              "    [theme=dark] .colab-df-convert:hover {\n",
              "      background-color: #434B5C;\n",
              "      box-shadow: 0px 1px 3px 1px rgba(0, 0, 0, 0.15);\n",
              "      filter: drop-shadow(0px 1px 2px rgba(0, 0, 0, 0.3));\n",
              "      fill: #FFFFFF;\n",
              "    }\n",
              "  </style>\n",
              "\n",
              "      <script>\n",
              "        const buttonEl =\n",
              "          document.querySelector('#df-5f3115fe-04b3-476f-b858-405975838fc5 button.colab-df-convert');\n",
              "        buttonEl.style.display =\n",
              "          google.colab.kernel.accessAllowed ? 'block' : 'none';\n",
              "\n",
              "        async function convertToInteractive(key) {\n",
              "          const element = document.querySelector('#df-5f3115fe-04b3-476f-b858-405975838fc5');\n",
              "          const dataTable =\n",
              "            await google.colab.kernel.invokeFunction('convertToInteractive',\n",
              "                                                     [key], {});\n",
              "          if (!dataTable) return;\n",
              "\n",
              "          const docLinkHtml = 'Like what you see? Visit the ' +\n",
              "            '<a target=\"_blank\" href=https://colab.research.google.com/notebooks/data_table.ipynb>data table notebook</a>'\n",
              "            + ' to learn more about interactive tables.';\n",
              "          element.innerHTML = '';\n",
              "          dataTable['output_type'] = 'display_data';\n",
              "          await google.colab.output.renderOutput(dataTable, element);\n",
              "          const docLink = document.createElement('div');\n",
              "          docLink.innerHTML = docLinkHtml;\n",
              "          element.appendChild(docLink);\n",
              "        }\n",
              "      </script>\n",
              "    </div>\n",
              "  </div>\n",
              "  "
            ]
          },
          "metadata": {},
          "execution_count": 7
        }
      ]
    },
    {
      "cell_type": "code",
      "source": [
        "# Testing datetime formatting\n",
        "new_date = datetime.strptime(\"2022-08-23T00:00:00.000Z\", \"%Y-%m-%dT%H:%M:%S.%fZ\")\n",
        "print(new_date)\n",
        "print(f'{new_date.year}-{new_date.month}-{new_date.day}')"
      ],
      "metadata": {
        "id": "_bbDXKbwDDQ2",
        "colab": {
          "base_uri": "https://localhost:8080/"
        },
        "outputId": "95e6dbbd-afb6-4ac0-ba82-9f3efd2ccab8"
      },
      "execution_count": null,
      "outputs": [
        {
          "output_type": "stream",
          "name": "stdout",
          "text": [
            "2022-08-23 00:00:00\n",
            "2022-8-23\n"
          ]
        }
      ]
    },
    {
      "cell_type": "code",
      "source": [
        "def format_date(x):\n",
        "  formated_date = datetime.strptime(x, \"%Y-%m-%dT%H:%M:%S.%fZ\")\n",
        "  formated_date = f'{formated_date.year}-{formated_date.month}-{formated_date.day}'\n",
        "  return formated_date"
      ],
      "metadata": {
        "id": "Yu0DiJLBE0Dh"
      },
      "execution_count": null,
      "outputs": []
    },
    {
      "cell_type": "markdown",
      "source": [
        "Our initial csv file contains the data as captured with the Twitter's API, which brings the start time and end time for a given count. For us, this count is daily so we just need to have the day for our timeseries."
      ],
      "metadata": {
        "id": "CVJTE3SPnoVO"
      }
    },
    {
      "cell_type": "code",
      "source": [
        "streaming_df['day'] = streaming_df['start_time'].apply(lambda x: format_date(x))\n",
        "cinema_df['day'] = cinema_df['start_time'].apply(lambda x: format_date(x))\n",
        "hist_streaming_df['day'] = hist_streaming_df['start_time'].apply(lambda x: format_date(x))\n",
        "hist_cinema_df['day'] = hist_cinema_df['start_time'].apply(lambda x: format_date(x))\n",
        "no_hero_cinema_df['day'] = no_hero_cinema_df['start_time'].apply(lambda x: format_date(x))"
      ],
      "metadata": {
        "id": "_iREazCNESC6"
      },
      "execution_count": null,
      "outputs": []
    },
    {
      "cell_type": "code",
      "source": [
        "hist_cinema_df.head()"
      ],
      "metadata": {
        "colab": {
          "base_uri": "https://localhost:8080/",
          "height": 206
        },
        "id": "-nfdxJ44Hx66",
        "outputId": "1e3c8bac-235d-413c-9139-270f4f964844"
      },
      "execution_count": null,
      "outputs": [
        {
          "output_type": "execute_result",
          "data": {
            "text/plain": [
              "                 start_time                  end_time  tweet_Count        day\n",
              "0  2021-12-01T00:00:00.000Z  2021-12-02T00:00:00.000Z          422  2021-12-1\n",
              "1  2021-12-02T00:00:00.000Z  2021-12-03T00:00:00.000Z          431  2021-12-2\n",
              "2  2021-12-03T00:00:00.000Z  2021-12-04T00:00:00.000Z          530  2021-12-3\n",
              "3  2021-12-04T00:00:00.000Z  2021-12-05T00:00:00.000Z          395  2021-12-4\n",
              "4  2021-12-05T00:00:00.000Z  2021-12-06T00:00:00.000Z          343  2021-12-5"
            ],
            "text/html": [
              "\n",
              "  <div id=\"df-326fa6b4-1e71-4725-bc66-3fa96ce332c4\">\n",
              "    <div class=\"colab-df-container\">\n",
              "      <div>\n",
              "<style scoped>\n",
              "    .dataframe tbody tr th:only-of-type {\n",
              "        vertical-align: middle;\n",
              "    }\n",
              "\n",
              "    .dataframe tbody tr th {\n",
              "        vertical-align: top;\n",
              "    }\n",
              "\n",
              "    .dataframe thead th {\n",
              "        text-align: right;\n",
              "    }\n",
              "</style>\n",
              "<table border=\"1\" class=\"dataframe\">\n",
              "  <thead>\n",
              "    <tr style=\"text-align: right;\">\n",
              "      <th></th>\n",
              "      <th>start_time</th>\n",
              "      <th>end_time</th>\n",
              "      <th>tweet_Count</th>\n",
              "      <th>day</th>\n",
              "    </tr>\n",
              "  </thead>\n",
              "  <tbody>\n",
              "    <tr>\n",
              "      <th>0</th>\n",
              "      <td>2021-12-01T00:00:00.000Z</td>\n",
              "      <td>2021-12-02T00:00:00.000Z</td>\n",
              "      <td>422</td>\n",
              "      <td>2021-12-1</td>\n",
              "    </tr>\n",
              "    <tr>\n",
              "      <th>1</th>\n",
              "      <td>2021-12-02T00:00:00.000Z</td>\n",
              "      <td>2021-12-03T00:00:00.000Z</td>\n",
              "      <td>431</td>\n",
              "      <td>2021-12-2</td>\n",
              "    </tr>\n",
              "    <tr>\n",
              "      <th>2</th>\n",
              "      <td>2021-12-03T00:00:00.000Z</td>\n",
              "      <td>2021-12-04T00:00:00.000Z</td>\n",
              "      <td>530</td>\n",
              "      <td>2021-12-3</td>\n",
              "    </tr>\n",
              "    <tr>\n",
              "      <th>3</th>\n",
              "      <td>2021-12-04T00:00:00.000Z</td>\n",
              "      <td>2021-12-05T00:00:00.000Z</td>\n",
              "      <td>395</td>\n",
              "      <td>2021-12-4</td>\n",
              "    </tr>\n",
              "    <tr>\n",
              "      <th>4</th>\n",
              "      <td>2021-12-05T00:00:00.000Z</td>\n",
              "      <td>2021-12-06T00:00:00.000Z</td>\n",
              "      <td>343</td>\n",
              "      <td>2021-12-5</td>\n",
              "    </tr>\n",
              "  </tbody>\n",
              "</table>\n",
              "</div>\n",
              "      <button class=\"colab-df-convert\" onclick=\"convertToInteractive('df-326fa6b4-1e71-4725-bc66-3fa96ce332c4')\"\n",
              "              title=\"Convert this dataframe to an interactive table.\"\n",
              "              style=\"display:none;\">\n",
              "        \n",
              "  <svg xmlns=\"http://www.w3.org/2000/svg\" height=\"24px\"viewBox=\"0 0 24 24\"\n",
              "       width=\"24px\">\n",
              "    <path d=\"M0 0h24v24H0V0z\" fill=\"none\"/>\n",
              "    <path d=\"M18.56 5.44l.94 2.06.94-2.06 2.06-.94-2.06-.94-.94-2.06-.94 2.06-2.06.94zm-11 1L8.5 8.5l.94-2.06 2.06-.94-2.06-.94L8.5 2.5l-.94 2.06-2.06.94zm10 10l.94 2.06.94-2.06 2.06-.94-2.06-.94-.94-2.06-.94 2.06-2.06.94z\"/><path d=\"M17.41 7.96l-1.37-1.37c-.4-.4-.92-.59-1.43-.59-.52 0-1.04.2-1.43.59L10.3 9.45l-7.72 7.72c-.78.78-.78 2.05 0 2.83L4 21.41c.39.39.9.59 1.41.59.51 0 1.02-.2 1.41-.59l7.78-7.78 2.81-2.81c.8-.78.8-2.07 0-2.86zM5.41 20L4 18.59l7.72-7.72 1.47 1.35L5.41 20z\"/>\n",
              "  </svg>\n",
              "      </button>\n",
              "      \n",
              "  <style>\n",
              "    .colab-df-container {\n",
              "      display:flex;\n",
              "      flex-wrap:wrap;\n",
              "      gap: 12px;\n",
              "    }\n",
              "\n",
              "    .colab-df-convert {\n",
              "      background-color: #E8F0FE;\n",
              "      border: none;\n",
              "      border-radius: 50%;\n",
              "      cursor: pointer;\n",
              "      display: none;\n",
              "      fill: #1967D2;\n",
              "      height: 32px;\n",
              "      padding: 0 0 0 0;\n",
              "      width: 32px;\n",
              "    }\n",
              "\n",
              "    .colab-df-convert:hover {\n",
              "      background-color: #E2EBFA;\n",
              "      box-shadow: 0px 1px 2px rgba(60, 64, 67, 0.3), 0px 1px 3px 1px rgba(60, 64, 67, 0.15);\n",
              "      fill: #174EA6;\n",
              "    }\n",
              "\n",
              "    [theme=dark] .colab-df-convert {\n",
              "      background-color: #3B4455;\n",
              "      fill: #D2E3FC;\n",
              "    }\n",
              "\n",
              "    [theme=dark] .colab-df-convert:hover {\n",
              "      background-color: #434B5C;\n",
              "      box-shadow: 0px 1px 3px 1px rgba(0, 0, 0, 0.15);\n",
              "      filter: drop-shadow(0px 1px 2px rgba(0, 0, 0, 0.3));\n",
              "      fill: #FFFFFF;\n",
              "    }\n",
              "  </style>\n",
              "\n",
              "      <script>\n",
              "        const buttonEl =\n",
              "          document.querySelector('#df-326fa6b4-1e71-4725-bc66-3fa96ce332c4 button.colab-df-convert');\n",
              "        buttonEl.style.display =\n",
              "          google.colab.kernel.accessAllowed ? 'block' : 'none';\n",
              "\n",
              "        async function convertToInteractive(key) {\n",
              "          const element = document.querySelector('#df-326fa6b4-1e71-4725-bc66-3fa96ce332c4');\n",
              "          const dataTable =\n",
              "            await google.colab.kernel.invokeFunction('convertToInteractive',\n",
              "                                                     [key], {});\n",
              "          if (!dataTable) return;\n",
              "\n",
              "          const docLinkHtml = 'Like what you see? Visit the ' +\n",
              "            '<a target=\"_blank\" href=https://colab.research.google.com/notebooks/data_table.ipynb>data table notebook</a>'\n",
              "            + ' to learn more about interactive tables.';\n",
              "          element.innerHTML = '';\n",
              "          dataTable['output_type'] = 'display_data';\n",
              "          await google.colab.output.renderOutput(dataTable, element);\n",
              "          const docLink = document.createElement('div');\n",
              "          docLink.innerHTML = docLinkHtml;\n",
              "          element.appendChild(docLink);\n",
              "        }\n",
              "      </script>\n",
              "    </div>\n",
              "  </div>\n",
              "  "
            ]
          },
          "metadata": {},
          "execution_count": 15
        }
      ]
    },
    {
      "cell_type": "markdown",
      "source": [
        "Updating the 'day' column to have the correct data type for our time series analysis"
      ],
      "metadata": {
        "id": "l0AVVeWWoExf"
      }
    },
    {
      "cell_type": "code",
      "source": [
        "# checking datatype\n",
        "print(type(streaming_df.day[0]))\n",
        " \n",
        "# convert to date\n",
        "streaming_df['day'] = pd.to_datetime(streaming_df['day'])\n",
        "cinema_df['day'] = pd.to_datetime(cinema_df['day'])\n",
        "hist_streaming_df['day'] = pd.to_datetime(hist_streaming_df['day'])\n",
        "hist_cinema_df['day'] = pd.to_datetime(hist_cinema_df['day'])\n",
        "no_hero_cinema_df['day'] = pd.to_datetime(no_hero_cinema_df['day'])\n",
        "\n",
        "# verify datatype\n",
        "print(type(streaming_df.day[0]))"
      ],
      "metadata": {
        "colab": {
          "base_uri": "https://localhost:8080/"
        },
        "id": "29A5zcEfFs0X",
        "outputId": "61f9165c-6887-42fc-ee8b-ef412f6cee26"
      },
      "execution_count": null,
      "outputs": [
        {
          "output_type": "stream",
          "name": "stdout",
          "text": [
            "<class 'str'>\n",
            "<class 'pandas._libs.tslibs.timestamps.Timestamp'>\n"
          ]
        }
      ]
    },
    {
      "cell_type": "code",
      "source": [
        "# Sorting dates (pagination causes the months to not have the desired order)\n",
        "streaming_df = streaming_df.sort_values(by='day')\n",
        "cinema_df = cinema_df.sort_values(by='day')\n",
        "hist_streaming_df = hist_streaming_df.sort_values(by='day')\n",
        "hist_cinema_df = hist_cinema_df.sort_values(by='day')\n",
        "no_hero_cinema_df = no_hero_cinema_df.sort_values(by='day')"
      ],
      "metadata": {
        "id": "lYlzxTBHGkYr"
      },
      "execution_count": null,
      "outputs": []
    },
    {
      "cell_type": "code",
      "source": [
        "hist_cinema_df.head(1)"
      ],
      "metadata": {
        "colab": {
          "base_uri": "https://localhost:8080/",
          "height": 81
        },
        "id": "P2hnh-hMIA7l",
        "outputId": "e353baf5-8b0b-4151-81bb-665d0e7d13e1"
      },
      "execution_count": null,
      "outputs": [
        {
          "output_type": "execute_result",
          "data": {
            "text/plain": [
              "                    start_time                  end_time  tweet_Count  \\\n",
              "5456  2007-01-01T00:00:00.000Z  2007-01-02T00:00:00.000Z            0   \n",
              "\n",
              "            day  \n",
              "5456 2007-01-01  "
            ],
            "text/html": [
              "\n",
              "  <div id=\"df-493a6760-aa41-44cf-9f9d-452ccc233563\">\n",
              "    <div class=\"colab-df-container\">\n",
              "      <div>\n",
              "<style scoped>\n",
              "    .dataframe tbody tr th:only-of-type {\n",
              "        vertical-align: middle;\n",
              "    }\n",
              "\n",
              "    .dataframe tbody tr th {\n",
              "        vertical-align: top;\n",
              "    }\n",
              "\n",
              "    .dataframe thead th {\n",
              "        text-align: right;\n",
              "    }\n",
              "</style>\n",
              "<table border=\"1\" class=\"dataframe\">\n",
              "  <thead>\n",
              "    <tr style=\"text-align: right;\">\n",
              "      <th></th>\n",
              "      <th>start_time</th>\n",
              "      <th>end_time</th>\n",
              "      <th>tweet_Count</th>\n",
              "      <th>day</th>\n",
              "    </tr>\n",
              "  </thead>\n",
              "  <tbody>\n",
              "    <tr>\n",
              "      <th>5456</th>\n",
              "      <td>2007-01-01T00:00:00.000Z</td>\n",
              "      <td>2007-01-02T00:00:00.000Z</td>\n",
              "      <td>0</td>\n",
              "      <td>2007-01-01</td>\n",
              "    </tr>\n",
              "  </tbody>\n",
              "</table>\n",
              "</div>\n",
              "      <button class=\"colab-df-convert\" onclick=\"convertToInteractive('df-493a6760-aa41-44cf-9f9d-452ccc233563')\"\n",
              "              title=\"Convert this dataframe to an interactive table.\"\n",
              "              style=\"display:none;\">\n",
              "        \n",
              "  <svg xmlns=\"http://www.w3.org/2000/svg\" height=\"24px\"viewBox=\"0 0 24 24\"\n",
              "       width=\"24px\">\n",
              "    <path d=\"M0 0h24v24H0V0z\" fill=\"none\"/>\n",
              "    <path d=\"M18.56 5.44l.94 2.06.94-2.06 2.06-.94-2.06-.94-.94-2.06-.94 2.06-2.06.94zm-11 1L8.5 8.5l.94-2.06 2.06-.94-2.06-.94L8.5 2.5l-.94 2.06-2.06.94zm10 10l.94 2.06.94-2.06 2.06-.94-2.06-.94-.94-2.06-.94 2.06-2.06.94z\"/><path d=\"M17.41 7.96l-1.37-1.37c-.4-.4-.92-.59-1.43-.59-.52 0-1.04.2-1.43.59L10.3 9.45l-7.72 7.72c-.78.78-.78 2.05 0 2.83L4 21.41c.39.39.9.59 1.41.59.51 0 1.02-.2 1.41-.59l7.78-7.78 2.81-2.81c.8-.78.8-2.07 0-2.86zM5.41 20L4 18.59l7.72-7.72 1.47 1.35L5.41 20z\"/>\n",
              "  </svg>\n",
              "      </button>\n",
              "      \n",
              "  <style>\n",
              "    .colab-df-container {\n",
              "      display:flex;\n",
              "      flex-wrap:wrap;\n",
              "      gap: 12px;\n",
              "    }\n",
              "\n",
              "    .colab-df-convert {\n",
              "      background-color: #E8F0FE;\n",
              "      border: none;\n",
              "      border-radius: 50%;\n",
              "      cursor: pointer;\n",
              "      display: none;\n",
              "      fill: #1967D2;\n",
              "      height: 32px;\n",
              "      padding: 0 0 0 0;\n",
              "      width: 32px;\n",
              "    }\n",
              "\n",
              "    .colab-df-convert:hover {\n",
              "      background-color: #E2EBFA;\n",
              "      box-shadow: 0px 1px 2px rgba(60, 64, 67, 0.3), 0px 1px 3px 1px rgba(60, 64, 67, 0.15);\n",
              "      fill: #174EA6;\n",
              "    }\n",
              "\n",
              "    [theme=dark] .colab-df-convert {\n",
              "      background-color: #3B4455;\n",
              "      fill: #D2E3FC;\n",
              "    }\n",
              "\n",
              "    [theme=dark] .colab-df-convert:hover {\n",
              "      background-color: #434B5C;\n",
              "      box-shadow: 0px 1px 3px 1px rgba(0, 0, 0, 0.15);\n",
              "      filter: drop-shadow(0px 1px 2px rgba(0, 0, 0, 0.3));\n",
              "      fill: #FFFFFF;\n",
              "    }\n",
              "  </style>\n",
              "\n",
              "      <script>\n",
              "        const buttonEl =\n",
              "          document.querySelector('#df-493a6760-aa41-44cf-9f9d-452ccc233563 button.colab-df-convert');\n",
              "        buttonEl.style.display =\n",
              "          google.colab.kernel.accessAllowed ? 'block' : 'none';\n",
              "\n",
              "        async function convertToInteractive(key) {\n",
              "          const element = document.querySelector('#df-493a6760-aa41-44cf-9f9d-452ccc233563');\n",
              "          const dataTable =\n",
              "            await google.colab.kernel.invokeFunction('convertToInteractive',\n",
              "                                                     [key], {});\n",
              "          if (!dataTable) return;\n",
              "\n",
              "          const docLinkHtml = 'Like what you see? Visit the ' +\n",
              "            '<a target=\"_blank\" href=https://colab.research.google.com/notebooks/data_table.ipynb>data table notebook</a>'\n",
              "            + ' to learn more about interactive tables.';\n",
              "          element.innerHTML = '';\n",
              "          dataTable['output_type'] = 'display_data';\n",
              "          await google.colab.output.renderOutput(dataTable, element);\n",
              "          const docLink = document.createElement('div');\n",
              "          docLink.innerHTML = docLinkHtml;\n",
              "          element.appendChild(docLink);\n",
              "        }\n",
              "      </script>\n",
              "    </div>\n",
              "  </div>\n",
              "  "
            ]
          },
          "metadata": {},
          "execution_count": 18
        }
      ]
    },
    {
      "cell_type": "code",
      "source": [
        "hist_cinema_df.tail(1)"
      ],
      "metadata": {
        "colab": {
          "base_uri": "https://localhost:8080/",
          "height": 81
        },
        "id": "PouXpP3LIEte",
        "outputId": "fd8d4557-d42d-49df-d0fa-a27703e5f3d4"
      },
      "execution_count": null,
      "outputs": [
        {
          "output_type": "execute_result",
          "data": {
            "text/plain": [
              "                  start_time                  end_time  tweet_Count        day\n",
              "30  2021-12-31T00:00:00.000Z  2022-01-01T00:00:00.000Z          378 2021-12-31"
            ],
            "text/html": [
              "\n",
              "  <div id=\"df-2ac25a19-7ab4-4243-aeef-1f213fabde2e\">\n",
              "    <div class=\"colab-df-container\">\n",
              "      <div>\n",
              "<style scoped>\n",
              "    .dataframe tbody tr th:only-of-type {\n",
              "        vertical-align: middle;\n",
              "    }\n",
              "\n",
              "    .dataframe tbody tr th {\n",
              "        vertical-align: top;\n",
              "    }\n",
              "\n",
              "    .dataframe thead th {\n",
              "        text-align: right;\n",
              "    }\n",
              "</style>\n",
              "<table border=\"1\" class=\"dataframe\">\n",
              "  <thead>\n",
              "    <tr style=\"text-align: right;\">\n",
              "      <th></th>\n",
              "      <th>start_time</th>\n",
              "      <th>end_time</th>\n",
              "      <th>tweet_Count</th>\n",
              "      <th>day</th>\n",
              "    </tr>\n",
              "  </thead>\n",
              "  <tbody>\n",
              "    <tr>\n",
              "      <th>30</th>\n",
              "      <td>2021-12-31T00:00:00.000Z</td>\n",
              "      <td>2022-01-01T00:00:00.000Z</td>\n",
              "      <td>378</td>\n",
              "      <td>2021-12-31</td>\n",
              "    </tr>\n",
              "  </tbody>\n",
              "</table>\n",
              "</div>\n",
              "      <button class=\"colab-df-convert\" onclick=\"convertToInteractive('df-2ac25a19-7ab4-4243-aeef-1f213fabde2e')\"\n",
              "              title=\"Convert this dataframe to an interactive table.\"\n",
              "              style=\"display:none;\">\n",
              "        \n",
              "  <svg xmlns=\"http://www.w3.org/2000/svg\" height=\"24px\"viewBox=\"0 0 24 24\"\n",
              "       width=\"24px\">\n",
              "    <path d=\"M0 0h24v24H0V0z\" fill=\"none\"/>\n",
              "    <path d=\"M18.56 5.44l.94 2.06.94-2.06 2.06-.94-2.06-.94-.94-2.06-.94 2.06-2.06.94zm-11 1L8.5 8.5l.94-2.06 2.06-.94-2.06-.94L8.5 2.5l-.94 2.06-2.06.94zm10 10l.94 2.06.94-2.06 2.06-.94-2.06-.94-.94-2.06-.94 2.06-2.06.94z\"/><path d=\"M17.41 7.96l-1.37-1.37c-.4-.4-.92-.59-1.43-.59-.52 0-1.04.2-1.43.59L10.3 9.45l-7.72 7.72c-.78.78-.78 2.05 0 2.83L4 21.41c.39.39.9.59 1.41.59.51 0 1.02-.2 1.41-.59l7.78-7.78 2.81-2.81c.8-.78.8-2.07 0-2.86zM5.41 20L4 18.59l7.72-7.72 1.47 1.35L5.41 20z\"/>\n",
              "  </svg>\n",
              "      </button>\n",
              "      \n",
              "  <style>\n",
              "    .colab-df-container {\n",
              "      display:flex;\n",
              "      flex-wrap:wrap;\n",
              "      gap: 12px;\n",
              "    }\n",
              "\n",
              "    .colab-df-convert {\n",
              "      background-color: #E8F0FE;\n",
              "      border: none;\n",
              "      border-radius: 50%;\n",
              "      cursor: pointer;\n",
              "      display: none;\n",
              "      fill: #1967D2;\n",
              "      height: 32px;\n",
              "      padding: 0 0 0 0;\n",
              "      width: 32px;\n",
              "    }\n",
              "\n",
              "    .colab-df-convert:hover {\n",
              "      background-color: #E2EBFA;\n",
              "      box-shadow: 0px 1px 2px rgba(60, 64, 67, 0.3), 0px 1px 3px 1px rgba(60, 64, 67, 0.15);\n",
              "      fill: #174EA6;\n",
              "    }\n",
              "\n",
              "    [theme=dark] .colab-df-convert {\n",
              "      background-color: #3B4455;\n",
              "      fill: #D2E3FC;\n",
              "    }\n",
              "\n",
              "    [theme=dark] .colab-df-convert:hover {\n",
              "      background-color: #434B5C;\n",
              "      box-shadow: 0px 1px 3px 1px rgba(0, 0, 0, 0.15);\n",
              "      filter: drop-shadow(0px 1px 2px rgba(0, 0, 0, 0.3));\n",
              "      fill: #FFFFFF;\n",
              "    }\n",
              "  </style>\n",
              "\n",
              "      <script>\n",
              "        const buttonEl =\n",
              "          document.querySelector('#df-2ac25a19-7ab4-4243-aeef-1f213fabde2e button.colab-df-convert');\n",
              "        buttonEl.style.display =\n",
              "          google.colab.kernel.accessAllowed ? 'block' : 'none';\n",
              "\n",
              "        async function convertToInteractive(key) {\n",
              "          const element = document.querySelector('#df-2ac25a19-7ab4-4243-aeef-1f213fabde2e');\n",
              "          const dataTable =\n",
              "            await google.colab.kernel.invokeFunction('convertToInteractive',\n",
              "                                                     [key], {});\n",
              "          if (!dataTable) return;\n",
              "\n",
              "          const docLinkHtml = 'Like what you see? Visit the ' +\n",
              "            '<a target=\"_blank\" href=https://colab.research.google.com/notebooks/data_table.ipynb>data table notebook</a>'\n",
              "            + ' to learn more about interactive tables.';\n",
              "          element.innerHTML = '';\n",
              "          dataTable['output_type'] = 'display_data';\n",
              "          await google.colab.output.renderOutput(dataTable, element);\n",
              "          const docLink = document.createElement('div');\n",
              "          docLink.innerHTML = docLinkHtml;\n",
              "          element.appendChild(docLink);\n",
              "        }\n",
              "      </script>\n",
              "    </div>\n",
              "  </div>\n",
              "  "
            ]
          },
          "metadata": {},
          "execution_count": 19
        }
      ]
    },
    {
      "cell_type": "markdown",
      "source": [
        "### Data Analysis"
      ],
      "metadata": {
        "id": "vgR1rGkxxntj"
      }
    },
    {
      "cell_type": "code",
      "source": [
        "import matplotlib.pyplot as plt\n",
        "from darts import TimeSeries"
      ],
      "metadata": {
        "id": "QiW6ytL1IVv4"
      },
      "execution_count": null,
      "outputs": []
    },
    {
      "cell_type": "code",
      "source": [
        "series_streaming = TimeSeries.from_dataframe(streaming_df, \"day\", \"tweet_Count\")"
      ],
      "metadata": {
        "id": "iWmWmhXoIJZE"
      },
      "execution_count": null,
      "outputs": []
    },
    {
      "cell_type": "code",
      "source": [
        "series_cinema = TimeSeries.from_dataframe(cinema_df, \"day\", \"tweet_Count\")"
      ],
      "metadata": {
        "id": "RrdIf2nMhZK9"
      },
      "execution_count": null,
      "outputs": []
    },
    {
      "cell_type": "code",
      "source": [
        "plt.rcParams[\"figure.figsize\"] = (15,8)\n",
        "series_streaming.plot(label=\"Number of streaming-related tweets\")\n",
        "series_cinema.plot(label=\"Number of cinema-related tweets\")"
      ],
      "metadata": {
        "colab": {
          "base_uri": "https://localhost:8080/",
          "height": 512
        },
        "id": "pNcjWiZKhgBT",
        "outputId": "419071fd-aca9-4d69-bce4-eb503f23647d"
      },
      "execution_count": null,
      "outputs": [
        {
          "output_type": "display_data",
          "data": {
            "text/plain": [
              "<Figure size 1080x576 with 1 Axes>"
            ],
            "image/png": "[encoded data removed]"
          },
          "metadata": {
            "needs_background": "light"
          }
        }
      ]
    },
    {
      "cell_type": "code",
      "source": [
        "series_no_hero_cinema = TimeSeries.from_dataframe(no_hero_cinema_df, \"day\", \"tweet_Count\")"
      ],
      "metadata": {
        "id": "ak3gs7_IPLp4"
      },
      "execution_count": null,
      "outputs": []
    },
    {
      "cell_type": "code",
      "source": [
        "plt.rcParams[\"figure.figsize\"] = (15,8)\n",
        "series_no_hero_cinema.plot(label=\"Number of cinema-related tweets (without superhero film context)\")"
      ],
      "metadata": {
        "colab": {
          "base_uri": "https://localhost:8080/",
          "height": 512
        },
        "id": "BBmJlfLtPcDg",
        "outputId": "7975962f-47cf-4969-fa56-a6bccab4442d"
      },
      "execution_count": null,
      "outputs": [
        {
          "output_type": "display_data",
          "data": {
            "text/plain": [
              "<Figure size 1080x576 with 1 Axes>"
            ],
            "image/png": "[encoded data removed]"
          },
          "metadata": {
            "needs_background": "light"
          }
        }
      ]
    },
    {
      "cell_type": "code",
      "source": [
        "plt.rcParams[\"figure.figsize\"] = (15,8)\n",
        "series_streaming.plot(label=\"Number of streaming-related tweets\")\n",
        "series_no_hero_cinema.plot(label=\"Number of cinema-related tweets\")"
      ],
      "metadata": {
        "colab": {
          "base_uri": "https://localhost:8080/",
          "height": 512
        },
        "id": "TowYZfQEPUF_",
        "outputId": "76203da6-7223-4ee7-9999-6345ffbc25fd"
      },
      "execution_count": null,
      "outputs": [
        {
          "output_type": "display_data",
          "data": {
            "text/plain": [
              "<Figure size 1080x576 with 1 Axes>"
            ],
            "image/png": "[encoded data removed]"
          },
          "metadata": {
            "needs_background": "light"
          }
        }
      ]
    },
    {
      "cell_type": "code",
      "source": [
        "series_historical_streaming = TimeSeries.from_dataframe(hist_streaming_df, \"day\", \"tweet_Count\")"
      ],
      "metadata": {
        "id": "5gjVt7VYBKG_"
      },
      "execution_count": null,
      "outputs": []
    },
    {
      "cell_type": "code",
      "source": [
        "series_historical_cinema = TimeSeries.from_dataframe(hist_cinema_df, \"day\", \"tweet_Count\")"
      ],
      "metadata": {
        "id": "lMB65OYzILov"
      },
      "execution_count": null,
      "outputs": []
    },
    {
      "cell_type": "code",
      "source": [
        "plt.rcParams[\"figure.figsize\"] = (20,8)\n",
        "series_historical_streaming.plot(label=\"Number of streaming-related tweets from 2007 to 2021\")"
      ],
      "metadata": {
        "colab": {
          "base_uri": "https://localhost:8080/",
          "height": 444
        },
        "id": "LCnnYPaOBSd5",
        "outputId": "13cb4dc0-5c62-4ba9-fdf4-6fbbce66d9c2"
      },
      "execution_count": null,
      "outputs": [
        {
          "output_type": "display_data",
          "data": {
            "text/plain": [
              "<Figure size 1440x576 with 1 Axes>"
            ],
            "image/png": "[encoded data removed]"
          },
          "metadata": {
            "needs_background": "light"
          }
        }
      ]
    },
    {
      "cell_type": "code",
      "source": [
        "plt.rcParams[\"figure.figsize\"] = (20,8)\n",
        "series_historical_cinema.plot(label=\"Number of cinema-related tweets from 2007 to 2021\")"
      ],
      "metadata": {
        "colab": {
          "base_uri": "https://localhost:8080/",
          "height": 447
        },
        "id": "yUHkZQNsKSS4",
        "outputId": "90be376f-2570-4644-d97d-d35e596a613c"
      },
      "execution_count": null,
      "outputs": [
        {
          "output_type": "display_data",
          "data": {
            "text/plain": [
              "<Figure size 1440x576 with 1 Axes>"
            ],
            "image/png": "[encoded data removed]"
          },
          "metadata": {
            "needs_background": "light"
          }
        }
      ]
    },
    {
      "cell_type": "code",
      "source": [
        "plt.rcParams[\"figure.figsize\"] = (15,8)\n",
        "series_historical_streaming.plot(label=\"Number of streaming-related tweets from 2007 to 2021\")\n",
        "series_historical_cinema.plot(label=\"Number of cinema-related tweets from 2007 to 2021\")"
      ],
      "metadata": {
        "colab": {
          "base_uri": "https://localhost:8080/",
          "height": 505
        },
        "id": "cl2-28RsLNs0",
        "outputId": "bf30c007-f23a-4ef5-c433-df75fa3f3c41"
      },
      "execution_count": null,
      "outputs": [
        {
          "output_type": "display_data",
          "data": {
            "text/plain": [
              "<Figure size 1080x576 with 1 Axes>"
            ],
            "image/png": "[encoded data removed]"
          },
          "metadata": {
            "needs_background": "light"
          }
        }
      ]
    },
    {
      "cell_type": "markdown",
      "source": [
        "Forecasting for streaming-related tweets:\n",
        "https://unit8co.github.io/darts/quickstart/00-quickstart.html"
      ],
      "metadata": {
        "id": "-TiS4bFrViPM"
      }
    },
    {
      "cell_type": "code",
      "source": [
        "# Splitting training and testing data for timeseries\n",
        "train, val = series_historical_streaming.split_before(pd.Timestamp(\"20200101\"))\n",
        "train.plot(label=\"training\")\n",
        "val.plot(label=\"validation\")"
      ],
      "metadata": {
        "colab": {
          "base_uri": "https://localhost:8080/",
          "height": 505
        },
        "id": "478IFMbxVhHZ",
        "outputId": "edaa104e-2731-4fb4-d056-84732dbe3f2a"
      },
      "execution_count": null,
      "outputs": [
        {
          "output_type": "display_data",
          "data": {
            "text/plain": [
              "<Figure size 1080x576 with 1 Axes>"
            ],
            "image/png": "[encoded data removed]"
          },
          "metadata": {
            "needs_background": "light"
          }
        }
      ]
    },
    {
      "cell_type": "code",
      "source": [
        "from datetime import datetime\n",
        "\n",
        "datetime_str = '2019-06-01'\n",
        "datetime_str_2 = '2021-01-01'\n",
        "\n",
        "datetime_object = datetime.strptime(datetime_str, '%Y-%m-%d')\n",
        "datetime_object_2 = datetime.strptime(datetime_str_2, '%Y-%m-%d')"
      ],
      "metadata": {
        "id": "ilMpY1JWZqNP"
      },
      "execution_count": null,
      "outputs": []
    },
    {
      "cell_type": "code",
      "source": [
        "from darts.models import NaiveSeasonal\n",
        "\n",
        "naive_model = NaiveSeasonal(K=12)\n",
        "naive_model.fit(train)\n",
        "naive_forecast = naive_model.predict(len(val))\n",
        "\n",
        "series_historical_streaming.plot(label=\"actual\")\n",
        "naive_forecast.plot(label=\"naive forecast (K=12)\")\n",
        "plt.xlim([datetime_object, datetime_object_2])"
      ],
      "metadata": {
        "colab": {
          "base_uri": "https://localhost:8080/",
          "height": 529
        },
        "id": "VjvbDnspWzX8",
        "outputId": "9eb0c296-2d53-41f9-849e-efb9bf973350"
      },
      "execution_count": null,
      "outputs": [
        {
          "output_type": "execute_result",
          "data": {
            "text/plain": [
              "(18048.0, 18628.0)"
            ]
          },
          "metadata": {},
          "execution_count": 34
        },
        {
          "output_type": "display_data",
          "data": {
            "text/plain": [
              "<Figure size 1080x576 with 1 Axes>"
            ],
            "image/png": "[encoded data removed]"
          },
          "metadata": {
            "needs_background": "light"
          }
        }
      ]
    },
    {
      "cell_type": "code",
      "source": [
        "from darts.models import NaiveDrift\n",
        "\n",
        "drift_model = NaiveDrift()\n",
        "drift_model.fit(train)\n",
        "drift_forecast = drift_model.predict(len(val))\n",
        "\n",
        "combined_forecast = drift_forecast + naive_forecast - train.last_value()\n",
        "\n",
        "series_historical_streaming.plot()\n",
        "combined_forecast.plot(label=\"combined\")\n",
        "drift_forecast.plot(label=\"drift\")"
      ],
      "metadata": {
        "colab": {
          "base_uri": "https://localhost:8080/",
          "height": 505
        },
        "id": "_07vfLXmaiya",
        "outputId": "180e49cf-b948-451a-f678-16e675c5f116"
      },
      "execution_count": null,
      "outputs": [
        {
          "output_type": "display_data",
          "data": {
            "text/plain": [
              "<Figure size 1080x576 with 1 Axes>"
            ],
            "image/png": "[encoded data removed]"
          },
          "metadata": {
            "needs_background": "light"
          }
        }
      ]
    }
  ]
}